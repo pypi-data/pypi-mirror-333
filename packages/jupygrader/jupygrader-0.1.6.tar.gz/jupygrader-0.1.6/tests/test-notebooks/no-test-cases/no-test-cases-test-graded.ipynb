{
 "cells": [
  {
   "cell_type": "code",
   "execution_count": 1,
   "id": "08f06c8f",
   "metadata": {
    "execution": {
     "iopub.execute_input": "2025-03-10T15:29:42.802509Z",
     "iopub.status.busy": "2025-03-10T15:29:42.802509Z",
     "iopub.status.idle": "2025-03-10T15:29:42.806098Z",
     "shell.execute_reply": "2025-03-10T15:29:42.806098Z"
    }
   },
   "outputs": [],
   "source": [
    "# Jupygrader Before File Code\n",
    "# REMOVE_IN_HTML_OUTPUT\n",
    "import datetime\n",
    "\n",
    "grading_start_time = datetime.datetime.now(datetime.timezone.utc)\n",
    "\n",
    "_graded_result = {\n",
    "    'filename': None,\n",
    "    'learner_autograded_score': 0,\n",
    "    'max_autograded_score': 0,\n",
    "    'max_manually_graded_score': 0,\n",
    "    'max_total_score': 0,\n",
    "    'num_autograded_cases': 0,\n",
    "    'num_passed_cases': 0,\n",
    "    'num_failed_cases': 0,\n",
    "    'num_manually_graded_cases': 0,\n",
    "    'num_total_test_cases': 0,\n",
    "    'grading_finished_at': None,\n",
    "    'grading_duration_in_seconds': 0,\n",
    "    'results': [],\n",
    "}\n",
    "\n",
    "is_jupygrader_env = True\n",
    "\n",
    "def _record_test_case(test_case_name, did_pass, available_points, message='', grade_manually=False):\n",
    "    global _graded_result\n",
    "    warning_message = ''\n",
    "    \n",
    "    if test_case_name in map(lambda x: x['test_case_name'], _graded_result['results']):\n",
    "        warning_message = f'[Warning] Jupygrader: An identical test case name \"{test_case_name}\" already exists. Test cases with identical test case names will be graded \\n\\n'\n",
    "\n",
    "    _graded_result['results'].append({\n",
    "        'test_case_name': test_case_name,\n",
    "        'points': available_points if did_pass else 0,\n",
    "        'available_points': available_points,\n",
    "        'pass': did_pass,\n",
    "        'grade_manually': grade_manually,\n",
    "        'message': warning_message + message,\n",
    "    })"
   ]
  },
  {
   "cell_type": "markdown",
   "metadata": {},
   "source": [
    "This notebook does not contain any test cases."
   ]
  },
  {
   "cell_type": "code",
   "execution_count": 2,
   "metadata": {
    "execution": {
     "iopub.execute_input": "2025-03-10T15:29:42.807137Z",
     "iopub.status.busy": "2025-03-10T15:29:42.807137Z",
     "iopub.status.idle": "2025-03-10T15:29:42.810260Z",
     "shell.execute_reply": "2025-03-10T15:29:42.810260Z"
    }
   },
   "outputs": [
    {
     "name": "stdout",
     "output_type": "stream",
     "text": [
      "Test\n"
     ]
    }
   ],
   "source": [
    "print(\"Test\")"
   ]
  },
  {
   "cell_type": "code",
   "execution_count": 3,
   "id": "e52fa3c6",
   "metadata": {
    "execution": {
     "iopub.execute_input": "2025-03-10T15:29:42.811296Z",
     "iopub.status.busy": "2025-03-10T15:29:42.811296Z",
     "iopub.status.idle": "2025-03-10T15:29:42.814365Z",
     "shell.execute_reply": "2025-03-10T15:29:42.814365Z"
    }
   },
   "outputs": [],
   "source": [
    "# Jupygrader After File Code\n",
    "# REMOVE_IN_HTML_OUTPUT\n",
    "import json\n",
    "import datetime\n",
    "\n",
    "grader_output_file_name = 'jupygrader-result.json'\n",
    "grading_end_time = datetime.datetime.now(datetime.timezone.utc)\n",
    "\n",
    "_graded_result['grading_finished_at'] = grading_end_time.strftime(\"%Y-%m-%d %I:%M %p %Z\")\n",
    "_graded_result['grading_duration_in_seconds'] = round((grading_end_time - grading_start_time).total_seconds(), 2)\n",
    "_graded_result['num_total_test_cases'] = len(_graded_result['results'])\n",
    "\n",
    "for test_case_result in _graded_result['results']:\n",
    "    _graded_result['learner_autograded_score'] += test_case_result['points']\n",
    "    _graded_result['max_total_score'] += test_case_result['available_points']\n",
    "    \n",
    "    if test_case_result['grade_manually']:\n",
    "        _graded_result['max_manually_graded_score'] += test_case_result['available_points']\n",
    "        _graded_result['num_manually_graded_cases'] += 1\n",
    "    else:\n",
    "        _graded_result['max_autograded_score'] += test_case_result['available_points']\n",
    "        _graded_result['num_autograded_cases'] += 1\n",
    "        \n",
    "        if test_case_result['pass']:\n",
    "            _graded_result['num_passed_cases'] += 1\n",
    "        else:\n",
    "            _graded_result['num_failed_cases'] += 1\n",
    "    \n",
    "with open(grader_output_file_name, 'w') as fp:\n",
    "    json.dump(_graded_result, fp, indent=2)"
   ]
  }
 ],
 "metadata": {
  "kernelspec": {
   "display_name": "gies",
   "language": "python",
   "name": "python3"
  },
  "language_info": {
   "codemirror_mode": {
    "name": "ipython",
    "version": 3
   },
   "file_extension": ".py",
   "mimetype": "text/x-python",
   "name": "python",
   "nbconvert_exporter": "python",
   "pygments_lexer": "ipython3",
   "version": "3.12.5"
  }
 },
 "nbformat": 4,
 "nbformat_minor": 2
}
