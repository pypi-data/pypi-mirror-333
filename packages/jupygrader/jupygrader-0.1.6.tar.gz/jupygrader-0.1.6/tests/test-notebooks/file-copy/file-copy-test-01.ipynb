{
 "cells": [
  {
   "cell_type": "markdown",
   "id": "06d17fe9-3337-4e31-b331-080a548ca8b5",
   "metadata": {},
   "source": [
    "## Case 1: Input file in the same directory as the notebook"
   ]
  },
  {
   "cell_type": "code",
   "execution_count": null,
   "id": "573f95c7-5283-42a9-be84-abe8193bbdd1",
   "metadata": {},
   "outputs": [
    {
     "name": "stdout",
     "output_type": "stream",
     "text": [
      "This is a text file\n"
     ]
    }
   ],
   "source": [
    "with open('my-first-input.txt', 'r') as f:\n",
    "    s1 = f.read()\n",
    "\n",
    "print(s1)"
   ]
  },
  {
   "cell_type": "code",
   "execution_count": 2,
   "id": "6fd97f54-404e-42ed-9c5a-2a71f78e74f3",
   "metadata": {},
   "outputs": [],
   "source": [
    "import unittest\n",
    "\n",
    "tc = unittest.TestCase()\n",
    "\n",
    "_test_case = 'tc-read-file-01'\n",
    "_points = 10\n",
    "\n",
    "tc.assertEqual(s1, 'This is a text file')"
   ]
  },
  {
   "cell_type": "markdown",
   "id": "4ce7c608-e36b-4a2b-a814-f7c82d5d2aa7",
   "metadata": {},
   "source": [
    "## Case 2: Input file in a subdirectory"
   ]
  },
  {
   "cell_type": "code",
   "execution_count": null,
   "id": "5541b532-b82f-494f-ba8a-5cad10446e1c",
   "metadata": {},
   "outputs": [
    {
     "name": "stdout",
     "output_type": "stream",
     "text": [
      "This is another text file\n"
     ]
    }
   ],
   "source": [
    "with open('input-folder/my-second-input.txt', 'r') as f:\n",
    "    s2 = f.read()\n",
    "\n",
    "print(s2)"
   ]
  },
  {
   "cell_type": "code",
   "execution_count": 4,
   "id": "d904fe6d-ed23-47a9-9f29-49f38545d89b",
   "metadata": {},
   "outputs": [],
   "source": [
    "import unittest\n",
    "\n",
    "tc = unittest.TestCase()\n",
    "\n",
    "_test_case = 'tc-read-file-02'\n",
    "_points = 10\n",
    "\n",
    "tc.assertEqual(s2, 'This is another text file')"
   ]
  }
 ],
 "metadata": {
  "kernelspec": {
   "display_name": "Python 3 (ipykernel)",
   "language": "python",
   "name": "python3"
  },
  "language_info": {
   "codemirror_mode": {
    "name": "ipython",
    "version": 3
   },
   "file_extension": ".py",
   "mimetype": "text/x-python",
   "name": "python",
   "nbconvert_exporter": "python",
   "pygments_lexer": "ipython3",
   "version": "3.10.10"
  }
 },
 "nbformat": 4,
 "nbformat_minor": 5
}
