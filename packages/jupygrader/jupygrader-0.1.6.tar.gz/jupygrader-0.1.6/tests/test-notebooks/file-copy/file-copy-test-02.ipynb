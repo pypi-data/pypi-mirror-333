{
 "cells": [
  {
   "cell_type": "markdown",
   "id": "06d17fe9-3337-4e31-b331-080a548ca8b5",
   "metadata": {},
   "source": [
    "## Case 1: Input file in the same directory as the notebook"
   ]
  },
  {
   "cell_type": "code",
   "execution_count": 1,
   "id": "573f95c7-5283-42a9-be84-abe8193bbdd1",
   "metadata": {},
   "outputs": [
    {
     "name": "stdout",
     "output_type": "stream",
     "text": [
      "This is a text file\n",
      "This is the third text file\n"
     ]
    }
   ],
   "source": [
    "with open('my-first-input.txt', 'r') as f:\n",
    "    s1 = f.read()\n",
    "\n",
    "with open('my-third-input.txt', 'r') as f:\n",
    "    s3 = f.read()\n",
    "\n",
    "print(s1)\n",
    "print(s3)"
   ]
  },
  {
   "cell_type": "code",
   "execution_count": 2,
   "id": "6fd97f54-404e-42ed-9c5a-2a71f78e74f3",
   "metadata": {},
   "outputs": [],
   "source": [
    "import unittest\n",
    "\n",
    "tc = unittest.TestCase()\n",
    "\n",
    "_test_case = 'tc-read-files'\n",
    "_points = 10\n",
    "\n",
    "tc.assertEqual(s1, 'This is a text file')\n",
    "tc.assertEqual(s3, 'This is the third text file')"
   ]
  }
 ],
 "metadata": {
  "kernelspec": {
   "display_name": "Python 3 (ipykernel)",
   "language": "python",
   "name": "python3"
  },
  "language_info": {
   "codemirror_mode": {
    "name": "ipython",
    "version": 3
   },
   "file_extension": ".py",
   "mimetype": "text/x-python",
   "name": "python",
   "nbconvert_exporter": "python",
   "pygments_lexer": "ipython3",
   "version": "3.10.10"
  }
 },
 "nbformat": 4,
 "nbformat_minor": 5
}
