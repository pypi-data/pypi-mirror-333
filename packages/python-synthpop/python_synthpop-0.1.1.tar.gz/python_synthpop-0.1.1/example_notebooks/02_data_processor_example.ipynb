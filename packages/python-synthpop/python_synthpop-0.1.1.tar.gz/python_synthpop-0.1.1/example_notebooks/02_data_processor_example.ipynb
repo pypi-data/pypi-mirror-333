{
 "cells": [
  {
   "cell_type": "code",
   "execution_count": 1,
   "metadata": {},
   "outputs": [],
   "source": [
    "import pandas as pd\n",
    "import numpy as np\n",
    "from datetime import  timedelta\n",
    "from synthpop import DataProcessor"
   ]
  },
  {
   "cell_type": "code",
   "execution_count": null,
   "metadata": {},
   "outputs": [],
   "source": [
    "# Sample data generation using the provided data\n",
    "dates = pd.date_range(\"2023-01-01\", periods=50, freq=\"D\")\n",
    "bool_values = np.random.choice([True, False], size=50)\n",
    "timedeltas = [timedelta(days=int(i)) for i in np.random.randint(1, 100, 50)]\n",
    "\n",
    "df_custom = pd.DataFrame({\n",
    "    \"numeric_col1\": np.random.normal(50, 10, 50),\n",
    "    \"numeric_col2\": np.random.randint(0, 100, 50),\n",
    "    \"categorical_col\": np.random.choice([\"Red\", \"Green\", \"Blue\"], size=50),\n",
    "    \"boolean_col\": bool_values,\n",
    "    \"datetime_col\": dates,\n",
    "    \"timedelta_col\": timedeltas,\n",
    "    \"float_col\": np.random.uniform(0.0, 1.0, 50)\n",
    "})\n",
    "\n",
    "df = df_custom.copy()\n",
    "print(\"Original Data:\")\n",
    "display(df.head())\n",
    "\n",
    "# Define metadata for each column (update these types as needed)\n",
    "metadata = {\n",
    "    \"numeric_col1\": \"numerical\",\n",
    "    \"numeric_col2\": \"numerical\",\n",
    "    \"categorical_col\": \"categorical\",\n",
    "    \"boolean_col\": \"boolean\",\n",
    "    \"datetime_col\": \"datetime\",\n",
    "    \"timedelta_col\": \"timedelta\",\n",
    "    \"float_col\": \"numerical\"\n",
    "}"
   ]
  },
  {
   "cell_type": "code",
   "execution_count": 3,
   "metadata": {},
   "outputs": [],
   "source": [
    "# Instantiate the DataProcessor with the metadata\n",
    "processor = DataProcessor(metadata)"
   ]
  },
  {
   "cell_type": "code",
   "execution_count": null,
   "metadata": {},
   "outputs": [],
   "source": [
    "# Preprocess the data: transforms raw data into a numerical format\n",
    "processed_data = processor.preprocess(df)\n",
    "print(\"Processed Data:\")\n",
    "display(processed_data.head())"
   ]
  },
  {
   "cell_type": "code",
   "execution_count": 5,
   "metadata": {},
   "outputs": [],
   "source": [
    "# Simulate synthetic data generation by copying the processed data\n",
    "# (Replace this step with your synthetic data generation method if available)\n",
    "synthetic_data = processed_data.copy()"
   ]
  },
  {
   "cell_type": "code",
   "execution_count": null,
   "metadata": {},
   "outputs": [],
   "source": [
    "# Postprocess the synthetic data to revert it back to its original data types\n",
    "#the post processing makes sure to have the columns in their original order. \n",
    "recovered_data = processor.postprocess(synthetic_data)\n",
    "print(\"Recovered Data:\")\n",
    "display(recovered_data.head())"
   ]
  }
 ],
 "metadata": {
  "kernelspec": {
   "display_name": "AAdev",
   "language": "python",
   "name": "python3"
  },
  "language_info": {
   "codemirror_mode": {
    "name": "ipython",
    "version": 3
   },
   "file_extension": ".py",
   "mimetype": "text/x-python",
   "name": "python",
   "nbconvert_exporter": "python",
   "pygments_lexer": "ipython3",
   "version": "3.12.4"
  }
 },
 "nbformat": 4,
 "nbformat_minor": 2
}
