{
 "cells": [
  {
   "cell_type": "code",
   "execution_count": 1,
   "metadata": {},
   "outputs": [],
   "source": [
    "import numpy as np\n",
    "import pandas as pd\n",
    "from synthpop.metrics import (\n",
    "    MetricsReport,\n",
    "    EfficacyMetrics,\n",
    "    DisclosureProtection\n",
    ")"
   ]
  },
  {
   "cell_type": "code",
   "execution_count": 2,
   "metadata": {},
   "outputs": [],
   "source": [
    "# Create a small real DataFrame\n",
    "real_df = pd.DataFrame({\n",
    "    \"numeric_col\": [1, 2, 3, 4, 5, np.nan],\n",
    "    \"categorical_col\": [\"a\", \"b\", \"a\", \"c\", \"b\", \"b\"],\n",
    "    \"datetime_col\": pd.date_range(\"2023-01-01\", periods=6),\n",
    "    \"boolean_col\": [True, False, True, False, True, False]\n",
    "})\n",
    "\n",
    "# Create a corresponding synthetic DataFrame\n",
    "#can come from one of the SDG methods \n",
    "synthetic_df = pd.DataFrame({\n",
    "    \"numeric_col\": [1.1, 2.1, 2.9, 3.8, 5.2, np.nan],\n",
    "    \"categorical_col\": [\"a\", \"b\", \"b\", \"c\", \"d\", \"b\"],\n",
    "    \"datetime_col\": pd.date_range(\"2023-01-01\", periods=6),\n",
    "    \"boolean_col\": [True, True, True, False, True, False]\n",
    "})\n",
    "\n",
    "# Optional metadata\n",
    "#can be obtained also by the missing data handler \n",
    "metadata = {\n",
    "    \"numeric_col\": \"numerical\",\n",
    "    \"categorical_col\": \"categorical\",\n",
    "    \"datetime_col\": \"datetime\",\n",
    "    \"boolean_col\": \"boolean\"\n",
    "}"
   ]
  },
  {
   "cell_type": "code",
   "execution_count": null,
   "metadata": {},
   "outputs": [],
   "source": [
    "# Instantiate and generate a diagnostic report\n",
    "report = MetricsReport(real_df, synthetic_df, metadata)\n",
    "report_df = report.generate_report()\n",
    "print(\"=== Diagnostic Report ===\")\n",
    "display(report_df)"
   ]
  },
  {
   "cell_type": "markdown",
   "metadata": {},
   "source": [
    "##  2. DEMO: EfficacyMetrics"
   ]
  },
  {
   "cell_type": "code",
   "execution_count": null,
   "metadata": {},
   "outputs": [],
   "source": [
    "# EXAMPLE A: Regression\n",
    "real_reg = pd.DataFrame({\n",
    "    \"feat1\": np.random.normal(0, 1, 100),\n",
    "    \"feat2\": np.random.normal(5, 2, 100),\n",
    "    \"target\": np.random.normal(10, 3, 100)\n",
    "})\n",
    "synthetic_reg = pd.DataFrame({\n",
    "    \"feat1\": np.random.normal(0, 1, 100),\n",
    "    \"feat2\": np.random.normal(5, 2, 100),\n",
    "    \"target\": np.random.normal(10, 3, 100)\n",
    "})\n",
    "\n",
    "reg_efficacy = EfficacyMetrics(task='regression', target_column=\"target\")\n",
    "reg_metrics = reg_efficacy.evaluate(real_reg, synthetic_reg)\n",
    "print(\"=== Regression Efficacy Metrics ===\")\n",
    "print(reg_metrics)"
   ]
  },
  {
   "cell_type": "code",
   "execution_count": null,
   "metadata": {},
   "outputs": [],
   "source": [
    "# EXAMPLE B: Classification\n",
    "real_clf = pd.DataFrame({\n",
    "    \"feat1\": np.random.normal(0, 1, 100),\n",
    "    \"feat2\": np.random.normal(5, 2, 100),\n",
    "    \"target\": np.random.choice([\"A\", \"B\"], size=100)\n",
    "})\n",
    "synthetic_clf = pd.DataFrame({\n",
    "    \"feat1\": np.random.normal(0, 1, 100),\n",
    "    \"feat2\": np.random.normal(5, 2, 100),\n",
    "    \"target\": np.random.choice([\"A\", \"B\"], size=100)\n",
    "})\n",
    "\n",
    "clf_efficacy = EfficacyMetrics(task='classification', target_column=\"target\")\n",
    "clf_metrics = clf_efficacy.evaluate(real_clf, synthetic_clf)\n",
    "print(\"\\n=== Classification Efficacy Metrics ===\")\n",
    "print(clf_metrics)"
   ]
  },
  {
   "cell_type": "markdown",
   "metadata": {},
   "source": [
    "## 3. DEMO: Privacy metrics"
   ]
  },
  {
   "cell_type": "code",
   "execution_count": null,
   "metadata": {},
   "outputs": [],
   "source": [
    "# Example numeric real vs. synthetic data\n",
    "real_privacy = pd.DataFrame({\n",
    "    \"col1\": np.random.normal(0, 1, 100),\n",
    "    \"col2\": np.random.normal(5, 2, 100)\n",
    "})\n",
    "synthetic_privacy = real_privacy + np.random.normal(0, 0.3, real_privacy.shape)\n",
    "\n",
    "dp = DisclosureProtection(real_privacy, synthetic_privacy)\n",
    "dp_score = dp.score()\n",
    "dp_report = dp.report()\n",
    "\n",
    "print(\"\\n=== Disclosure Protection ===\")\n",
    "print(f\"Score: {dp_score:.3f}\")\n",
    "print(\"Detailed Report:\", dp_report)"
   ]
  }
 ],
 "metadata": {
  "kernelspec": {
   "display_name": "AAdev",
   "language": "python",
   "name": "python3"
  },
  "language_info": {
   "codemirror_mode": {
    "name": "ipython",
    "version": 3
   },
   "file_extension": ".py",
   "mimetype": "text/x-python",
   "name": "python",
   "nbconvert_exporter": "python",
   "pygments_lexer": "ipython3",
   "version": "3.12.4"
  }
 },
 "nbformat": 4,
 "nbformat_minor": 2
}
