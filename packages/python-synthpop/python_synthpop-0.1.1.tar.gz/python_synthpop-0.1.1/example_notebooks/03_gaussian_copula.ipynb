{
 "cells": [
  {
   "cell_type": "code",
   "execution_count": 1,
   "metadata": {},
   "outputs": [],
   "source": [
    "import pandas as pd\n",
    "import numpy as np\n",
    "from datetime import  timedelta\n",
    "from synthpop import DataProcessor, GaussianCopulaMethod, MissingDataHandler"
   ]
  },
  {
   "cell_type": "code",
   "execution_count": null,
   "metadata": {},
   "outputs": [],
   "source": [
    "# Sample Data Generation with 100 observations\n",
    "dates = pd.date_range(\"2023-01-01\", periods=100, freq=\"D\")\n",
    "bool_values = np.random.choice([True, False], size=100)\n",
    "timedeltas = [timedelta(days=int(i)) for i in np.random.randint(1, 100, 100)]\n",
    "\n",
    "df_custom = pd.DataFrame({\n",
    "    \"numeric_col1\": np.random.normal(50, 10, 100),\n",
    "    \"numeric_col2\": np.random.randint(0, 100, 100),\n",
    "    \"categorical_col\": np.random.choice([\"Red\", \"Green\", \"Blue\"], size=100),\n",
    "    \"boolean_col\": bool_values,\n",
    "    \"datetime_col\": dates,\n",
    "    \"timedelta_col\": timedeltas,\n",
    "    \"float_col\": np.random.uniform(0.0, 1.0, 100)\n",
    "})\n",
    "\n",
    "df = df_custom.copy()\n",
    "print(\"Original Data:\")\n",
    "display(df.head())"
   ]
  },
  {
   "cell_type": "code",
   "execution_count": null,
   "metadata": {},
   "outputs": [],
   "source": [
    "#get the metadata from df \n",
    "metadata = MissingDataHandler.get_column_dtypes(df)\n",
    "print(metadata)"
   ]
  },
  {
   "cell_type": "code",
   "execution_count": null,
   "metadata": {},
   "outputs": [],
   "source": [
    "# Instantiate DataProcessor and preprocess the data\n",
    "processor = DataProcessor(metadata)\n",
    "processed_data = processor.preprocess(df)\n",
    "print(\"Processed Data:\")\n",
    "display(processed_data.head())"
   ]
  },
  {
   "cell_type": "code",
   "execution_count": null,
   "metadata": {},
   "outputs": [],
   "source": [
    "# Instantiate GaussianCopulaMethod with the same metadata\n",
    "gaussian_copula = GaussianCopulaMethod(metadata)\n",
    "# Fit the Gaussian Copula model on the processed data\n",
    "gaussian_copula.fit(processed_data)"
   ]
  },
  {
   "cell_type": "code",
   "execution_count": null,
   "metadata": {},
   "outputs": [],
   "source": [
    "# Generate synthetic processed data (e.g., 100 synthetic observations)\n",
    "synthetic_processed = gaussian_copula.sample(100)\n",
    "print(\"Synthetic Processed Data:\")\n",
    "display(synthetic_processed.head())"
   ]
  },
  {
   "cell_type": "code",
   "execution_count": null,
   "metadata": {},
   "outputs": [],
   "source": [
    "# Postprocess the synthetic data back to the original format\n",
    "synthetic_data = processor.postprocess(synthetic_processed)\n",
    "print(\"Synthetic Data in Original Format:\")\n",
    "display(synthetic_data.head())"
   ]
  }
 ],
 "metadata": {
  "kernelspec": {
   "display_name": "AAdev",
   "language": "python",
   "name": "python3"
  },
  "language_info": {
   "codemirror_mode": {
    "name": "ipython",
    "version": 3
   },
   "file_extension": ".py",
   "mimetype": "text/x-python",
   "name": "python",
   "nbconvert_exporter": "python",
   "pygments_lexer": "ipython3",
   "version": "3.12.4"
  }
 },
 "nbformat": 4,
 "nbformat_minor": 2
}
