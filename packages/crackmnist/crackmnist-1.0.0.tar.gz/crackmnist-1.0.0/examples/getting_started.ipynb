{
 "cells": [
  {
   "metadata": {},
   "cell_type": "markdown",
   "source": [
    "## CrackMNIST Segmentation Training Notebook\n",
    "\n",
    "### Import necessary libraries"
   ]
  },
  {
   "metadata": {
    "ExecuteTime": {
     "end_time": "2025-02-20T08:36:13.231235Z",
     "start_time": "2025-02-20T08:36:10.644601Z"
    }
   },
   "cell_type": "code",
   "source": [
    "import torch\n",
    "from torch import optim\n",
    "import torch.utils.data as data\n",
    "import torchvision.transforms as transforms\n",
    "import matplotlib.pyplot as plt\n",
    "from alive_progress import alive_bar\n",
    "\n",
    "import crackmnist\n",
    "from crackmnist import CrackMNIST\n",
    "from crackmnist.nets import UNet\n",
    "from crackmnist.loss import DiceLoss\n",
    "from crackmnist.transforms import InputNormalization, NumpyToTensor"
   ],
   "outputs": [],
   "execution_count": 1
  },
  {
   "metadata": {
    "ExecuteTime": {
     "end_time": "2025-02-20T08:36:13.249083Z",
     "start_time": "2025-02-20T08:36:13.244875Z"
    }
   },
   "cell_type": "code",
   "source": "print(f\"CrackMNIST v{crackmnist.__version__} @ {crackmnist.HOMEPAGE}\")",
   "outputs": [
    {
     "name": "stdout",
     "output_type": "stream",
     "text": [
      "CrackMNIST v0.0.1 @ https://github.com/dlr-wf/CrackMNIST/\n"
     ]
    }
   ],
   "execution_count": 2
  },
  {
   "metadata": {},
   "cell_type": "markdown",
   "source": [
    "### Define dataset parameters\n",
    "\n",
    "CrackMNIST dataset offers 3 different sizes: \"S\", \"M\", \"L\" and 4 different pixel sizes: $28, 64, 128, 256$. Here we will use the smallest size \"S\" with lowest resolution $28 \\times 28$ pixels."
   ]
  },
  {
   "metadata": {
    "ExecuteTime": {
     "end_time": "2025-02-20T08:36:13.353179Z",
     "start_time": "2025-02-20T08:36:13.348376Z"
    }
   },
   "cell_type": "code",
   "source": [
    "PIXELS = 28\n",
    "SIZE = \"S\""
   ],
   "outputs": [],
   "execution_count": 3
  },
  {
   "metadata": {},
   "cell_type": "markdown",
   "source": "### Set training hyperparameters"
  },
  {
   "metadata": {
    "ExecuteTime": {
     "end_time": "2025-02-20T08:36:13.429212Z",
     "start_time": "2025-02-20T08:36:13.424767Z"
    }
   },
   "cell_type": "code",
   "source": [
    "NUM_EPOCHS = 10\n",
    "BATCH_SIZE = 32\n",
    "LR = 1e-4"
   ],
   "outputs": [],
   "execution_count": 4
  },
  {
   "metadata": {},
   "cell_type": "markdown",
   "source": "### Select computation device"
  },
  {
   "metadata": {
    "ExecuteTime": {
     "end_time": "2025-02-20T08:36:13.537331Z",
     "start_time": "2025-02-20T08:36:13.505546Z"
    }
   },
   "cell_type": "code",
   "source": [
    "device = torch.device('cuda' if torch.cuda.is_available() else 'cpu')\n",
    "print(f\"Using device: {device}\")"
   ],
   "outputs": [
    {
     "name": "stdout",
     "output_type": "stream",
     "text": [
      "Using device: cuda\n"
     ]
    }
   ],
   "execution_count": 5
  },
  {
   "metadata": {},
   "cell_type": "markdown",
   "source": "### Define data transformations"
  },
  {
   "metadata": {
    "ExecuteTime": {
     "end_time": "2025-02-20T08:36:13.585790Z",
     "start_time": "2025-02-20T08:36:13.580275Z"
    }
   },
   "cell_type": "code",
   "source": [
    "data_transform = transforms.Compose([\n",
    "    NumpyToTensor(),\n",
    "    InputNormalization(),\n",
    "])\n",
    "target_transform = transforms.Compose([\n",
    "    NumpyToTensor(),\n",
    "])"
   ],
   "outputs": [],
   "execution_count": 6
  },
  {
   "metadata": {},
   "cell_type": "markdown",
   "source": "### Load dataset and create data loaders"
  },
  {
   "metadata": {
    "ExecuteTime": {
     "end_time": "2025-02-20T08:36:13.653212Z",
     "start_time": "2025-02-20T08:36:13.639221Z"
    }
   },
   "cell_type": "code",
   "source": [
    "train_dataset = CrackMNIST(split=\"train\", pixels=PIXELS, size=SIZE, transform=data_transform, target_transform=target_transform)\n",
    "val_dataset = CrackMNIST(split=\"val\", pixels=PIXELS, size=SIZE, transform=data_transform, target_transform=target_transform)\n",
    "test_dataset = CrackMNIST(split=\"test\", pixels=PIXELS, size=SIZE, transform=data_transform, target_transform=target_transform)\n",
    "\n",
    "train_loader = data.DataLoader(train_dataset, batch_size=BATCH_SIZE, shuffle=True, num_workers=8)\n",
    "val_loader = data.DataLoader(val_dataset, batch_size=BATCH_SIZE, shuffle=False, num_workers=8)\n",
    "test_loader = data.DataLoader(test_dataset, batch_size=BATCH_SIZE, shuffle=False, num_workers=8)"
   ],
   "outputs": [],
   "execution_count": 7
  },
  {
   "metadata": {},
   "cell_type": "markdown",
   "source": "### Initialize the model, loss function, and optimizer"
  },
  {
   "metadata": {
    "ExecuteTime": {
     "end_time": "2025-02-20T08:36:13.924582Z",
     "start_time": "2025-02-20T08:36:13.707800Z"
    }
   },
   "cell_type": "code",
   "source": [
    "model = UNet(in_ch=2, out_ch=1, init_features=128, dropout_prob=0.2)\n",
    "model = model.to(device)\n",
    "\n",
    "criterion = DiceLoss()\n",
    "optimizer = optim.Adam(model.parameters(), lr=LR)\n",
    "\n",
    "print(model)"
   ],
   "outputs": [
    {
     "name": "stdout",
     "output_type": "stream",
     "text": [
      "UNet(\n",
      "  (inc): DoubleConv(\n",
      "    (conv1): Conv2d(2, 128, kernel_size=(3, 3), stride=(1, 1), padding=(1, 1))\n",
      "    (bn1): BatchNorm2d(128, eps=1e-05, momentum=0.1, affine=True, track_running_stats=True)\n",
      "    (relu1): LeakyReLU(negative_slope=0.01, inplace=True)\n",
      "    (conv2): Conv2d(128, 128, kernel_size=(3, 3), stride=(1, 1), padding=(1, 1))\n",
      "    (bn2): BatchNorm2d(128, eps=1e-05, momentum=0.1, affine=True, track_running_stats=True)\n",
      "    (relu2): LeakyReLU(negative_slope=0.01, inplace=True)\n",
      "  )\n",
      "  (down1): Down(\n",
      "    (pool): MaxPool2d(kernel_size=2, stride=2, padding=0, dilation=1, ceil_mode=False)\n",
      "    (doubleconv): DoubleConv(\n",
      "      (conv1): Conv2d(128, 256, kernel_size=(3, 3), stride=(1, 1), padding=(1, 1))\n",
      "      (bn1): BatchNorm2d(256, eps=1e-05, momentum=0.1, affine=True, track_running_stats=True)\n",
      "      (relu1): LeakyReLU(negative_slope=0.01, inplace=True)\n",
      "      (conv2): Conv2d(256, 256, kernel_size=(3, 3), stride=(1, 1), padding=(1, 1))\n",
      "      (bn2): BatchNorm2d(256, eps=1e-05, momentum=0.1, affine=True, track_running_stats=True)\n",
      "      (relu2): LeakyReLU(negative_slope=0.01, inplace=True)\n",
      "    )\n",
      "  )\n",
      "  (down2): Down(\n",
      "    (pool): MaxPool2d(kernel_size=2, stride=2, padding=0, dilation=1, ceil_mode=False)\n",
      "    (doubleconv): DoubleConv(\n",
      "      (conv1): Conv2d(256, 256, kernel_size=(3, 3), stride=(1, 1), padding=(1, 1))\n",
      "      (bn1): BatchNorm2d(256, eps=1e-05, momentum=0.1, affine=True, track_running_stats=True)\n",
      "      (relu1): LeakyReLU(negative_slope=0.01, inplace=True)\n",
      "      (conv2): Conv2d(256, 256, kernel_size=(3, 3), stride=(1, 1), padding=(1, 1))\n",
      "      (bn2): BatchNorm2d(256, eps=1e-05, momentum=0.1, affine=True, track_running_stats=True)\n",
      "      (relu2): LeakyReLU(negative_slope=0.01, inplace=True)\n",
      "    )\n",
      "  )\n",
      "  (base): Base(\n",
      "    (dropout1): Dropout(p=0.2, inplace=False)\n",
      "    (conv1): Conv2d(256, 256, kernel_size=(3, 3), stride=(1, 1), padding=(1, 1))\n",
      "    (bn1): BatchNorm2d(256, eps=1e-05, momentum=0.1, affine=True, track_running_stats=True)\n",
      "    (relu1): LeakyReLU(negative_slope=0.01, inplace=True)\n",
      "    (dropout2): Dropout(p=0.2, inplace=False)\n",
      "    (conv2): Conv2d(256, 256, kernel_size=(3, 3), stride=(1, 1), padding=(1, 1))\n",
      "    (bn2): BatchNorm2d(256, eps=1e-05, momentum=0.1, affine=True, track_running_stats=True)\n",
      "    (relu2): LeakyReLU(negative_slope=0.01, inplace=True)\n",
      "  )\n",
      "  (up3): Up(\n",
      "    (up): ConvTranspose2d(256, 256, kernel_size=(2, 2), stride=(2, 2))\n",
      "    (doubleconv): DoubleConv(\n",
      "      (conv1): Conv2d(512, 128, kernel_size=(3, 3), stride=(1, 1), padding=(1, 1))\n",
      "      (bn1): BatchNorm2d(128, eps=1e-05, momentum=0.1, affine=True, track_running_stats=True)\n",
      "      (relu1): LeakyReLU(negative_slope=0.01, inplace=True)\n",
      "      (conv2): Conv2d(128, 128, kernel_size=(3, 3), stride=(1, 1), padding=(1, 1))\n",
      "      (bn2): BatchNorm2d(128, eps=1e-05, momentum=0.1, affine=True, track_running_stats=True)\n",
      "      (relu2): LeakyReLU(negative_slope=0.01, inplace=True)\n",
      "    )\n",
      "  )\n",
      "  (up4): Up(\n",
      "    (up): ConvTranspose2d(128, 128, kernel_size=(2, 2), stride=(2, 2))\n",
      "    (doubleconv): DoubleConv(\n",
      "      (conv1): Conv2d(256, 128, kernel_size=(3, 3), stride=(1, 1), padding=(1, 1))\n",
      "      (bn1): BatchNorm2d(128, eps=1e-05, momentum=0.1, affine=True, track_running_stats=True)\n",
      "      (relu1): LeakyReLU(negative_slope=0.01, inplace=True)\n",
      "      (conv2): Conv2d(128, 128, kernel_size=(3, 3), stride=(1, 1), padding=(1, 1))\n",
      "      (bn2): BatchNorm2d(128, eps=1e-05, momentum=0.1, affine=True, track_running_stats=True)\n",
      "      (relu2): LeakyReLU(negative_slope=0.01, inplace=True)\n",
      "    )\n",
      "  )\n",
      "  (outc): OutConv(\n",
      "    (conv): Conv2d(128, 1, kernel_size=(1, 1), stride=(1, 1))\n",
      "  )\n",
      ")\n"
     ]
    }
   ],
   "execution_count": 8
  },
  {
   "metadata": {},
   "cell_type": "markdown",
   "source": "### Train the model"
  },
  {
   "metadata": {
    "ExecuteTime": {
     "end_time": "2025-02-20T08:37:39.102786Z",
     "start_time": "2025-02-20T08:36:13.938741Z"
    }
   },
   "cell_type": "code",
   "source": [
    "train_losses = []\n",
    "val_losses = []\n",
    "\n",
    "for epoch in range(NUM_EPOCHS):\n",
    "    print(f\"Epoch {epoch + 1}/{NUM_EPOCHS}\")\n",
    "    running_loss = 0.0\n",
    "\n",
    "    with alive_bar(len(train_loader), force_tty=True) as bar:\n",
    "        for inputs, targets in train_loader:\n",
    "            inputs, targets = inputs.to(device), targets.to(device)\n",
    "            model.train()\n",
    "            optimizer.zero_grad()\n",
    "            outputs = model(inputs)\n",
    "            loss = criterion(outputs, targets.unsqueeze(1).to(torch.float32) / 255.)\n",
    "            loss.backward()\n",
    "            optimizer.step()\n",
    "            running_loss += loss.item()\n",
    "            bar()\n",
    "\n",
    "    train_losses.append(running_loss / len(train_loader))\n",
    "    print(f\"Train loss: {train_losses[-1]}\")\n",
    "\n",
    "    running_loss = 0.0\n",
    "    with torch.no_grad():\n",
    "        with alive_bar(len(val_loader), force_tty=True) as bar:\n",
    "            for inputs, targets in val_loader:\n",
    "                inputs, targets = inputs.to(device), targets.to(device)\n",
    "                model.eval()\n",
    "                outputs = model(inputs)\n",
    "                loss = criterion(outputs, targets.unsqueeze(1).to(torch.float32) / 255.)\n",
    "                running_loss += loss.item()\n",
    "                bar()\n",
    "\n",
    "    val_losses.append(running_loss / len(val_loader))\n",
    "    print(f\"Val loss: {val_losses[-1]}\")\n",
    "    print(\"\")"
   ],
   "outputs": [
    {
     "name": "stdout",
     "output_type": "stream",
     "text": [
      "Epoch 1/10\n",
      "|████████████████████████████████████████| 314/314 [100%] in 7.0s (45.16/s)     \n",
      "Train loss: 0.9759176540526615\n",
      "|████████████████████████████████████████| 186/186 [100%] in 1.4s (131.49/s)    \n",
      "Val loss: 0.9421055768766711\n",
      "\n",
      "Epoch 2/10\n",
      "|████████████████████████████████████████| 314/314 [100%] in 7.0s (45.37/s)     \n",
      "Train loss: 0.7040849024323141\n",
      "|████████████████████████████████████████| 186/186 [100%] in 1.5s (130.55/s)    \n",
      "Val loss: 0.4603696737879066\n",
      "\n",
      "Epoch 3/10\n",
      "|████████████████████████████████████████| 314/314 [100%] in 7.1s (44.21/s)     \n",
      "Train loss: 0.3134427049737068\n",
      "|████████████████████████████████████████| 186/186 [100%] in 1.5s (125.01/s)    \n",
      "Val loss: 0.34525141728821623\n",
      "\n",
      "Epoch 4/10\n",
      "|████████████████████████████████████████| 314/314 [100%] in 6.9s (46.06/s)     \n",
      "Train loss: 0.23870443253760126\n",
      "|████████████████████████████████████████| 186/186 [100%] in 1.4s (133.50/s)    \n",
      "Val loss: 0.3001722856875389\n",
      "\n",
      "Epoch 5/10\n",
      "|████████████████████████████████████████| 314/314 [100%] in 6.9s (45.53/s)     \n",
      "Train loss: 0.21117941911812801\n",
      "|████████████████████████████████████████| 186/186 [100%] in 1.4s (131.56/s)    \n",
      "Val loss: 0.30760704733992134\n",
      "\n",
      "Epoch 6/10\n",
      "|████████████████████████████████████████| 314/314 [100%] in 7.0s (45.12/s)     \n",
      "Train loss: 0.1940084194681447\n",
      "|████████████████████████████████████████| 186/186 [100%] in 1.4s (133.46/s)    \n",
      "Val loss: 0.3064428343567797\n",
      "\n",
      "Epoch 7/10\n",
      "|████████████████████████████████████████| 314/314 [100%] in 6.9s (45.71/s)     \n",
      "Train loss: 0.18473044113748394\n",
      "|████████████████████████████████████████| 186/186 [100%] in 1.4s (134.00/s)    \n",
      "Val loss: 0.287673177578116\n",
      "\n",
      "Epoch 8/10\n",
      "|████████████████████████████████████████| 314/314 [100%] in 7.2s (43.93/s)     \n",
      "Train loss: 0.18230074454265036\n",
      "|████████████████████████████████████████| 186/186 [100%] in 1.5s (127.07/s)    \n",
      "Val loss: 0.2599798790229264\n",
      "\n",
      "Epoch 9/10\n",
      "|████████████████████████████████████████| 314/314 [100%] in 6.7s (47.32/s)     \n",
      "Train loss: 0.17209338952021994\n",
      "|████████████████████████████████████████| 186/186 [100%] in 1.5s (126.87/s)    \n",
      "Val loss: 0.2868634683470572\n",
      "\n",
      "Epoch 10/10\n",
      "|████████████████████████████████████████| 314/314 [100%] in 7.4s (42.64/s)     \n",
      "Train loss: 0.1600326267397328\n",
      "|████████████████████████████████████████| 186/186 [100%] in 1.5s (129.22/s)    \n",
      "Val loss: 0.26312006321004644\n",
      "\n"
     ]
    }
   ],
   "execution_count": 9
  },
  {
   "metadata": {},
   "cell_type": "markdown",
   "source": "### Plot training and validation loss"
  },
  {
   "metadata": {
    "ExecuteTime": {
     "end_time": "2025-02-20T08:37:44.312474Z",
     "start_time": "2025-02-20T08:37:43.598170Z"
    }
   },
   "cell_type": "code",
   "source": [
    "plt.figure()\n",
    "plt.plot(range(1, NUM_EPOCHS+1), train_losses, label=\"Train Loss\")\n",
    "plt.plot(range(1, NUM_EPOCHS+1), val_losses, label=\"Validation Loss\")\n",
    "plt.xlabel(\"Epoch\")\n",
    "plt.ylabel(\"Loss\")\n",
    "plt.legend()\n",
    "plt.savefig(\"training_loss.png\", dpi=600)\n",
    "plt.show()"
   ],
   "outputs": [
    {
     "data": {
      "text/plain": [
       "<Figure size 640x480 with 1 Axes>"
      ],
      "image/png": "[encoded data removed]"
     },
     "metadata": {},
     "output_type": "display_data"
    }
   ],
   "execution_count": 10
  },
  {
   "metadata": {},
   "cell_type": "markdown",
   "source": "### Evaluate model"
  },
  {
   "metadata": {
    "ExecuteTime": {
     "end_time": "2025-02-20T08:37:57.077029Z",
     "start_time": "2025-02-20T08:37:44.329725Z"
    }
   },
   "cell_type": "code",
   "source": [
    "def collect_losses(loader, description=\"Processing\"):\n",
    "    \"\"\"Collect losses for each sample in the given data loader.\"\"\"\n",
    "    loss_list = []\n",
    "    with alive_bar(len(loader), title=description, force_tty=True) as bar:\n",
    "        for inputs, targets in loader:\n",
    "            inputs, targets = inputs.to(device), targets.to(device)\n",
    "            model.eval()\n",
    "            outputs = model(inputs)\n",
    "            for i in range(inputs.size(0)):\n",
    "                loss = criterion(outputs[i].unsqueeze(0),\n",
    "                                 targets[i].unsqueeze(0).unsqueeze(0).to(torch.float32) / 255.)\n",
    "                loss_list.append(loss.item())\n",
    "            bar()\n",
    "    print(\"\")\n",
    "    return loss_list\n",
    "\n",
    "# Collect losses for training, validation, and test sets\n",
    "train_losses = collect_losses(train_loader, \"Training\")\n",
    "val_losses = collect_losses(val_loader, \"Validation\")\n",
    "test_losses = collect_losses(test_loader, \"Testing\")"
   ],
   "outputs": [
    {
     "name": "stdout",
     "output_type": "stream",
     "text": [
      "Training |████████████████████████████████████████| 314/314 [100%] in 7.1s (44.3\n",
      "\n",
      "Validation |████████████████████████████████████████| 186/186 [100%] in 2.8s (67\n",
      "\n",
      "Testing |████████████████████████████████████████| 186/186 [100%] in 2.7s (69.17\n",
      "\n"
     ]
    }
   ],
   "execution_count": 11
  },
  {
   "metadata": {},
   "cell_type": "markdown",
   "source": "### Plot loss distribution"
  },
  {
   "metadata": {
    "ExecuteTime": {
     "end_time": "2025-02-20T08:37:57.853806Z",
     "start_time": "2025-02-20T08:37:57.174982Z"
    }
   },
   "cell_type": "code",
   "source": [
    "plt.figure()\n",
    "plt.violinplot([train_losses, val_losses, test_losses], showmeans=True)\n",
    "plt.xticks([1, 2, 3], [\"Train\", \"Val\", \"Test\"])\n",
    "plt.ylabel(\"Loss\")\n",
    "plt.savefig(\"losses.png\", dpi=600)\n",
    "plt.show()"
   ],
   "outputs": [
    {
     "data": {
      "text/plain": [
       "<Figure size 640x480 with 1 Axes>"
      ],
      "image/png": "[encoded data removed]"
     },
     "metadata": {},
     "output_type": "display_data"
    }
   ],
   "execution_count": 12
  },
  {
   "metadata": {},
   "cell_type": "markdown",
   "source": "### Visualize predictions"
  },
  {
   "metadata": {
    "ExecuteTime": {
     "end_time": "2025-02-20T08:38:00.291959Z",
     "start_time": "2025-02-20T08:37:57.885087Z"
    }
   },
   "cell_type": "code",
   "source": [
    "import matplotlib.pyplot as plt\n",
    "import matplotlib.colors as mcolors\n",
    "\n",
    "plt.rcParams['text.usetex'] = True  # Enable LaTeX rendering\n",
    "\n",
    "# Fetch test samples\n",
    "inputs, targets = next(iter(test_loader))\n",
    "inputs, targets = inputs[:5], targets[:5]\n",
    "inputs, targets = inputs.to(device), targets.to(device)\n",
    "\n",
    "model.eval()\n",
    "outputs = model(inputs)\n",
    "outputs = (outputs > 0.5).int()\n",
    "\n",
    "fig, axs = plt.subplots(5, 4, figsize=(8, 10), gridspec_kw={'width_ratios': [1, 1, 1, 1]})\n",
    "\n",
    "# Normalize each input type separately\n",
    "vmin_x, vmax_x = inputs[:, 0].min().cpu(), inputs[:, 0].max().cpu()\n",
    "vmin_y, vmax_y = inputs[:, 1].min().cpu(), inputs[:, 1].max().cpu()\n",
    "\n",
    "norm_x = mcolors.Normalize(vmin=vmin_x, vmax=vmax_x)\n",
    "norm_y = mcolors.Normalize(vmin=vmin_y, vmax=vmax_y)\n",
    "\n",
    "for i in range(5):\n",
    "    im_x = axs[i, 0].imshow(inputs[i, 0].cpu(), cmap='jet', norm=norm_x)\n",
    "    if i == 0:\n",
    "        axs[i, 0].set_title(r\"Input $u_x$\")\n",
    "    axs[i, 0].axis('off')\n",
    "\n",
    "    im_y = axs[i, 1].imshow(inputs[i, 1].cpu(), cmap='jet', norm=norm_y)\n",
    "    if i == 0:\n",
    "        axs[i, 1].set_title(r\"Input $u_y$\")\n",
    "    axs[i, 1].axis('off')\n",
    "\n",
    "    axs[i, 2].imshow(targets[i].cpu(), cmap='gray')\n",
    "    if i == 0:\n",
    "        axs[i, 2].set_title(\"Mask\")\n",
    "    axs[i, 2].axis('off')\n",
    "\n",
    "    axs[i, 3].imshow(outputs[i].cpu().squeeze(), cmap='gray')\n",
    "    if i == 0:\n",
    "        axs[i, 3].set_title(\"Prediction\")\n",
    "    axs[i, 3].axis('off')\n",
    "\n",
    "# Create separate axes for colorbars\n",
    "cbar_ax_x = fig.add_axes([0.12, 0.08, 0.18, 0.02])  # Colorbar for u_x\n",
    "cbar_ax_y = fig.add_axes([0.32, 0.08, 0.18, 0.02])  # Colorbar for u_y\n",
    "\n",
    "# Add colorbars\n",
    "fig.colorbar(im_x, cax=cbar_ax_x, orientation='horizontal', label=r'Color Scale for $u_x$')\n",
    "fig.colorbar(im_y, cax=cbar_ax_y, orientation='horizontal', label=r'Color Scale for $u_y$')\n",
    "\n",
    "plt.suptitle(\"CrackMNIST test data samples\")\n",
    "plt.savefig(\"predictions.png\", dpi=600)\n",
    "plt.show()"
   ],
   "outputs": [
    {
     "data": {
      "text/plain": [
       "<Figure size 800x1000 with 22 Axes>"
      ],
      "image/png": "[encoded data removed]"
     },
     "metadata": {},
     "output_type": "display_data"
    }
   ],
   "execution_count": 13
  }
 ],
 "metadata": {
  "kernelspec": {
   "display_name": ".venv",
   "language": "python",
   "name": "python3"
  },
  "language_info": {
   "codemirror_mode": {
    "name": "ipython",
    "version": 3
   },
   "file_extension": ".py",
   "mimetype": "text/x-python",
   "name": "python",
   "nbconvert_exporter": "python",
   "pygments_lexer": "ipython3",
   "version": "3.11.7"
  }
 },
 "nbformat": 4,
 "nbformat_minor": 2
}
