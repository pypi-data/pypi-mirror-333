{
 "cells": [
  {
   "cell_type": "markdown",
   "metadata": {},
   "source": [
    "# Travel Agent Planner with RagaAI Catalyst Integration\n",
    "\n",
    "This Jupyter notebook demonstrates the integration of Catalyst, a powerful tracing and monitoring tool, with a Travel Agent Planner system. AgentNeo provides seamless tracing capabilities for both function calls and AI model interactions, allowing for comprehensive analysis and debugging of complex systems."
   ]
  },
  {
   "cell_type": "markdown",
   "metadata": {},
   "source": [
    "\n",
    "# Setup and Imports\n",
    "First, let's import the necessary libraries and set up our environment."
   ]
  },
  {
   "cell_type": "code",
   "execution_count": null,
   "metadata": {},
   "outputs": [
    {
     "name": "stderr",
     "output_type": "stream",
     "text": [
      "INFO:httpx:HTTP Request: GET https://raw.githubusercontent.com/BerriAI/litellm/main/model_prices_and_context_window.json \"HTTP/1.1 200 OK\"\n"
     ]
    }
   ],
   "source": [
    "from ragaai_catalyst.tracers import Tracer\n",
    "from ragaai_catalyst import RagaAICatalyst\n",
    "import os\n",
    "import requests\n",
    "from dotenv import load_dotenv\n",
    "import openai\n",
    "from openai import OpenAI\n"
   ]
  },
  {
   "cell_type": "code",
   "execution_count": 2,
   "metadata": {},
   "outputs": [],
   "source": [
    "# Load environment variables\n",
    "load_dotenv()\n",
    "\n",
    "# Initialize OpenAI API\n",
    "openai.api_key = os.getenv(\"OPENAI_API_KEY\")"
   ]
  },
  {
   "cell_type": "code",
   "execution_count": 3,
   "metadata": {},
   "outputs": [
    {
     "name": "stdout",
     "output_type": "stream",
     "text": [
      "Token(s) set successfully\n"
     ]
    }
   ],
   "source": [
    "# Initialize providers\n",
    "catalyst = RagaAICatalyst(\n",
    "    access_key=\"*****\",\n",
    "    secret_key=\"*****\",\n",
    "    base_url=\"https://catalyst.raga.ai/api\",\n",
    ")"
   ]
  },
  {
   "cell_type": "code",
   "execution_count": 4,
   "metadata": {},
   "outputs": [],
   "source": [
    "tracer = Tracer(\n",
    "    project_name=\"tracer\",\n",
    "    dataset_name=\"testing\",\n",
    "    tracer_type=\"anything\",\n",
    "    metadata={\n",
    "        \"model\": \"gpt-4o-mini\",\n",
    "        \"environment\": \"production\"\n",
    "    },\n",
    "    pipeline={\n",
    "        \"llm_model\": \"gpt-4o-mini\",\n",
    "        \"vector_store\": \"faiss\",\n",
    "        \"embed_model\": \"text-embedding-ada-002\",\n",
    "    }\n",
    ")"
   ]
  },
  {
   "cell_type": "code",
   "execution_count": 5,
   "metadata": {},
   "outputs": [
    {
     "data": {
      "text/plain": [
       "<ragaai_catalyst.tracers.tracer.Tracer at 0x10fd2cee190>"
      ]
     },
     "execution_count": 5,
     "metadata": {},
     "output_type": "execute_result"
    }
   ],
   "source": [
    "tracer.start()"
   ]
  },
  {
   "cell_type": "markdown",
   "metadata": {},
   "source": [
    "# Travel Agent Tools\n",
    "Now, let's define our Travel Agent Planner Tools with Catalyst integration."
   ]
  },
  {
   "cell_type": "code",
   "execution_count": 6,
   "metadata": {},
   "outputs": [],
   "source": [
    "@tracer.trace_llm(name=\"llm_call\")\n",
    "def llm_call(prompt, max_tokens=512, model=\"gpt-4o-mini\"):\n",
    "    client = OpenAI(api_key=os.environ[\"OPENAI_API_KEY\"])\n",
    "\n",
    "    response = client.chat.completions.create(\n",
    "        model=model,\n",
    "        messages=[{\"role\": \"user\", \"content\": prompt}],\n",
    "        max_tokens=max_tokens,\n",
    "        temperature=0.7,\n",
    "    )\n",
    "\n",
    "    return response.choices[0].message.content.strip()\n",
    "\n",
    "# Tools outside agents\n",
    "@tracer.trace_tool(name=\"weather_tool\")\n",
    "def weather_tool(destination):\n",
    "\n",
    "    api_key = os.environ.get(\"OPENWEATHERMAP_API_KEY\")\n",
    "    base_url = \"http://api.openweathermap.org/data/2.5/weather\"\n",
    "\n",
    "    params = {\"q\": destination, \"appid\": api_key, \"units\": \"metric\"}\n",
    "\n",
    "    try:\n",
    "        response = requests.get(base_url, params=params)\n",
    "        response.raise_for_status()\n",
    "        data = response.json()\n",
    "\n",
    "        weather_description = data[\"weather\"][0][\"description\"]\n",
    "        temperature = data[\"main\"][\"temp\"]\n",
    "\n",
    "        return f\"{weather_description.capitalize()}, {temperature:.1f}°C\"\n",
    "    except requests.RequestException:\n",
    "        return \"Weather data not available.\"\n",
    "\n",
    "\n",
    "@tracer.trace_tool(name=\"currency_converter_tool\")\n",
    "def currency_converter_tool(amount, from_currency, to_currency):\n",
    "    api_key = os.environ.get(\"EXCHANGERATE_API_KEY\")\n",
    "    base_url = f\"https://v6.exchangerate-api.com/v6/{api_key}/pair/{from_currency}/{to_currency}\"\n",
    "\n",
    "    try:\n",
    "        response = requests.get(base_url)\n",
    "        response.raise_for_status()\n",
    "        data = response.json()\n",
    "\n",
    "        if data[\"result\"] == \"success\":\n",
    "            rate = data[\"conversion_rate\"]\n",
    "            return amount * rate\n",
    "        else:\n",
    "            return None\n",
    "    except requests.RequestException:\n",
    "        return None\n",
    "\n",
    "\n",
    "@tracer.trace_tool(name=\"flight_price_estimator_tool\")\n",
    "def flight_price_estimator_tool(origin, destination):\n",
    "    # This is a mock function. In a real scenario, you'd integrate with a flight API.\n",
    "    api_key = os.environ.get(\"FLIGHT_API_KEY\")\n",
    "    # Implement actual API call here\n",
    "    return f\"Estimated price from {origin} to {destination}: $500-$1000\"\n",
    "\n",
    "\n",
    "# Agent with persona\n",
    "@tracer.trace_agent(name=\"itinerary_agent\")\n",
    "class ItineraryAgent:\n",
    "    def __init__(self, persona=\"Itinerary Agent\"):\n",
    "        self.persona = persona\n",
    "\n",
    "    def plan_itinerary(self, user_preferences, duration=3):\n",
    "        itinerary_prompt = f\"\"\"\n",
    "You are a travel expert named {self.persona}.\n",
    "Based on the following user preferences, create a {duration}-day travel itinerary.\n",
    "\n",
    "User Preferences:\n",
    "{user_preferences}\n",
    "\n",
    "Itinerary:\n",
    "\"\"\"\n",
    "        return llm_call(itinerary_prompt, max_tokens=512)\n"
   ]
  },
  {
   "cell_type": "markdown",
   "metadata": {},
   "source": [
    "\n",
    "# Running the Analysis\n",
    "Now let's create a  main function for our Travel Agent Planner which recall all tools "
   ]
  },
  {
   "cell_type": "code",
   "execution_count": 7,
   "metadata": {},
   "outputs": [],
   "source": [
    "# Main function\n",
    "\n",
    "@tracer.trace_agent(name=\"travel_agent\")\n",
    "def travel_agent():\n",
    "    print(\"Welcome to the Personalized Travel Planner!\\n\")\n",
    "\n",
    "    # Get user input\n",
    "    # user_input = input(\"Please describe your ideal vacation: \")\n",
    "    user_input = \"karela, 10 days, $100, nature\"\n",
    "\n",
    "    # Extract preferences\n",
    "    preferences_prompt = f\"\"\"\n",
    "Extract key travel preferences from the following user input:\n",
    "\"{user_input}\"\n",
    "\n",
    "Please provide the extracted information in this format:\n",
    "Destination:\n",
    "Activities:\n",
    "Budget:\n",
    "Duration (in days):\n",
    "\"\"\"\n",
    "    extracted_preferences = llm_call(preferences_prompt)\n",
    "    print(\"\\nExtracted Preferences:\")\n",
    "    print(extracted_preferences)\n",
    "\n",
    "    # Parse extracted preferences\n",
    "    preferences = {}\n",
    "    for line in extracted_preferences.split(\"\\n\"):\n",
    "        if \":\" in line:\n",
    "            key, value = line.split(\":\", 1)\n",
    "            preferences[key.strip()] = value.strip()\n",
    "\n",
    "    # Validate extracted preferences\n",
    "    required_keys = [\"Destination\", \"Activities\", \"Budget\", \"Duration (in days)\"]\n",
    "    if not all(key in preferences for key in required_keys):\n",
    "        print(\"\\nCould not extract all required preferences. Please try again.\")\n",
    "        return\n",
    "\n",
    "    # Fetch additional information\n",
    "    weather = weather_tool(preferences[\"Destination\"])\n",
    "    print(f\"\\nWeather in {preferences['Destination']}: {weather}\")\n",
    "\n",
    "    # origin = input(\"Please enter your departure city: \")\n",
    "    origin = \"delhi\"\n",
    "    flight_price = flight_price_estimator_tool(origin, preferences[\"Destination\"])\n",
    "    print(flight_price)\n",
    "\n",
    "    # Plan itinerary\n",
    "    itinerary_agent = ItineraryAgent()\n",
    "    itinerary = itinerary_agent.plan_itinerary(\n",
    "        extracted_preferences, int(preferences[\"Duration (in days)\"])\n",
    "    )\n",
    "    print(\"\\nPlanned Itinerary:\")\n",
    "    print(itinerary)\n",
    "\n",
    "    # Currency conversion\n",
    "    budget_amount = float(preferences[\"Budget\"].replace(\"$\", \"\").replace(\",\", \"\"))\n",
    "    converted_budget = currency_converter_tool(budget_amount, \"USD\", \"INR\")\n",
    "    if converted_budget:\n",
    "        print(f\"\\nBudget in INR: {converted_budget:.2f} INR\")\n",
    "    else:\n",
    "        print(\"\\nCurrency conversion not available.\")\n",
    "\n",
    "    # Generate travel summary\n",
    "    summary_prompt = f\"\"\"\n",
    "Summarize the following travel plan:\n",
    "\n",
    "Destination: {preferences['Destination']}\n",
    "Activities: {preferences['Activities']}\n",
    "Budget: {preferences['Budget']}\n",
    "Duration: {preferences['Duration (in days)']} days\n",
    "Itinerary: {itinerary}\n",
    "Weather: {weather}\n",
    "Flight Price: {flight_price}\n",
    "\n",
    "Travel Summary:\n",
    "\"\"\"\n",
    "    travel_summary = llm_call(summary_prompt, max_tokens=2048)\n",
    "    print(\"\\nTravel Summary:\")\n",
    "    print(travel_summary)"
   ]
  },
  {
   "cell_type": "code",
   "execution_count": 8,
   "metadata": {},
   "outputs": [
    {
     "name": "stdout",
     "output_type": "stream",
     "text": [
      "Welcome to the Personalized Travel Planner!\n",
      "\n"
     ]
    },
    {
     "name": "stderr",
     "output_type": "stream",
     "text": [
      "INFO:httpx:HTTP Request: POST https://api.openai.com/v1/chat/completions \"HTTP/1.1 200 OK\"\n"
     ]
    },
    {
     "name": "stdout",
     "output_type": "stream",
     "text": [
      "\n",
      "Extracted Preferences:\n",
      "Destination: Karela  \n",
      "Activities: Nature  \n",
      "Budget: $100  \n",
      "Duration (in days): 10\n",
      "\n",
      "Weather in Karela: Weather data not available.\n",
      "Estimated price from delhi to Karela: $500-$1000\n"
     ]
    },
    {
     "name": "stderr",
     "output_type": "stream",
     "text": [
      "INFO:httpx:HTTP Request: POST https://api.openai.com/v1/chat/completions \"HTTP/1.1 200 OK\"\n"
     ]
    },
    {
     "name": "stdout",
     "output_type": "stream",
     "text": [
      "\n",
      "Planned Itinerary:\n",
      "**10-Day Itinerary for Kerala: Nature-Focused Adventure on a Budget of $100**\n",
      "\n",
      "**Day 1: Arrival in Kochi**\n",
      "- Arrive in Kochi.\n",
      "- Take a walk along Fort Kochi Beach and enjoy the sunset.\n",
      "- Dinner at a local eatery (budget-friendly options available).\n",
      "- Overnight stay in a budget hostel or guesthouse in Fort Kochi.\n",
      "\n",
      "**Day 2: Explore Kochi**\n",
      "- Visit the famous Chinese Fishing Nets at sunrise.\n",
      "- Explore Mattancherry Palace and Jew Town for a glimpse of the local culture.\n",
      "- Lunch at a local café.\n",
      "- Visit the Kerala Folklore Museum in the afternoon (entrance fee is minimal).\n",
      "- Dinner at a local restaurant.\n",
      "- Overnight stay in Fort Kochi.\n",
      "\n",
      "**Day 3: Munnar Travel**\n",
      "- Travel to Munnar by local bus (approx. $2).\n",
      "- Check into a budget homestay or hostel.\n",
      "- Visit the Tea Museum (entry fee is low).\n",
      "- Explore the nearby tea plantations.\n",
      "- Enjoy a simple dinner at your accommodation.\n",
      "- Overnight stay in Munnar.\n",
      "\n",
      "**Day 4: Nature Walks in Munnar**\n",
      "- Take a guided nature walk through the hills and tea gardens (many homestays offer free or low-cost walks).\n",
      "- Pack a picnic lunch with local snacks.\n",
      "- Visit the Eravikulam National Park (entry fee approx. $3).\n",
      "- Return to your homestay for dinner.\n",
      "- Overnight stay in Munnar.\n",
      "\n",
      "**Day 5: Visit to Anamudi Peak**\n",
      "- Start early to hike to Anamudi Peak (the highest point in South India).\n",
      "- Bring packed food and water for the hike.\n",
      "- Spend the day enjoying the natural beauty and wildlife.\n",
      "- Return to Munnar for the night.\n",
      "- Dinner at a local eatery.\n",
      "- Overnight stay in Munnar.\n",
      "\n",
      "**Day 6: Travel to Thekkady**\n",
      "- Head to Thekkady by local bus (approx. $3).\n",
      "- Check into a budget lodge or guesthouse.\n",
      "- Explore the Periyar Wildlife Sanctuary (entry fee is minimal).\n",
      "- Enjoy a sunset boat ride on Periyar Lake (if affordable).\n",
      "- Dinner at a local restaurant.\n",
      "- Overnight stay in Thekkady.\n",
      "\n",
      "**Day 7: Nature Activities in Thekkady**\n",
      "- Participate in a nature walk or guided trek in Periyar Wildlife Sanctuary (check for budget-friendly options).\n",
      "- Visit a spice plantation for a tour (some are free or have a low fee).\n",
      "- Enjoy a traditional Kerala meal for\n",
      "\n",
      "Currency conversion not available.\n"
     ]
    },
    {
     "name": "stderr",
     "output_type": "stream",
     "text": [
      "INFO:httpx:HTTP Request: POST https://api.openai.com/v1/chat/completions \"HTTP/1.1 200 OK\"\n"
     ]
    },
    {
     "name": "stdout",
     "output_type": "stream",
     "text": [
      "\n",
      "Travel Summary:\n",
      "**Travel Summary for Kerala Nature-Focused Adventure**\n",
      "\n",
      "- **Destination:** Kerala\n",
      "- **Activities:** Nature exploration\n",
      "- **Budget:** $100\n",
      "- **Duration:** 10 days\n",
      "\n",
      "**Itinerary Overview:**\n",
      "\n",
      "- **Day 1:** Arrive in Kochi, walk along Fort Kochi Beach, and enjoy a sunset. Stay in a budget hostel.\n",
      "- **Day 2:** Explore Kochi’s Chinese Fishing Nets, Mattancherry Palace, and Kerala Folklore Museum. Overnight in Fort Kochi.\n",
      "- **Day 3:** Travel to Munnar via local bus, visit the Tea Museum, and enjoy local tea plantations. Stay in a budget homestay.\n",
      "- **Day 4:** Go on a guided nature walk and visit Eravikulam National Park. Overnight in Munnar.\n",
      "- **Day 5:** Hike Anamudi Peak, enjoying the natural beauty. Return to Munnar for an overnight stay.\n",
      "- **Day 6:** Travel to Thekkady by local bus, explore Periyar Wildlife Sanctuary, and take a sunset boat ride. Overnight in Thekkady.\n",
      "- **Day 7:** Engage in nature walks, visit a spice plantation, and enjoy local cuisine.\n",
      "\n",
      "**Notes:** \n",
      "- Activities focus on budget-friendly nature experiences.\n",
      "- Local transportation and accommodation are emphasized to keep costs low. \n",
      "- Estimated flight prices from Delhi to Kerala are high ($500-$1000), which may exceed the budget if not planned carefully.\n",
      "Warning: Could not process Notebook name retrieval requires ipynbname package: [Errno 2] No such file or directory: 'c:\\\\Users\\\\parte\\\\Desktop\\\\AgentNeo\\\\examples\\\\Notebook name retrieval requires ipynbname package'\n",
      "Trace saved to C:\\Users\\parte\\AppData\\Local\\Temp/9492dcf4-a34c-4b2c-9853-fe18175a16cd.json\n",
      "Uploading agentic traces...\n",
      "Agentic Traces uploaded\n",
      "Code already exists\n"
     ]
    }
   ],
   "source": [
    "# Main function to run the travel agent\n",
    "def main():\n",
    "    travel_agent()\n",
    "\n",
    "# Ensure the script runs only when executed directly\n",
    "if __name__ == \"__main__\":\n",
    "    main()\n",
    "    tracer.stop()\n"
   ]
  }
 ],
 "metadata": {
  "kernelspec": {
   "display_name": "cat",
   "language": "python",
   "name": "python3"
  },
  "language_info": {
   "codemirror_mode": {
    "name": "ipython",
    "version": 3
   },
   "file_extension": ".py",
   "mimetype": "text/x-python",
   "name": "python",
   "nbconvert_exporter": "python",
   "pygments_lexer": "ipython3",
   "version": "3.11.11"
  }
 },
 "nbformat": 4,
 "nbformat_minor": 2
}
