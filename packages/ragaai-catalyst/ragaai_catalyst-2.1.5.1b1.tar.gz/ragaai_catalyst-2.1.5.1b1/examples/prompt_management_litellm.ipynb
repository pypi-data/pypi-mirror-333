{
 "cells": [
  {
   "cell_type": "markdown",
   "metadata": {},
   "source": [
    "# Using RagaAI Catalyst Prompt Management with LiteLLM"
   ]
  },
  {
   "cell_type": "code",
   "execution_count": null,
   "metadata": {},
   "outputs": [],
   "source": [
    "import litellm\n",
    "\n",
    "\n",
    "from ragaai_catalyst.prompt_manager import PromptManager\n",
    "from ragaai_catalyst import RagaAICatalyst"
   ]
  },
  {
   "cell_type": "code",
   "execution_count": null,
   "metadata": {},
   "outputs": [],
   "source": [
    "OPENAI_API_KEY = \"YOUR_OPENAI_API_KEY\""
   ]
  },
  {
   "cell_type": "code",
   "execution_count": null,
   "metadata": {},
   "outputs": [],
   "source": [
    "catalyst = RagaAICatalyst(\n",
    "    access_key=\"ACCESS_KEY\",\n",
    "    secret_key=\"SECRET_KEY\",\n",
    ")"
   ]
  },
  {
   "cell_type": "code",
   "execution_count": null,
   "metadata": {},
   "outputs": [],
   "source": [
    "prompt_manager = PromptManager(\"PROJECT_NAME\")\n",
    "\n",
    "# Get the prompt\n",
    "prompt = prompt_manager.get_prompt(\"hallu\", version='v3')"
   ]
  },
  {
   "cell_type": "code",
   "execution_count": null,
   "metadata": {},
   "outputs": [],
   "source": [
    "# Get prompt variables\n",
    "prompt_variables = prompt.get_variables()\n",
    "print(\"prompt_variables: \",prompt_variables)"
   ]
  },
  {
   "cell_type": "code",
   "execution_count": null,
   "metadata": {},
   "outputs": [],
   "source": [
    "# Get parameters\n",
    "parameters = prompt.get_parameters()\n",
    "print(\"parameters: \",parameters)"
   ]
  },
  {
   "cell_type": "code",
   "execution_count": null,
   "metadata": {},
   "outputs": [],
   "source": [
    "# Compile the prompt\n",
    "compiled_prompt = prompt.compile(\n",
    "    query='What is the capital of France?',\n",
    "    llm_response=\"The capital of France is Paris.\",\n",
    "    context=\"France is a country in Western Europe. Its capital and largest city is Paris.\"\n",
    ")\n",
    "print(compiled_prompt)"
   ]
  },
  {
   "cell_type": "code",
   "execution_count": null,
   "metadata": {},
   "outputs": [],
   "source": [
    "# Function to call LiteLLM API\n",
    "def get_litellm_response(prompt):\n",
    "    response = litellm.completion(\n",
    "        model=\"gpt-4o-mini\",\n",
    "        messages=prompt\n",
    "    )\n",
    "    return response.choices[0].message.content"
   ]
  },
  {
   "cell_type": "code",
   "execution_count": null,
   "metadata": {},
   "outputs": [],
   "source": [
    "# Get response from LiteLLM\n",
    "litellm_response = get_litellm_response(compiled_prompt)\n",
    "\n",
    "print(\"LiteLLM Response:\")\n",
    "print(litellm_response)"
   ]
  },
  {
   "cell_type": "code",
   "execution_count": null,
   "metadata": {},
   "outputs": [],
   "source": []
  }
 ],
 "metadata": {
  "kernelspec": {
   "display_name": "raga_ai_catalyst",
   "language": "python",
   "name": "python3"
  },
  "language_info": {
   "codemirror_mode": {
    "name": "ipython",
    "version": 3
   },
   "file_extension": ".py",
   "mimetype": "text/x-python",
   "name": "python",
   "nbconvert_exporter": "python",
   "pygments_lexer": "ipython3",
   "version": "3.10.14"
  }
 },
 "nbformat": 4,
 "nbformat_minor": 2
}
