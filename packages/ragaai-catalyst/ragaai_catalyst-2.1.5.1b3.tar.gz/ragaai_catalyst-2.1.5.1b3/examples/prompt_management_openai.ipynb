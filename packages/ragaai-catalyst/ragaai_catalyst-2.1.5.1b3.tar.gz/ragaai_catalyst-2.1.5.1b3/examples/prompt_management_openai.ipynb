{
 "cells": [
  {
   "cell_type": "markdown",
   "metadata": {},
   "source": [
    "# Using RagaAI Catalyst Prompt Management with OpenAI"
   ]
  },
  {
   "cell_type": "code",
   "execution_count": null,
   "metadata": {},
   "outputs": [],
   "source": [
    "import openai\n",
    "\n",
    "from ragaai_catalyst.prompt_manager import PromptManager\n",
    "from ragaai_catalyst import RagaAICatalyst"
   ]
  },
  {
   "cell_type": "code",
   "execution_count": null,
   "metadata": {},
   "outputs": [],
   "source": [
    "OPENAI_API_KEY = \"YOUR_OPENAI_API_KEY\""
   ]
  },
  {
   "cell_type": "code",
   "execution_count": null,
   "metadata": {},
   "outputs": [],
   "source": [
    "catalyst = RagaAICatalyst(\n",
    "    access_key=\"ACCESS_KEY\",\n",
    "    secret_key=\"SECRET_KEY\",\n",
    ")"
   ]
  },
  {
   "cell_type": "code",
   "execution_count": null,
   "metadata": {},
   "outputs": [],
   "source": [
    "# Set up PromptManager\n",
    "prompt_manager = PromptManager(\"PROJECT_NAME\")\n",
    "\n",
    "# Get the prompt\n",
    "prompt = prompt_manager.get_prompt(\"hallu\", version='v3')"
   ]
  },
  {
   "cell_type": "code",
   "execution_count": null,
   "metadata": {},
   "outputs": [],
   "source": [
    "# Get prompt variables\n",
    "prompt_variables = prompt.get_variables()\n",
    "print(\"prompt_variables: \",prompt_variables)"
   ]
  },
  {
   "cell_type": "code",
   "execution_count": null,
   "metadata": {},
   "outputs": [],
   "source": [
    "# Get parameters\n",
    "parameters = prompt.get_parameters()\n",
    "print(\"parameters: \",parameters)"
   ]
  },
  {
   "cell_type": "code",
   "execution_count": null,
   "metadata": {},
   "outputs": [],
   "source": [
    "# Compile the prompt\n",
    "compiled_prompt = prompt.compile(\n",
    "    query='What is the capital of France?',\n",
    "    llm_response=\"The capital of France is Paris.\",\n",
    "    context=\"France is a country in Western Europe. Its capital and largest city is Paris.\"\n",
    ")\n",
    "print(compiled_prompt)"
   ]
  },
  {
   "cell_type": "code",
   "execution_count": null,
   "metadata": {},
   "outputs": [],
   "source": [
    "# Function to call OpenAI API\n",
    "def get_openai_response(prompt):\n",
    "    client = openai.OpenAI()\n",
    "    response = client.chat.completions.create(\n",
    "        model=parameters[\"model\"],\n",
    "        messages=prompt\n",
    "    )\n",
    "    return response.choices[0].message.content"
   ]
  },
  {
   "cell_type": "code",
   "execution_count": null,
   "metadata": {},
   "outputs": [],
   "source": [
    "# Get response from OpenAI\n",
    "openai_response = get_openai_response(compiled_prompt)\n",
    "\n",
    "print(\"OpenAI Response:\")\n",
    "print(openai_response)"
   ]
  },
  {
   "cell_type": "code",
   "execution_count": null,
   "metadata": {},
   "outputs": [],
   "source": []
  }
 ],
 "metadata": {
  "kernelspec": {
   "display_name": "raga_ai_catalyst",
   "language": "python",
   "name": "python3"
  },
  "language_info": {
   "codemirror_mode": {
    "name": "ipython",
    "version": 3
   },
   "file_extension": ".py",
   "mimetype": "text/x-python",
   "name": "python",
   "nbconvert_exporter": "python",
   "pygments_lexer": "ipython3",
   "version": "3.10.14"
  }
 },
 "nbformat": 4,
 "nbformat_minor": 2
}
