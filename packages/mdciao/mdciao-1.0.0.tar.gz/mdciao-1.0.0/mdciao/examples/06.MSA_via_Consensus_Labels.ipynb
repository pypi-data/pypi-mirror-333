{
 "cells": [
  {
   "cell_type": "markdown",
   "id": "fd149d98",
   "metadata": {},
   "source": [
    "# Use Consensus Labels as Multiple-Sequence-Alignment (MSA)\n",
    "\n",
    "In this notebook, we will use `mdciao` and the consensus labels of the [GPCRdb](https://gpcrdb.org) to structurally align four GPCR structures of four receptors with low sequence identity:\n",
    "\n",
    "* opsin, `OPS` in the rest of the notebook\n",
    "* beta2 adrenergic receptor, `B2AR` in the rest of the notebook\n",
    "* mu-opioid receptor, `MUOR` in the rest of the notebook\n",
    "* dopamine D1 receptor, `DOP` in the rest of the notebook\n",
    "\n",
    "Whereas we use directly PDB structures, the point should be clear that the MSA works on any arbitary geometries and topologies that can be imported into the notebook, **in particular user provided trajectories**."
   ]
  },
  {
   "cell_type": "code",
   "execution_count": null,
   "id": "efd17285",
   "metadata": {},
   "outputs": [],
   "source": [
    "import mdciao\n",
    "import nglview\n",
    "import matplotlib"
   ]
  },
  {
   "cell_type": "markdown",
   "id": "b8043c5d",
   "metadata": {},
   "source": [
    "## Load PDB  Structures into the Notebook"
   ]
  },
  {
   "cell_type": "code",
   "execution_count": null,
   "id": "b4f92862",
   "metadata": {},
   "outputs": [],
   "source": [
    "pdbs = {\"OPS\"  : mdciao.cli.pdb(\"3CAP\"), \n",
    "        \"B2AR\" : mdciao.cli.pdb(\"3SN6\"), \n",
    "        \"MUOR\" : mdciao.cli.pdb(\"6DDF\"),\n",
    "        \"DOP\"  : mdciao.cli.pdb(\"7CKW\")}"
   ]
  },
  {
   "cell_type": "markdown",
   "id": "8326018e",
   "metadata": {},
   "source": [
    "## Load Consensus Labels from the GPCRdb into the Notebook"
   ]
  },
  {
   "cell_type": "code",
   "execution_count": null,
   "id": "5b2f4abe",
   "metadata": {},
   "outputs": [],
   "source": [
    "maps = { \"OPS\": mdciao.nomenclature.LabelerGPCR(\"opsd_bovin\"),\n",
    "        \"B2AR\": mdciao.nomenclature.LabelerGPCR(\"adrb2_human\"),\n",
    "        \"MUOR\": mdciao.nomenclature.LabelerGPCR(\"oprm_mouse\"), \n",
    "        \"DOP\" : mdciao.nomenclature.LabelerGPCR(\"DRD1_HUMAN\")\n",
    "       }"
   ]
  },
  {
   "cell_type": "markdown",
   "id": "63040ed8",
   "metadata": {},
   "source": [
    "## Use the Consensus Labels to Trim down the PDBs to the just Receptors\n",
    "This can happen regardless of chain definitions and co-crystalized entities"
   ]
  },
  {
   "cell_type": "code",
   "execution_count": null,
   "id": "4d15ec10",
   "metadata": {},
   "outputs": [],
   "source": [
    "pdb_just_receptor = {}\n",
    "for key, pdb  in pdbs.items():\n",
    "    print(key)\n",
    "    receptor_residue_idxs = mdciao.nomenclature.guess_by_nomenclature(maps[key], \n",
    "                                                               pdb.top, \n",
    "                                                               fragments=\"resSeq\",\n",
    "                                                               return_residue_idxs=True,\n",
    "                                                               accept_guess=True,\n",
    "                                                              return_str=False)\n",
    "    pdb_just_receptor[key] = mdciao.fragments.fragment_slice(pdb, [receptor_residue_idxs])\n",
    "    print()"
   ]
  },
  {
   "cell_type": "markdown",
   "id": "b565c561",
   "metadata": {},
   "source": [
    "## Receptors are not 3D Aligned\n",
    "This is a bit obvious because they come from different PDBs, but helps highlight the point"
   ]
  },
  {
   "cell_type": "code",
   "execution_count": null,
   "id": "89bbf443",
   "metadata": {},
   "outputs": [],
   "source": [
    "colors = {\"MUOR\":\"tab:red\", \n",
    "          \"OPS\":\"tab:blue\", \n",
    "          \"B2AR\":\"tab:green\",\n",
    "          \"DOP\": \"tab:orange\"}\n",
    "iwd = nglview.NGLWidget()\n",
    "for ii, (key, geom) in enumerate(pdb_just_receptor.items()):\n",
    "    iwd.add_trajectory(geom)\n",
    "    iwd.clear_representations(component=ii)\n",
    "    iwd.add_cartoon(color=matplotlib.colors.to_hex(colors[key]), component=ii)\n",
    "iwd"
   ]
  },
  {
   "cell_type": "markdown",
   "id": "6ced2bc0",
   "metadata": {},
   "source": [
    "## Use the Consensus Labels to generate an [AlignerConsensus](https://proteinformatics.uni-leipzig.de/mdciao/api/generated/generated/mdciao.nomenclature.AlignerConsensus.html#mdciao.nomenclature.AlignerConsensus) for MSA"
   ]
  },
  {
   "cell_type": "code",
   "execution_count": null,
   "id": "77dce09d",
   "metadata": {},
   "outputs": [],
   "source": [
    "AC = mdciao.nomenclature.AlignerConsensus(maps,\n",
    "                                          tops={key : geom.top for key, geom in pdb_just_receptor.items()})"
   ]
  },
  {
   "cell_type": "markdown",
   "id": "7f429baa",
   "metadata": {},
   "source": [
    "## Sequence Identity within Residues with Consensus Labels"
   ]
  },
  {
   "cell_type": "code",
   "execution_count": null,
   "id": "68a28310",
   "metadata": {},
   "outputs": [],
   "source": [
    "AC.sequence_match()"
   ]
  },
  {
   "cell_type": "markdown",
   "id": "191c1a82",
   "metadata": {},
   "source": [
    "## Pick a Reference Structure (e.g. Opsin) and 3D-align all Receptors on It\n",
    "We do this using the [CAidxs_match](https://proteinformatics.uni-leipzig.de/mdciao/api/generated/generated/mdciao.nomenclature.AlignerConsensus.html#mdciao.nomenclature.AlignerConsensus.CAidxs_match) method of the [AlignerConsensus](https://proteinformatics.uni-leipzig.de/mdciao/api/generated/generated/mdciao.nomenclature.AlignerConsensus.html#mdciao.nomenclature.AlignerConsensus) that will generate pairs of indices matching one another via their consensus labels. For brevity, here we show the example in the \"3.50...3.59\" region of TM3, but for the 3D alignment, we take all consensus labels"
   ]
  },
  {
   "cell_type": "code",
   "execution_count": null,
   "id": "1de3a82f",
   "metadata": {},
   "outputs": [],
   "source": [
    "AC.CAidxs_match(\"3.5*\", keys=[\"OPS\",\"B2AR\"])"
   ]
  },
  {
   "cell_type": "code",
   "execution_count": null,
   "id": "76638fb1",
   "metadata": {},
   "outputs": [],
   "source": [
    "ref_key = \"OPS\"\n",
    "ref_geom = pdb_just_receptor[ref_key]\n",
    "for key, geom in pdb_just_receptor.items():\n",
    "     if key!=ref_key:\n",
    "        ref_CAs, key_CAs = AC.CAidxs_match(keys=[ref_key, key])[[ref_key, key]].values.T\n",
    "        geom.superpose(ref_geom, atom_indices=key_CAs, ref_atom_indices=ref_CAs)\n"
   ]
  },
  {
   "cell_type": "markdown",
   "id": "710a6c84-a8da-4f6d-b27b-bc074ac85562",
   "metadata": {},
   "source": [
    "## Receptors are now 3D-aligned"
   ]
  },
  {
   "cell_type": "code",
   "execution_count": null,
   "id": "da01597f-8b39-4eac-bc37-18414e708983",
   "metadata": {},
   "outputs": [],
   "source": [
    "iwd = nglview.NGLWidget()\n",
    "for ii, (key, geom) in enumerate(pdb_just_receptor.items()):\n",
    "    iwd.add_trajectory(geom)\n",
    "    iwd.clear_representations(component=ii)\n",
    "    iwd.add_cartoon(color=matplotlib.colors.to_hex(colors[key]), component=ii)\n",
    "iwd"
   ]
  }
 ],
 "metadata": {
  "kernelspec": {
   "display_name": "Python 3 (ipykernel)",
   "language": "python",
   "name": "python3"
  },
  "language_info": {
   "codemirror_mode": {
    "name": "ipython",
    "version": 3
   },
   "file_extension": ".py",
   "mimetype": "text/x-python",
   "name": "python",
   "nbconvert_exporter": "python",
   "pygments_lexer": "ipython3",
   "version": "3.11.8"
  },
  "widgets": {
   "application/vnd.jupyter.widget-state+json": {
    "state": {},
    "version_major": 2,
    "version_minor": 0
   }
  }
 },
 "nbformat": 4,
 "nbformat_minor": 5
}
