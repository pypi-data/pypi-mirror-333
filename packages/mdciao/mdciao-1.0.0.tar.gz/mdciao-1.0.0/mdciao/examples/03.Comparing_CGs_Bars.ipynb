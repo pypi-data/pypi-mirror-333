{
 "cells": [
  {
   "cell_type": "markdown",
   "metadata": {},
   "source": [
    "# Comparing Contact Frequencies: Bar Plots\n",
    "In this notebook, we present a walk-through of the methods for comparing frequencies. In particular, we will use [mdciao.plots.compare_groups_of_contacts](https://proteinformatics.uni-leipzig.de/mdciao/api/generated/generated/mdciao.plots.compare_groups_of_contacts.html). And we will try to refine, **step-by-step**, the same comparison plot, focusing on what the **individual parameters** can do to show or hide information.\n",
    "\n",
    "<div class=\"alert alert-info\">\n",
    "    \n",
    "<b>Note</b> \n",
    "    \n",
    "In principle, ``mdciao`` tries to make sane decisions about hiding/showing information, but those do not cover all usecases and you're encouraged to learn how to customize the plots to your liking.\n",
    "    \n",
    "</div>\n"
   ]
  },
  {
   "cell_type": "markdown",
   "metadata": {},
   "source": [
    "## The Data\n",
    "We start off by loading [previously computed domain interfaces](https://proteinformatics.uni-leipzig.de/mdciao/notebooks/Covid-19-Spike-Protein-Example.html) for publicly available MD data of the Covid-19 Spike Protein, curated in the impressive [**COVID-19 Molecular Structure and Therapeutics Hub**](https://covid.molssi.org) put together by the [Molecular Sciences Software Institute (molSSI)](https://covid.molssi.org/). \n",
    "\n",
    "In particular, we use the data generated in the [Chodera-Lab](https://www.choderalab.org/) by Ivy Zhang, consisting of\n",
    "[Folding@home simulations of the SARS-CoV-2 spike RBD bound to human ACE2 (725.3 µs )](https://covid.molssi.org//simulations/#foldinghome-simulations-of-the-sars-cov-2-spike-rbd-bound-to-human-ace2). We quote:\n",
    "\n",
    "> All-atom MD simulations of the SARS-CoV-2 spike protein receptor binding domain (RBD) bound to human angiotensin converting enzyme-related carboypeptidase (ACE2), simulated using Folding@Home. The “wild-type” RBD and three mutants (N439K, K417V, and the double mutant N439K/K417V) were simulated.  \n",
    "...  \n",
    "RUNs denote different RBD mutants: N439K (RUN0), K417V (RUN1), N439K/K417V (RUN2), and WT (RUN3). CLONEs denote different independent replica trajectories\n",
    "\n",
    "We can get the pre-computed interfaces with mdciao:"
   ]
  },
  {
   "cell_type": "code",
   "execution_count": null,
   "metadata": {},
   "outputs": [],
   "source": [
    "import mdciao \n",
    "import mdtraj as md \n",
    "import numpy as np\n",
    "import os\n",
    "if not os.path.exists(\"example_cov19\"):\n",
    "    mdciao.examples.fetch_example_data(\"cov19\")\n",
    "interfaces = np.load(\"example_cov19/interfaces.f_50.t_2.npy\",allow_pickle=True)[()]\n",
    "interfaces = {key:interfaces[key] for key in ['WT', 'K417V', 'N439K','N439K/K417V']}"
   ]
  },
  {
   "cell_type": "markdown",
   "metadata": {},
   "source": [
    "Please note that, to keep filesizes small and download times short, we use a very compressed version of the huge dataset: one in 50 frames, one in two trajectories."
   ]
  },
  {
   "cell_type": "markdown",
   "metadata": {},
   "source": [
    "## Step-by-Step Refining of the Comparison-Plot\n",
    "We will be comparing contact frequencies by repeatedly calling [mdciao.plots.compare_groups_of_contacts](https://proteinformatics.uni-leipzig.de/mdciao/api/generated/generated/mdciao.plots.compare_groups_of_contacts.html), with the same input data, only tweaking some of the parameters each time. This will generate **a lot** of plots, which we display here for learning purposes, but, **in principle**, you could be iterating over the same notebook cell until you like what you see.\n",
    "\n",
    "<div class=\"alert alert-info\">\n",
    "    \n",
    "<b>Note</b> \n",
    "    \n",
    "Since the data is mutagenesis data, we need to pass along a ``mutations_dict`` so that ``mdciao`` knows that some residues are equivalent to each other even if they have different names:\n",
    "    \n",
    "```\n",
    "mutations_dict={\"V417\": \"K417\",\n",
    "                \"K439\": \"N439\"\n",
    "               }\n",
    "```\n",
    "    \n",
    "That, in itself, isn't a parameter for refining the plot, but rather to ensure that the comparison can take place.\n",
    "</div>"
   ]
  },
  {
   "cell_type": "code",
   "execution_count": null,
   "metadata": {},
   "outputs": [],
   "source": [
    "mdciao.plots.compare_groups_of_contacts(interfaces,\n",
    "                                        ctc_cutoff_Ang=4.5,\n",
    "                                        mutations_dict={\"V417\": \"K417\",\n",
    "                                                        \"K439\": \"N439\"\n",
    "                                                       });"
   ]
  },
  {
   "cell_type": "markdown",
   "metadata": {},
   "source": [
    "Wow! We can't see anything. Let's start refining the plot.\n",
    "\n",
    "### Figure Size\n",
    "First, we simply make the figure a bit larger. There's two ways of doing this:\n",
    "\n",
    "#### Using ``figsize``"
   ]
  },
  {
   "cell_type": "code",
   "execution_count": null,
   "metadata": {},
   "outputs": [],
   "source": [
    "mdciao.plots.compare_groups_of_contacts(interfaces,\n",
    "                                        ctc_cutoff_Ang=4.5,\n",
    "                                        figsize=(35,5),\n",
    "                                        mutations_dict={\"V417\": \"K417\",\n",
    "                                                       \"K439\": \"N439\"\n",
    "                                                       });"
   ]
  },
  {
   "cell_type": "markdown",
   "metadata": {},
   "source": [
    "Much better already! \n",
    "\n",
    "Using ``figsize`` is a good option when having a specific figure size (or figure shape) is important. For instance, when stacking several figures on top of each other, or filling in a specific a spot on the paper/slide/poster. However, there's also the next option.\n",
    "\n",
    "#### Using  ``inch_per_contacts=1`` (or some other numeric value) together with ``figsize=None``\n",
    "\n",
    "This fixes the amount of axis space each contact gets. When stacking plots on top of each other, some plots will be shorter and some will be longer, but the **bars** in them will have the same width and occupy the same amount of axis space and look equally wide."
   ]
  },
  {
   "cell_type": "code",
   "execution_count": null,
   "metadata": {},
   "outputs": [],
   "source": [
    "mdciao.plots.compare_groups_of_contacts(interfaces,\n",
    "                                        ctc_cutoff_Ang=4.5,\n",
    "                                        figsize=None,\n",
    "                                        inch_per_contacts=1,\n",
    "                                        mutations_dict={\"V417\": \"K417\",\n",
    "                                                       \"K439\": \"N439\"\n",
    "                                                       });"
   ]
  },
  {
   "cell_type": "markdown",
   "metadata": {},
   "source": [
    "For now, we continue with ``figsize`` and keep refining the plot."
   ]
  },
  {
   "cell_type": "code",
   "execution_count": null,
   "metadata": {},
   "outputs": [],
   "source": [
    "fig, freqs, plotted_freqs = mdciao.plots.compare_groups_of_contacts(interfaces,\n",
    "                                                                    ctc_cutoff_Ang=4.5,\n",
    "                                                                    figsize=(35,5) ,\n",
    "                                                                    mutations_dict={\"V417\": \"K417\",\n",
    "                                                                                    \"K439\": \"N439\"\n",
    "                                                                                   });"
   ]
  },
  {
   "cell_type": "markdown",
   "metadata": {},
   "source": [
    "Before continuing, some observations:\n",
    "\n",
    "* The $\\Sigma$ values in the legend  are simply the sum over all bar-heights for each system.  \n",
    "  These four values provide a way to estimate the **average number of contacts** involved in the RBD-ACE interface in each system. Their absolute value shouldn't be taken too literally, since they're ``ctc_cutoff_Ang``-dependent, but **the differences among them** can be informative. In this case, they point towards the ``WT`` system having around **five more contacts on average** than .eg. the ``K417V`` system: $\\Sigma$ 64.8 vs. 59.6, respectively.\n",
    "  \n",
    "\n",
    "* Apart from plotting the figure, [mdciao.plots.compare_groups_of_contacts](https://proteinformatics.uni-leipzig.de/mdciao/api/generated/generated/mdciao.plots.compare_groups_of_contacts.html) also returns a tuple of three Python objects: ``fig, freqs, plotted_freqs``. From the documentation:\n",
    "  \n",
    "  ```\n",
    "  myfig : :obj:`~matplotlib.pyplot.Figure`\n",
    "        Figure with the comparison plot\n",
    "  freqs : dictionary\n",
    "        Unified frequency dictionaries,\n",
    "        including mutations and anchor\n",
    "  plotted_freqs : dictionary\n",
    "        Like :obj:`freqs` but sorted and purged\n",
    "        according to the user-defined input options,\n",
    "        s.t. it represents the plotted values\n",
    "  ```\n",
    "  \n",
    "  This is very useful if we want to continue using the plotted values in the notebook, e.g. showing a formatted table using ``pandas`` [DataFrames](https://pandas.pydata.org/docs/reference/api/pandas.DataFrame.html):"
   ]
  },
  {
   "cell_type": "code",
   "execution_count": null,
   "metadata": {},
   "outputs": [],
   "source": [
    "from pandas import DataFrame\n",
    "DataFrame(plotted_freqs).round(3)[:20]"
   ]
  },
  {
   "cell_type": "markdown",
   "metadata": {},
   "source": [
    "### Removing Identities\n",
    "Next, we look at other ways of trimming the plot. We can, for instance, remove those contacts that are **always formed in all systems**. This effectively trims the plot **from the left**, hiding the contacts where all four bars have heights larger or equal to a given value. This is loosely equivalent to a **baseline removal**. This is achieved with:\n",
    "```\n",
    "remove_identities=True,\n",
    "identity_cutoff=1.\n",
    "```\n",
    "If we check the documentation:\n",
    "```\n",
    "remove_identities : bool, default is False\n",
    "    If True, the contacts where\n",
    "    freq[sys][ctc] >= :obj:`identity_cutoff`\n",
    "    across all systems will not be plotted\n",
    "    nor considered in the sum over contacts\n",
    "identity_cutoff : float, default is 1\n",
    "    If :obj:`remove_identities`, use this value to define what\n",
    "    is considered an identity, s.t. contacts with values e.g. .95\n",
    "    can also be removed\n",
    "```"
   ]
  },
  {
   "cell_type": "code",
   "execution_count": null,
   "metadata": {},
   "outputs": [],
   "source": [
    "mdciao.plots.compare_groups_of_contacts(interfaces,\n",
    "                                        ctc_cutoff_Ang=4.5,\n",
    "                                        figsize=(35,5),\n",
    "                                        remove_identities=True, \n",
    "                                        identity_cutoff=.80,\n",
    "                                        mutations_dict={\"V417\": \"K417\",\n",
    "                                                        \"K439\": \"N439\"\n",
    "                                                       });"
   ]
  },
  {
   "cell_type": "markdown",
   "metadata": {},
   "source": [
    "Some observations:\n",
    "\n",
    "* Choosing an ``identity_cutoff=.80`` means we consider contacts that formed in over 80% (of the data of each setup) *as equally formed* as those contacts formed in 100% of the data. In our case, that means that the about **30.6** contacts have been hidden."
   ]
  },
  {
   "cell_type": "code",
   "execution_count": null,
   "metadata": {},
   "outputs": [],
   "source": [
    "df = DataFrame(plotted_freqs)\n",
    "df[\"all above 80%\"] = np.all(df[\"WT \tK417V \tN439K \tN439K/K417V\".split()].values>=.80, axis=1)\n",
    "df[\"sorting order\"] = np.arange(1, len(df)+1)\n",
    "#print(idf[idf[\"all above 80%\"]].sum(axis=0))\n",
    "df[:33].round(2)"
   ]
  },
  {
   "cell_type": "markdown",
   "metadata": {},
   "source": [
    "<div class=\"alert alert-info\">\n",
    "    \n",
    "<b>Note</b> \n",
    "    \n",
    "Looking at the above table, we show that in even though the **mean** value is over .80 in some contacts, the ``identity_cutoff>=.8`` must apply to **all** systems, which is not the case. See for example ``K31-Y489`` (sorting order 29), which is the first contact shown contact in the plot.\n",
    "    \n",
    "</div>\n",
    "\n",
    "Continuing with the observations:\n",
    "\n",
    "* The $\\Sigma$ value is broken down into two contributions, e.g. for  ``WT`` it's $\\Sigma$ = 34.2 + 30.6a. Those 30.6 are **approximately** the number of hidden contacts, which are **above** (= *a* ) the identity cutoff. \n",
    "\n",
    "* All four systems, i.e all four $\\Sigma$ values have hidden the same contacts, s.t. the difference of approximately **five contacts** between ``WT`` and ``K417V`` is  conserved ($\\Sigma$ 34.2 vs 28.9).\n",
    "\n",
    "### Removing Small Values\n",
    "We continue trimming the plot, now hiding negligible contributions using the argument ``lower_cutoff_val``. \n",
    "This is somehow **trimming from the right** (of the panel), i.e. removing the long tail of small bars from the plot:"
   ]
  },
  {
   "cell_type": "code",
   "execution_count": null,
   "metadata": {},
   "outputs": [],
   "source": [
    "mdciao.plots.compare_groups_of_contacts(interfaces,\n",
    "                                        ctc_cutoff_Ang=4.5,\n",
    "                                        figsize=(35,5),\n",
    "                                        remove_identities=True, \n",
    "                                        identity_cutoff=.80,\n",
    "                                        mutations_dict={\"V417\": \"K417\",\n",
    "                                                        \"K439\": \"N439\"\n",
    "                                                       },\n",
    "                                       lower_cutoff_val=.25\n",
    "                                       );"
   ]
  },
  {
   "cell_type": "markdown",
   "metadata": {},
   "source": [
    "Some observations:\n",
    "\n",
    "* The plot is shorter from the right, there's no contacts where all bars are below .25\n",
    "\n",
    "* $\\Sigma$ values are again broken into one more term, e.g. for ``WT``: $\\Sigma$ = 32.4 +30.6a +1.8b. Those 1.8 are the sum of the hidden bars, which are **below** (= *b* ) the cutoff\n",
    "\n",
    "* The difference of approximately 5 contacts **on average** between ``WT`` and ``K417V`` is still somewhat conserved between 32.4 and 27.9, respectively.\n",
    "\n",
    "If we really don't want the legend to be that large (it can get distracting), we can turn it off with ``verbose_legend=False``:"
   ]
  },
  {
   "cell_type": "code",
   "execution_count": null,
   "metadata": {},
   "outputs": [],
   "source": [
    "mdciao.plots.compare_groups_of_contacts(interfaces,\n",
    "                                        ctc_cutoff_Ang=4.5,\n",
    "                                        figsize=(35,5),\n",
    "                                        remove_identities=True, \n",
    "                                        identity_cutoff=.80,\n",
    "                                        mutations_dict={\"V417\": \"K417\",\n",
    "                                                        \"K439\": \"N439\"\n",
    "                                                       },\n",
    "                                        lower_cutoff_val=.25,\n",
    "                                        verbose_legend=False,\n",
    "                                       );"
   ]
  },
  {
   "cell_type": "markdown",
   "metadata": {},
   "source": [
    "### Visual Aides\n",
    "Still, the plot contains a lot of information. We can make some of it stand out using a color code on the contact labels. The keyword is ``assign_w_color=True`` and the color-code is as follows:\n",
    "\n",
    "* Only one system is present, i.e. its frequency is above the ``lower_cutoff_value``:  \n",
    "  Color the label with the system's color and prepend it with \"+\" \n",
    "\n",
    "* Only one system is absent, i.e. its frequency is below the ``lower_cutoff_value``:  \n",
    "  Color the label with the system's color and prepend it with \"-\" \n",
    "\n"
   ]
  },
  {
   "cell_type": "code",
   "execution_count": null,
   "metadata": {},
   "outputs": [],
   "source": [
    "mdciao.plots.compare_groups_of_contacts(interfaces,\n",
    "                                        ctc_cutoff_Ang=4.5,\n",
    "                                        figsize=(35,5),\n",
    "                                        remove_identities=True, \n",
    "                                        identity_cutoff=.80,\n",
    "                                        mutations_dict={\"V417\": \"K417\",\n",
    "                                                        \"K439\": \"N439\"\n",
    "                                                       },\n",
    "                                        lower_cutoff_val=.25,\n",
    "                                        verbose_legend=False,\n",
    "                                        assign_w_color=True,\n",
    "                                       );"
   ]
  },
  {
   "cell_type": "markdown",
   "metadata": {},
   "source": [
    "Some observations:\n",
    "\n",
    "* Some contacts are only absent in ``N439K`` but present in all other systems. Their contact-labels are <span style='color:green'> shown in green  with a '-' prepended</span>, e.g. ``-T415-VMB749, -2MA7050-Q414, -2MA7050-Q414``. You can also locate contacts only present ``N439K``  towards the right, their contact-labels <span style='color:green'> shown in green  with a '+' prepended</span>, e.g. ``+K31-L492, +F490-K31, `` etc.\n",
    "\n",
    "* Overall, however, ``N439K``' has less contacts that all other setups, as is shown by its $\\Sigma$ value being the lowest of all.\n",
    "\n",
    "* The color code is **not** a definitive guide to what's important on the plot, but rather a short-hand for quick visual inspection. It misses some things like contacts where **two** systems are missing, and it's coupled to the ``lower_cutoff_val`` parameter.\n",
    "\n",
    "* Even without the color code, it's somewhat easy to locate contacts where the behavior is very different across systems, e.g. the salt bridge ``D30-K147`` and so on.\n",
    "\n",
    "There's more ways of highlighting these types of highly variant contacts, we will touch on that later, but let's continue consolidating the plot."
   ]
  },
  {
   "cell_type": "markdown",
   "metadata": {},
   "source": [
    "### Consolidating the Plot\n",
    "We can further summarize the interface comparison at the cost of losing some information. We can aggregate contact frequencies by residue, so that we **no longer** look at individual residue-pairs, but rather at each residue's participation in the interface. We do that with ``per_residue=True``. "
   ]
  },
  {
   "cell_type": "code",
   "execution_count": null,
   "metadata": {},
   "outputs": [],
   "source": [
    "mdciao.plots.compare_groups_of_contacts(interfaces,\n",
    "                                        ctc_cutoff_Ang=4.5,\n",
    "                                        figsize=(35,5),\n",
    "                                        remove_identities=True, \n",
    "                                        identity_cutoff=.80,\n",
    "                                        mutations_dict={\"V417\": \"K417\",\n",
    "                                                        \"K439\": \"N439\"\n",
    "                                                       },\n",
    "                                        lower_cutoff_val=.25,\n",
    "                                        verbose_legend=False,\n",
    "                                        assign_w_color=True,\n",
    "                                        per_residue=True,\n",
    "                                       );"
   ]
  },
  {
   "cell_type": "markdown",
   "metadata": {},
   "source": [
    "Some observations:\n",
    "\n",
    "* ``K353`` stands out as the **most involved** residue in the interface, across all setups\n",
    "\n",
    "* ``2MA750`` and ``E406`` don't participate in the interface in ``N439K`` mutant\n",
    "\n",
    "* $\\Sigma$ values are represented as 2 x 64.5 (e.g. for ``WT``), because the actual sum of the represented bars is 129, but the number of involved contacts is half of that.\n",
    "\n",
    "* ``remove_identities`` is left without effect (it's in the documentation of the method)\n",
    "\n",
    "* ``lower_cutoff_val`` works as expected\n",
    "\n",
    "### Showing Fragment Information: Informative Labels\n",
    "So far, we've been hiding the fragment information, i.e., to what molecular fragments [``ACE``, ``RBD`` and/or their glycans ``GLC@ACE`` and ``GLC@RBD``] a given residue belongs to. That's because [mdciao.plots.compare_groups_of_contacts](https://proteinformatics.uni-leipzig.de/mdciao/api/generated/generated/mdciao.plots.compare_groups_of_contacts.html) uses ``defrag=@`` by default. This parameter tells ``mdciao`` that, in the contact labels, residues have been affiliated to their fragments using the ``@``-symbol and that we want to use that information to remove (``defrag``) those affiliations from the labels, typically to make labels more compact. Using ``defrag=None`` yields: "
   ]
  },
  {
   "cell_type": "code",
   "execution_count": null,
   "metadata": {},
   "outputs": [],
   "source": [
    "mdciao.plots.compare_groups_of_contacts(interfaces,\n",
    "                                        ctc_cutoff_Ang=4.5,\n",
    "                                        figsize=(35,5),\n",
    "                                        remove_identities=True, \n",
    "                                        identity_cutoff=.80,\n",
    "                                        mutations_dict={\"V417\": \"K417\",\n",
    "                                                        \"K439\": \"N439\"\n",
    "                                                       },\n",
    "                                        lower_cutoff_val=1,\n",
    "                                        verbose_legend=False,\n",
    "                                        assign_w_color=True,\n",
    "                                        per_residue=True,\n",
    "                                        defrag=None,\n",
    "                                       );"
   ]
  },
  {
   "cell_type": "markdown",
   "metadata": {},
   "source": [
    "Some observations:  \n",
    "\n",
    "* Now the labels include the fragment, e.g. ``E406@RBD`` or ``A2750@GLC_ACE``.\n",
    "\n",
    "* ``lower_cutoff_val=1`` hides those residues involved, **on average**, in less than one interface-contact.\n",
    "\n",
    "### Using Fragment Information: Sorting by Interface Side\n",
    "Still, we can continue tweaking the plot to separate residues according to what **side** of the interface they are on. Setting ``interface=True`` tells ``mdciao`` that the [mdciao.contacts.ContactGroup](https://proteinformatics.uni-leipzig.de/mdciao/api/generated/generated/mdciao.contacts.ContactGroup.html)-objects contained the in variable ``interfaces`` can be assigned to one of the two sides of an interface. \n",
    "\n",
    "\n",
    "This is possible because in the [original notebook](https://proteinformatics.uni-leipzig.de/mdciao/notebooks/Covid-19-Spike-Protein-Example.html) these [ContactGroups](https://proteinformatics.uni-leipzig.de/mdciao/api/generated/generated/mdciao.contacts.ContactGroup.html) were initialized using [mdciao.cli.interface](https://proteinformatics.uni-leipzig.de/mdciao/api/generated/generated/mdciao.cli.interface.html)."
   ]
  },
  {
   "cell_type": "code",
   "execution_count": null,
   "metadata": {},
   "outputs": [],
   "source": [
    "mdciao.plots.compare_groups_of_contacts(interfaces,\n",
    "                                        ctc_cutoff_Ang=4.5,\n",
    "                                        figsize=(35,5),\n",
    "                                        remove_identities=True, \n",
    "                                        identity_cutoff=.80,\n",
    "                                        mutations_dict={\"V417\": \"K417\",\n",
    "                                                        \"K439\": \"N439\"\n",
    "                                                       },\n",
    "                                        lower_cutoff_val=1,\n",
    "                                        verbose_legend=False,\n",
    "                                        assign_w_color=True,\n",
    "                                        per_residue=True,\n",
    "                                        defrag=None,\n",
    "                                        interface=True\n",
    "                                       );"
   ]
  },
  {
   "cell_type": "markdown",
   "metadata": {},
   "source": [
    "The sorting now puts first the residues belonging to the ``[RBD,GLC@RBD]``-side followed by those belonging to ``[ACE,GLC@ACE``]-side. This immediately informs about the residues that participate **the most** in the interface between domains, namely, for the ``RBD``: ``Y505, Y489, T500`` and for the ``ACE``: the two lysines ``K353, K31`` then one glycan )severely impacted by the ``N439K`` mutation) and so on."
   ]
  },
  {
   "cell_type": "markdown",
   "metadata": {},
   "source": [
    "## Sorting by Standard Deviation\n",
    "So far, contacts have been shown in descending order of mean frequency values, i.e., those contacts most formed are shown first, those less formed are shown last, which seems *natural* if the goal is to characterize the interface itself. \n",
    "\n",
    "However, our goal is also easily spot **diferences across setups**, in this case the effect of the mutations ``K417V, N439K, N439K/K417``.\n",
    "\n",
    "We can do that with ``sort_by=std``. First, let's see how that affects **all contacts** (without cutoffs, identites or whatever), and then we will trim it down as we did above:"
   ]
  },
  {
   "cell_type": "code",
   "execution_count": null,
   "metadata": {},
   "outputs": [],
   "source": [
    "mdciao.plots.compare_groups_of_contacts(interfaces,\n",
    "                                        ctc_cutoff_Ang=4.5,\n",
    "                                        figsize=(35,5),                                       \n",
    "                                        mutations_dict={\"V417\": \"K417\",\n",
    "                                                        \"K439\": \"N439\"\n",
    "                                                       },\n",
    "                                        verbose_legend=False,\n",
    "                                        assign_w_color=True,\n",
    "                                        sort_by=\"std\",\n",
    "                                       );"
   ]
  },
  {
   "cell_type": "markdown",
   "metadata": {},
   "source": [
    "Some observations, since the plot looks quite different:\n",
    "\n",
    "* At the rightmost edge, we have the **least variant contacts** (low standard deviation, *std*), regardless of the contacts themselves being highly conserved (``G502-K353``, 100% across systems) or barely there (``Q42-Y449``, 15% across systems)\n",
    "\n",
    "* At the leftmost edge, we have the most variant contacts (high *std*), e.g. ``D30-K417`` is almost **fully present** two systems, and **fully absent** in the other two.\n",
    "\n",
    "* There's a faint dotted line descending horizontally in the background. **That line is the numerical value of the *std* itself**. The reason for plotting it is that now ``lower_cutoff_val`` operates on the *std* itself, not on the mean frequency. From the docs:\n",
    "```\n",
    "sort_by : str, default is \"mean\"\n",
    "    The property by which to sort the contacts.\n",
    "    It is always descending and the property can be:\n",
    "     * \"mean\" sort by mean frequency over all systems, making most\n",
    "       frequent contacts appear on the left/top of the plot.\n",
    "     * \"std\" sort by per-contact standard deviation over all systems, making\n",
    "       the contacts with most different values appear on top. This\n",
    "       highlights more \"deviant\" contacts and might hence be\n",
    "       more informative than \"mean\" in cases where a lot of\n",
    "       contacts have similar frequencies (high or low). If this option\n",
    "       is activated, a faint dotted line is incorporated into the plot\n",
    "       that marks the std for each contact group\n",
    "[...]\n",
    "lower_cutoff_val : float, default is 0\n",
    "    Hide contacts with small values. \"values\" changes\n",
    "    meaning depending on :obj:`sort_by`. If :obj:`sort_by` is:\n",
    "     * \"mean\" or \"keep\" or \"numeric\", then hide contacts where **all**\n",
    "       systems have frequencies lower than this value.\n",
    "     * \"std\", then hide contacts where the standard\n",
    "       deviation across systems *itself* is lower than this value.\n",
    "       This hides contacts where all systems are\n",
    "       similar, regardless of whether they're all\n",
    "       around 1, around .5 or around 0\n",
    "```\n",
    "\n",
    "Meaning, by looking at the faint dotted line, we can decide what ``lower_cutoff_val`` we want to use to truncate the plot from the right, e.g. ``lower_cutoff_val=.25``. We can also include now ``defrag=None`` since the plot will be less crowded and also ``legend_rows=2``, to make the legend less invasive:"
   ]
  },
  {
   "cell_type": "code",
   "execution_count": null,
   "metadata": {},
   "outputs": [],
   "source": [
    "mdciao.plots.compare_groups_of_contacts(interfaces,\n",
    "                                        ctc_cutoff_Ang=4.5,\n",
    "                                        figsize=(25,10),                                       \n",
    "                                        mutations_dict={\"V417\": \"K417\",\n",
    "                                                        \"K439\": \"N439\"\n",
    "                                                       },\n",
    "                                        verbose_legend=False,\n",
    "                                        assign_w_color=True,\n",
    "                                        sort_by=\"std\",\n",
    "                                        lower_cutoff_val=.25,\n",
    "                                        defrag=None,\n",
    "                                        legend_rows=2,\n",
    "                                       );"
   ]
  },
  {
   "cell_type": "markdown",
   "metadata": {},
   "source": [
    "The leftmost part of the plot is filled with highly variant contacts, where the mutation ``N439K`` has most impacted the interface in the ``ACE``-glycans. \n",
    "\n",
    "If we now combine this with ``per_residue=True``:"
   ]
  },
  {
   "cell_type": "code",
   "execution_count": null,
   "metadata": {},
   "outputs": [],
   "source": [
    "mdciao.plots.compare_groups_of_contacts(interfaces,\n",
    "                                        ctc_cutoff_Ang=4.5,\n",
    "                                        figsize=(25,5),                                       \n",
    "                                        mutations_dict={\"V417\": \"K417\",\n",
    "                                                        \"K439\": \"N439\"\n",
    "                                                       },\n",
    "                                        verbose_legend=False,\n",
    "                                        assign_w_color=True,\n",
    "                                        sort_by=\"std\",\n",
    "                                        lower_cutoff_val=.25,\n",
    "                                        defrag=None,\n",
    "                                        per_residue=True,\n",
    "                                       );"
   ]
  },
  {
   "cell_type": "markdown",
   "metadata": {},
   "source": [
    "The ``lower_cutoff_val`` **needs to be tweaked again**, since aggregating frequencies by residue results in higher values being shown, which results in other, usually higher, *std* values. Again, we use the faint dotted line to help us choose the value: ``lower_cutoff_val=1``:\n",
    "\n"
   ]
  },
  {
   "cell_type": "code",
   "execution_count": null,
   "metadata": {},
   "outputs": [],
   "source": [
    "mdciao.plots.compare_groups_of_contacts(interfaces,\n",
    "                                        ctc_cutoff_Ang=4.5,\n",
    "                                        figsize=(25,5),                                       \n",
    "                                        mutations_dict={\"V417\": \"K417\",\n",
    "                                                        \"K439\": \"N439\"\n",
    "                                                       },\n",
    "                                        verbose_legend=False,\n",
    "                                        assign_w_color=True,\n",
    "                                        sort_by=\"std\",\n",
    "                                        lower_cutoff_val=.25,\n",
    "                                        per_residue=True,\n",
    "                                        defrag=None,\n",
    "                                       );"
   ]
  },
  {
   "cell_type": "markdown",
   "metadata": {},
   "source": [
    "## Coloring\n",
    "Finally, if the colors have been bothering you, you can either pass them along directly or choose from matplotlib's [colormaps](https://matplotlib.org/stable/tutorials/colors/colormaps.html):\n",
    "\n",
    "```\n",
    "colors : iterable (list or dict), or str, default is None\n",
    "    * If list, the colors will be assigned in the same\n",
    "      order of :obj:`groups`.\n",
    "    * If dict, has to have the\n",
    "      same keys as :obj:`groups`.\n",
    "    * If str, it has to be a case-sensitve colormap-name of matplotlib:\n",
    "      https://matplotlib.org/stable/tutorials/colors/colormaps.html\n",
    "    * If None, the 'tab10' colormap (tableau) is chosen\n",
    "```\n"
   ]
  },
  {
   "cell_type": "code",
   "execution_count": null,
   "metadata": {},
   "outputs": [],
   "source": [
    "mdciao.plots.compare_groups_of_contacts(interfaces,\n",
    "                                        ctc_cutoff_Ang=4.5,\n",
    "                                        figsize=(25,5),                                       \n",
    "                                        mutations_dict={\"V417\": \"K417\",\n",
    "                                                        \"K439\": \"N439\"\n",
    "                                                       },\n",
    "                                        verbose_legend=False,\n",
    "                                        assign_w_color=True,\n",
    "                                        sort_by=\"std\",\n",
    "                                        lower_cutoff_val=.25,\n",
    "                                        per_residue=True,\n",
    "                                        defrag=None,\n",
    "                                        colors=\"Set2\",\n",
    "                                       );"
   ]
  }
 ],
 "metadata": {
  "kernelspec": {
   "display_name": "Python 3 (ipykernel)",
   "language": "python",
   "name": "python3"
  },
  "language_info": {
   "codemirror_mode": {
    "name": "ipython",
    "version": 3
   },
   "file_extension": ".py",
   "mimetype": "text/x-python",
   "name": "python",
   "nbconvert_exporter": "python",
   "pygments_lexer": "ipython3",
   "version": "3.11.8"
  },
  "widgets": {
   "application/vnd.jupyter.widget-state+json": {
    "state": {},
    "version_major": 2,
    "version_minor": 0
   }
  }
 },
 "nbformat": 4,
 "nbformat_minor": 4
}
