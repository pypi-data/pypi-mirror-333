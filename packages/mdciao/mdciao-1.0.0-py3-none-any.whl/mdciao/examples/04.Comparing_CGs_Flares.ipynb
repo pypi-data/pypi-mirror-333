{
 "cells": [
  {
   "cell_type": "markdown",
   "metadata": {},
   "source": [
    "# Comparing Contact Frequencies: *Flareplots*\n",
    "We will be comparing contact frequencies by calling: \n",
    "\n",
    "* [mdciao.flare.freqs2flare](https://proteinformatics.uni-leipzig.de/mdciao/api/generated/generated/mdciao.flare.freqs2flare.html), and\n",
    "\n",
    "* [mdciao.contacts.ContactGroup.plot_freqs_as_flareplot](https://proteinformatics.uni-leipzig.de/mdciao/api/generated/generated/mdciao.contacts.ContactGroup.html#mdciao.contacts.ContactGroup.plot_freqs_as_flareplot), which wraps around [mdciao.flare.freqs2flare](https://proteinformatics.uni-leipzig.de/mdciao/api/generated/generated/mdciao.flare.freqs2flare.html) and automatically sets the optional arguments to sane values and prepares some annotations with the information contained in the [mdciao.contacts.ContactGroup](https://proteinformatics.uni-leipzig.de/mdciao/api/generated/generated/mdciao.contacts.ContactGroup.html#mdciao.contacts.ContactGroup) itself.\n",
    "\n",
    "We will try to refine the comparison plots step-by-step, focusing on what the individual parameters can do to show or hide information. This will generate a **lot of plots**, which we display here for learning purposes, but, **in principle**, you could be iterating over the same notebook cell until you like what you see.\n",
    "\n",
    "<div class=\"alert alert-info\">\n",
    "    \n",
    "<b>Note</b> \n",
    "    \n",
    "We cannot use ``mdciao`` yet to automatically compare [mdciao.contacts.ContactGroups](https://proteinformatics.uni-leipzig.de/mdciao/api/generated/generated/mdciao.contacts.ContactGroup.html#mdciao.contacts.ContactGroup) directly through [flareplots](https://proteinformatics.uni-leipzig.de/mdciao/api/generated/mdciao.flare.html), analogous to how [mdciao.plots.compare_groups_of_contacts](https://proteinformatics.uni-leipzig.de/mdciao/api/generated/generated/mdciao.plots.compare_groups_of_contacts.html) works. \n",
    "    \n",
    "So, this notebook might rely a bit more on Python knowledge than the others. However, it can be used as template for your own comparisons when needed.\n",
    "    \n",
    "</div>"
   ]
  },
  {
   "cell_type": "markdown",
   "metadata": {},
   "source": [
    "## The Data\n",
    "We start off by loading [previously computed domain interfaces](https://proteinformatics.uni-leipzig.de/mdciao/notebooks/Covid-19-Spike-Protein-Example.html) for publicly available MD data of the Covid-19 Spike Protein, curated in the impressive [**COVID-19 Molecular Structure and Therapeutics Hub**](https://covid.molssi.org) put together by the [Molecular Sciences Software Institute (molSSI)](https://covid.molssi.org/). \n",
    "\n",
    "In particular, we use the data generated in the [Chodera-Lab](https://www.choderalab.org/) by Ivy Zhang, consisting of\n",
    "[Folding@home simulations of the SARS-CoV-2 spike RBD bound to human ACE2 (725.3 µs )](https://covid.molssi.org//simulations/#foldinghome-simulations-of-the-sars-cov-2-spike-rbd-bound-to-human-ace2). We quote:\n",
    "\n",
    "> All-atom MD simulations of the SARS-CoV-2 spike protein receptor binding domain (RBD) bound to human angiotensin converting enzyme-related carboypeptidase (ACE2), simulated using Folding@Home. The “wild-type” RBD and three mutants (N439K, K417V, and the double mutant N439K/K417V) were simulated.  \n",
    "...  \n",
    "RUNs denote different RBD mutants: N439K (RUN0), K417V (RUN1), N439K/K417V (RUN2), and WT (RUN3). CLONEs denote different independent replica trajectories\n",
    "\n",
    "We can get the pre-computed interfaces with mdciao:"
   ]
  },
  {
   "cell_type": "code",
   "execution_count": null,
   "metadata": {},
   "outputs": [],
   "source": [
    "import mdciao \n",
    "import mdtraj as md \n",
    "import numpy as np\n",
    "import os\n",
    "if not os.path.exists(\"example_cov19\"):\n",
    "    mdciao.examples.fetch_example_data(\"cov19\")\n",
    "interfaces = np.load(\"example_cov19/interfaces.f_50.t_2.npy\",allow_pickle=True)[()]\n",
    "interfaces = {key:interfaces[key] for key in ['WT', 'K417V', 'N439K','N439K/K417V']}"
   ]
  },
  {
   "cell_type": "markdown",
   "metadata": {},
   "source": [
    "Please note that, to keep filesizes small and download times short, we use a very compressed version of the huge dataset: one in 50 frames, one in two trajectories."
   ]
  },
  {
   "cell_type": "markdown",
   "metadata": {},
   "source": [
    "## One Single Flareplot\n",
    "``interfaces`` is just a dictionary containing four [ContactGroups](https://proteinformatics.uni-leipzig.de/mdciao/api/generated/generated/mdciao.contacts.ContactGroup.html#mdciao.contacts.ContactGroup):"
   ]
  },
  {
   "cell_type": "code",
   "execution_count": null,
   "metadata": {},
   "outputs": [],
   "source": [
    "interfaces"
   ]
  },
  {
   "cell_type": "markdown",
   "metadata": {},
   "source": [
    "These objects have their *own* method for producing interfaces, [ContactGroup.plot_freqs_as_flareplot](https://proteinformatics.uni-leipzig.de/mdciao/api/generated/generated/mdciao.contacts.ContactGroup.html#mdciao.contacts.ContactGroup.plot_freqs_as_flareplot), which wraps around the actual [mdciao.flare.freqs2flare](https://proteinformatics.uni-leipzig.de/mdciao/api/generated/generated/mdciao.flare.freqs2flare.html) and offers an ``**kwargs_freqs2flare`` optional parameter, which directly gets passed to  [freqs2flare](https://proteinformatics.uni-leipzig.de/mdciao/api/generated/generated/mdciao.flare.freqs2flare.html).\n",
    "\n",
    "We will select just one setup, ``WT`` for the moment, and tweak parameters there, before starting the comparison.\n",
    "\n",
    "<div class=\"alert alert-info\">\n",
    "    \n",
    "<b>Note</b> \n",
    "    \n",
    "Many of the plots will be crowded (initially) and/or hard to read. If you are running the notebook, we recommend you save as ``.pdf`` and zoom in there. If you're looking at the online documentation, we recommend right mouseclick -> *Open Image in a New Tab* or similar.\n",
    "    \n",
    "</div>"
   ]
  },
  {
   "cell_type": "code",
   "execution_count": null,
   "metadata": {},
   "outputs": [],
   "source": [
    "intfWT = interfaces[\"WT\"]\n",
    "ifig, iax, flareplot_attrs = intfWT.plot_freqs_as_flareplot(4.5, scheme=\"all\")"
   ]
  },
  {
   "cell_type": "markdown",
   "metadata": {},
   "source": [
    "Wow! We can't see anything. Let's start tweaking the parameters and other variables. \n",
    "\n",
    "**You are highly encouraged to check these documentations** to get an idea of the available options of [mdciao.contacts.ContactGroup.plot_freqs_as_flareplot](https://proteinformatics.uni-leipzig.de/mdciao/api/generated/generated/mdciao.contacts.ContactGroup.html#mdciao.contacts.ContactGroup.plot_freqs_as_flareplot), and in particular:\n",
    "    \n",
    "* [mdciao.flare.freqs2flare](https://proteinformatics.uni-leipzig.de/mdciao/api/generated/generated/mdciao.flare.freqs2flare.html)\n",
    "\n",
    "because [plot_freqs_as_flareplot](https://proteinformatics.uni-leipzig.de/mdciao/api/generated/generated/mdciao.contacts.ContactGroup.html#mdciao.contacts.ContactGroup.plot_freqs_as_flareplot) thinly wraps around [freqs2flare](https://proteinformatics.uni-leipzig.de/mdciao/api/generated/generated/mdciao.flare.freqs2flare.html) and offers an ``**kwargs_freqs2flare`` argument. \n",
    "\n",
    "\n",
    "<div class=\"alert alert-info\">\n",
    "    \n",
    "<b>Note</b> \n",
    "    \n",
    "When possible, it's **even better** to check the docs directly without leaving the notebook by using the Shift+Tab\n",
    "functionality.\n",
    "    \n",
    "</div>"
   ]
  },
  {
   "cell_type": "markdown",
   "metadata": {},
   "source": [
    "### Including Fragment Information\n",
    "Although the individual contacts are *tagged* with their respective fragment names in the [ContactGroup](https://proteinformatics.uni-leipzig.de/mdciao/api/generated/generated/mdciao.contacts.ContactGroup.html) (whatever fragment names got passed or generated when using [mdciao.cli.interface](https://proteinformatics.uni-leipzig.de/mdciao/api/generated/generated/mdciao.cli.interface.html#mdciao.cli.interface)), the fragment themselves are not hard-coded into any attribute of the [ContactGroup](https://proteinformatics.uni-leipzig.de/mdciao/api/generated/generated/mdciao.contacts.ContactGroup.html). \n",
    "\n",
    "<div class=\"alert alert-info\">\n",
    "    \n",
    "<b>Note</b> \n",
    "    \n",
    "The logic behind this is that you might want to choose different fragmentation heuristics  **after**  the computation has taken place without having to re-compute all distances again. In the future, maybe there will be a ``ContactGroup.re_fragment()`` method to do this properly.\n",
    "    \n",
    "</div>\n",
    "\n",
    "**Meaning**: we can (or have to) re-generate the fragments here:\n"
   ]
  },
  {
   "cell_type": "code",
   "execution_count": null,
   "metadata": {},
   "outputs": [],
   "source": [
    "fragments = mdciao.fragments.get_fragments(intfWT.top,method=\"chains\");\n",
    "fragment_names = [\"RBD\",\"GLC^RBD\", \"ACE\",\"GLC^ACE\", \"Zn\\nand Cl\",\"NaCl\"]\n",
    "ifig, iax, flareplot_attrs= intfWT.plot_freqs_as_flareplot(4.5, \n",
    "                                                           scheme=\"all\",\n",
    "                                                           fragments=fragments, \n",
    "                                                           fragment_names=fragment_names)"
   ]
  },
  {
   "cell_type": "markdown",
   "metadata": {},
   "source": [
    "This is better but we can definitively get rid of the ``Zn and Cl``, ``NaCl``-fragment. We do so by simply omitting `scheme=\"all\"`, which means we're using the default option `scheme=\"auto\"` which means mdciao will try and use only fragments considered to be potential interface partners.The interface partners were chosen in the [notebook where the data comes from](https://proteinformatics.uni-leipzig.de/mdciao/notebooks/Covid-19-Spike-Protein-Example.html) ."
   ]
  },
  {
   "cell_type": "code",
   "execution_count": null,
   "metadata": {},
   "outputs": [],
   "source": [
    "ifig, iax, flareplot_attrs = intfWT.plot_freqs_as_flareplot(4.5, fragments=fragments,\n",
    "                                                            fragment_names=fragment_names)"
   ]
  },
  {
   "cell_type": "markdown",
   "metadata": {},
   "source": [
    "This is better, but there's still a lot of information that's not really needed. Before we continue tweaking, just remember that there are **other** ways of looking at the interface frequencies in a much sparse way:\n",
    "\n",
    "* [ContactGroup.plot_freqs_as_bars](https://proteinformatics.uni-leipzig.de/mdciao/api/generated/generated/mdciao.contacts.ContactGroup.html#mdciao.contacts.ContactGroup.plot_freqs_as_bars):  \n",
    "  This is the *sparsest* of all, since only non-zero contacts are plotted as bars. We've devoted an [entire notebook](https://proteinformatics.uni-leipzig.de/mdciao/notebooks/03.Comparing_CGs_Bars.html) to these types of plots and comparisons.\n",
    "\n",
    "* [ContactGroup.plot_interface_frequency_matrix](https://proteinformatics.uni-leipzig.de/mdciao/api/generated/generated/mdciao.contacts.ContactGroup.html#mdciao.contacts.ContactGroup.frequency_as_contact_matrix):  \n",
    "  This is a contact matrix where the x-and y-axes contain only those residues of one side (of the interface) that have **at least one non-zero contact** with the other side. This means, no residue is shown unless it participates in the interface somehow. It's less sparse than [ContactGroup.plot_freqs_as_bars](https://proteinformatics.uni-leipzig.de/mdciao/api/generated/generated/mdciao.contacts.ContactGroup.html#mdciao.contacts.ContactGroup.plot_freqs_as_bars) because it does contain a lot of blank pixels, but it's sparser than the [flareplot] because it's limited to the residues that participate in the interface. Let's check it out:"
   ]
  },
  {
   "cell_type": "code",
   "execution_count": null,
   "metadata": {},
   "outputs": [],
   "source": [
    "intfWT.plot_interface_frequency_matrix(4.5)"
   ]
  },
  {
   "cell_type": "markdown",
   "metadata": {},
   "source": [
    "### Including Secondary Structure Information\n",
    "Back to the flareplot, it's idea is to inform about molecular topology as well as contact frequencies, e.g. by breaking it down into sub-fragments using [Consensus Nomenclature](https://proteinformatics.uni-leipzig.de/mdciao/api/generated/mdciao.nomenclature.html).\n",
    "\n",
    "While we don't have this here, we can use **secondary structure** information to help visually break down the sub-units of the molecular topologies. Form the docs:\n",
    "```\n",
    "SS : secondary structure information, default is None\n",
    "    Whether and how to include information about\n",
    "    secondary structure. Can be many things\n",
    "    * triple of ints (CP_idx, traj_idx, frame_idx)\n",
    "      Go to contact group CP_idx, trajectory traj_idx\n",
    "      and grab this frame to compute the SS.\n",
    "      Will read xtcs when necessary or otherwise\n",
    "      directly grab it from a :obj:`mdtraj.Trajectory`\n",
    "      in case it was passed. Ignores potential stride\n",
    "      values.\n",
    "      See :obj:`ContactPair.time_traces` for more info\n",
    "    * True\n",
    "      same as [0,0,0]\n",
    "    * None or False\n",
    "      Do nothing\n",
    "    * :obj:`mdtraj.Trajectory`\n",
    "      Use this geometry to compute the SS\n",
    "    * string\n",
    "      Path to a filename, of which only\n",
    "      the first frame will be read. The\n",
    "      SS will be computed from there.\n",
    "      The file will be tried to read\n",
    "      first witouth topology information\n",
    "      (e.g. .pdb, .gro, .h5) will work,\n",
    "      and when this fails, self.top\n",
    "      will be passed (e.g. .xtc, .dcd)\n",
    "    * array_like\n",
    "      Use the SS from here, s.t.ss_inf[idx]\n",
    "      gives the SS-info for the residue\n",
    "      with that idx\n",
    "```\n",
    "\n",
    "So, what we do next is to load one sample geometry for the ``WT``-setup and get the info from that geometry.\n",
    "\n",
    "<div class=\"alert alert-info\">\n",
    "    \n",
    "<b>Note</b> \n",
    "    \n",
    "If we were running the notebook on the same filesystem as the one in which the interfaces were computed, we could easily use the option ``SS=True``, and ``mdciao`` would grab and load the necessary information. Here, and for this specific case of the documentation itself, that's not the case, so we have to load it extra.\n",
    "    \n",
    "</div>\n"
   ]
  },
  {
   "cell_type": "code",
   "execution_count": null,
   "metadata": {},
   "outputs": [],
   "source": [
    "ifig, iax, flareplot_attrs = intfWT.plot_freqs_as_flareplot(4.5, fragments=fragments, \n",
    "                                                            fragment_names=fragment_names,\n",
    "                                                            SS=\"example_cov19/run3-clone0.stride.050.h5\")"
   ]
  },
  {
   "cell_type": "markdown",
   "metadata": {},
   "source": [
    "Admittedly, a lot information and very small fontsize, but already helpful for some observations, like:\n",
    "\n",
    "* ``ACE``'s N-terminal $\\alpha$-helix (violet letters next to the green dots) having a lot of contact with the ``RBD`` domain second to last $\\beta$-sheet (cyan letters next to blue dots).\n",
    "\n",
    "* Other?"
   ]
  },
  {
   "cell_type": "markdown",
   "metadata": {},
   "source": [
    "### Highlighting Residues\n",
    "Next, we make use of ``highlight_residxs`` to highlight some residues of interest. In our case, we already knew the mutated residues had indices 87 and 107 [check the other notebook](https://proteinformatics.uni-leipzig.de/mdciao/notebooks/Covid-19-Spike-Protein-Example.html), but just to be sure we can re-check here using :"
   ]
  },
  {
   "cell_type": "code",
   "execution_count": null,
   "metadata": {},
   "outputs": [],
   "source": [
    "mdciao.cli.residue_selection(\"K417,N439\",intfWT.top, fragments=[\"chains\"]);"
   ]
  },
  {
   "cell_type": "markdown",
   "metadata": {},
   "source": [
    "So, let's highlight those with ``highlight_residxs=[85,107]``. From the docs:\n",
    "\n",
    "```\n",
    "highlight_residxs : iterable of ints, default is None\n",
    "    Show the labels for these residues in red\n",
    "```\n"
   ]
  },
  {
   "cell_type": "code",
   "execution_count": null,
   "metadata": {},
   "outputs": [],
   "source": [
    "ifig, iax, flareplot_attrs = intfWT.plot_freqs_as_flareplot(4.5, fragments=fragments, \n",
    "                                                            fragment_names=fragment_names,\n",
    "                                                            SS=\"example_cov19/run3-clone0.stride.050.h5\",\n",
    "                                                            highlight_residxs=[85,107], \n",
    "                                                           )"
   ]
  },
  {
   "cell_type": "markdown",
   "metadata": {},
   "source": [
    "You still can't see anything, because, as ``mdciao`` has been warning us all these times:\n",
    "\n",
    ">```\n",
    "> Drawing this many dots (973 residues + 6 padding spaces) in a panel 10.0 inches wide/high \n",
    "forces too small dotsizes and fontsizes. \n",
    "> If crowding effects occur, either reduce the number of residues or increase the panel size\n",
    ">```"
   ]
  },
  {
   "cell_type": "markdown",
   "metadata": {},
   "source": [
    "Increasing the panelsize is an option, but the notebook usually scales it down anyway to fit the width of the page. Can always save the figure as .pdf or .svg and zoom into it externally. \n",
    "\n",
    "What we can do is **reduce even more the number of shown residues**, by using the ``scheme=\"residues_sparse\"`` option. This hides all residues (dots) with zero involvement in the interface. It will display the residue labels much more clearer, at the cost of loosing much of the topology information:\n"
   ]
  },
  {
   "cell_type": "code",
   "execution_count": null,
   "metadata": {},
   "outputs": [],
   "source": [
    "ifig, iax, flareplot_attrs = intfWT.plot_freqs_as_flareplot(4.5, fragments=fragments, \n",
    "                                                            fragment_names=fragment_names,\n",
    "                                                            SS=\"example_cov19/run3-clone0.stride.050.h5\",\n",
    "                                                            highlight_residxs=[85,107],\n",
    "                                                            scheme=\"residues_sparse\",\n",
    "                                                           )\n",
    "iax.set_title(\"WT\\n$\\\\Sigma$ = %2.1f\"%intfWT.frequency_per_contact(4).sum(), fontsize=20)"
   ]
  },
  {
   "cell_type": "markdown",
   "metadata": {},
   "source": [
    "Now we're only seeing the residues involved in the interface. The plot is much clearer, all the features are visible, like:\n",
    "\n",
    "* the red highlight of `K417`\n",
    "* the salt-bridge ``K417-D30``, that will be most likely affected by the `K417V` mutation\n",
    "* the helical residues of ACE's first $\\alpha$-helix \n",
    "\n",
    "In the title, we have also included $\\Sigma$, the sum of all plotted contact-frequencies, to provide an indicator of the average number of contacts present(ed) in this interface."
   ]
  },
  {
   "cell_type": "markdown",
   "metadata": {},
   "source": [
    "### Tweaking the flareplot after plotting: flareplot attributes\n",
    "\n",
    "It is challenging to cover all usecases (and tastes), with respect to how the figure should look like, by using named arguments only. This is why [ContactGroup.plot_freqs_as_flareplot](https://proteinformatics.uni-leipzig.de/mdciao/api/generated/generated/mdciao.contacts.ContactGroup.html#mdciao.contacts.ContactGroup.plot_freqs_as_flareplot) provides access to all elements of the plot (after they've been plotted) via the returned dictionary `flareplot_attrs`. From the [docs](https://proteinformatics.uni-leipzig.de/mdciao/api/generated/generated/mdciao.contacts.ContactGroup.html#mdciao.contacts.ContactGroup.plot_freqs_as_flareplot)\n",
    "    \n",
    "    Returns\n",
    "    -------\n",
    "    ifig : :obj:`~matplotlib.figure.Figure`\n",
    "    ax : :obj:`~matplotlib.axes.Axes`\n",
    "    flareplot_attrs : dict\n",
    "        Flareplot attributes as dictionary containing\n",
    "        matplotlib objects (texts, dots, curves etc)\n",
    "        for further manipulation and fine tuning\n",
    "        of the plot if necessary. See the returned\n",
    "        values of :obj:`mdciao.flare.freqs2flare`\n",
    "        for more information.\n",
    "\n",
    "The keys of this dictionary are `'fragment_labels', 'dot_labels', 'dots', 'SS_labels', 'r', 'bezier_lw', 'bezier_curves'`.\n",
    "\n",
    "For example, we're going to change the color of some labels by manipulating `fragment_labels` after the plot, using\n",
    "\n",
    "```python\n",
    "for text in flareplot_attrs[\"fragment_labels\"]:\n",
    "    if text.get_text().startswith(\"RBD\"):\n",
    "        text.set_color(\"tab:blue\")\n",
    "    elif text.get_text().startswith(\"ACE\"):\n",
    "        text.set_color(\"tab:green\")\n",
    "    else:\n",
    "        text.set_color(\"tab:red\")\n",
    "```"
   ]
  },
  {
   "cell_type": "code",
   "execution_count": null,
   "metadata": {},
   "outputs": [],
   "source": [
    "ifig, iax, flareplot_attrs = intfWT.plot_freqs_as_flareplot(4.5, fragments=fragments, \n",
    "                                                            fragment_names=fragment_names,\n",
    "                                                            SS=\"example_cov19/run3-clone0.stride.050.h5\",\n",
    "                                                            highlight_residxs=[85,107],\n",
    "                                                            scheme=\"residues_sparse\",\n",
    "                                                           )\n",
    "iax.set_title(\"WT\\n$\\\\Sigma$ = %2.1f\"%intfWT.frequency_per_contact(4).sum(), fontsize=20)\n",
    "for text in flareplot_attrs[\"fragment_labels\"]:\n",
    "    if text.get_text().startswith(\"RBD\"):\n",
    "        text.set_color(\"tab:blue\")\n",
    "    elif text.get_text().startswith(\"ACE\"):\n",
    "        text.set_color(\"tab:green\")\n",
    "    else:\n",
    "        text.set_color(\"tab:red\")      "
   ]
  },
  {
   "cell_type": "markdown",
   "metadata": {},
   "source": [
    "## Multi-Panel Figure\n",
    "\n",
    "Now we will use the options above to generate a 2x2 figure that contains **all four setups**. We can do this because, through the ``**kwargs_freqs2flare`` optional argument, an ``ax`` parameter to plot the flareplot on a specific [Axes](https://matplotlib.org/api/axes_api.html#matplotlib.axes.Axes) is exposed:\n",
    "```\n",
    "ax : :obj:`~matplotlib.axes.Axes`, default is None\n",
    "    Parse an axis to draw on, otherwise one will be created\n",
    "    using :obj:`panelsize`.\n",
    "```\n",
    "\n",
    "So, we just create a 2x2 [subplot](https://matplotlib.org/stable/api/_as_gen/matplotlib.pyplot.subplots.html) and place the flareplots there."
   ]
  },
  {
   "cell_type": "code",
   "execution_count": null,
   "metadata": {},
   "outputs": [],
   "source": [
    "from matplotlib import pyplot as plt\n",
    "myfig, myax = plt.subplots(2,2,\n",
    "                           sharex=True,\n",
    "                           sharey=True, \n",
    "                           figsize=(20,20), tight_layout=True)\n",
    "for (setup, iintf), iax in zip(interfaces.items(),myax.flatten()):\n",
    "    iintf.plot_freqs_as_flareplot(4.5, \n",
    "                                  fragments=mdciao.fragments.get_fragments(iintf.top, \"chains\", verbose=False), \n",
    "                                  fragment_names=fragment_names,\n",
    "                                  SS=\"example_cov19/run3-clone0.stride.050.h5\",\n",
    "                                  highlight_residxs=[85,107],\n",
    "                                  scheme=\"residues_sparse\",\n",
    "                                  lw=.1,\n",
    "                                  ax=iax,\n",
    "                                  subplot=True,\n",
    "                                 )\n",
    "    iax.set_title(\"%s\\n$\\\\Sigma$ = %2.1f\"%(setup, iintf.frequency_per_contact(4).sum()), fontsize=20)\n",
    "myfig.tight_layout()"
   ]
  },
  {
   "cell_type": "markdown",
   "metadata": {},
   "source": [
    "While the figure is compact and informative, the ``scheme=\"residues_sparse\"`` has the side effect that **not all panels contain the same residues**. For example, in the double mutant ``N439K/K417V`` (lower right), ``V417`` is completely missing, because not only the salt bridge with ``D30`` is missing, also the contact with the ``ACE`` glycan. There are more examples of this, you can check the plots and spot missing residues here and there. \n",
    "\n",
    "Also, as we noted above, secondary-structure (SS) would be loaded automatically for each setup. However, since the original data is in a different filesystem, we are using the same sample file four plots. This is valid to a certain extent because no large changes in SS are expected.\n",
    "\n",
    "### Common Background: Comparing Panels\n",
    "**Generally speaking**, the more diverse the setups are, the more tweaking the comparison might need, because visual elements need to be conserved across panels, otherwise the comparison might be misleading. \n",
    "\n",
    "Here, *tweaking* can mean anything between hand-picking the residues to be shown (with indices valid across all setups) or resorting to sequence alignment to establish some equivalence between positions. In the end, the user needs to be sure that the comparison **makes sense**.\n",
    "\n",
    "**In this case**, because the setups (except water molecules and salt ions at the end of the topology) are all equivalent and only differ by point mutations, we can establish that equivalence directly trough residue indices. To do so, first we need to first scan all four ``interfaces`` to get the [union set](https://en.wikipedia.org/wiki/Union_(set_theory)) of all needed residues\n",
    "\n",
    "    union = np.unique(np.vstack([iintf.res_idxs_pairs for iintf in interfaces.values()])) \n",
    "\n",
    "and then pass them to the ``sparse_residues`` parameter of [mdciao.flare.freqs2flare](https://proteinformatics.uni-leipzig.de/mdciao/api/generated/generated/mdciao.flare.freqs2flare.html), which we can access through the kwargs of [plot_freqs_as_flareplot](https://proteinformatics.uni-leipzig.de/mdciao/api/generated/generated/mdciao.contacts.ContactGroup.html#mdciao.contacts.ContactGroup.plot_freqs_as_flareplot)\n",
    "```\n",
    " sparse_residues : boolean, default is False\n",
    "    Show only those residues that appear in the initial :obj:`res_idxs_pairs`\n",
    "\n",
    "    Note\n",
    "    ----\n",
    "    There is a development option for this argument where a residue\n",
    "    list is passed, meaning, show these residues regardless of any other\n",
    "    option that has been passed. Perhaps sparse changes in the future.\n",
    "```\n"
   ]
  },
  {
   "cell_type": "code",
   "execution_count": null,
   "metadata": {},
   "outputs": [],
   "source": [
    "union = np.unique(np.vstack([iintf.res_idxs_pairs for iintf in interfaces.values()]))"
   ]
  },
  {
   "cell_type": "code",
   "execution_count": null,
   "metadata": {},
   "outputs": [],
   "source": [
    "myfig, myax = plt.subplots(2,2,\n",
    "                           sharex=True,\n",
    "                           sharey=True, \n",
    "                           figsize=(20,20), tight_layout=True)\n",
    "for (setup, iintf), iax in zip(interfaces.items(),myax.flatten()):\n",
    "    iintf.plot_freqs_as_flareplot(4.5,         \n",
    "                                  fragments=mdciao.fragments.get_fragments(iintf.top, \"chains\", verbose=False),  \n",
    "                                  fragment_names=fragment_names,\n",
    "                                  SS=\"example_cov19/run3-clone0.stride.050.h5\",\n",
    "                                  highlight_residxs=[85,107],\n",
    "                                  sparse_residues=union,\n",
    "                                  ax=iax,\n",
    "                                  subplot=True,\n",
    "                                 )\n",
    "    iax.set_title(\"%s\\n$\\\\Sigma$ = %2.1f\"%(setup, iintf.frequency_per_contact(4).sum()), fontsize=20)\n",
    "myfig.tight_layout()"
   ]
  },
  {
   "cell_type": "markdown",
   "metadata": {},
   "source": [
    "Now, in the above plots, there circle of color-coded dots is always the same, so now we can visually spot the empty spaces e.g. in the 420-427 (RBD) positions when mutating ``N439K`` (lower panels). There's other differences, can you spot them?"
   ]
  },
  {
   "cell_type": "markdown",
   "metadata": {},
   "source": [
    "## Overlaying Flareplots\n",
    "Next, in case you don't find the plots **crowded enough**, you can overlay flareplots on top of each other and see if that's informative in your case.\n",
    "\n",
    "<div class=\"alert alert-info\">\n",
    "    \n",
    "<b>Note</b> \n",
    "    \n",
    "This **might be a good idea** in cases where a group of contacts (=curves) has switched, e.g. from one subdomain to another, but it **generally isn't** if only one contact (=curve) has changed. It's up to the user to decide whether or not these overlays are informative or not.\n",
    "\n",
    "</div>\n",
    "\n",
    "\n",
    "Here, we just show how it's done in case you find it useful for your system. Two steps are involved:\n",
    "\n",
    "* First, we call [plot_freqs_as_flareplot](https://proteinformatics.uni-leipzig.de/mdciao/api/generated/generated/mdciao.contacts.ContactGroup.html#mdciao.contacts.ContactGroup.plot_freqs_as_flareplot) normally, to provide the first flareplot and the background of dots and labels.\n",
    "\n",
    "* Second, we call [plot_freqs_as_flareplot](https://proteinformatics.uni-leipzig.de/mdciao/api/generated/generated/mdciao.contacts.ContactGroup.html#mdciao.contacts.ContactGroup.plot_freqs_as_flareplot) again, using ``plot_curves_only=True`` and passing the ``ax=myax`` of the previous call. From the docs:\n",
    "```\n",
    "ax : :obj:`~matplotlib.axes.Axes`\n",
    "    Parse an axis to draw on, otherwise one will be created\n",
    "    using `panelsize`. In case you want to\n",
    "    re-use the same circle of residues as a\n",
    "    background to plot different sets\n",
    "    of `freqs`, **YOU HAVE TO USE THE SAME**\n",
    "    `fragments` and `sparse` values\n",
    "     **on all calls**, else the\n",
    "    bezier lines will be placed erroneously.\n",
    "[...]\n",
    "plot_curves_only : bool, default is False\n",
    "    Only plot the curves connecting the dots, but\n",
    "    not the dots themselves or any other annotation.\n",
    "    (labels, fragment names or SS information).\n",
    "    The same caution as :obj:`ax` applies.\n",
    "```\n",
    "\n",
    "Note that in order to tell curves apart, we use a color code and pass it as an argument to ``bezier_linecolor``:\n",
    "```\n",
    "bezier_linecolor : color-like, default is 'k'\n",
    "    The color of the bezier curves connecting the residues.\n",
    "    Can be a character, string or RGB value (not RGBA)\n",
    "```"
   ]
  },
  {
   "cell_type": "code",
   "execution_count": null,
   "metadata": {},
   "outputs": [],
   "source": [
    "colors = {\"WT\":\"black\", \"K417V\":\"green\",\"N439K\":\"pink\", \"N439K/K417V\":\"blue\"}"
   ]
  },
  {
   "cell_type": "code",
   "execution_count": null,
   "metadata": {},
   "outputs": [],
   "source": [
    "key1 = \"WT\"\n",
    "ifig, iax, flareplot_attrs = interfaces[key1].plot_freqs_as_flareplot(4.5, \n",
    "                                                                      fragments=mdciao.fragments.get_fragments(interfaces[key1].top, \"chains\", verbose=False), \n",
    "                                                                      fragment_names=fragment_names,\n",
    "                                                                      SS=\"example_cov19/run3-clone0.stride.050.h5\",\n",
    "                                                                      highlight_residxs=[85,107],\n",
    "                                                                      sparse_residues=union,\n",
    "                                                                      bezier_linecolor=colors[key1],\n",
    "                                                                     )\n",
    "key2=\"K417V\"\n",
    "ifig, iax, flareplot_attrs = interfaces[key2].plot_freqs_as_flareplot(4.5, \n",
    "                                                                      fragments=mdciao.fragments.get_fragments(interfaces[key2].top, \"chains\", verbose=False), \n",
    "                                                                      #fragment_names=fragment_names[:-2],\n",
    "                                                                      #SS=\"run3-clone0.stride.050.h5\",\n",
    "                                                                      #highlight_residxs=[85,107],\n",
    "                                                                      sparse_residues=union,\n",
    "                                                                      bezier_linecolor=colors[key2],\n",
    "                                                                      ax=iax,\n",
    "                                                                      plot_curves_only=True\n",
    "                                                                     )\n",
    "[iax.plot(np.nan, np.nan, label=key,color=colors[key], lw=5) for key in [key1,key2]]\n",
    "myfig.suptitle(\"WT vs K417\", y=1.01, fontsize=16)\n",
    "plt.legend(fontsize=16);"
   ]
  },
  {
   "cell_type": "markdown",
   "metadata": {},
   "source": [
    "Note that, for the second call of [plot_freqs_as_flareplot](https://proteinformatics.uni-leipzig.de/mdciao/api/generated/generated/mdciao.contacts.ContactGroup.html#mdciao.contacts.ContactGroup.plot_freqs_as_flareplot), we have commented out all the info regarding annotations, but left the ``fragments`` and ``sparse`` like in the first call.\n",
    "\n",
    "Also note that, as mentioned in the note above, the overlay itself isn't very informative, since many lines are equally opaque or equally transparent, and some opaque (strong) green lines could be on top of weak black lines.\n",
    "\n",
    "**Please note again**, the purpose of this plot is to show the mechanics and parameters involved in constructing the overlay, not in whether the overlay is informative or not.\n"
   ]
  },
  {
   "cell_type": "markdown",
   "metadata": {},
   "source": [
    "## The Lower-Level Method ``freqs2flare``\n",
    "``mdciao`` exposes a lower-level method, [mdciao.flare.freqs2flare](https://proteinformatics.uni-leipzig.de/mdciao/api/generated/generated/mdciao.flare.freqs2flare.html), that generates flareplots from any type of numerical pairwise relation, not necessarily between residues, depending on a molecular topology and or fragment definitions or names. The minimal cal is pretty straightforward, but it offers a lot of customization:"
   ]
  },
  {
   "cell_type": "code",
   "execution_count": null,
   "metadata": {
    "tags": []
   },
   "outputs": [],
   "source": [
    "n_dots = 20\n",
    "n_freqs = 10\n",
    "# Random pairs\n",
    "pairs = np.random.randint(0,n_dots-1,size=(n_freqs,2)) \n",
    "# Random freqs\n",
    "freqs = np.random.random(n_freqs)\n",
    "mdciao.flare.freqs2flare(freqs,\n",
    "                         pairs, \n",
    "                         panelsize=5\n",
    "                        );"
   ]
  },
  {
   "cell_type": "markdown",
   "metadata": {},
   "source": [
    "For the next example, we use [mdciao.flare.freqs2flare](https://proteinformatics.uni-leipzig.de/mdciao/api/generated/generated/mdciao.flare.freqs2flare.html) with some customization to generate flareplots like the ones above."
   ]
  },
  {
   "cell_type": "markdown",
   "metadata": {},
   "source": [
    "## Plotting Frequency Differences\n",
    "Finally, another possibility is to showcase contact differences directly, i.e., not the frequency values **themselves**, but the **change** in those values between pairs of datasets. This will make equally strong (or equally weak) contacts (=curves) vanish from the plot and instead direct the eye towards large changes. It's somewhat equivalent to the ``sort_by='std'`` option of the [mdciao.plots.compare_groups_of_contacs](https://proteinformatics.uni-leipzig.de/mdciao/api/generated/generated/mdciao.plots.compare_groups_of_contacts.html), that we have dicussed in the [other notebook](https://proteinformatics.uni-leipzig.de/mdciao/notebooks/03.Comparing_CGs_Bars.html#Sorting-by-Standard-Deviation).\n",
    "\n",
    "<div class=\"alert alert-info\">\n",
    "\n",
    "<b>Note</b> \n",
    "    \n",
    "As is mentioned elsewhere in the docs, **hard-cutoffs** have the downside of over- or underestimating numerical frequencies in some cases, because not all types of interactions occur at the same distance (e.g. salt-bridge vs. pi-stacking). In some corner cases, the value of a frequency can change drastically at slightly different cuttoffs, although that is **generally not the case**.\n",
    "    \n",
    "Thus, the numerical value of the contact frequencies should be used mostly to identify trends and or guide the attention towards a selected group of residues. Making an entire argument depend on whether a contact has a frequency of .75 or .85, without further inspection **can be risky**. \n",
    "\n",
    "</div>\n",
    "\n",
    "The above note not withstanding, we are now going to compute frequency differences and plot them, to see if we see something."
   ]
  },
  {
   "cell_type": "markdown",
   "metadata": {},
   "source": [
    "For that, the [ContactGroup](https://proteinformatics.uni-leipzig.de/mdciao/api/generated/generated/mdciao.contacts.ContactGroup.html) **itself** has a method that computes differences between contact frequencies, [frequency_delta](file:///home/guille/Programs/mdciao/doc/_build/html/api/generated/generated/mdciao.contacts.ContactGroup.html#mdciao.contacts.ContactGroup.frequency_delta). From the docs:\n",
    "\n",
    "```\n",
    "Compute per-contact frequency differences between :obj:`self` and some other :obj:`ContactGroup`\n",
    "\n",
    "The difference is defined as\n",
    "\n",
    ":math:`\\Delta_{AB} = freq_B - freq_A`\n",
    "```"
   ]
  },
  {
   "cell_type": "code",
   "execution_count": null,
   "metadata": {},
   "outputs": [],
   "source": [
    "myfig, myax = plt.subplots(1, 3,sharex=True, sharey=True, figsize=(30,10),\n",
    "                           tight_layout=True)\n",
    "for key, iax in zip([\"K417V\", \"N439K\", \"N439K/K417V\"], myax):\n",
    "    delta, pairs = interfaces[\"WT\"].frequency_delta(interfaces[key],4.5)\n",
    "    mdciao.flare.freqs2flare(delta, pairs, \n",
    "                             sparse_residues=True, \n",
    "                             fragments=fragments,\n",
    "                             fragment_names=fragment_names,\n",
    "                             highlight_residxs=[85,107],\n",
    "                             signed_colors={-1:\"r\", +1:\"g\"},\n",
    "                             top=interfaces[\"WT\"].top,\n",
    "                             SS=\"example_cov19/run3-clone0.stride.050.h5\",\n",
    "                             ax=iax,\n",
    "                             #subplot=True\n",
    "                     );\n",
    "    [iax.plot(np.nan, np.nan, color=col, lw=3, label=key) for key, col in {\"formed\":\"g\", \"lost\":\"r\"}.items()]\n",
    "    iax.set_title(\"%s$\\\\rightarrow$%s\\n$\\\\Delta \\\\Sigma = %2.1f$\"%(\"WT\",key,delta.sum()),fontsize=30)\n",
    "    iax.legend(fontsize=20)\n",
    "myfig.tight_layout()"
   ]
  },
  {
   "cell_type": "markdown",
   "metadata": {},
   "source": [
    "Some observations (it's better to look at the figure externally with *right-click->Open Image in New Tab*):\n",
    "\n",
    "* We have included the $\\Delta\\Sigma$ to highlight whether the interface gains or looses contacts upon mutation.\n",
    "* For ``WT``$\\rightarrow$``K417V`` (left panel):\n",
    "  * disruption of the ``K417@RBD-D30@ACE`` salt-bridge, highlighted in red (also in the the double mutant) and the ``E37-R403`` salt bridge as well.\n",
    "  * ``Y505@RBD`` loosing contact with ``ACE`` and gaining it with ``ACE``'s glycan, although this effect is much stronger in the next panel.\n",
    "  * The ``RBD-GLC@ACE`` interface is getting weaker ($\\Delta \\Sigma$ = -4.5)\n",
    "\n",
    "* For ``WT``$\\rightarrow$``N439`` (middle panel):\n",
    "  * ``Y505@RBD`` loosing contact with ``ACE`` and gaining it with ``ACE``'s glycan\n",
    "  * different interactions between the ``ACE`` and ``RBD`` are forming: the ``RBD`` region ``L492, F490, Y489`` contacts ``Y83`` and ``K31``, both ``@ACE``. \n",
    "  * The ``ACE`` glycan loosing some contacts with RBD and/or swapping partner (e.g.  ``T415@ACE`` for ``Q414@ACE``)\n",
    "  \n",
    "* For ``WT``$\\rightarrow$``N439K/K417V`` (right panel):\n",
    "  * Disruption of the salt-bridge\n",
    "  * Swapping of interaction partners between ``RBD`` and the ``ACE`` glycans\n",
    "  \n"
   ]
  },
  {
   "cell_type": "code",
   "execution_count": null,
   "metadata": {},
   "outputs": [],
   "source": []
  }
 ],
 "metadata": {
  "kernelspec": {
   "display_name": "Python 3 (ipykernel)",
   "language": "python",
   "name": "python3"
  },
  "language_info": {
   "codemirror_mode": {
    "name": "ipython",
    "version": 3
   },
   "file_extension": ".py",
   "mimetype": "text/x-python",
   "name": "python",
   "nbconvert_exporter": "python",
   "pygments_lexer": "ipython3",
   "version": "3.11.8"
  },
  "widgets": {
   "application/vnd.jupyter.widget-state+json": {
    "state": {},
    "version_major": 2,
    "version_minor": 0
   }
  }
 },
 "nbformat": 4,
 "nbformat_minor": 4
}
