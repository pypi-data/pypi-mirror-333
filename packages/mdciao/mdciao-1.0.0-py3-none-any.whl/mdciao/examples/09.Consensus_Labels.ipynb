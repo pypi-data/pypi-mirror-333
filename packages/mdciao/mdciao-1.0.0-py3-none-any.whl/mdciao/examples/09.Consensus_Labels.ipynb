{
 "cells": [
  {
   "cell_type": "markdown",
   "id": "5d498cf1-8a17-40c5-84ae-f29de0abc286",
   "metadata": {},
   "source": [
    "# Comparing Frequencies: Consensus Nomenclature\n",
    "In this notebook, we exploit the GPCR [consensus nomenclature](https://proteinformatics.uni-leipzig.de/mdciao/api/generated/mdciao.nomenclature.html) to compute and compare contact frequencies across four GPCRs that have very little sequence identity. \n",
    "\n",
    "Nevertheless, the consensus nomenclature will allow us to:\n",
    "\n",
    "* Use the same function calls for all systems, regardless of the underlying primary sequence\n",
    "\n",
    "* Compare the frequencies across systems by using consensus labels\n",
    "\n",
    "The four systems we will be comparing are:         \n",
    "* Beta 2 adrenergic receptor in complex with Gs-protein.  \n",
    "  Provided kindly by Dr. H. Batebi\n",
    "  \n",
    "* Growth hormone secretagogue receptor type 1, ghrelin receptor for short.  \n",
    "  Provided kindly by Dr. A. Vogel\n",
    "\n",
    "* Neuropeptide Y receptor type 1, Y1 receptor for short, in apo form.  \n",
    "  Provided kindly by Dr. A. Vogel.\n",
    "\n",
    "* Active mu-opioid receptor bound to the agonist morphine.  \n",
    "  Kindly made available for this purpose by the GPCRmd. \n",
    "\n",
    "All these example datasets will be downloaded on the fly using [mdciao.examples.fetch_example_data](https://proteinformatics.uni-leipzig.de/mdciao/api/generated/generated/mdciao.examples.fetch_example_data.html#mdciao-examples-fetch-example-data), please note the individual references for each dataset there.\n",
    "\n",
    "Also note that `mdciao` ships with all references regarding the used nomenclature schemes, you can issue [mdciao.nomenclature.references](https://proteinformatics.uni-leipzig.de/mdciao/api/generated/generated/mdciao.nomenclature.references.html#mdciao.nomenclature.references) to print them out."
   ]
  },
  {
   "cell_type": "code",
   "execution_count": null,
   "id": "58fc7e71-bf6c-40aa-8395-d03c17fd1960",
   "metadata": {},
   "outputs": [],
   "source": [
    "import mdciao"
   ]
  },
  {
   "cell_type": "markdown",
   "id": "8aca7103-0550-46c2-b0b4-b44b97ddad59",
   "metadata": {},
   "source": [
    "## Download Trajectory Data\n",
    "Throughout the notebook, we will use the same aliases used by [mdciao.examples.fetch_example_data](https://proteinformatics.uni-leipzig.de/mdciao/api/generated/generated/mdciao.examples.fetch_example_data.html#mdciao-examples-fetch-example-data) to adress the different sytems/datasets, `\"b2ar@Gs\", \"ghrelin@ghsr\" , \"mor@muor\", \"y1_apo\"`, but one could create an alias dictionary for nicer tagging of plots etc (see note at the bottom of the notebook)."
   ]
  },
  {
   "cell_type": "code",
   "execution_count": null,
   "id": "ffd1218f-e8c0-469c-84e3-04d7c3eae77c",
   "metadata": {},
   "outputs": [],
   "source": [
    "systems = [\"b2ar@Gs\",   \n",
    "           \"ghrelin@ghsr\" , \n",
    "           \"mor@muor\", \n",
    "           \"y1_apo\"]\n",
    "for system in systems:\n",
    "    d = mdciao.examples.fetch_example_data(system, \n",
    "                                           unzip=system,\n",
    "                                           skip_on_existing=True)"
   ]
  },
  {
   "cell_type": "markdown",
   "id": "4ba782f2-0525-49be-a815-f85097c7ae2d",
   "metadata": {},
   "source": [
    "## Nomenclature Data\n",
    "We will get the nomenclature data, i.e. the per-residue consensus labels mapped to the canonical primary sequence of the receptor, from the [GPCRdb](https://gpcrdb.org/) (in this case). The lookup happens via [UniProt Entry Names](https://www.uniprot.org/help/difference%5Faccession%5Fentryname) and uses mdciao's [nomenclature clases](https://proteinformatics.uni-leipzig.de/mdciao/api/generated/mdciao.nomenclature.html). \n",
    "\n",
    "These objects contain all nomenclature information, and map the consensus labels and fragments (\"3.50\", or \"TM3\", respectively) not only to the canonical sequence, but to tht of the topologies at hand, using class methods like [top2labels](https://proteinformatics.uni-leipzig.de/mdciao/api/generated/generated/mdciao.nomenclature.LabelerGPCR.html#mdciao.nomenclature.LabelerGPCR.top2labels) and [top2frags](https://proteinformatics.uni-leipzig.de/mdciao/api/generated/generated/mdciao.nomenclature.LabelerGPCR.html#mdciao.nomenclature.LabelerGPCR.top2frags). \n",
    "\n",
    "So, as a user, you need to know these [UniProt Entry Names](https://www.uniprot.org/help/difference%5Faccession%5Fentryname) for each one of your systems."
   ]
  },
  {
   "cell_type": "code",
   "execution_count": null,
   "id": "368b63d9-8f95-474e-9a4b-daad25d920a6",
   "metadata": {},
   "outputs": [],
   "source": [
    "key2GPCR_UniProt = {\"b2ar@Gs\" :      \"adrb2_human\", \n",
    "                    \"ghrelin@ghsr\" : \"ghsr_human\", \n",
    "                    \"mor@muor\" :     \"oprm_mouse\", \n",
    "                    \"y1_apo\" :       \"npy1r_human\"\n",
    "                   }\n",
    "GPCR = {key : mdciao.nomenclature.LabelerGPCR(val, scheme=\"BW\", \n",
    "                                              write_to_disk=True, local_path=key) for key, val in key2GPCR_UniProt.items()}"
   ]
  },
  {
   "cell_type": "markdown",
   "id": "c67b7891-0d58-4150-a864-480aa4d68af5",
   "metadata": {},
   "source": [
    "For the `\"b2ar@Gs` system, we also get the [CGN labels](https://www.mrc-lmb.cam.ac.uk/CGN/faq.html), i.e. those for the G-protein."
   ]
  },
  {
   "cell_type": "code",
   "execution_count": null,
   "id": "5cd8f67e-190d-4d23-91b7-134a0d8e2fe4",
   "metadata": {},
   "outputs": [],
   "source": [
    "CGN = {\"b2ar@Gs\" : mdciao.nomenclature.LabelerCGN(\"gnas2_human\", write_to_disk=True, local_path=\"b2ar@Gs\")}"
   ]
  },
  {
   "cell_type": "markdown",
   "id": "c4dafc80-cd1e-4571-9e1b-bd812cbf8ea8",
   "metadata": {},
   "source": [
    "Note that in the above cells we're storing the retrieved data as `.xlsx`-files in the individual directories."
   ]
  },
  {
   "cell_type": "markdown",
   "id": "a6ebd1eb-2b32-4ab4-8457-2604fd45e7a5",
   "metadata": {},
   "source": [
    "## Residue Neighborhood of 3.50\n",
    "We start by computing the residue neighborhood of notorious residue `3.50` of TM3 in all systems, without even knowing what residue precisely is `3.50` in all systems.\n",
    "\n",
    "Since we will store the results in the `rn` dictionary and compare them across systems later, we're supressing all outputs in the cell below, but feel free to comment out the `%%capture` and the ` #figures=False` statements"
   ]
  },
  {
   "cell_type": "code",
   "execution_count": null,
   "id": "332b7cda-ab57-4a81-a61f-ce7d55398125",
   "metadata": {},
   "outputs": [],
   "source": [
    "%%capture\n",
    "rn = {}\n",
    "for system in systems:\n",
    "    rn[system] = list(mdciao.cli.residue_neighborhoods(\"3.50\", f\"{system}/traj.xtc\", topology=f\"{system}/top.pdb\", \n",
    "                                                       output_dir=system, GPCR_UniProt=GPCR[system], accept_guess=True, \n",
    "                                                       ctc_control=1.0,\n",
    "                                                       no_disk=True, \n",
    "                                                       figures=False,\n",
    "                                                       CGN_UniProt=CGN.get(system,None),\n",
    "                                                       fragments=\"chains\").values())[0]"
   ]
  },
  {
   "cell_type": "markdown",
   "id": "fd216a3c-74f5-4bc7-a72e-74094be26a9f",
   "metadata": {},
   "source": [
    "## Compare Frequency Bars\n",
    "We show all contact frequencies of all four systems together using [mdciao.plots.compare_groups_of_contacts](https://proteinformatics.uni-leipzig.de/mdciao/api/generated/generated/mdciao.plots.compare_groups_of_contacts.html#mdciao-plots-compare-groups-of-contacts). \n",
    "\n",
    "To show what the plot would look like without the consensus labels, initially we won't make use of them:"
   ]
  },
  {
   "cell_type": "code",
   "execution_count": null,
   "id": "7cf81857-45f4-4980-a694-cb74971f0eb7",
   "metadata": {},
   "outputs": [],
   "source": [
    "fig, ax ,plotted_freqs = mdciao.plots.compare_groups_of_contacts(rn, ctc_cutoff_Ang=4.5, \n",
    "                                                                 figsize=(20,5),\n",
    "                                                                 defrag=None);"
   ]
  },
  {
   "cell_type": "markdown",
   "id": "1ef9393e-7235-42b2-b51e-d3dac56c455c",
   "metadata": {},
   "source": [
    "This plot is a mess, since all `3.50` residues are different residues in all systems:\n",
    "* R131 in b2ar@Gs\n",
    "* R141 in ghrelin@ghsr\n",
    "* R165 in mor@muor\n",
    "* R138 in y1_apo\n",
    "\n",
    "Of course, the same goes for all other residues. This means there's no shared contact pairs to be compared agains each other when using residue names. \n",
    "\n",
    "However, if we specifiy ``AA_format=\"try_consensus\"``, the method will try to use those labels (which are unified across systems) when possible:"
   ]
  },
  {
   "cell_type": "code",
   "execution_count": null,
   "id": "3cad6883-26d2-4a6b-8a35-3c8b55a631c3",
   "metadata": {},
   "outputs": [],
   "source": [
    "fig, ax ,plotted_freqs = mdciao.plots.compare_groups_of_contacts(rn, ctc_cutoff_Ang=4.5, defrag=None, \n",
    "                                                                 AA_format=\"try_consensus\",                                                         \n",
    "                                                                 anchor=\"3.50\",\n",
    "                                                                 sort_by=\"consensus\",\n",
    "                                                                );"
   ]
  },
  {
   "cell_type": "markdown",
   "id": "e3444463-5227-471b-89c8-256d00cca44b",
   "metadata": {},
   "source": [
    "Much nicer. We also make the plot even more compact by using:\n",
    "* `anchor=\"3.50\"` this eliminates \"3.50\" from all labels and only uses the label of the other residue in the residue pair.\n",
    "* `sort_by=\"consensus\"` sorts the contacts, insted of by descending frequency (like the first plot), by their consensus label.\n",
    "\n",
    "Also note, in `b2ar@Gs`, one residue corresponds to the Gs-unit, the 23rd residue of the α5 helix."
   ]
  },
  {
   "cell_type": "markdown",
   "id": "b6e23cb8-9eed-418d-add2-ead96e060757",
   "metadata": {},
   "source": [
    "## Interface: TM3 vs all other TMs\n",
    "We now compute whole interfaces between fragments following the same approach, i.e using consensus labels. In this case, we're computing the contacts of the `TM3` with all other elements of the system. We're doing so by using the keyword arguments:\n",
    "\n",
    "```python\n",
    "interface_selection_1=\"TM3\",  \n",
    "interface_selection_2=\"*\", \n",
    "```\n",
    "\n",
    "For the purposes of this notebook, we focus on the usage of consensus descriptors, but please read the full documentation in [mdciao.cli.interface](https://proteinformatics.uni-leipzig.de/mdciao/api/generated/generated/mdciao.cli.interface.html) for how interfaces can be defined.\n",
    "\n",
    "Also note that we're supressing the output since we will be comparing (like above) the different systems later. Just comment out the `%%capture` if you want to see the output and the figures.\n",
    "### Compute"
   ]
  },
  {
   "cell_type": "code",
   "execution_count": null,
   "id": "d06e7e4e-131d-4e92-9489-13ca6c9fad72",
   "metadata": {},
   "outputs": [],
   "source": [
    "%%capture\n",
    "intf = {}\n",
    "for system in systems:\n",
    "    intf[system] = mdciao.cli.interface(f\"{system}/traj.xtc\", topology=f\"{system}/top.pdb\", output_dir=system, \n",
    "                                        GPCR_UniProt=GPCR[system], \n",
    "                                        accept_guess=True, \n",
    "                                        CGN_UniProt=CGN.get(system, None),\n",
    "                                        ctc_control=1.0,                              \n",
    "                                        interface_selection_1=\"TM3\",  \n",
    "                                        interface_selection_2=\"*\", \n",
    "                                        no_disk=True,\n",
    "                                        fragments=\"chains\",\n",
    "                                        plot_timedep=False,\n",
    "                                        figures=True,\n",
    "                                        self_interface=True,\n",
    "                                        title=f\"interface {system}\",\n",
    "                                        n_nearest=4\n",
    "                                       )"
   ]
  },
  {
   "cell_type": "markdown",
   "id": "2044f97d-1516-425c-9684-bca717d1ca4a",
   "metadata": {},
   "source": [
    "### Compare Frequency Bars\n",
    "Using the same method as above, we compare now frequencies, but instead of resolving to each individual pair (there's about 150 TM3 vs all contacts), we aggregate the frequencies to each residue using `per_residue=True`. This loses the per-pair information but makes the plot more compact to begin with."
   ]
  },
  {
   "cell_type": "code",
   "execution_count": null,
   "id": "354c63a8-4646-4bb3-bb76-680e25cdb422",
   "metadata": {},
   "outputs": [],
   "source": [
    "mdciao.plots.plots.compare_groups_of_contacts(intf, ctc_cutoff_Ang=4.5, defrag=None, \n",
    "                                              per_residue=True,                                     \n",
    "                                              AA_format=\"try_consensus\", \n",
    "                                              figsize=None,\n",
    "                                              sort_by=\"consensus\",                                 \n",
    "                                              lower_cutoff_val=1,\n",
    "                                              interface=True,\n",
    "                                             );"
   ]
  },
  {
   "cell_type": "markdown",
   "id": "f053c219-f480-4d4b-b9fe-7cd03b400ff6",
   "metadata": {},
   "source": [
    "There's a lot to unpack here, but we we can immediately see that e.g. `3.28` and  `3.37` behave differently across systems. We'll check them later, but now we pick a representation that tries to be compact without losing pair information."
   ]
  },
  {
   "cell_type": "markdown",
   "id": "e87c8dce-14b8-4ddb-b8a8-f992376b542c",
   "metadata": {},
   "source": [
    "### Compare Flareplots"
   ]
  },
  {
   "cell_type": "code",
   "execution_count": null,
   "id": "53bb6cd0-d5e8-4be5-9d74-fc8d95a9715d",
   "metadata": {},
   "outputs": [],
   "source": [
    "from matplotlib import pyplot as plt\n",
    "myfig, myax = plt.subplots(2,2, sharex=True, sharey=True, figsize=(70,70), tight_layout=True)\n",
    "for (system, iintf) , iax in zip(intf.items(), myax.flatten()):\n",
    "    consensus_maps=[GPCR[system]]\n",
    "    iCGN = CGN.get(system, None)\n",
    "    if iCGN is not None:\n",
    "        consensus_maps.append(iCGN)\n",
    "    iintf.plot_freqs_as_flareplot(4.5, fragments=\"chains\", \n",
    "                                  scheme=\"consensus_sparse\", \n",
    "                                  aura=iintf.frequency_sum_per_residue_idx_dict(4.5, return_array=True),\n",
    "                                  panelsize=15,\n",
    "                                  ax=iax,                                  \n",
    "                                  consensus_maps=consensus_maps)\n",
    "    iax.set_title(f\"{system}: TM3 interface at 4.5 Å\", fontsize=60)\n",
    "print()\n",
    "myfig.tight_layout(h_pad=5)"
   ]
  },
  {
   "cell_type": "markdown",
   "id": "7f6dac21-e2c0-43fe-b92a-43ef17313a33",
   "metadata": {},
   "source": [
    "This representation tries to capture the system's topology, and the individual pairs as well as collective behaviours. We have an [entire notebook]() devoted on how these plots work and how one can fine-tune them. One of the easiest things to spot is the difference in TM3 vs TM6 contacts.\n",
    "\n"
   ]
  },
  {
   "cell_type": "markdown",
   "id": "c23b16d9-9594-449e-88bb-eeee950a79bc",
   "metadata": {},
   "source": [
    "### Coarse-Graining to Consensus Fragments\n",
    "We can also coarse-grain the frequencies to the fragments, showing a bit the structure and scaffolding role of TM3 in the TM-bundle. All this, without having to directly define the fragments for each system:"
   ]
  },
  {
   "cell_type": "code",
   "execution_count": null,
   "id": "33a398c0-801e-4f68-b6e6-ddccfb5ca6d4",
   "metadata": {},
   "outputs": [],
   "source": [
    "import pandas\n",
    "CG_freqs = {}\n",
    "for (system, iintf) , iax in zip(intf.items(), myax.flatten()):\n",
    "    consensus_maps=[GPCR[system]]\n",
    "    iCGN = CGN.get(system, None)\n",
    "    if iCGN is not None:\n",
    "        consensus_maps.append(iCGN)\n",
    "    CG_freqs[system] = iintf.frequency_as_contact_matrix_CG (4.5, fragments=mdciao.fragments.get_fragments(iintf.top, \"chains\"),\n",
    "                                                             sparse=True,\n",
    "                                  consensus_labelers=consensus_maps)[\"TM3\"]\n",
    "df = pandas.DataFrame(CG_freqs).T\n",
    "df = df[[key for key in mdciao.nomenclature.nomenclature._GPCR_fragments+mdciao.nomenclature.nomenclature._CGN_fragments if key in df.keys()]]\n",
    "df.round(1).fillna(\"\")"
   ]
  },
  {
   "cell_type": "markdown",
   "id": "0dff614c-37fe-4ea0-a25b-08c160ba9697",
   "metadata": {},
   "source": [
    "The table above summarized TM3's behavior, contact-wise, with the other elements. Some things are immediately apparent, like `mor@muor` having less contacts with TM2."
   ]
  },
  {
   "cell_type": "markdown",
   "id": "4e07981a-8340-4b0f-9863-02e306937309",
   "metadata": {},
   "source": [
    "## Residue Neighborhood: Select 3.37 via consensus labels without recomputing anything"
   ]
  },
  {
   "cell_type": "markdown",
   "id": "35c737d1-6497-43c6-8c57-385863c58f6a",
   "metadata": {},
   "source": [
    "We now go back to the residue-level analysis. \n",
    "\n",
    "We coould re-compute `3.37`'s neighbordhood the same way we did `3.50`'s initially. However, the individual contacts have already been computed when computing TM3's interface, s.t. we can simply filter the interface for any contacts containing `3.37` (or any other residue) using [ContactGroup.select_by_residues](https://proteinformatics.uni-leipzig.de/mdciao/api/generated/generated/mdciao.contacts.ContactGroup.html#mdciao.contacts.ContactGroup.select_by_residues)"
   ]
  },
  {
   "cell_type": "code",
   "execution_count": null,
   "id": "b0cbfce9-0971-4b0c-b22d-038469dce566",
   "metadata": {},
   "outputs": [],
   "source": [
    "rn337 = {system : iintf.select_by_residues(\"3.37\") for system, iintf in intf.items()}"
   ]
  },
  {
   "cell_type": "markdown",
   "id": "4dc0b721-5c2f-4347-938c-96c55e28ca7b",
   "metadata": {},
   "source": [
    "### Compare Frequency Bars"
   ]
  },
  {
   "cell_type": "code",
   "execution_count": null,
   "id": "b207830a-693a-473b-b745-12375bead38a",
   "metadata": {},
   "outputs": [],
   "source": [
    "mdciao.plots.compare_groups_of_contacts(rn337, ctc_cutoff_Ang=4.5, AA_format=\"try_consensus\", anchor=\"3.37\", sort_by=\"consensus\");"
   ]
  },
  {
   "cell_type": "markdown",
   "id": "71134a51-8aeb-47f3-a490-c9ccde945487",
   "metadata": {},
   "source": [
    "As we saw in the interface plot, `3.37` in `ghrelin@ghsr` has many more contacts than the other systems. Now we see why: that the Ghrelin-receptor's `3.37` residue is interacting with TM4 and TM5 more than the rest. "
   ]
  },
  {
   "cell_type": "markdown",
   "id": "fb195aed-b13f-43a0-a44a-481c5bc8243d",
   "metadata": {},
   "source": [
    "### Compare Contact-Distances\n",
    "We will inspect this further, first using [violin plots](https://proteinformatics.uni-leipzig.de/mdciao/api/generated/generated/mdciao.plots.compare_violins.html#mdciao.plots.compare_violins) in the next cell:"
   ]
  },
  {
   "cell_type": "code",
   "execution_count": null,
   "id": "07b2bd91-3477-41f2-a094-a1439d19474d",
   "metadata": {},
   "outputs": [],
   "source": [
    "fig, ax, plotted_labels = mdciao.plots.compare_violins(rn337, \n",
    "                                                       ctc_cutoff_Ang=4.5, defrag=None, \n",
    "                                                       AA_format=\"try_consensus\", \n",
    "                                                       sort_by=\"consensus\",\n",
    "                                                       anchor=\"3.37\",\n",
    "                                                       figsize=None);"
   ]
  },
  {
   "cell_type": "markdown",
   "id": "7dac24b3-8108-4b7d-8834-2a7a139a31ec",
   "metadata": {},
   "source": [
    "Turns out, `4.57, 4.60, 5.42`, and `5.43` weren't even included other `3.37` neighborhoods (`mor@muor, b2ar@Gs, y1_apo`), because they never came in contact with `3.37` (or almost never, according to `min_freq=0.1`, the default value of [mdciao.cli.interface](https://proteinformatics.uni-leipzig.de/mdciao/api/generated/generated/mdciao.cli.interface.html)). \n",
    "\n",
    "Still, we can use mdciao's [mdciao.cli.sites](https://proteinformatics.uni-leipzig.de/mdciao/api/generated/generated/mdciao.cli.sites.html) to provide an explict list of pairs of residues we want to look at, regardless of them forming a contact or not. \n",
    "\n",
    "### Sites\n",
    "You guessed right, we can specifiy them simply using the consensus labels. We stored them in the cell above in the ``plotted_labels`` variable, so it's very easy to pass them on to the site definitions:"
   ]
  },
  {
   "cell_type": "code",
   "execution_count": null,
   "id": "c0b584d8-f82d-4b39-99a3-410fd25fb769",
   "metadata": {},
   "outputs": [],
   "source": [
    "site_337_def = {\"name\": \"selected 3.77 distances\", \n",
    "                \"pairs\" : {\"consensus\" : [f\"3.37-{label}\" for label in plotted_labels]}}\n",
    "site_337_def"
   ]
  },
  {
   "cell_type": "markdown",
   "id": "8ff44faf-3deb-4a0e-8c53-6596a601fd18",
   "metadata": {},
   "source": [
    "Again, feel free to comment in `%%capture` to see all outputs, but we will be comparing the distances two cells below anyways."
   ]
  },
  {
   "cell_type": "code",
   "execution_count": null,
   "id": "da728237-5f7d-4187-927d-5a4cc594f05d",
   "metadata": {},
   "outputs": [],
   "source": [
    "%%capture\n",
    "site_337 = {}\n",
    "for system in systems:\n",
    "    site_337[system] = mdciao.cli.sites(site_337_def,\n",
    "                                        f\"{system}/traj.xtc\", topology=f\"{system}/top.pdb\", output_dir=system, \n",
    "                                        GPCR_UniProt=GPCR[system], accept_guess=True, \n",
    "                                        no_disk=True,allow_partial_sites=True,\n",
    "                                        CGN_UniProt=CGN.get(system, None),figures=False,\n",
    "                                        fragments=\"chains\")[\"selected 3.77 distances\"]"
   ]
  },
  {
   "cell_type": "code",
   "execution_count": null,
   "id": "546da2c8-f019-4ec5-b5e7-e7c20ada33bf",
   "metadata": {},
   "outputs": [],
   "source": [
    "fig, ax, plotted_labels, repframes = mdciao.plots.compare_violins(site_337, defrag=None, \n",
    "                                                                  AA_format=\"try_consensus\",                                         \n",
    "                                                                  anchor=\"3.37\",\n",
    "                                                                  sort_by=\"consensus\",\n",
    "                                                                  representatives=True,\n",
    "                                                                  ctc_cutoff_Ang=4.5,\n",
    "                                       );"
   ]
  },
  {
   "cell_type": "markdown",
   "id": "6ff1835e-f09b-430c-9f1d-6ce3e7884b70",
   "metadata": {},
   "source": [
    "We see that the distances for`4.60, 5.42`, and `5.43` for `mor@muor, b2ar@Gs, y1_apo` virtually never cross the 4 Å cutoff.\n",
    "\n",
    "Also note that by using `representatives=True` we have triggered some things in the violin plots. For each system, we have tried to locate a frame in the trajectory in which the shown residue-residue distances adopt values close to the most likely value (=where the violin is widest). You can read about these representative frames here: [ContactGroup.repframes](https://proteinformatics.uni-leipzig.de/mdciao/api/generated/generated/mdciao.contacts.ContactGroup.html#mdciao.contacts.ContactGroup.repframes).\n",
    "\n",
    "These frames are represented as dots inside the individual violins and also as returned geometries in form of `mdtraj` [trajectories](https://www.mdtraj.org/1.9.8.dev0/api/generated/mdtraj.Trajectory.html#mdtraj.Trajectory) (stored in the `repframes` returned value) which we can visualize in 3D. "
   ]
  },
  {
   "cell_type": "markdown",
   "id": "d33afa18-f164-4bc6-9286-a060703320ee",
   "metadata": {},
   "source": [
    "## Visualizing Representative Frames"
   ]
  },
  {
   "cell_type": "markdown",
   "id": "a1d1a253-5c2b-43da-b550-ea12f9e670a9",
   "metadata": {},
   "source": [
    "The first thing we note is that geometries won't be aligned, because they're all coming from different simulations. Also, `b2ar@Gs` has the whole G-protein as well."
   ]
  },
  {
   "cell_type": "code",
   "execution_count": null,
   "id": "161e2a91-586c-420f-bc80-52b7f49bfd02",
   "metadata": {},
   "outputs": [],
   "source": [
    "import nglview\n",
    "from matplotlib import colors as mplcolors\n",
    "colors = mdciao.plots.color_dict_guesser(\"tab10\", repframes.keys())\n",
    "iwd = nglview.NGLWidget()\n",
    "for ii, (system, geom) in enumerate(repframes.items()):\n",
    "    iwd.add_trajectory(geom)#, [[gpcr_idxs]]), title=\"test\")\n",
    "    iwd.clear_representations(component=ii)\n",
    "    iwd.add_cartoon(component=ii, color=mplcolors.to_hex(colors[system]), name=system, radius=.1)\n",
    "iwd"
   ]
  },
  {
   "cell_type": "markdown",
   "id": "88fbd034-1b0a-45ec-bf7c-685e34f4d85e",
   "metadata": {},
   "source": [
    "To produce a high quality alignment of the receptor structures, even with low primary-sequence identity, we can arrive at a multiple-sequence-alignment (MSA) via the consensus labels, which act as a proxy for sequence identity. For this, we use `mdciao`'s [AlignerConsensus](https://proteinformatics.uni-leipzig.de/mdciao/api/generated/generated/mdciao.nomenclature.AlignerConsensus.html#mdciao.nomenclature.AlignerConsensus) class. There's a whole notebook about them [here](https://proteinformatics.uni-leipzig.de/mdciao/notebooks/06.MSA_via_Consensus_Labels.html)."
   ]
  },
  {
   "cell_type": "code",
   "execution_count": null,
   "id": "9354bc23-4e1c-4a85-988b-d503330b292c",
   "metadata": {},
   "outputs": [],
   "source": [
    "AC = mdciao.nomenclature.AlignerConsensus(GPCR, tops={key : val.top for key, val in repframes.items()})"
   ]
  },
  {
   "cell_type": "markdown",
   "id": "30dad007-8850-46c9-ba98-36c24dd29857",
   "metadata": {},
   "source": [
    "Now that we have the [AlignerConsensus](https://proteinformatics.uni-leipzig.de/mdciao/api/generated/generated/mdciao.nomenclature.AlignerConsensus.html#mdciao.nomenclature.AlignerConsensus) object, we can use the [sequence_match](https://proteinformatics.uni-leipzig.de/mdciao/api/generated/generated/mdciao.nomenclature.AlignerConsensus.html#mdciao.nomenclature.AlignerConsensus.sequence_match) method to get an overview of how different the primary sequences are:  "
   ]
  },
  {
   "cell_type": "code",
   "execution_count": null,
   "id": "dcf4824f-ae82-401e-aa36-d1ef7d8417ac",
   "metadata": {},
   "outputs": [],
   "source": [
    "AC.sequence_match()"
   ]
  },
  {
   "cell_type": "markdown",
   "id": "58762679-a4aa-4f94-bf01-8b681854f3f5",
   "metadata": {},
   "source": [
    "We can do a lot of things with the `AC` object, e.g. this is the consensus-MSA for TM3"
   ]
  },
  {
   "cell_type": "code",
   "execution_count": null,
   "id": "88ff85af-ca16-461d-a93c-bcdcaf56af19",
   "metadata": {},
   "outputs": [],
   "source": [
    "AC.AAresSeq_match(\"3.*\")"
   ]
  },
  {
   "cell_type": "markdown",
   "id": "3c7d702b-cac3-4daa-9d63-00a1f547a5b2",
   "metadata": {},
   "source": [
    "### Superpose Geometries"
   ]
  },
  {
   "cell_type": "markdown",
   "id": "f8fe670f-b0de-4bc3-a5ba-7355b4178907",
   "metadata": {},
   "source": [
    "For the alignment we use the selection \"?.\\*,-6.\\*,8.*\" which selects all TMs, except TM6 and H8:\n"
   ]
  },
  {
   "cell_type": "code",
   "execution_count": null,
   "id": "95922eb0-f403-4653-9db2-a4542fa99f55",
   "metadata": {},
   "outputs": [],
   "source": [
    "CA_idxs = AC.CAidxs_match(\"?.*,-6.*,8.*\")"
   ]
  },
  {
   "cell_type": "code",
   "execution_count": null,
   "id": "ebf79b85-a3af-4f9c-99b5-b957e89c3284",
   "metadata": {},
   "outputs": [],
   "source": [
    "ref_key = \"b2ar@Gs\"\n",
    "for ii, (system, geom) in enumerate(repframes.items()):\n",
    "    if system!=ref_key:\n",
    "        geom.superpose(repframes[ref_key], atom_indices=CA_idxs[system], ref_atom_indices=CA_idxs[ref_key])"
   ]
  },
  {
   "cell_type": "markdown",
   "id": "27202b0e-bb76-45f4-bdfd-a5530223284b",
   "metadata": {},
   "source": [
    "### Show Geometries"
   ]
  },
  {
   "cell_type": "code",
   "execution_count": null,
   "id": "26c01618-af29-4101-b39b-02e283d82221",
   "metadata": {},
   "outputs": [],
   "source": [
    "iwd = nglview.NGLWidget()\n",
    "for ii, (system, geom) in enumerate(repframes.items()):\n",
    "    iwd.add_trajectory(geom)\n",
    "    iwd.clear_representations(component=ii)\n",
    "    iwd.add_cartoon(component=ii, color=mplcolors.to_hex(colors[system]), name=system, radius=.1)    \n",
    "iwd"
   ]
  },
  {
   "cell_type": "markdown",
   "id": "fcce49a5-3973-41ae-873d-024b475fee2c",
   "metadata": {},
   "source": [
    "### Show 3.37's neighborhood\n",
    "Finally, we fine-tune the 3D representation to include the most varying contacts of `3.37`: `4.60, 5.42`, and `5.43`, which we show first as a table across the four systems:"
   ]
  },
  {
   "cell_type": "code",
   "execution_count": null,
   "id": "6e4f3930-3554-4919-a46b-8f385c724db5",
   "metadata": {},
   "outputs": [],
   "source": [
    "show=[\"3.37\",\"4.60\", \"5.42\", \"5.43\"]\n",
    "AC.AAresSeq_match(\",\".join(show))"
   ]
  },
  {
   "cell_type": "code",
   "execution_count": null,
   "id": "0c0c91c9-5b7a-4baf-9aa5-45bcf0d521ae",
   "metadata": {},
   "outputs": [],
   "source": [
    "iwd = nglview.NGLWidget()\n",
    "ref_key = \"b2ar@Gs\"\n",
    "for ii, (system, geom) in enumerate(repframes.items()):\n",
    "    iwd.add_trajectory(geom, title=system)\n",
    "    iwd.clear_representations(component=ii)\n",
    "    iwd.add_cartoon(component=ii, color=mplcolors.to_hex(colors[system]), name=system, radius=.1)\n",
    "    AAs = \" \".join([GPCR[system].conlab2AA[jj][1:] for jj in show])\n",
    "    iwd.add_licorice(component=ii, selection=f\"({AAs}) and not Hydrogen\", radius=.5, color=mplcolors.to_hex(colors[system]))\n",
    "iwd.gui_style = \"ngl\"\n",
    "iwd"
   ]
  },
  {
   "cell_type": "markdown",
   "id": "ef91148b-d044-41ab-94cc-69af5ea49718",
   "metadata": {},
   "source": [
    "From the 3D plot above we can make some observations, most clearly we note that ghrelin@ghsr has the bulikest residue, `Y128@3.50`, which is pointing straight down to a region where TM5 appears to have a bulge, precisely towards the `3.50` position, something the other TM5s don't have. "
   ]
  },
  {
   "cell_type": "markdown",
   "id": "fa8f6b4a-95ee-4c3c-9f98-75bba7050e9e",
   "metadata": {},
   "source": [
    "## Final Remarks\n",
    "    \n",
    "Some final observations\n",
    "\n",
    "* The point of this notebook isn't to arrive at a particular finding but rather to showcase the utility of streamilining the contact-analysis across diffeent systems using consensus nomenclature.\n",
    "\n",
    "* We have kept the system names as they are downloaded with [mdciao.examples.fetch_example_data](https://proteinformatics.uni-leipzig.de/mdciao/api/generated/generated/mdciao.examples.fetch_example_data.html#mdciao-examples-fetch-example-data), because they all follow the convention of having a `traj.xtc` and `top.pdb` files, but you can map any topology and trajectory files using aliases and dictionaries:\n",
    "  \n",
    "   ```python\n",
    "   alias = {\"b2ar@Gs\" :       \"adrb2\", \n",
    "             \"ghrelin@ghsr\" : \"ghsr\",\n",
    "             \"mor@muor\" :     \"muor\", \n",
    "             \"y1_apo\" :       \"y1\"\n",
    "           }\n",
    "    #these are just examples of possible other topology filenames.\n",
    "    top = {\"adrb2\" :   \"adrb2/prot1.pdb\",  \n",
    "           \"ghsr\" :    \"ghrelin/system.pdb\", \n",
    "           \"muor\" :    \"muor/muor.pdb\", \n",
    "           \"y1\"   :    \"y1/top.pdb\"\n",
    "          }\n",
    "    #these are just examples of possible other trajectory filenames.\n",
    "    trajs = {\"adrb2\" :   \"adrb2/traj.xtc\",  \n",
    "            \"ghsr\" :     \"ghrelin/traj1.xtc\", \"ghrelin/traj2.xtc\",\n",
    "            \"muor\" :     \"muor/run*.xtc\", \n",
    "            \"y1\"   :     \"y1/run1.xtc\"\n",
    "          }\n",
    "\n",
    "   ```\n",
    "\n",
    "* Althouth the trajectories we have been using are similar in number of frames, they are wildly different in simulated physical length, s.o there isn't really much physical or biological sense in comparing them other than for this demo:\n",
    "\n",
    "```\n",
    "  * b2ar@Gs:      280 frames, dt = 10ps, 2.8ns  in total\n",
    "  * ghrelin@ghsr: 411 frames, dt = 10ns, 41μs   in total\n",
    "  * mor@muor:     400 frames, dt = 10ns, 40μs   in total\n",
    "  * y1_apo:       528 frames, dt = 50ns, 26.4ns in total\n",
    "```\n"
   ]
  },
  {
   "cell_type": "code",
   "execution_count": null,
   "id": "e769df06-e6c7-49f0-8acf-ff17860dcf15",
   "metadata": {},
   "outputs": [],
   "source": []
  }
 ],
 "metadata": {
  "kernelspec": {
   "display_name": "Python 3 (ipykernel)",
   "language": "python",
   "name": "python3"
  },
  "language_info": {
   "codemirror_mode": {
    "name": "ipython",
    "version": 3
   },
   "file_extension": ".py",
   "mimetype": "text/x-python",
   "name": "python",
   "nbconvert_exporter": "python",
   "pygments_lexer": "ipython3",
   "version": "3.11.8"
  },
  "widgets": {
   "application/vnd.jupyter.widget-state+json": {
    "state": {},
    "version_major": 2,
    "version_minor": 0
   }
  }
 },
 "nbformat": 4,
 "nbformat_minor": 5
}
