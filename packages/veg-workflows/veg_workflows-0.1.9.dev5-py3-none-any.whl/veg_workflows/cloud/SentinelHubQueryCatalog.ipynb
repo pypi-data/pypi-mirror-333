{
 "cells": [
  {
   "cell_type": "code",
   "execution_count": 1,
   "metadata": {},
   "outputs": [],
   "source": [
    "%reset -f\n",
    "%load_ext autoreload\n",
    "%autoreload 2"
   ]
  },
  {
   "cell_type": "code",
   "execution_count": 45,
   "metadata": {},
   "outputs": [],
   "source": [
    "from oauthlib.oauth2 import BackendApplicationClient\n",
    "from requests_oauthlib import OAuth2Session\n",
    "from sentinelhub import CRS, BBox, DataCollection, SHConfig\n",
    "from sentinelhub import SentinelHubCatalog\n",
    "import os\n",
    "from dotenv import load_dotenv\n",
    "import getpass\n",
    "from pathlib import Path"
   ]
  },
  {
   "cell_type": "code",
   "execution_count": 3,
   "metadata": {},
   "outputs": [],
   "source": [
    "USERNAME = getpass.getuser()\n",
    "\n",
    "# Load environment variables from .env file\n",
    "env_path = Path(f\"/data/users/Private/{USERNAME}/configs/shub.env\")\n",
    "if env_path.exists():\n",
    "    load_dotenv(env_path)\n",
    "else:\n",
    "    raise FileNotFoundError(f\"The environment file {env_path} does not exist.\")\n",
    "\n",
    "# Your client credentials\n",
    "sh_client_id = os.getenv(\"SH_CLIENT_ID\")\n",
    "sh_client_secret = os.getenv(\"SH_CLIENT_SECRET\")"
   ]
  },
  {
   "cell_type": "code",
   "execution_count": 4,
   "metadata": {},
   "outputs": [],
   "source": [
    "# Create a session\n",
    "client = BackendApplicationClient(client_id=sh_client_id)\n",
    "oauth = OAuth2Session(client=client)"
   ]
  },
  {
   "cell_type": "code",
   "execution_count": 5,
   "metadata": {},
   "outputs": [],
   "source": [
    "# Get token for the session\n",
    "token = oauth.fetch_token(\n",
    "    token_url=\"https://services.sentinel-hub.com/auth/realms/main/protocol/openid-connect/token\",\n",
    "    client_secret=sh_client_secret,\n",
    "    include_client_id=True,\n",
    ")"
   ]
  },
  {
   "cell_type": "code",
   "execution_count": 6,
   "metadata": {},
   "outputs": [
    {
     "name": "stdout",
     "output_type": "stream",
     "text": [
      "b'[{\"@id\":\"https://services.sentinel-hub.com/configuration/v1/wms/instances/200b04af-a4d2-4322-958c-e7fea1350e15\",\"id\":\"200b04af-a4d2-4322-958c-e7fea1350e15\",\"name\":\"Sentinel 2 WMS template\",\"domainAccountId\":\"781dd599-0e3f-4269-a4de-8a7dfe3aba76\",\"additionalData\":{\"showWarnings\":true,\"showLogo\":true,\"imageQuality\":90},\"created\":\"2024-10-07T07:47:22.745953Z\",\"lastUpdated\":\"2024-10-07T07:47:22.745953Z\",\"layers\":{\"@id\":\"https://services.sentinel-hub.com/configuration/v1/wms/instances/200b04af-a4d2-4322-958c-e7fea1350e15/layers\"}},{\"@id\":\"https://services.sentinel-hub.com/configuration/v1/wms/instances/8d17be5a-c9a7-4a5c-9bea-3764d8dd54d5\",\"id\":\"8d17be5a-c9a7-4a5c-9bea-3764d8dd54d5\",\"name\":\"Planet Sandbox Data template\",\"domainAccountId\":\"781dd599-0e3f-4269-a4de-8a7dfe3aba76\",\"additionalData\":{\"showWarnings\":true,\"showLogo\":true,\"imageQuality\":90,\"disabled\":false},\"created\":\"2024-10-07T07:47:22.973496Z\",\"lastUpdated\":\"2024-10-07T07:47:22.973496Z\",\"layers\":{\"@id\":\"https://services.sentinel-hub.com/configuration/v1/wms/instances/8d17be5a-c9a7-4a5c-9bea-3764d8dd54d5/layers\"}}]'\n"
     ]
    }
   ],
   "source": [
    "# All requests using this session will have an access token automatically added\n",
    "resp = oauth.get(\n",
    "    \"https://services.sentinel-hub.com/configuration/v1/wms/instances\"\n",
    ")\n",
    "print(resp.content)"
   ]
  },
  {
   "cell_type": "code",
   "execution_count": 7,
   "metadata": {},
   "outputs": [
    {
     "name": "stdout",
     "output_type": "stream",
     "text": [
      "Config made: {\n",
      "  \"instance_id\": \"\",\n",
      "  \"sh_client_id\": \"********************************f99a\",\n",
      "  \"sh_client_secret\": \"****************************dNn4\",\n",
      "  \"sh_base_url\": \"https://services.sentinel-hub.com\",\n",
      "  \"sh_auth_base_url\": null,\n",
      "  \"sh_token_url\": \"https://services.sentinel-hub.com/auth/realms/main/protocol/openid-connect/token\",\n",
      "  \"geopedia_wms_url\": \"https://service.geopedia.world\",\n",
      "  \"geopedia_rest_url\": \"https://www.geopedia.world/rest\",\n",
      "  \"aws_access_key_id\": \"\",\n",
      "  \"aws_secret_access_key\": \"\",\n",
      "  \"aws_session_token\": \"\",\n",
      "  \"aws_metadata_url\": \"https://roda.sentinel-hub.com\",\n",
      "  \"aws_s3_l1c_bucket\": \"sentinel-s2-l1c\",\n",
      "  \"aws_s3_l2a_bucket\": \"sentinel-s2-l2a\",\n",
      "  \"opensearch_url\": \"http://opensearch.sentinel-hub.com/resto/api/collections/Sentinel2\",\n",
      "  \"max_wfs_records_per_query\": 100,\n",
      "  \"max_opensearch_records_per_query\": 500,\n",
      "  \"max_download_attempts\": 4,\n",
      "  \"download_sleep_time\": 5.0,\n",
      "  \"download_timeout_seconds\": 120.0,\n",
      "  \"number_of_download_processes\": 1,\n",
      "  \"max_retries\": null\n",
      "}\n"
     ]
    }
   ],
   "source": [
    "config = SHConfig(\n",
    "    sh_client_id=sh_client_id,\n",
    "    sh_client_secret=sh_client_secret,\n",
    ")\n",
    "print(f\"Config made: {config}\")"
   ]
  },
  {
   "cell_type": "code",
   "execution_count": 8,
   "metadata": {},
   "outputs": [
    {
     "name": "stdout",
     "output_type": "stream",
     "text": [
      "Catalog: <sentinelhub.api.catalog.SentinelHubCatalog object at 0x7f6f87e21690>\n"
     ]
    }
   ],
   "source": [
    "# Get catalog info\n",
    "catalog = SentinelHubCatalog(config=config)\n",
    "catalog.get_info()\n",
    "print(f\"Catalog: {catalog}\")"
   ]
  },
  {
   "cell_type": "code",
   "execution_count": 9,
   "metadata": {},
   "outputs": [
    {
     "name": "stdout",
     "output_type": "stream",
     "text": [
      "Sentinel 2 L2A collections: {'stac_version': '1.0.0', 'stac_extensions': ['https://stac-extensions.github.io/scientific/v1.0.0/schema.json', 'https://stac-extensions.github.io/eo/v1.0.0/schema.json'], 'type': 'Collection', 'id': 'sentinel-2-l2a', 'title': 'Sentinel 2 L2A', 'description': 'Sentinel 2 imagery processed to level 2A', 'sci:citation': 'Modified Copernicus Sentinel data [Year]/Sentinel Hub', 'license': 'proprietary', 'providers': [{'name': 'ESA', 'roles': ['producer'], 'url': 'https://esa.int/'}, {'name': 'AWS', 'roles': ['host'], 'url': 'https://aws.amazon.com/'}, {'name': 'Sinergise', 'roles': ['processor'], 'url': 'https://www.sinergise.com/'}], 'extent': {'spatial': {'bbox': [[-180.0, -56.0, 180.0, 83.0]]}, 'temporal': {'interval': [['2016-11-01T00:00:00Z', None]]}}, 'summaries': {'platform': ['sentinel-2a', 'sentinel-2b', 'sentinel-2c'], 'instrument': ['msi'], 'constellation': ['sentinel-2'], 'gsd': [10], 'eo:cloud_cover': {'minimum': 0, 'maximum': 100}, 'eo:bands': [{'name': 'B01', 'common_name': 'coastal', 'center_wavelength': 0.4427, 'full_width_half_max': 0.021}, {'name': 'B02', 'common_name': 'blue', 'center_wavelength': 0.4924, 'full_width_half_max': 0.066}, {'name': 'B03', 'common_name': 'green', 'center_wavelength': 0.5598, 'full_width_half_max': 0.036}, {'name': 'B04', 'common_name': 'red', 'center_wavelength': 0.6646, 'full_width_half_max': 0.031}, {'name': 'B05', 'center_wavelength': 0.7041, 'full_width_half_max': 0.015}, {'name': 'B06', 'center_wavelength': 0.7405, 'full_width_half_max': 0.015}, {'name': 'B07', 'center_wavelength': 0.7828, 'full_width_half_max': 0.02}, {'name': 'B08', 'common_name': 'nir', 'center_wavelength': 0.8328, 'full_width_half_max': 0.106}, {'name': 'B8A', 'common_name': 'nir08', 'center_wavelength': 0.8647, 'full_width_half_max': 0.021}, {'name': 'B09', 'common_name': 'nir09', 'center_wavelength': 0.9451, 'full_width_half_max': 0.02}, {'name': 'B11', 'common_name': 'swir16', 'center_wavelength': 1.6137, 'full_width_half_max': 0.091}, {'name': 'B12', 'common_name': 'swir22', 'center_wavelength': 2.2024, 'full_width_half_max': 0.175}]}, 'links': [{'href': 'https://services.sentinel-hub.com/api/v1/catalog/1.0.0/', 'rel': 'root', 'type': 'application/json'}, {'href': 'https://services.sentinel-hub.com/api/v1/catalog/1.0.0/collections/sentinel-2-l2a', 'rel': 'self', 'type': 'application/json'}, {'href': 'https://services.sentinel-hub.com/api/v1/catalog/1.0.0/collections', 'rel': 'parent', 'type': 'application/json'}, {'href': 'https://services.sentinel-hub.com/api/v1/catalog/1.0.0/collections/sentinel-2-l2a/queryables', 'rel': 'http://www.opengis.net/def/rel/ogc/1.0/queryables', 'type': 'application/schema+json'}, {'href': 'https://services.sentinel-hub.com/api/v1/catalog/1.0.0/collections/sentinel-2-l2a/items', 'rel': 'items', 'type': 'application/geo+json'}]}\n"
     ]
    }
   ],
   "source": [
    "# Get collections \n",
    "collections = catalog.get_collections()\n",
    "collections = [\n",
    "    collection\n",
    "    for collection in collections\n",
    "    if not collection[\"id\"].startswith((\"byoc\", \"batch\"))\n",
    "]\n",
    "s2_coll = collections[2]\n",
    "print(f\"Sentinel 2 L2A collections: {s2_coll}\")"
   ]
  },
  {
   "cell_type": "code",
   "execution_count": 11,
   "metadata": {},
   "outputs": [
    {
     "data": {
      "text/plain": [
       "{'stac_version': '1.0.0',\n",
       " 'stac_extensions': ['https://stac-extensions.github.io/scientific/v1.0.0/schema.json',\n",
       "  'https://stac-extensions.github.io/eo/v1.0.0/schema.json'],\n",
       " 'type': 'Collection',\n",
       " 'id': 'sentinel-2-l2a',\n",
       " 'title': 'Sentinel 2 L2A',\n",
       " 'description': 'Sentinel 2 imagery processed to level 2A',\n",
       " 'sci:citation': 'Modified Copernicus Sentinel data [Year]/Sentinel Hub',\n",
       " 'license': 'proprietary',\n",
       " 'providers': [{'name': 'ESA',\n",
       "   'roles': ['producer'],\n",
       "   'url': 'https://esa.int/'},\n",
       "  {'name': 'AWS', 'roles': ['host'], 'url': 'https://aws.amazon.com/'},\n",
       "  {'name': 'Sinergise',\n",
       "   'roles': ['processor'],\n",
       "   'url': 'https://www.sinergise.com/'}],\n",
       " 'extent': {'spatial': {'bbox': [[-180.0, -56.0, 180.0, 83.0]]},\n",
       "  'temporal': {'interval': [['2016-11-01T00:00:00Z', None]]}},\n",
       " 'summaries': {'platform': ['sentinel-2a', 'sentinel-2b', 'sentinel-2c'],\n",
       "  'instrument': ['msi'],\n",
       "  'constellation': ['sentinel-2'],\n",
       "  'gsd': [10],\n",
       "  'eo:cloud_cover': {'minimum': 0, 'maximum': 100},\n",
       "  'eo:bands': [{'name': 'B01',\n",
       "    'common_name': 'coastal',\n",
       "    'center_wavelength': 0.4427,\n",
       "    'full_width_half_max': 0.021},\n",
       "   {'name': 'B02',\n",
       "    'common_name': 'blue',\n",
       "    'center_wavelength': 0.4924,\n",
       "    'full_width_half_max': 0.066},\n",
       "   {'name': 'B03',\n",
       "    'common_name': 'green',\n",
       "    'center_wavelength': 0.5598,\n",
       "    'full_width_half_max': 0.036},\n",
       "   {'name': 'B04',\n",
       "    'common_name': 'red',\n",
       "    'center_wavelength': 0.6646,\n",
       "    'full_width_half_max': 0.031},\n",
       "   {'name': 'B05', 'center_wavelength': 0.7041, 'full_width_half_max': 0.015},\n",
       "   {'name': 'B06', 'center_wavelength': 0.7405, 'full_width_half_max': 0.015},\n",
       "   {'name': 'B07', 'center_wavelength': 0.7828, 'full_width_half_max': 0.02},\n",
       "   {'name': 'B08',\n",
       "    'common_name': 'nir',\n",
       "    'center_wavelength': 0.8328,\n",
       "    'full_width_half_max': 0.106},\n",
       "   {'name': 'B8A',\n",
       "    'common_name': 'nir08',\n",
       "    'center_wavelength': 0.8647,\n",
       "    'full_width_half_max': 0.021},\n",
       "   {'name': 'B09',\n",
       "    'common_name': 'nir09',\n",
       "    'center_wavelength': 0.9451,\n",
       "    'full_width_half_max': 0.02},\n",
       "   {'name': 'B11',\n",
       "    'common_name': 'swir16',\n",
       "    'center_wavelength': 1.6137,\n",
       "    'full_width_half_max': 0.091},\n",
       "   {'name': 'B12',\n",
       "    'common_name': 'swir22',\n",
       "    'center_wavelength': 2.2024,\n",
       "    'full_width_half_max': 0.175}]},\n",
       " 'links': [{'href': 'https://services.sentinel-hub.com/api/v1/catalog/1.0.0/',\n",
       "   'rel': 'root',\n",
       "   'type': 'application/json'},\n",
       "  {'href': 'https://services.sentinel-hub.com/api/v1/catalog/1.0.0/collections/sentinel-2-l2a',\n",
       "   'rel': 'self',\n",
       "   'type': 'application/json'},\n",
       "  {'href': 'https://services.sentinel-hub.com/api/v1/catalog/1.0.0/collections',\n",
       "   'rel': 'parent',\n",
       "   'type': 'application/json'},\n",
       "  {'href': 'https://services.sentinel-hub.com/api/v1/catalog/1.0.0/collections/sentinel-2-l2a/queryables',\n",
       "   'rel': 'http://www.opengis.net/def/rel/ogc/1.0/queryables',\n",
       "   'type': 'application/schema+json'},\n",
       "  {'href': 'https://services.sentinel-hub.com/api/v1/catalog/1.0.0/collections/sentinel-2-l2a/items',\n",
       "   'rel': 'items',\n",
       "   'type': 'application/geo+json'}]}"
      ]
     },
     "execution_count": 11,
     "metadata": {},
     "output_type": "execute_result"
    }
   ],
   "source": [
    "s2_coll"
   ]
  },
  {
   "cell_type": "code",
   "execution_count": 12,
   "metadata": {},
   "outputs": [],
   "source": [
    "# lcfm-admin LCFM_100p_S2-tiles.fgb - LCFM_10p_S2-tiles.fgb\n",
    "#"
   ]
  },
  {
   "cell_type": "code",
   "execution_count": 16,
   "metadata": {},
   "outputs": [
    {
     "data": {
      "text/html": [
       "<div>\n",
       "<style scoped>\n",
       "    .dataframe tbody tr th:only-of-type {\n",
       "        vertical-align: middle;\n",
       "    }\n",
       "\n",
       "    .dataframe tbody tr th {\n",
       "        vertical-align: top;\n",
       "    }\n",
       "\n",
       "    .dataframe thead th {\n",
       "        text-align: right;\n",
       "    }\n",
       "</style>\n",
       "<table border=\"1\" class=\"dataframe\">\n",
       "  <thead>\n",
       "    <tr style=\"text-align: right;\">\n",
       "      <th></th>\n",
       "      <th>epsg</th>\n",
       "      <th>tile</th>\n",
       "      <th>bounds</th>\n",
       "      <th>geometry</th>\n",
       "    </tr>\n",
       "  </thead>\n",
       "  <tbody>\n",
       "    <tr>\n",
       "      <th>0</th>\n",
       "      <td>32759</td>\n",
       "      <td>59FLB</td>\n",
       "      <td>(300000.0, 4090240.0, 409800.0, 4200040.0)</td>\n",
       "      <td>POLYGON ((168.06583 -52.31348, 169.67594 -52.3...</td>\n",
       "    </tr>\n",
       "    <tr>\n",
       "      <th>1</th>\n",
       "      <td>32758</td>\n",
       "      <td>58FEJ</td>\n",
       "      <td>(499980.0, 4290220.0, 609780.0, 4400020.0)</td>\n",
       "      <td>POLYGON ((164.99972 -50.55175, 166.54931 -50.5...</td>\n",
       "    </tr>\n",
       "    <tr>\n",
       "      <th>2</th>\n",
       "      <td>32757</td>\n",
       "      <td>57FWV</td>\n",
       "      <td>(499980.0, 3890200.0, 609780.0, 4000000.0)</td>\n",
       "      <td>POLYGON ((158.99969 -54.1481, 160.68034 -54.13...</td>\n",
       "    </tr>\n",
       "    <tr>\n",
       "      <th>3</th>\n",
       "      <td>32757</td>\n",
       "      <td>57FVV</td>\n",
       "      <td>(399960.0, 3890200.0, 509760.0, 4000000.0)</td>\n",
       "      <td>POLYGON ((157.46869 -54.13837, 159.14943 -54.1...</td>\n",
       "    </tr>\n",
       "    <tr>\n",
       "      <th>4</th>\n",
       "      <td>32757</td>\n",
       "      <td>57FVU</td>\n",
       "      <td>(399960.0, 3790240.0, 509760.0, 3900040.0)</td>\n",
       "      <td>POLYGON ((157.43462 -55.03638, 159.15275 -55.0...</td>\n",
       "    </tr>\n",
       "    <tr>\n",
       "      <th>...</th>\n",
       "      <td>...</td>\n",
       "      <td>...</td>\n",
       "      <td>...</td>\n",
       "      <td>...</td>\n",
       "    </tr>\n",
       "    <tr>\n",
       "      <th>18361</th>\n",
       "      <td>32709</td>\n",
       "      <td>09JUN</td>\n",
       "      <td>(300000.0, 7190200.0, 409800.0, 7300000.0)</td>\n",
       "      <td>POLYGON ((-130.97225 -24.40058, -129.88965 -24...</td>\n",
       "    </tr>\n",
       "    <tr>\n",
       "      <th>18362</th>\n",
       "      <td>32707</td>\n",
       "      <td>07JBK</td>\n",
       "      <td>(199980.0, 6890200.0, 309780.0, 7000000.0)</td>\n",
       "      <td>POLYGON ((-144.02551 -27.08988, -142.9189 -27....</td>\n",
       "    </tr>\n",
       "    <tr>\n",
       "      <th>18363</th>\n",
       "      <td>32706</td>\n",
       "      <td>06JYQ</td>\n",
       "      <td>(699960.0, 6890200.0, 809760.0, 7000000.0)</td>\n",
       "      <td>POLYGON ((-144.9829 -27.10799, -143.87638 -27....</td>\n",
       "    </tr>\n",
       "    <tr>\n",
       "      <th>18364</th>\n",
       "      <td>32701</td>\n",
       "      <td>01GEM</td>\n",
       "      <td>(499980.0, 5090200.0, 609780.0, 5200000.0)</td>\n",
       "      <td>POLYGON ((-177.00025 -43.35286, -175.64555 -43...</td>\n",
       "    </tr>\n",
       "    <tr>\n",
       "      <th>18365</th>\n",
       "      <td>32701</td>\n",
       "      <td>01GEL</td>\n",
       "      <td>(499980.0, 4990240.0, 609780.0, 5100040.0)</td>\n",
       "      <td>POLYGON ((-177.00025 -44.25288, -175.62507 -44...</td>\n",
       "    </tr>\n",
       "  </tbody>\n",
       "</table>\n",
       "<p>18366 rows × 4 columns</p>\n",
       "</div>"
      ],
      "text/plain": [
       "        epsg   tile                                      bounds  \\\n",
       "0      32759  59FLB  (300000.0, 4090240.0, 409800.0, 4200040.0)   \n",
       "1      32758  58FEJ  (499980.0, 4290220.0, 609780.0, 4400020.0)   \n",
       "2      32757  57FWV  (499980.0, 3890200.0, 609780.0, 4000000.0)   \n",
       "3      32757  57FVV  (399960.0, 3890200.0, 509760.0, 4000000.0)   \n",
       "4      32757  57FVU  (399960.0, 3790240.0, 509760.0, 3900040.0)   \n",
       "...      ...    ...                                         ...   \n",
       "18361  32709  09JUN  (300000.0, 7190200.0, 409800.0, 7300000.0)   \n",
       "18362  32707  07JBK  (199980.0, 6890200.0, 309780.0, 7000000.0)   \n",
       "18363  32706  06JYQ  (699960.0, 6890200.0, 809760.0, 7000000.0)   \n",
       "18364  32701  01GEM  (499980.0, 5090200.0, 609780.0, 5200000.0)   \n",
       "18365  32701  01GEL  (499980.0, 4990240.0, 609780.0, 5100040.0)   \n",
       "\n",
       "                                                geometry  \n",
       "0      POLYGON ((168.06583 -52.31348, 169.67594 -52.3...  \n",
       "1      POLYGON ((164.99972 -50.55175, 166.54931 -50.5...  \n",
       "2      POLYGON ((158.99969 -54.1481, 160.68034 -54.13...  \n",
       "3      POLYGON ((157.46869 -54.13837, 159.14943 -54.1...  \n",
       "4      POLYGON ((157.43462 -55.03638, 159.15275 -55.0...  \n",
       "...                                                  ...  \n",
       "18361  POLYGON ((-130.97225 -24.40058, -129.88965 -24...  \n",
       "18362  POLYGON ((-144.02551 -27.08988, -142.9189 -27....  \n",
       "18363  POLYGON ((-144.9829 -27.10799, -143.87638 -27....  \n",
       "18364  POLYGON ((-177.00025 -43.35286, -175.64555 -43...  \n",
       "18365  POLYGON ((-177.00025 -44.25288, -175.62507 -44...  \n",
       "\n",
       "[18366 rows x 4 columns]"
      ]
     },
     "execution_count": 16,
     "metadata": {},
     "output_type": "execute_result"
    }
   ],
   "source": [
    "import geopandas as gpd\n",
    "\n",
    "shapefiles_path = \"/home/kalfasyan/Private/repos/lcfm-admin/shapefiles\"\n",
    "gdf100 = gpd.read_file(f\"{shapefiles_path}/LCFM_100p_S2-tiles.fgb\")\n",
    "# eval(gdf100['bounds'].iloc[0]) - to create a bounding box\n",
    "# crs - use epsg column\n",
    "gdf100"
   ]
  },
  {
   "cell_type": "code",
   "execution_count": 49,
   "metadata": {},
   "outputs": [
    {
     "name": "stdout",
     "output_type": "stream",
     "text": [
      "First tile: 59FLB\n"
     ]
    },
    {
     "data": {
      "text/plain": [
       "<Projected CRS: EPSG:32759>\n",
       "Name: WGS 84 / UTM zone 59S\n",
       "Axis Info [cartesian]:\n",
       "- E[east]: Easting (metre)\n",
       "- N[north]: Northing (metre)\n",
       "Area of Use:\n",
       "- name: Between 168°E and 174°E, southern hemisphere between 80°S and equator, onshore and offshore. New Zealand.\n",
       "- bounds: (168.0, -80.0, 174.0, 0.0)\n",
       "Coordinate Operation:\n",
       "- name: UTM zone 59S\n",
       "- method: Transverse Mercator\n",
       "Datum: World Geodetic System 1984 ensemble\n",
       "- Ellipsoid: WGS 84\n",
       "- Prime Meridian: Greenwich"
      ]
     },
     "execution_count": 49,
     "metadata": {},
     "output_type": "execute_result"
    }
   ],
   "source": [
    "# Let's process the first tile\n",
    "print(f\"First tile: {gdf100.iloc[0].tile}\")\n",
    "tile_info = gdf100.iloc[0]\n",
    "tile_bounds = tile_info['bounds']\n",
    "tile_epsg = tile_info['epsg']\n",
    "# Let's get the CRS from the EPSG code\n",
    "from pyproj import CRS as pCRS\n",
    "crs = pCRS.from_epsg(tile_epsg)\n",
    "crs"
   ]
  },
  {
   "cell_type": "code",
   "execution_count": 79,
   "metadata": {},
   "outputs": [],
   "source": [
    "from sentinelhub import CRS"
   ]
  },
  {
   "cell_type": "code",
   "execution_count": null,
   "metadata": {},
   "outputs": [
    {
     "data": {
      "text/plain": [
       "CRS('32759')"
      ]
     },
     "execution_count": 83,
     "metadata": {},
     "output_type": "execute_result"
    }
   ],
   "source": [
    "# CRS.UTM_59S\n"
   ]
  },
  {
   "cell_type": "code",
   "execution_count": 96,
   "metadata": {},
   "outputs": [],
   "source": [
    "bounds = tuple(gdf100.bounds.iloc[0].to_list())"
   ]
  },
  {
   "cell_type": "code",
   "execution_count": 97,
   "metadata": {},
   "outputs": [
    {
     "name": "stdout",
     "output_type": "stream",
     "text": [
      "Founds results: 0\n"
     ]
    },
    {
     "data": {
      "text/plain": [
       "[]"
      ]
     },
     "execution_count": 97,
     "metadata": {},
     "output_type": "execute_result"
    }
   ],
   "source": [
    "# Example search\n",
    "bbox = BBox(bounds, crs=CRS('32759'))\n",
    "data_collection = DataCollection.SENTINEL2_L2A\n",
    "start_date = \"2020-01-01\"\n",
    "end_date = \"2020-03-31\"\n",
    "# end_date = \"2020-12-31\"\n",
    "time_interval = (start_date, end_date)\n",
    "\n",
    "search_iterator = catalog.search(\n",
    "    collection=data_collection,\n",
    "    bbox=bbox,\n",
    "    time=time_interval,\n",
    "    filter=\"eo:cloud_cover < 90\",\n",
    "    fields={\n",
    "        \"include\": [\"id\", \"properties.datetime\", \"properties.eo:cloud_cover\"], # \n",
    "        \"exclude\": [],\n",
    "    },\n",
    ")\n",
    "\n",
    "results = list(search_iterator)\n",
    "print(f\"Founds results: {len(results)}\")\n",
    "results"
   ]
  },
  {
   "cell_type": "code",
   "execution_count": 15,
   "metadata": {},
   "outputs": [
    {
     "data": {
      "text/plain": [
       "{'stac_version': '1.0.0',\n",
       " 'stac_extensions': ['https://stac-extensions.github.io/eo/v1.0.0/schema.json',\n",
       "  'https://stac-extensions.github.io/projection/v1.0.0/schema.json'],\n",
       " 'id': 'S2A_MSIL2A_20210125T073201_N0214_R049_T39TWK_20210125T105105',\n",
       " 'type': 'Feature',\n",
       " 'geometry': {'type': 'MultiPolygon',\n",
       "  'crs': {'type': 'name',\n",
       "   'properties': {'name': 'urn:ogc:def:crs:OGC::CRS84'}},\n",
       "  'coordinates': [[[[50.99975828238186, 45.15382824779532],\n",
       "     [50.99976235468337, 44.16537549736596],\n",
       "     [52.37288170686682, 44.15712570690993],\n",
       "     [52.39639823709577, 45.14529082814174],\n",
       "     [50.99975828238186, 45.15382824779532]]]]},\n",
       " 'bbox': [50.99975828238186,\n",
       "  44.15712570690993,\n",
       "  52.39639823709577,\n",
       "  45.15382824779532],\n",
       " 'properties': {'datetime': '2021-01-25T07:37:20Z',\n",
       "  'platform': 'sentinel-2a',\n",
       "  'instruments': ['msi'],\n",
       "  'constellation': 'sentinel-2',\n",
       "  'gsd': 10,\n",
       "  'eo:cloud_cover': 0.59,\n",
       "  'proj:epsg': 32639,\n",
       "  'proj:bbox': [499980.0, 4890240.0, 609780.0, 5000040.0],\n",
       "  'proj:geometry': {'type': 'MultiPolygon',\n",
       "   'crs': {'type': 'name',\n",
       "    'properties': {'name': 'urn:ogc:def:crs:EPSG::32639'}},\n",
       "   'coordinates': [[[[499980.99999999994, 5000039.000149707],\n",
       "      [499980.99999999965, 4890241.0001261],\n",
       "      [609779.000001563, 4890241.000125842],\n",
       "      [609779.0000017696, 5000039.000149423],\n",
       "      [499980.99999999994, 5000039.000149707]]]]}},\n",
       " 'assets': {'data': {'href': 's3://sentinel-s2-l2a/tiles/39/T/WK/2021/1/25/0/',\n",
       "   'title': 's3',\n",
       "   'type': 'inode/directory'}},\n",
       " 'collection': 'sentinel-2-l2a',\n",
       " 'links': [{'href': 'https://services.sentinel-hub.com/api/v1/catalog/1.0.0/',\n",
       "   'rel': 'root',\n",
       "   'type': 'application/json'},\n",
       "  {'href': 'https://services.sentinel-hub.com/api/v1/catalog/1.0.0/collections/sentinel-2-l2a/items/S2A_MSIL2A_20210125T073201_N0214_R049_T39TWK_20210125T105105',\n",
       "   'rel': 'self',\n",
       "   'type': 'application/geo+json'},\n",
       "  {'href': 'https://services.sentinel-hub.com/api/v1/catalog/1.0.0/collections/sentinel-2-l2a',\n",
       "   'rel': 'parent',\n",
       "   'type': 'application/json'},\n",
       "  {'href': 'https://services.sentinel-hub.com/api/v1/catalog/1.0.0/collections/sentinel-2-l2a',\n",
       "   'rel': 'collection',\n",
       "   'type': 'application/json'},\n",
       "  {'href': \"https://scihub.copernicus.eu/dhus/odata/v1/Products('d9ae719d-972e-4eb9-afbe-fd927b1d5fa1')/$value\",\n",
       "   'rel': 'derived_from',\n",
       "   'title': 'scihub download'}]}"
      ]
     },
     "execution_count": 15,
     "metadata": {},
     "output_type": "execute_result"
    }
   ],
   "source": [
    "catalog.get_feature(DataCollection.SENTINEL2_L2A, \"S2A_MSIL2A_20210125T073201_N0214_R049_T39TWK_20210125T105105\")"
   ]
  },
  {
   "cell_type": "code",
   "execution_count": 16,
   "metadata": {},
   "outputs": [
    {
     "data": {
      "text/plain": [
       "{'stac_version': '1.0.0',\n",
       " 'stac_extensions': ['https://stac-extensions.github.io/scientific/v1.0.0/schema.json',\n",
       "  'https://stac-extensions.github.io/eo/v1.0.0/schema.json'],\n",
       " 'type': 'Collection',\n",
       " 'id': 'sentinel-2-l2a',\n",
       " 'title': 'Sentinel 2 L2A',\n",
       " 'description': 'Sentinel 2 imagery processed to level 2A',\n",
       " 'sci:citation': 'Modified Copernicus Sentinel data [Year]/Sentinel Hub',\n",
       " 'license': 'proprietary',\n",
       " 'providers': [{'name': 'ESA',\n",
       "   'roles': ['producer'],\n",
       "   'url': 'https://esa.int/'},\n",
       "  {'name': 'AWS', 'roles': ['host'], 'url': 'https://aws.amazon.com/'},\n",
       "  {'name': 'Sinergise',\n",
       "   'roles': ['processor'],\n",
       "   'url': 'https://www.sinergise.com/'}],\n",
       " 'extent': {'spatial': {'bbox': [[-180.0, -56.0, 180.0, 83.0]]},\n",
       "  'temporal': {'interval': [['2016-11-01T00:00:00Z', None]]}},\n",
       " 'summaries': {'platform': ['sentinel-2a', 'sentinel-2b', 'sentinel-2c'],\n",
       "  'instrument': ['msi'],\n",
       "  'constellation': ['sentinel-2'],\n",
       "  'gsd': [10],\n",
       "  'eo:cloud_cover': {'minimum': 0, 'maximum': 100},\n",
       "  'eo:bands': [{'name': 'B01',\n",
       "    'common_name': 'coastal',\n",
       "    'center_wavelength': 0.4427,\n",
       "    'full_width_half_max': 0.021},\n",
       "   {'name': 'B02',\n",
       "    'common_name': 'blue',\n",
       "    'center_wavelength': 0.4924,\n",
       "    'full_width_half_max': 0.066},\n",
       "   {'name': 'B03',\n",
       "    'common_name': 'green',\n",
       "    'center_wavelength': 0.5598,\n",
       "    'full_width_half_max': 0.036},\n",
       "   {'name': 'B04',\n",
       "    'common_name': 'red',\n",
       "    'center_wavelength': 0.6646,\n",
       "    'full_width_half_max': 0.031},\n",
       "   {'name': 'B05', 'center_wavelength': 0.7041, 'full_width_half_max': 0.015},\n",
       "   {'name': 'B06', 'center_wavelength': 0.7405, 'full_width_half_max': 0.015},\n",
       "   {'name': 'B07', 'center_wavelength': 0.7828, 'full_width_half_max': 0.02},\n",
       "   {'name': 'B08',\n",
       "    'common_name': 'nir',\n",
       "    'center_wavelength': 0.8328,\n",
       "    'full_width_half_max': 0.106},\n",
       "   {'name': 'B8A',\n",
       "    'common_name': 'nir08',\n",
       "    'center_wavelength': 0.8647,\n",
       "    'full_width_half_max': 0.021},\n",
       "   {'name': 'B09',\n",
       "    'common_name': 'nir09',\n",
       "    'center_wavelength': 0.9451,\n",
       "    'full_width_half_max': 0.02},\n",
       "   {'name': 'B11',\n",
       "    'common_name': 'swir16',\n",
       "    'center_wavelength': 1.6137,\n",
       "    'full_width_half_max': 0.091},\n",
       "   {'name': 'B12',\n",
       "    'common_name': 'swir22',\n",
       "    'center_wavelength': 2.2024,\n",
       "    'full_width_half_max': 0.175}]},\n",
       " 'links': [{'href': 'https://services.sentinel-hub.com/api/v1/catalog/1.0.0/',\n",
       "   'rel': 'root',\n",
       "   'type': 'application/json'},\n",
       "  {'href': 'https://services.sentinel-hub.com/api/v1/catalog/1.0.0/collections/sentinel-2-l2a',\n",
       "   'rel': 'self',\n",
       "   'type': 'application/json'},\n",
       "  {'href': 'https://services.sentinel-hub.com/api/v1/catalog/1.0.0/collections',\n",
       "   'rel': 'parent',\n",
       "   'type': 'application/json'},\n",
       "  {'href': 'https://services.sentinel-hub.com/api/v1/catalog/1.0.0/collections/sentinel-2-l2a/queryables',\n",
       "   'rel': 'http://www.opengis.net/def/rel/ogc/1.0/queryables',\n",
       "   'type': 'application/schema+json'},\n",
       "  {'href': 'https://services.sentinel-hub.com/api/v1/catalog/1.0.0/collections/sentinel-2-l2a/items',\n",
       "   'rel': 'items',\n",
       "   'type': 'application/geo+json'}]}"
      ]
     },
     "execution_count": 16,
     "metadata": {},
     "output_type": "execute_result"
    }
   ],
   "source": [
    "catalog.get_collection(data_collection)"
   ]
  },
  {
   "cell_type": "code",
   "execution_count": null,
   "metadata": {},
   "outputs": [],
   "source": []
  }
 ],
 "metadata": {
  "kernelspec": {
   "display_name": "eostats",
   "language": "python",
   "name": "python3"
  },
  "language_info": {
   "codemirror_mode": {
    "name": "ipython",
    "version": 3
   },
   "file_extension": ".py",
   "mimetype": "text/x-python",
   "name": "python",
   "nbconvert_exporter": "python",
   "pygments_lexer": "ipython3",
   "version": "3.11.9"
  }
 },
 "nbformat": 4,
 "nbformat_minor": 2
}
