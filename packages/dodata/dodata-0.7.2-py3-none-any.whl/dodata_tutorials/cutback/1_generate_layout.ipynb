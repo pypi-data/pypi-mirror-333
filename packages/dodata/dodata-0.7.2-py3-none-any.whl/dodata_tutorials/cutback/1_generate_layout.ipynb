{
 "cells": [
  {
   "cell_type": "markdown",
   "id": "0",
   "metadata": {},
   "source": [
    "# Generate Layout \n",
    "\n",
    "The first step is to create a layout and test manifest for your project, so that you can relate measurements and analyses back to your source layout.\n",
    "\n",
    "You can generate the layout with any layout tool. In this notebook you can use kfactory.\n",
    "\n",
    "## Generate layout\n",
    "\n",
    "Kfactory allows you to write metadata directly into the cell\n",
    "\n",
    "You can download this [generate_layout.py](./generate_layout.py) file"
   ]
  },
  {
   "cell_type": "code",
   "execution_count": null,
   "id": "1",
   "metadata": {},
   "outputs": [],
   "source": [
    "import csv\n",
    "\n",
    "from generate_layout import top\n",
    "\n",
    "c = top()\n",
    "c.write_gds(\"test_chip.gds\")\n",
    "c.plot()"
   ]
  },
  {
   "cell_type": "markdown",
   "id": "2",
   "metadata": {},
   "source": [
    "## Generate device table\n",
    "\n",
    "For generating the device table you need to use Kfactory.\n",
    "\n",
    "A device needs the X, Y position on the layout.\n",
    "Note that you can instantiate a Cell many times into a die."
   ]
  },
  {
   "cell_type": "code",
   "execution_count": null,
   "id": "3",
   "metadata": {},
   "outputs": [],
   "source": [
    "sweep = c.kcl[\"cutback\"]\n",
    "csvpath = \"device_table.csv\"\n",
    "\n",
    "analysis = \"[cutback]\"\n",
    "analysis_parameters = \"[{}]\"\n",
    "length = 20\n",
    "\n",
    "with open(csvpath, \"w\") as f:\n",
    "    writer = csv.writer(f)\n",
    "    writer.writerow(\n",
    "        [\n",
    "            \"cell\",\n",
    "            \"x\",\n",
    "            \"y\",\n",
    "            \"components\",\n",
    "            # \"analysis\",\n",
    "            # \"analysis_parameters\",\n",
    "        ]\n",
    "    )\n",
    "    iterator = sweep.kdb_cell.begin_instances_rec()\n",
    "    iterator.targets = \"cutback_loss*\"\n",
    "    while not iterator.at_end():\n",
    "        _c = c.kcl[iterator.inst_cell().cell_index()]\n",
    "        name = _c.name\n",
    "        _disp = (iterator.trans() * iterator.inst_trans()).disp\n",
    "        params = name.split(\"-\")  # we extract the width from the device name\n",
    "        writer.writerow(\n",
    "            [\n",
    "                name,\n",
    "                _disp.x,\n",
    "                _disp.y,\n",
    "                _c.info[\"components\"],\n",
    "                # analysis,\n",
    "                # analysis_parameters,\n",
    "            ]\n",
    "        )\n",
    "        iterator.next()"
   ]
  },
  {
   "cell_type": "markdown",
   "id": "4",
   "metadata": {},
   "source": [
    "You can take a look a the contents of the device manifest you created."
   ]
  },
  {
   "cell_type": "code",
   "execution_count": null,
   "id": "5",
   "metadata": {},
   "outputs": [],
   "source": [
    "import pandas as pd\n",
    "\n",
    "dt = pd.read_csv(csvpath)\n",
    "dt"
   ]
  },
  {
   "cell_type": "code",
   "execution_count": null,
   "id": "6",
   "metadata": {},
   "outputs": [],
   "source": [
    "dt.to_csv(\"device_table.csv\", index=False)"
   ]
  },
  {
   "cell_type": "code",
   "execution_count": null,
   "id": "7",
   "metadata": {},
   "outputs": [],
   "source": []
  }
 ],
 "metadata": {
  "jupytext": {
   "custom_cell_magics": "kql"
  },
  "kernelspec": {
   "display_name": "ddk",
   "language": "python",
   "name": "python3"
  },
  "language_info": {
   "codemirror_mode": {
    "name": "ipython",
    "version": 3
   },
   "file_extension": ".py",
   "mimetype": "text/x-python",
   "name": "python",
   "nbconvert_exporter": "python",
   "pygments_lexer": "ipython3",
   "version": "3.12.4"
  }
 },
 "nbformat": 4,
 "nbformat_minor": 5
}
