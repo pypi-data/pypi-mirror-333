{
 "cells": [
  {
   "cell_type": "markdown",
   "id": "0",
   "metadata": {},
   "source": [
    "# Download data"
   ]
  },
  {
   "cell_type": "markdown",
   "id": "1",
   "metadata": {},
   "source": [
    "You can compose queries to download raw data."
   ]
  },
  {
   "cell_type": "code",
   "execution_count": null,
   "id": "2",
   "metadata": {},
   "outputs": [],
   "source": [
    "import getpass\n",
    "import platform\n",
    "\n",
    "import matplotlib.pyplot as plt\n",
    "import pandas as pd\n",
    "\n",
    "import doplaydo.dodata as dd\n",
    "\n",
    "username = getpass.getuser()\n",
    "\n",
    "PROJECT_ID = f\"cutback-{username}-{platform.node()}\""
   ]
  },
  {
   "cell_type": "markdown",
   "id": "3",
   "metadata": {},
   "source": [
    "You have access to:\n",
    "\n",
    "- dd.Project\n",
    "- dd.Die\n",
    "- dd.Wafer\n",
    "- dd.ParentCell\n",
    "- dd.Cell\n",
    "- dd.Device\n",
    "- dd.DeviceData\n",
    "\n",
    "Where each model has its table columns as attributes.\n"
   ]
  },
  {
   "cell_type": "markdown",
   "id": "4",
   "metadata": {},
   "source": [
    "You can use `get_data_by_query` to query a subset of data filtered by a list of clauses.\n",
    "\n",
    "It will return a list of tuples where the first element is a `DeviceData` object and the second one is a pandas DataFrame.\n",
    "\n",
    "To retrieve specific data, we’ll use the GetDataByQuery function, which allows us to filter data by a list of clauses. In this example, we’ll filter by project ID. \n",
    "\n",
    "The GetDataByQuery function lets you retrieve data based on a list of specified filters. For example, here we filter by project ID and device ID with a specific name to obtain relevant device data. Part of this data is stored in a Pandas DataFrame with columns such as wavelength and output power. Plotting this data gives us a spectrum of wavelength vs. output power.\n",
    "\n"
   ]
  },
  {
   "cell_type": "code",
   "execution_count": null,
   "id": "5",
   "metadata": {},
   "outputs": [],
   "source": [
    "with dd.get_session() as session:\n",
    "    data_tuples = dd.get_data_by_query(\n",
    "        [dd.Project.project_id == PROJECT_ID], limit=1, session=session\n",
    "    )\n",
    "    device_data, df = data_tuples[0]  # each tuple has DeviceData and pandas Dataframe\n",
    "    device_id = device_data.device.device_id\n",
    "device_data"
   ]
  },
  {
   "cell_type": "code",
   "execution_count": null,
   "id": "6",
   "metadata": {},
   "outputs": [],
   "source": [
    "device_id"
   ]
  },
  {
   "cell_type": "code",
   "execution_count": null,
   "id": "7",
   "metadata": {},
   "outputs": [],
   "source": [
    "df"
   ]
  },
  {
   "cell_type": "code",
   "execution_count": null,
   "id": "8",
   "metadata": {},
   "outputs": [],
   "source": [
    "plt.plot(df[\"wavelength\"], df[\"output_power\"])\n",
    "plt.xlabel(\"wavelength (nm)\")\n",
    "plt.ylabel(\"output power (dBm)\")\n",
    "plt.title(device_id)"
   ]
  },
  {
   "cell_type": "markdown",
   "id": "9",
   "metadata": {},
   "source": [
    "You can aggregate the dataframes and the device data objects"
   ]
  },
  {
   "cell_type": "code",
   "execution_count": null,
   "id": "10",
   "metadata": {},
   "outputs": [],
   "source": [
    "dfs = [dt[1] for dt in data_tuples]  # dataframes\n",
    "dds = [dt[0] for dt in data_tuples]  # device data objects"
   ]
  },
  {
   "cell_type": "markdown",
   "id": "11",
   "metadata": {},
   "source": [
    "The DeviceData object allows you to navigate the data model and access related fields across the hierarchy.\n",
    "\n",
    "You can traverse from DeviceData to other tables by following the dashed arrows in the data structure, with each column representing an attribute of the corresponding table.\n",
    "\n",
    "The database is organized into several hierarchical tables to streamline data relationships:\n",
    "\n",
    "- Projects: Each chip is assigned to a specific project.\n",
    "- Cells: Cells represent entities within a project.\n",
    "- Devices: Each cell instance corresponds to a device with defined X, Y coordinates.\n",
    "- Device_Data: Stores testing or simulation data for each device.\n",
    "- Analysis: Device data, dies, or wafers can be analyzed using specific analysis functions.\n",
    "\n",
    "For each analysis, we track details such as the originating function, associated die, and wafer, ensuring a clear, structured relationship within the data. Additionally, wafers link back to projects, and dies are connected to their corresponding wafers.\n",
    "\n",
    "![](https://i.imgur.com/CfOHl57.png)\n",
    "\n",
    "\n",
    "We can also examine additional details, like the length of the data tuples and all metadata related to the device, including device ID, die origin (x, y coordinates), wafer ID, set ID, parent cell, and the associated project."
   ]
  },
  {
   "cell_type": "code",
   "execution_count": null,
   "id": "12",
   "metadata": {},
   "outputs": [],
   "source": [
    "with dd.get_session() as session:\n",
    "    data_tuples = dd.get_data_by_query(\n",
    "        [dd.Project.project_id == PROJECT_ID], limit=1, session=session\n",
    "    )\n",
    "    dfs = [dt[1] for dt in data_tuples]  # dataframes\n",
    "    dds = [dt[0] for dt in data_tuples]  # device data objects\n",
    "    print(\"device id: \", dds[0].device.device_id)\n",
    "    print(\"die x: \", dds[0].die.x)\n",
    "    print(\"die y: \", dds[0].die.y)\n",
    "    print(\"wafer id: \", dds[0].die.wafer.wafer_id)\n",
    "    print(\"cell id: \", dds[0].device.cell.cell_id)\n",
    "    print(\"parent cell id: \", dds[0].device.parent_cell.cell_id)\n",
    "    print(\"project id: \", dds[0].device.cell.project.project_id)"
   ]
  },
  {
   "cell_type": "markdown",
   "id": "13",
   "metadata": {},
   "source": [
    "For example, you can access the Cell table and all its columns:"
   ]
  },
  {
   "cell_type": "code",
   "execution_count": null,
   "id": "14",
   "metadata": {},
   "outputs": [],
   "source": [
    "with dd.get_session() as session:\n",
    "    data_tuples = dd.get_data_by_query(\n",
    "        [dd.Project.project_id == PROJECT_ID], limit=1, session=session\n",
    "    )\n",
    "    dfs = [dt[1] for dt in data_tuples]  # dataframes\n",
    "    dds = [dt[0] for dt in data_tuples]  # device data objects\n",
    "    print(dds[0].device.cell)"
   ]
  },
  {
   "cell_type": "markdown",
   "id": "15",
   "metadata": {},
   "source": [
    "## Build table for JMP\n",
    "\n",
    "You can build a flat table by combining all the device data and pandas dataframes.  "
   ]
  },
  {
   "cell_type": "code",
   "execution_count": null,
   "id": "16",
   "metadata": {},
   "outputs": [],
   "source": [
    "with dd.get_session() as session:\n",
    "    data_tuples = dd.get_data_by_query(\n",
    "        [\n",
    "            dd.Project.project_id == PROJECT_ID,\n",
    "            dd.Device.device_id == device_id,  # only get data for this device\n",
    "            dd.Die.x == 0,\n",
    "            dd.Die.y == 0,\n",
    "        ],\n",
    "        session=session,\n",
    "    )\n",
    "    len(data_tuples)\n",
    "    dds = [dt[0] for dt in data_tuples]  # device data objects\n",
    "    dfs = [dt[1] for dt in data_tuples]  # dataframes\n",
    "dfs[0]"
   ]
  },
  {
   "cell_type": "code",
   "execution_count": null,
   "id": "17",
   "metadata": {},
   "outputs": [],
   "source": [
    "with dd.get_session() as session:\n",
    "    data_tuples = dd.get_data_by_query(\n",
    "        [\n",
    "            dd.Project.project_id == PROJECT_ID,\n",
    "            dd.Device.device_id == device_id,  # only get data for this device\n",
    "            dd.Die.x == 0,\n",
    "            dd.Die.y == 0,\n",
    "        ],\n",
    "        session=session,\n",
    "    )\n",
    "    len(data_tuples)\n",
    "    dds = [dt[0] for dt in data_tuples]  # device data objects\n",
    "    dfs = [dt[1] for dt in data_tuples]  # dataframes\n",
    "    dfs_all = []\n",
    "\n",
    "    for device_data, df in zip(dds, dfs, strict=False):\n",
    "        df[\"device_id\"] = device_data.device.device_id\n",
    "        df[\"die_x\"] = device_data.die.x\n",
    "        df[\"die_y\"] = device_data.die.y\n",
    "        df[\"wafer_id\"] = device_data.die.wafer.wafer_id\n",
    "        df[\"cell_id\"] = device_data.device.cell.cell_id\n",
    "        df[\"parent_cell_id\"] = device_data.device.parent_cell.cell_id\n",
    "        dfs_all.append(df)"
   ]
  },
  {
   "cell_type": "code",
   "execution_count": null,
   "id": "18",
   "metadata": {},
   "outputs": [],
   "source": [
    "dfs_all = pd.concat(dfs_all)  # You can concatenate all dataFrames together\n",
    "dfs_all"
   ]
  },
  {
   "cell_type": "markdown",
   "id": "19",
   "metadata": {},
   "source": [
    "## Advanced queries\n",
    "\n",
    "\n",
    "To build advanced queries to filter metadata you can use the `attribute_filter` method. You can also use `or_`, `and_` for conditional clauses."
   ]
  },
  {
   "cell_type": "markdown",
   "id": "20",
   "metadata": {},
   "source": [
    "### Conditional filter"
   ]
  },
  {
   "cell_type": "code",
   "execution_count": null,
   "id": "21",
   "metadata": {},
   "outputs": [],
   "source": [
    "with dd.get_session() as session:\n",
    "    data_tuples = dd.get_data_by_query(\n",
    "        [\n",
    "            dd.Project.project_id == PROJECT_ID,\n",
    "            dd.Device.device_id == device_id,  # only get data for this device\n",
    "        ],\n",
    "        session=session,\n",
    "    )\n",
    "len(data_tuples)"
   ]
  },
  {
   "cell_type": "markdown",
   "id": "22",
   "metadata": {},
   "source": [
    "By default anything you pass to the list joins the clauses as `and_`"
   ]
  },
  {
   "cell_type": "code",
   "execution_count": null,
   "id": "23",
   "metadata": {},
   "outputs": [],
   "source": [
    "with dd.get_session() as session:\n",
    "    data_tuples = dd.get_data_by_query(\n",
    "        [\n",
    "            dd.and_(\n",
    "                dd.Project.project_id == PROJECT_ID,\n",
    "                dd.Device.device_id == device_id,  # only get data for this device\n",
    "            )\n",
    "        ],\n",
    "        session=session,\n",
    "    )\n",
    "len(data_tuples)"
   ]
  },
  {
   "cell_type": "markdown",
   "id": "24",
   "metadata": {},
   "source": [
    "You can also use an OR condition.\n",
    "\n",
    "The query below filters by project id `PROJECT_ID` AND either device id\n",
    "\n",
    "Because there are 45 measurements per device, one for each die, if you look for two specific devices, you will get 90 measurements."
   ]
  },
  {
   "cell_type": "code",
   "execution_count": null,
   "id": "25",
   "metadata": {},
   "outputs": [],
   "source": [
    "device_id2 = \"cutback_cutback_loss_1_529485_116311\"\n",
    "\n",
    "with dd.get_session() as session:\n",
    "    data_tuples = dd.get_data_by_query(\n",
    "        [\n",
    "            dd.Project.project_id == PROJECT_ID,\n",
    "            dd.or_(dd.Device.device_id == device_id, dd.Device.device_id == device_id2),\n",
    "        ],\n",
    "        session=session,\n",
    "    )\n",
    "len(data_tuples)"
   ]
  },
  {
   "cell_type": "markdown",
   "id": "26",
   "metadata": {},
   "source": [
    "You can also combine conditionals.\n",
    "\n",
    "In the example below, you can get all the data for the specified project id, device id and either die coordinate."
   ]
  },
  {
   "cell_type": "code",
   "execution_count": null,
   "id": "27",
   "metadata": {},
   "outputs": [],
   "source": [
    "with dd.get_session() as session:\n",
    "    data_tuples = dd.get_data_by_query(\n",
    "        [\n",
    "            dd.Project.project_id == PROJECT_ID,\n",
    "            dd.Device.device_id == device_id,  # only get data for this device\n",
    "            dd.or_(\n",
    "                dd.and_(dd.Die.x == 1, dd.Die.y == 1),  # either die 1,1\n",
    "                dd.and_(dd.Die.x == 0, dd.Die.y == 0),  # or die 0,0\n",
    "            ),\n",
    "        ],\n",
    "        session=session,\n",
    "    )\n",
    "len(data_tuples)"
   ]
  },
  {
   "cell_type": "markdown",
   "id": "28",
   "metadata": {},
   "source": [
    "### Attribute filter\n",
    "\n",
    "You can filter attributes of any data models by passing a list of conditions as shown below.\n",
    "\n",
    "You can use `dd.Cell/dd.Wafer/...`, `key`, `value`\n",
    "\n",
    "You can only filter for values that are str, bool, int, float.\n",
    "\n",
    "The query below filters Cells with 400 components in the cutback that are in a particular project and die coordinates."
   ]
  },
  {
   "cell_type": "code",
   "execution_count": null,
   "id": "29",
   "metadata": {},
   "outputs": [],
   "source": [
    "with dd.get_session() as session:\n",
    "    device_data_objects = dd.get_data_by_query(\n",
    "        [\n",
    "            dd.attribute_filter(\n",
    "                dd.Cell, \"components\", 400\n",
    "            ),  # checking for values in JSON attributes\n",
    "            dd.Project.project_id == PROJECT_ID,\n",
    "            dd.Die.x == 0,\n",
    "            dd.Die.y == 0,\n",
    "        ],\n",
    "        session=session,\n",
    "    )"
   ]
  },
  {
   "cell_type": "code",
   "execution_count": null,
   "id": "30",
   "metadata": {},
   "outputs": [],
   "source": [
    "len(device_data_objects)"
   ]
  },
  {
   "cell_type": "markdown",
   "id": "31",
   "metadata": {},
   "source": [
    "You can combine conditional and attribute filter clauses together.\n",
    "\n",
    "You can get the data for Cells for a given project with 400 or 816 components in the cutback"
   ]
  },
  {
   "cell_type": "code",
   "execution_count": null,
   "id": "32",
   "metadata": {},
   "outputs": [],
   "source": [
    "with dd.get_session() as session:\n",
    "    data_tuples = dd.get_data_by_query(\n",
    "        [\n",
    "            dd.Project.project_id == PROJECT_ID,\n",
    "            # dd.attribute_filter(dd.Cell, \"components\", 400),\n",
    "            dd.or_(\n",
    "                dd.attribute_filter(dd.Cell, \"components\", 400),\n",
    "                dd.attribute_filter(dd.Cell, \"components\", 816),\n",
    "            ),\n",
    "        ],\n",
    "        session=session,\n",
    "    )\n",
    "len(data_tuples)"
   ]
  }
 ],
 "metadata": {
  "kernelspec": {
   "display_name": "ddk",
   "language": "python",
   "name": "python3"
  },
  "language_info": {
   "codemirror_mode": {
    "name": "ipython",
    "version": 3
   },
   "file_extension": ".py",
   "mimetype": "text/x-python",
   "name": "python",
   "nbconvert_exporter": "python",
   "pygments_lexer": "ipython3",
   "version": "3.12.4"
  }
 },
 "nbformat": 4,
 "nbformat_minor": 5
}
