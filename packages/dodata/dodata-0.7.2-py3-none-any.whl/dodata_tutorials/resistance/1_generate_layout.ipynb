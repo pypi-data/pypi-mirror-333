{
 "cells": [
  {
   "cell_type": "markdown",
   "id": "0",
   "metadata": {},
   "source": [
    "# Generate Layout\n",
    "\n",
    "The first step is to create a layout and test manifest for your project, so that you can relate measurements and analyses back to your source layout.\n",
    "\n",
    "You can generate the layout with any layout tool. In this notebook you can use gdsfactory.\n",
    "\n",
    "## Generate layout\n",
    "\n",
    "You can download this [generate_layout.py](./generate_layout.py) file\n",
    "\n",
    "We will sweep the width of a 20um long sheet to measure sheet resistance."
   ]
  },
  {
   "cell_type": "code",
   "execution_count": null,
   "id": "1",
   "metadata": {},
   "outputs": [],
   "source": [
    "from generate_layout import top\n",
    "\n",
    "c = top()\n",
    "c.write_gds(\"test_chip.gds\")\n",
    "c.plot()"
   ]
  },
  {
   "cell_type": "markdown",
   "id": "2",
   "metadata": {},
   "source": [
    "## Generate design manifest\n",
    "\n",
    "In your sample GDS, you have the device settings annotated on the GDS.\n",
    "Here you can read them from the GDS and write a design manifest, which we can use to associate measurement data with the devices on the GDS. However, you can use any method you prefer to generate your test manifest."
   ]
  },
  {
   "cell_type": "code",
   "execution_count": null,
   "id": "3",
   "metadata": {
    "lines_to_next_cell": 2
   },
   "outputs": [],
   "source": [
    "import csv\n",
    "\n",
    "sweep = c.kcl[\"resistance\"]\n",
    "csvpath = \"design_manifest.csv\"\n",
    "\n",
    "analysis = \"[iv_resistance]\"\n",
    "analysis_parameters = \"[{}]\"\n",
    "length = 20\n",
    "\n",
    "with open(csvpath, \"w\") as f:\n",
    "    writer = csv.writer(f)\n",
    "    writer.writerow(\n",
    "        [\n",
    "            \"cell\",\n",
    "            \"x\",\n",
    "            \"y\",\n",
    "            \"width_um\",\n",
    "            \"length_um\",\n",
    "            \"analysis\",\n",
    "            \"analysis_parameters\",\n",
    "        ]\n",
    "    )\n",
    "    iterator = sweep.begin_instances_rec()\n",
    "    iterator.targets = \"resistance*\"\n",
    "    while not iterator.at_end():\n",
    "        _c = c.kcl[iterator.inst_cell().cell_index()]\n",
    "        name = _c.name\n",
    "        if \"resistance_\" in name:\n",
    "            _disp = (iterator.trans() * iterator.inst_trans()).disp\n",
    "            params = name.split(\"_\")  # we extract the width from the device name\n",
    "            writer.writerow(\n",
    "                [\n",
    "                    name,\n",
    "                    _disp.x,\n",
    "                    _disp.y,\n",
    "                    float(params[-1][1:]),\n",
    "                    length,\n",
    "                    analysis,\n",
    "                    analysis_parameters,\n",
    "                ]\n",
    "            )\n",
    "        iterator.next()"
   ]
  },
  {
   "cell_type": "code",
   "execution_count": null,
   "id": "4",
   "metadata": {},
   "outputs": [],
   "source": [
    "params"
   ]
  },
  {
   "cell_type": "markdown",
   "id": "5",
   "metadata": {},
   "source": [
    "You can take a look a the contents of the device manifest you created."
   ]
  },
  {
   "cell_type": "code",
   "execution_count": null,
   "id": "6",
   "metadata": {
    "lines_to_next_cell": 0
   },
   "outputs": [],
   "source": [
    "import pandas as pd\n",
    "\n",
    "df = pd.read_csv(csvpath)\n",
    "df"
   ]
  }
 ],
 "metadata": {
  "jupytext": {
   "custom_cell_magics": "kql"
  },
  "kernelspec": {
   "display_name": "ddk",
   "language": "python",
   "name": "python3"
  },
  "language_info": {
   "codemirror_mode": {
    "name": "ipython",
    "version": 3
   },
   "file_extension": ".py",
   "mimetype": "text/x-python",
   "name": "python",
   "nbconvert_exporter": "python",
   "pygments_lexer": "ipython3",
   "version": "3.12.4"
  }
 },
 "nbformat": 4,
 "nbformat_minor": 5
}
