{
 "cells": [
  {
   "cell_type": "markdown",
   "id": "0",
   "metadata": {},
   "source": [
    "# Generate Layout\n",
    "\n",
    "The first step is to create a layout and test manifest for your project, so that you can relate measurements and analyses back to your source layout.\n",
    "\n",
    "You can generate the layout with any layout tool. In this notebook you can use kfactory.\n",
    "\n",
    "## Generate layout\n",
    "\n",
    "Kfactory allows you to write metadata directly into the cell.\n",
    "\n",
    "You can download this [layout.py](./test_chip.py) file."
   ]
  },
  {
   "cell_type": "code",
   "execution_count": null,
   "id": "1",
   "metadata": {},
   "outputs": [],
   "source": [
    "import csv\n",
    "\n",
    "import kfactory as kf\n",
    "from test_chip import TOP\n",
    "\n",
    "c = TOP()\n",
    "c.write(\"test_chip.gds\")\n",
    "c.plot()"
   ]
  },
  {
   "cell_type": "markdown",
   "id": "2",
   "metadata": {},
   "source": [
    "## Generate design manifest\n",
    "\n",
    "In your sample GDS, you have the device settings annotated on the GDS.\n",
    "Here you can read them from the GDS and write a design manifest, which we can use to associate measurement data with the devices on the GDS. However, you can use any method you prefer to generate your test manifest."
   ]
  },
  {
   "cell_type": "code",
   "execution_count": null,
   "id": "3",
   "metadata": {
    "lines_to_next_cell": 2
   },
   "outputs": [],
   "source": [
    "c = kf.kcl[\"TOP\"]\n",
    "rib = c.kcl[\"RibLoss\"]\n",
    "ridge = c.kcl[\"RidgeLoss\"]\n",
    "csvpath = \"design_manifest.csv\"\n",
    "\n",
    "with open(csvpath, \"w\") as f:\n",
    "    writer = csv.writer(f)\n",
    "    writer.writerow(\n",
    "        [\n",
    "            \"cell\",\n",
    "            \"x\",\n",
    "            \"y\",\n",
    "            \"width_um\",\n",
    "            \"length_um\",\n",
    "            \"analysis\",\n",
    "            \"analysis_parameters\",\n",
    "        ]\n",
    "    )\n",
    "\n",
    "    rib_it = rib.begin_instances_rec()\n",
    "    rib_it.targets = \"cutback_rib_assembled*\"\n",
    "    while not rib_it.at_end():\n",
    "        _c = c.kcl[rib_it.inst_cell().cell_index()]\n",
    "        _disp = (rib_it.trans() * rib_it.inst_trans()).disp\n",
    "        writer.writerow(\n",
    "            [\n",
    "                _c.name,\n",
    "                _disp.x,\n",
    "                _disp.y,\n",
    "                _c.settings[\"width\"],\n",
    "                _c.settings[\"length\"],\n",
    "                \"[power_envelope]\",\n",
    "                '[{\"n\": 10, \"wvl_of_interest_nm\": 1550}]',\n",
    "            ]\n",
    "        )\n",
    "        rib_it.next()\n",
    "    ridge_it = ridge.begin_instances_rec()\n",
    "    ridge_it.targets = \"cutback_ridge_assembled*\"\n",
    "    while not ridge_it.at_end():\n",
    "        _c = c.kcl[ridge_it.inst_cell().cell_index()]\n",
    "        _disp = (ridge_it.trans() * ridge_it.inst_trans()).disp\n",
    "        writer.writerow(\n",
    "            [\n",
    "                _c.name,\n",
    "                _disp.x,\n",
    "                _disp.y,\n",
    "                _c.settings[\"width\"],\n",
    "                _c.settings[\"length\"],\n",
    "                \"[power_envelope]\",\n",
    "                '[{\"n\": 10, \"wvl_of_interest_nm\": 1550}]',\n",
    "            ]\n",
    "        )\n",
    "        ridge_it.next()\n",
    "    rib_it = rib.begin_instances_rec()"
   ]
  },
  {
   "cell_type": "markdown",
   "id": "4",
   "metadata": {},
   "source": [
    "You can take a look a the contents of the device manifest you created."
   ]
  },
  {
   "cell_type": "code",
   "execution_count": null,
   "id": "5",
   "metadata": {},
   "outputs": [],
   "source": [
    "import pandas as pd\n",
    "\n",
    "df = pd.read_csv(csvpath)\n",
    "df"
   ]
  }
 ],
 "metadata": {
  "jupytext": {
   "custom_cell_magics": "kql"
  },
  "kernelspec": {
   "display_name": "Python 3",
   "language": "python",
   "name": "python3"
  },
  "language_info": {
   "codemirror_mode": {
    "name": "ipython",
    "version": 3
   },
   "file_extension": ".py",
   "mimetype": "text/x-python",
   "name": "python",
   "nbconvert_exporter": "python",
   "pygments_lexer": "ipython3",
   "version": "3.12.9"
  }
 },
 "nbformat": 4,
 "nbformat_minor": 5
}
