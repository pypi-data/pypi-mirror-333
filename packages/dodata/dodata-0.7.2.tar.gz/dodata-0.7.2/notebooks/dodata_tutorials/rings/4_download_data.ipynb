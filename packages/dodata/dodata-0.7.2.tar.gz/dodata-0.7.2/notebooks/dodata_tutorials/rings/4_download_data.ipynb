{
 "cells": [
  {
   "cell_type": "markdown",
   "id": "0",
   "metadata": {},
   "source": [
    "# Download data"
   ]
  },
  {
   "cell_type": "markdown",
   "id": "1",
   "metadata": {},
   "source": [
    "You can compose queries to download raw data."
   ]
  },
  {
   "cell_type": "code",
   "execution_count": null,
   "id": "2",
   "metadata": {},
   "outputs": [],
   "source": [
    "import getpass\n",
    "import platform\n",
    "\n",
    "import matplotlib.pyplot as plt\n",
    "import pandas as pd\n",
    "\n",
    "import doplaydo.dodata as dd\n",
    "\n",
    "username = getpass.getuser()\n",
    "\n",
    "PROJECT_ID = f\"rings-{username}-{platform.node()}\""
   ]
  },
  {
   "cell_type": "code",
   "execution_count": null,
   "id": "3",
   "metadata": {},
   "outputs": [],
   "source": [
    "with dd.get_session() as session:\n",
    "    device_data, df = dd.get_data_by_query(\n",
    "        [dd.Project.project_id == PROJECT_ID], limit=1, session=session\n",
    "    )[0]\n",
    "    device_data_pkey = device_data.pkey\n",
    "    cell_id = device_data.device.cell.cell_id\n",
    "    device_id = device_data.device.device_id"
   ]
  },
  {
   "cell_type": "code",
   "execution_count": null,
   "id": "4",
   "metadata": {},
   "outputs": [],
   "source": [
    "device_data_pkey"
   ]
  },
  {
   "cell_type": "code",
   "execution_count": null,
   "id": "5",
   "metadata": {},
   "outputs": [],
   "source": [
    "cell_id"
   ]
  },
  {
   "cell_type": "code",
   "execution_count": null,
   "id": "6",
   "metadata": {},
   "outputs": [],
   "source": [
    "device_id"
   ]
  },
  {
   "cell_type": "code",
   "execution_count": null,
   "id": "7",
   "metadata": {},
   "outputs": [],
   "source": [
    "with dd.get_session() as session:\n",
    "    device_data20, df20 = dd.get_data_by_query(\n",
    "        [\n",
    "            dd.Project.project_id == PROJECT_ID,\n",
    "            dd.attribute_filter(dd.Cell, \"radius_um\", 20),\n",
    "        ],\n",
    "        limit=1,\n",
    "        session=session,\n",
    "    )[0]\n",
    "    device_pkey = device_data20.device.pkey\n",
    "    device_id = device_data20.device.device_id\n",
    "device_pkey"
   ]
  },
  {
   "cell_type": "code",
   "execution_count": null,
   "id": "8",
   "metadata": {},
   "outputs": [],
   "source": [
    "device_id"
   ]
  },
  {
   "cell_type": "markdown",
   "id": "9",
   "metadata": {},
   "source": [
    "You have access to:\n",
    "\n",
    "- dd.Project\n",
    "- dd.Die\n",
    "- dd.Wafer\n",
    "- dd.ParentCell\n",
    "- dd.Cell\n",
    "- dd.Device\n",
    "- dd.DeviceData\n",
    "\n",
    "Where each model has its table columns as attributes.\n",
    "\n",
    "\n",
    "![](https://i.imgur.com/CfOHl57.png)"
   ]
  },
  {
   "cell_type": "markdown",
   "id": "10",
   "metadata": {},
   "source": [
    "You can use `get_data_by_query` to query a subset of data filtered by a list of clauses.\n",
    "\n",
    "It will return a list of tuples where the first element is a `DeviceData` object and the second one is a pandas DataFrame.\n"
   ]
  },
  {
   "cell_type": "code",
   "execution_count": null,
   "id": "11",
   "metadata": {},
   "outputs": [],
   "source": [
    "with dd.get_session() as session:\n",
    "    data_tuples = dd.get_data_by_query(\n",
    "        [dd.Project.project_id == PROJECT_ID, dd.Device.pkey == device_pkey],\n",
    "        limit=1,\n",
    "        session=session,\n",
    "    )\n",
    "    device_data, df = data_tuples[0]  # each tuple has DeviceData and pd.Dataframe\n",
    "    device_data_pkey = device_data.pkey\n",
    "    print(device_data)"
   ]
  },
  {
   "cell_type": "code",
   "execution_count": null,
   "id": "12",
   "metadata": {},
   "outputs": [],
   "source": [
    "device_data_pkey"
   ]
  },
  {
   "cell_type": "code",
   "execution_count": null,
   "id": "13",
   "metadata": {},
   "outputs": [],
   "source": [
    "df"
   ]
  },
  {
   "cell_type": "code",
   "execution_count": null,
   "id": "14",
   "metadata": {},
   "outputs": [],
   "source": [
    "plt.plot(df[\"wavelength\"], df[\"output_power\"])\n",
    "plt.xlabel(\"wavelength (nm)\")\n",
    "plt.ylabel(\"output power (dBm)\")\n",
    "plt.title(device_id)"
   ]
  },
  {
   "cell_type": "markdown",
   "id": "15",
   "metadata": {},
   "source": [
    "As you have 64 dies per wafer you get one measurement per die."
   ]
  },
  {
   "cell_type": "code",
   "execution_count": null,
   "id": "16",
   "metadata": {},
   "outputs": [],
   "source": [
    "len(data_tuples)"
   ]
  },
  {
   "cell_type": "markdown",
   "id": "17",
   "metadata": {},
   "source": [
    "You can aggregate the dataframes and the device data objects"
   ]
  },
  {
   "cell_type": "markdown",
   "id": "18",
   "metadata": {},
   "source": [
    "You can use the `DeviceData` object to traverse the data model and access additional fields.\n",
    "\n",
    "You can go from DeviceData to any other tables by following the dashed arrows.\n",
    "\n",
    "Each column is an attribute on the object representing the table.\n",
    "\n",
    "![](https://i.imgur.com/CfOHl57.png)"
   ]
  },
  {
   "cell_type": "code",
   "execution_count": null,
   "id": "19",
   "metadata": {},
   "outputs": [],
   "source": [
    "with dd.get_session() as session:\n",
    "    data_tuples = dd.get_data_by_query(\n",
    "        [dd.Project.project_id == PROJECT_ID, dd.Device.pkey == device_pkey],\n",
    "        limit=1,\n",
    "        session=session,\n",
    "    )\n",
    "    dfs = [dt[1] for dt in data_tuples]  # dataframes\n",
    "    dds = [dt[0] for dt in data_tuples]  # device data objects\n",
    "\n",
    "    print(\"device id: \", dds[0].device.device_id)\n",
    "    print(\"die x: \", dds[0].die.x)\n",
    "    print(\"die y: \", dds[0].die.y)\n",
    "    print(\"wafer id: \", dds[0].die.wafer.wafer_id)\n",
    "    print(\"cell id: \", dds[0].device.cell.cell_id)\n",
    "    print(\"parent cell id: \", dds[0].device.parent_cell.cell_id)\n",
    "    print(\"project id: \", dds[0].device.cell.project.project_id)\n",
    "    print(dds[0].device.cell)"
   ]
  },
  {
   "cell_type": "markdown",
   "id": "20",
   "metadata": {},
   "source": [
    "For example, you can reach the Cell table and all its columns:"
   ]
  },
  {
   "cell_type": "markdown",
   "id": "21",
   "metadata": {},
   "source": [
    "## Build table for JMP\n",
    "\n",
    "You can build a flat table by combining all the device data and pandas dataframes.  "
   ]
  },
  {
   "cell_type": "code",
   "execution_count": null,
   "id": "22",
   "metadata": {},
   "outputs": [],
   "source": [
    "with dd.get_session() as session:\n",
    "    data_tuples = dd.get_data_by_query(\n",
    "        [\n",
    "            dd.Project.project_id == PROJECT_ID,\n",
    "            dd.Device.device_id == device_id,\n",
    "            dd.Die.x == 0,\n",
    "            dd.Die.y == 0,\n",
    "        ],\n",
    "        session=session,\n",
    "    )\n",
    "    len(data_tuples)\n",
    "    dds = [dt[0] for dt in data_tuples]  # device data objects\n",
    "    dfs = [dt[1] for dt in data_tuples]  # dataframes\n",
    "dfs[0]"
   ]
  },
  {
   "cell_type": "code",
   "execution_count": null,
   "id": "23",
   "metadata": {},
   "outputs": [],
   "source": [
    "with dd.get_session() as session:\n",
    "    data_tuples = dd.get_data_by_query(\n",
    "        [\n",
    "            dd.Project.project_id == PROJECT_ID,\n",
    "            dd.Device.device_id == device_id,\n",
    "            dd.Die.x == 0,\n",
    "            dd.Die.y == 0,\n",
    "        ],\n",
    "        session=session,\n",
    "    )\n",
    "\n",
    "    dfs_all = []\n",
    "    dds = [dt[0] for dt in data_tuples]  # device data objects\n",
    "    dfs = [dt[1] for dt in data_tuples]  # dataframes\n",
    "\n",
    "    for device_data, df in zip(dds, dfs, strict=False):\n",
    "        df[\"device_id\"] = device_data.device.device_id\n",
    "        df[\"die_x\"] = device_data.die.x\n",
    "        df[\"die_y\"] = device_data.die.y\n",
    "        df[\"wafer_id\"] = device_data.die.wafer.wafer_id\n",
    "        df[\"cell_id\"] = device_data.device.cell.cell_id\n",
    "        df[\"parent_cell_id\"] = device_data.device.parent_cell.cell_id\n",
    "        dfs_all.append(df)"
   ]
  },
  {
   "cell_type": "code",
   "execution_count": null,
   "id": "24",
   "metadata": {},
   "outputs": [],
   "source": [
    "dfs_all = pd.concat(dfs_all)  # You can concatenate all dataFrames together\n",
    "dfs_all"
   ]
  },
  {
   "cell_type": "markdown",
   "id": "25",
   "metadata": {},
   "source": [
    "## Advanced queries\n",
    "\n",
    "\n",
    "To build advanced queries to filter metadata you can use the `attribute_filter` method. You can also use `or_`, `and_` for conditional clauses."
   ]
  },
  {
   "cell_type": "markdown",
   "id": "26",
   "metadata": {},
   "source": [
    "### Conditional filter"
   ]
  },
  {
   "cell_type": "code",
   "execution_count": null,
   "id": "27",
   "metadata": {},
   "outputs": [],
   "source": [
    "with dd.get_session() as session:\n",
    "    data_tuples = dd.get_data_by_query(\n",
    "        [dd.Project.project_id == PROJECT_ID, dd.Device.device_id == device_id],\n",
    "        session=session,\n",
    "    )\n",
    "len(data_tuples)"
   ]
  },
  {
   "cell_type": "markdown",
   "id": "28",
   "metadata": {},
   "source": [
    "By default anything you pass to the list joins the clauses as `and_`"
   ]
  },
  {
   "cell_type": "code",
   "execution_count": null,
   "id": "29",
   "metadata": {},
   "outputs": [],
   "source": [
    "with dd.get_session() as session:\n",
    "    data_tuples = dd.get_data_by_query(\n",
    "        [\n",
    "            dd.and_(\n",
    "                dd.Project.project_id == PROJECT_ID, dd.Device.device_id == device_id\n",
    "            )\n",
    "        ],\n",
    "        session=session,\n",
    "    )\n",
    "len(data_tuples)"
   ]
  },
  {
   "cell_type": "markdown",
   "id": "30",
   "metadata": {},
   "source": [
    "You can also use an OR condition.\n",
    "\n",
    "The query below filters by project id `PROJECT_ID` AND either  device  id (`ring-20-200` OR `ring-20-150`).\n",
    "\n",
    "Because there are 21 measurements per device, one for each die, if you look for two specific devices."
   ]
  },
  {
   "cell_type": "code",
   "execution_count": null,
   "id": "31",
   "metadata": {},
   "outputs": [],
   "source": [
    "device_id = \"rings_RingDouble-20-200-_add_fiber_array_ea36ac06_331580_243771\"\n",
    "\n",
    "with dd.get_session() as session:\n",
    "    data_tuples = dd.get_data_by_query(\n",
    "        [\n",
    "            dd.Project.project_id == PROJECT_ID,\n",
    "            dd.or_(dd.Device.device_id == device_id, dd.Device.device_id == device_id),\n",
    "        ],\n",
    "        session=session,\n",
    "    )\n",
    "len(data_tuples)"
   ]
  },
  {
   "cell_type": "markdown",
   "id": "32",
   "metadata": {},
   "source": [
    "You can also combine conditionals.\n",
    "\n",
    "In the example below, you can get all the data for the specified project id, device id and either die coordinate."
   ]
  },
  {
   "cell_type": "code",
   "execution_count": null,
   "id": "33",
   "metadata": {},
   "outputs": [],
   "source": [
    "with dd.get_session() as session:\n",
    "    data_tuples = dd.get_data_by_query(\n",
    "        [\n",
    "            dd.Project.project_id == PROJECT_ID,\n",
    "            dd.Device.device_id == device_id,\n",
    "            dd.or_(\n",
    "                dd.and_(dd.Die.x == 1, dd.Die.y == 1),  # either die 1,1\n",
    "                dd.and_(dd.Die.x == 0, dd.Die.y == 0),  # or die 0,0\n",
    "            ),\n",
    "        ],\n",
    "        session=session,\n",
    "    )\n",
    "len(data_tuples)"
   ]
  },
  {
   "cell_type": "markdown",
   "id": "34",
   "metadata": {},
   "source": [
    "### Attribute filter\n",
    "\n",
    "You can filter attributes of any data models by passing a list of conditions as shown below.\n",
    "\n",
    "You can use `dd.Cell/dd.Wafer/...`, `key`, `value`\n",
    "\n",
    "You can only filter for values that are str, bool, int, float.\n",
    "\n",
    "The query below filters Cells with waveguide gap 0.150 that are in a particular project and die coordinates."
   ]
  },
  {
   "cell_type": "code",
   "execution_count": null,
   "id": "35",
   "metadata": {},
   "outputs": [],
   "source": [
    "with dd.get_session() as session:\n",
    "    device_data_objects = dd.get_data_by_query(\n",
    "        [\n",
    "            dd.attribute_filter(\n",
    "                dd.Cell, \"gap_um\", 0.15\n",
    "            ),  # checking for values in JSON attributes\n",
    "            dd.Project.project_id == PROJECT_ID,\n",
    "            dd.Die.x == 0,\n",
    "            dd.Die.y == 0,\n",
    "        ],\n",
    "        session=session,\n",
    "    )"
   ]
  },
  {
   "cell_type": "code",
   "execution_count": null,
   "id": "36",
   "metadata": {},
   "outputs": [],
   "source": [
    "len(device_data_objects)"
   ]
  },
  {
   "cell_type": "markdown",
   "id": "37",
   "metadata": {},
   "source": [
    "You can combine conditional and attribute filter clauses together.\n",
    "\n",
    "You can get the data for Cells for a given project with 150nm 0um and either radius 20um or 10um"
   ]
  },
  {
   "cell_type": "code",
   "execution_count": null,
   "id": "38",
   "metadata": {},
   "outputs": [],
   "source": [
    "with dd.get_session() as session:\n",
    "    data_tuples = dd.get_data_by_query(\n",
    "        [\n",
    "            dd.Project.project_id == PROJECT_ID,\n",
    "            dd.Die.x == 0,\n",
    "            dd.Die.y == 0,\n",
    "            dd.attribute_filter(\n",
    "                dd.Cell, \"gap_um\", 0.15\n",
    "            ),  # checking for values in JSON attributes\n",
    "            dd.or_(\n",
    "                dd.attribute_filter(dd.Cell, \"radius_um\", 20),\n",
    "                dd.attribute_filter(dd.Cell, \"radius_um\", 10),\n",
    "            ),\n",
    "        ],\n",
    "        session=session,\n",
    "    )\n",
    "len(data_tuples)"
   ]
  }
 ],
 "metadata": {
  "kernelspec": {
   "display_name": "ddk",
   "language": "python",
   "name": "python3"
  },
  "language_info": {
   "codemirror_mode": {
    "name": "ipython",
    "version": 3
   },
   "file_extension": ".py",
   "mimetype": "text/x-python",
   "name": "python",
   "nbconvert_exporter": "python",
   "pygments_lexer": "ipython3",
   "version": "3.12.4"
  }
 },
 "nbformat": 4,
 "nbformat_minor": 5
}
