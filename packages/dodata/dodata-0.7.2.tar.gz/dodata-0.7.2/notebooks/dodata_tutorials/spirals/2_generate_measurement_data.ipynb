{
 "cells": [
  {
   "cell_type": "markdown",
   "id": "0",
   "metadata": {},
   "source": [
    "# Generate measurements\n",
    "\n",
    "For this tutorial you will generate some sample (fake) measurement data so you can post it to your project.\n",
    "\n",
    "You're going to create a new folder and populate it with JSON files containing the fake measurement data for the whole wafer."
   ]
  },
  {
   "cell_type": "code",
   "execution_count": null,
   "id": "1",
   "metadata": {},
   "outputs": [],
   "source": [
    "import json\n",
    "from pathlib import Path\n",
    "\n",
    "import matplotlib.pyplot as plt\n",
    "import numpy as np\n",
    "import pandas as pd"
   ]
  },
  {
   "cell_type": "code",
   "execution_count": null,
   "id": "2",
   "metadata": {},
   "outputs": [],
   "source": [
    "df = pd.read_csv(\"design_manifest.csv\")\n",
    "df"
   ]
  },
  {
   "cell_type": "code",
   "execution_count": null,
   "id": "3",
   "metadata": {
    "lines_to_next_cell": 2
   },
   "outputs": [],
   "source": [
    "def gaussian_grating_coupler_response(\n",
    "    peak_power: float, center_wavelength: float, bandwidth_1dB, wavelength\n",
    "):\n",
    "    \"\"\"Calculate the response of a Gaussian grating coupler.\n",
    "\n",
    "    Args:\n",
    "        peak_power: The peak power of the response.\n",
    "        center_wavelength: The center wavelength of the grating coupler.\n",
    "        bandwidth_1dB: The 1 dB bandwidth of the coupler.\n",
    "        wavelength: The wavelength at which the response is evaluated.\n",
    "\n",
    "    Returns:\n",
    "    - The power of the grating coupler response at the given wavelength.\n",
    "    \"\"\"\n",
    "    # Convert 1 dB bandwidth to standard deviation (sigma)\n",
    "    sigma = bandwidth_1dB / (2 * np.sqrt(2 * np.log(10)))\n",
    "\n",
    "    # Gaussian response calculation\n",
    "    response = peak_power * np.exp(\n",
    "        -0.5 * ((wavelength - center_wavelength) / sigma) ** 2\n",
    "    )\n",
    "    return response\n",
    "\n",
    "\n",
    "nm = 1e-3\n",
    "# Parameters\n",
    "peak_power = 1.0\n",
    "center_wavelength = 1550 * nm  # Center wavelength in micrometers\n",
    "bandwidth_1dB = 100 * nm\n",
    "\n",
    "# Wavelength range: 100 nm around the center wavelength, converted to micrometers\n",
    "wavelength_range = np.linspace(center_wavelength - 0.05, center_wavelength + 0.05, 121)\n",
    "\n",
    "# Calculate the response for each wavelength\n",
    "responses = [\n",
    "    gaussian_grating_coupler_response(peak_power, center_wavelength, bandwidth_1dB, wl)\n",
    "    for wl in wavelength_range\n",
    "]\n",
    "\n",
    "# Plotting\n",
    "plt.figure(figsize=(10, 6))\n",
    "plt.plot(wavelength_range, responses)\n",
    "plt.title(\"Gaussian Grating Coupler Response\")\n",
    "plt.xlabel(\"Wavelength (micrometers)\")\n",
    "plt.ylabel(\"Response\")\n",
    "plt.grid(True)\n",
    "plt.show()"
   ]
  },
  {
   "cell_type": "code",
   "execution_count": null,
   "id": "4",
   "metadata": {},
   "outputs": [],
   "source": [
    "widths_um = [0.3, 0.5, 0.8]\n",
    "loss_dB = [3, 2.5, 1]\n",
    "loss_vs_width_model = np.polyfit(widths_um, loss_dB, deg=1)\n",
    "plt.plot(widths_um, loss_dB, \".\")\n",
    "plt.xlabel(\"width (um)\")\n",
    "plt.ylabel(\"loss (dB/cm)\")"
   ]
  },
  {
   "cell_type": "markdown",
   "id": "5",
   "metadata": {},
   "source": [
    "## Generate wafer definitions\n",
    "\n",
    "You can define different wafer maps for each wafer.\n",
    "\n",
    "![wafer_map](https://i.imgur.com/sBHIRGs.png)"
   ]
  },
  {
   "cell_type": "code",
   "execution_count": null,
   "id": "6",
   "metadata": {},
   "outputs": [],
   "source": [
    "wafer_definitions = Path(\"wafer_definitions.json\")\n",
    "wafers = [\"6d4c615ff105\"]\n",
    "dies = [\n",
    "    {\"x\": x, \"y\": y}\n",
    "    for y in range(-2, 3)\n",
    "    for x in range(-2, 3)\n",
    "    if not (abs(y) == 2 and abs(x) == 2)\n",
    "]\n",
    "\n",
    "# Wrap in a list with the wafer information\n",
    "data = [\n",
    "    {\n",
    "        \"wafer\": wafer_pkey,\n",
    "        \"dies\": dies,\n",
    "        \"lot_id\": \"lot1\",\n",
    "        \"attributes\": {\"doping_n\": 1e-18},\n",
    "        \"description\": \"low doping\",\n",
    "    }\n",
    "    for wafer_pkey in wafers\n",
    "]\n",
    "\n",
    "with open(wafer_definitions, \"w\") as f:\n",
    "    json.dump(data, f, indent=2)"
   ]
  },
  {
   "cell_type": "markdown",
   "id": "7",
   "metadata": {},
   "source": [
    "## Generate and write spectrums\n",
    "\n",
    "You can easily generate some spectrum data and add some noise to make it look like a real measurement."
   ]
  },
  {
   "cell_type": "code",
   "execution_count": null,
   "id": "8",
   "metadata": {},
   "outputs": [],
   "source": [
    "cwd = Path(\".\")\n",
    "metadata = {\"measurement_type\": \"Spectral MEAS\", \"temperature\": 25}\n",
    "noise_peak_to_peak_dB = 1\n",
    "grating_coupler_loss_dB = 3\n",
    "\n",
    "for wafer in wafers:\n",
    "    wafer_per_cent_variation = 0.20  # 20% variation\n",
    "    wafer_variation_factor = 1 + wafer_per_cent_variation * (2 * np.random.rand() - 1)\n",
    "\n",
    "    for die in dies:\n",
    "        die = f\"{(die['x'])}_{(die['y'])}\"\n",
    "        for (_, row), (_, device_row) in zip(\n",
    "            df.iterrows(), df.iterrows(), strict=False\n",
    "        ):\n",
    "            cell_id = row[\"cell\"]\n",
    "            if \"ridge\" in cell_id:\n",
    "                continue\n",
    "            top_cell_id = \"RibLoss\" if \"rib\" in cell_id else \"RidgeLoss\"\n",
    "            device_id = f\"{top_cell_id}_{cell_id}_{device_row['x']}_{device_row['y']}\"\n",
    "            dirpath = cwd / wafer / die / device_id\n",
    "            dirpath.mkdir(exist_ok=True, parents=True)\n",
    "            data_file = dirpath / \"data.json\"\n",
    "            metadata_file = dirpath / \"attributes.json\"\n",
    "            metadata_file.write_text(json.dumps(metadata))\n",
    "            loss_dB = (\n",
    "                np.polyval(loss_vs_width_model, row[\"width_um\"])\n",
    "                * row[\"length_um\"]\n",
    "                * 1e-6\n",
    "                * 1e2\n",
    "            )  # convert um to cm\n",
    "            loss_dB += 2 * grating_coupler_loss_dB\n",
    "            peak_power = 10 ** (-loss_dB / 10)\n",
    "            device_per_cent_variation = 0.05  # 5% variation\n",
    "            device_variation_factor = 1 + device_per_cent_variation * (\n",
    "                2 * np.random.rand() - 1\n",
    "            )\n",
    "            peak_power *= wafer_variation_factor * device_variation_factor\n",
    "\n",
    "            output_power = [\n",
    "                gaussian_grating_coupler_response(\n",
    "                    peak_power, center_wavelength, bandwidth_1dB, wl\n",
    "                )\n",
    "                for wl in wavelength_range\n",
    "            ]\n",
    "            output_power *= 10 ** (\n",
    "                noise_peak_to_peak_dB * np.random.rand(len(wavelength_range)) / 10\n",
    "            )\n",
    "            # output_power_dB = 10*np.log10(output_power)\n",
    "            d = {\n",
    "                \"wavelength\": wavelength_range * 1e3,\n",
    "                \"output_power\": output_power,\n",
    "                \"polyfit\": loss_dB,\n",
    "            }\n",
    "            data = pd.DataFrame(d)\n",
    "            json_converted_file = data.reset_index(drop=True).to_dict(orient=\"split\")\n",
    "            json.dump(\n",
    "                json_converted_file,\n",
    "                open(data_file.with_suffix(\".json\"), \"w+\"),\n",
    "                indent=2,\n",
    "            )"
   ]
  },
  {
   "cell_type": "code",
   "execution_count": null,
   "id": "9",
   "metadata": {},
   "outputs": [],
   "source": [
    "dirpath"
   ]
  },
  {
   "cell_type": "code",
   "execution_count": null,
   "id": "10",
   "metadata": {},
   "outputs": [],
   "source": [
    "plt.plot(wavelength_range, output_power)\n",
    "plt.title(dirpath.stem)\n",
    "plt.ylabel(\"Power (mW)\")\n",
    "plt.xlabel(\"wavelength (um)\")"
   ]
  },
  {
   "cell_type": "code",
   "execution_count": null,
   "id": "11",
   "metadata": {},
   "outputs": [],
   "source": [
    "f\"{len(list(dirpath.parent.glob('*/*.json'))) // 2} measurements\""
   ]
  },
  {
   "cell_type": "code",
   "execution_count": null,
   "id": "12",
   "metadata": {},
   "outputs": [],
   "source": [
    "dirpath"
   ]
  },
  {
   "cell_type": "code",
   "execution_count": null,
   "id": "13",
   "metadata": {},
   "outputs": [],
   "source": [
    "f\"{len(list(dirpath.parent.parent.glob('*')))} dies\""
   ]
  }
 ],
 "metadata": {
  "jupytext": {
   "custom_cell_magics": "kql"
  },
  "kernelspec": {
   "display_name": "Python 3",
   "language": "python",
   "name": "python3"
  },
  "language_info": {
   "codemirror_mode": {
    "name": "ipython",
    "version": 3
   },
   "file_extension": ".py",
   "mimetype": "text/x-python",
   "name": "python",
   "nbconvert_exporter": "python",
   "pygments_lexer": "ipython3",
   "version": "3.12.9"
  }
 },
 "nbformat": 4,
 "nbformat_minor": 5
}
