{
 "cells": [
  {
   "cell_type": "markdown",
   "id": "0",
   "metadata": {},
   "source": [
    "# Generate measurements\n",
    "\n",
    "For this tutorial you will generate some sample (fake) measurement data so you can post it to your project.\n",
    "\n",
    "You're going to create a new folder and populate it with JSON files containing the fake measurement data for the whole wafer."
   ]
  },
  {
   "cell_type": "code",
   "execution_count": null,
   "id": "1",
   "metadata": {},
   "outputs": [],
   "source": [
    "import json\n",
    "from pathlib import Path\n",
    "\n",
    "import matplotlib.pyplot as plt\n",
    "import numpy as np\n",
    "import pandas as pd"
   ]
  },
  {
   "cell_type": "code",
   "execution_count": null,
   "id": "2",
   "metadata": {},
   "outputs": [],
   "source": [
    "df = pd.read_csv(\"design_manifest.csv\")\n",
    "df"
   ]
  },
  {
   "cell_type": "code",
   "execution_count": null,
   "id": "3",
   "metadata": {},
   "outputs": [],
   "source": [
    "def iv_resistance(resistance, current) -> np.ndarray:\n",
    "    \"\"\"Returns IV.\n",
    "\n",
    "    Args:\n",
    "        resistance: in Ohms.\n",
    "        current: electrical intensity in A.\n",
    "    \"\"\"\n",
    "    v = resistance * current\n",
    "    return v\n",
    "\n",
    "\n",
    "i = np.linspace(0, 100, 21)\n",
    "v = iv_resistance(resistance=30, current=i)\n",
    "\n",
    "plt.figure(figsize=(10, 6))\n",
    "plt.plot(i, v)\n",
    "plt.title(\"Resistance\")\n",
    "plt.xlabel(\"Current (A)\")\n",
    "plt.ylabel(\"V\")\n",
    "plt.grid(True)\n",
    "plt.show()"
   ]
  },
  {
   "cell_type": "code",
   "execution_count": null,
   "id": "4",
   "metadata": {},
   "outputs": [],
   "source": [
    "i = np.linspace(0, 100, 79)\n",
    "v = iv_resistance(resistance=60, current=i)\n",
    "\n",
    "plt.figure(figsize=(10, 6))\n",
    "plt.plot(i, v)\n",
    "plt.title(\"Resistance\")\n",
    "plt.xlabel(\"Current (A)\")\n",
    "plt.ylabel(\"V\")\n",
    "plt.grid(True)\n",
    "plt.show()"
   ]
  },
  {
   "cell_type": "markdown",
   "id": "5",
   "metadata": {},
   "source": [
    "## Generate wafer definitions\n",
    "\n",
    "You can define different wafer maps for each wafer.\n",
    "\n",
    "![wafer_map](https://i.imgur.com/sBHIRGs.png)"
   ]
  },
  {
   "cell_type": "code",
   "execution_count": null,
   "id": "6",
   "metadata": {},
   "outputs": [],
   "source": [
    "wafer_definitions = Path(\"wafer_definitions.json\")\n",
    "wafers = [\"2eq221eqewq2\", \"334abd342zuq\", \"6d4c615ff105\"]\n",
    "dies = [\n",
    "    {\"x\": x, \"y\": y}\n",
    "    for y in range(-2, 3)\n",
    "    for x in range(-2, 3)\n",
    "    if not (abs(y) == 2 and abs(x) == 2)\n",
    "]\n",
    "\n",
    "# Wrap in a list with the wafer information\n",
    "data = [{\"wafer\": wafer_pkey, \"dies\": dies} for wafer_pkey in wafers]\n",
    "\n",
    "with open(wafer_definitions, \"w\") as f:\n",
    "    json.dump(data, f, indent=2)"
   ]
  },
  {
   "cell_type": "markdown",
   "id": "7",
   "metadata": {},
   "source": [
    "## Generate and write data\n",
    "\n",
    "You can easily generate some data and add some noise to make it look like a real measurement."
   ]
  },
  {
   "cell_type": "code",
   "execution_count": null,
   "id": "8",
   "metadata": {},
   "outputs": [],
   "source": [
    "wafers_path = Path(\"wafers\")\n",
    "\n",
    "metadata = {\"measurement_type\": \"Spectral MEAS\", \"temperature\": 25}\n",
    "\n",
    "length = 20\n",
    "ohms_per_square = 100\n",
    "\n",
    "for wafer in wafers:\n",
    "    wafer_per_cent_variation = 0.20  # 20% variation\n",
    "    wafer_variation_factor = 1 + wafer_per_cent_variation * (2 * np.random.rand() - 1)\n",
    "\n",
    "    for die in dies:\n",
    "        die = f\"{(die['x'])}_{(die['y'])}\"\n",
    "        for (_, row), (_, device_row) in zip(\n",
    "            df.iterrows(), df.iterrows(), strict=False\n",
    "        ):\n",
    "            cell_id = row[\"cell\"]\n",
    "            basic_resistance = ohms_per_square * row[\"width_um\"] * length * 1e-12\n",
    "            device_per_cent_variation = 0.05  # 5% variation\n",
    "            device_variation_factor = 1 + device_per_cent_variation * (\n",
    "                2 * np.random.rand() - 1\n",
    "            )\n",
    "            resistance = (\n",
    "                basic_resistance * wafer_variation_factor * device_variation_factor\n",
    "            )\n",
    "\n",
    "            # Special resistance cases (open and short circuits)\n",
    "            rand_num = np.random.rand()\n",
    "            if rand_num < 0.05:\n",
    "                resistance = 3000  # 5% with infinite resistance (open circuit)\n",
    "            elif rand_num < 0.08:  # Additional 3% (total 8% chance)\n",
    "                resistance = 0  # 3% with zero resistance (short circuit)\n",
    "\n",
    "            top_cell_id = \"resistance\"\n",
    "            device_id = f\"{top_cell_id}_{cell_id}_{device_row['x']}_{device_row['y']}\"\n",
    "            v = iv_resistance(resistance=resistance, current=i)\n",
    "            noise = 5e-2 * np.random.rand(len(v)) * v  # add 5% noise\n",
    "            v += noise\n",
    "            dirpath = wafers_path / wafer / die / device_id\n",
    "            dirpath.mkdir(exist_ok=True, parents=True)\n",
    "            data_file = dirpath / \"data.json\"\n",
    "            metadata_file = dirpath / \"attributes.json\"\n",
    "            metadata_file.write_text(json.dumps(metadata))\n",
    "\n",
    "            d = {\n",
    "                \"v\": v,\n",
    "                \"i\": i,\n",
    "                \"polyfit\": resistance,\n",
    "            }\n",
    "            data = pd.DataFrame(d)\n",
    "            json_converted_file = data.reset_index(drop=True).to_dict(orient=\"split\")\n",
    "            json.dump(\n",
    "                json_converted_file,\n",
    "                open(data_file.with_suffix(\".json\"), \"w+\"),\n",
    "                indent=2,\n",
    "            )"
   ]
  },
  {
   "cell_type": "code",
   "execution_count": null,
   "id": "9",
   "metadata": {},
   "outputs": [],
   "source": [
    "plt.plot(i, v)\n",
    "plt.title(dirpath.stem)\n",
    "plt.ylabel(\"V (V)\")\n",
    "plt.xlabel(\"I (A)\")"
   ]
  },
  {
   "cell_type": "code",
   "execution_count": null,
   "id": "10",
   "metadata": {},
   "outputs": [],
   "source": [
    "f\"{len(list(dirpath.parent.glob('*/*.json'))) // 2} measurements\""
   ]
  },
  {
   "cell_type": "code",
   "execution_count": null,
   "id": "11",
   "metadata": {},
   "outputs": [],
   "source": [
    "dirpath"
   ]
  },
  {
   "cell_type": "code",
   "execution_count": null,
   "id": "12",
   "metadata": {},
   "outputs": [],
   "source": [
    "f\"{len(list(dirpath.parent.parent.glob('*')))} dies\""
   ]
  },
  {
   "cell_type": "code",
   "execution_count": null,
   "id": "13",
   "metadata": {},
   "outputs": [],
   "source": [
    "min_i = 20\n",
    "max_i = None\n",
    "\n",
    "min_i = min_i if min_i is not None else np.min(i)\n",
    "max_i = max_i if max_i is not None else np.max(i)\n",
    "\n",
    "i2 = i[(i > min_i) & (i < max_i)]\n",
    "v2 = v[(i > min_i) & (i < max_i)] + 10\n",
    "\n",
    "plt.plot(i2, v2)\n",
    "plt.ylabel(\"V (V)\")\n",
    "plt.xlabel(\"I (A)\")\n",
    "\n",
    "p = np.polyfit(i2, v2, deg=1)\n",
    "print(f\"Sheet resistance {p[0]:.2f}\")"
   ]
  }
 ],
 "metadata": {
  "kernelspec": {
   "display_name": "ddk",
   "language": "python",
   "name": "python3"
  },
  "language_info": {
   "codemirror_mode": {
    "name": "ipython",
    "version": 3
   },
   "file_extension": ".py",
   "mimetype": "text/x-python",
   "name": "python",
   "nbconvert_exporter": "python",
   "pygments_lexer": "ipython3",
   "version": "3.12.4"
  }
 },
 "nbformat": 4,
 "nbformat_minor": 5
}
