{
 "cells": [
  {
   "cell_type": "markdown",
   "metadata": {},
   "source": [
    "<span style=\"float:left;\">Licence CC BY-NC-ND</span>"
   ]
  },
  {
   "cell_type": "markdown",
   "metadata": {},
   "source": [
    "# Embedding pythontutor illustrations in Jupyter  "
   ]
  },
  {
   "cell_type": "markdown",
   "metadata": {},
   "source": [
    "## Installation"
   ]
  },
  {
   "cell_type": "markdown",
   "metadata": {},
   "source": [
    "```bash\n",
    "pip3 install ipythontutor\n",
    "```"
   ]
  },
  {
   "cell_type": "markdown",
   "metadata": {},
   "source": [
    "## Basic Usage"
   ]
  },
  {
   "cell_type": "code",
   "execution_count": null,
   "metadata": {},
   "outputs": [],
   "source": [
    "# required to load the extension\n",
    "%load_ext ipythontutor"
   ]
  },
  {
   "cell_type": "markdown",
   "metadata": {},
   "source": [
    "In its simplest form, the code in the cell is handed over (as python3) to the excellent http://pythontutor.com/"
   ]
  },
  {
   "cell_type": "code",
   "execution_count": null,
   "metadata": {},
   "outputs": [],
   "source": [
    "%%ipythontutor\n",
    "original = reference = [1, 2]\n",
    "original[0] = 'boom'\n",
    "print(reference)"
   ]
  },
  {
   "cell_type": "markdown",
   "metadata": {},
   "source": [
    "## Setting sizes"
   ]
  },
  {
   "cell_type": "code",
   "execution_count": null,
   "metadata": {},
   "outputs": [],
   "source": [
    "%%ipythontutor height=400 width=650\n",
    "def fact(n):\n",
    "    return 1 if n <= 1 else n * fact(n-1)\n",
    "original = [fact(3), fact(4)]\n",
    "reference = original[:]\n",
    "original[0] = 'boom'\n",
    "print(reference)"
   ]
  },
  {
   "cell_type": "markdown",
   "metadata": {},
   "source": [
    "## Link Button"
   ]
  },
  {
   "cell_type": "code",
   "execution_count": null,
   "metadata": {},
   "outputs": [],
   "source": [
    "%%ipythontutor linkButton=true\n",
    "def fact(n):\n",
    "    return 1 if n <= 1 else n * fact(n-1)\n",
    "print(fact(10))"
   ]
  },
  {
   "cell_type": "markdown",
   "metadata": {},
   "source": [
    "## Other settings"
   ]
  },
  {
   "cell_type": "markdown",
   "metadata": {},
   "source": [
    "The following list shows the settings that can be tweaked on the magic line:"
   ]
  },
  {
   "cell_type": "code",
   "execution_count": 28,
   "metadata": {},
   "outputs": [
    {
     "name": "stdout",
     "output_type": "stream",
     "text": [
      "               width - defaults to - 750\n",
      "              height - defaults to - 300\n",
      "               proto - defaults to - https\n",
      "                  py - defaults to - 3\n",
      "       verticalStack - defaults to - \n",
      "            curInstr - defaults to - 0\n",
      "          cumulative - defaults to - false\n",
      "      heapPrimitives - defaults to - false\n",
      "      textReferences - defaults to - false\n",
      "               ratio - defaults to - 1\n",
      "          linkButton - defaults to - false\n"
     ]
    }
   ],
   "source": [
    "from ipythontutor import Magics\n",
    "for var, default in Magics.defaults.items():\n",
    "    print(\"{var:>20} - defaults to - {default:<}\".format(**locals()))\n"
   ]
  }
 ],
 "metadata": {
  "kernelspec": {
   "display_name": "Python 3 (ipykernel)",
   "language": "python",
   "name": "python3"
  },
  "language_info": {
   "codemirror_mode": {
    "name": "ipython",
    "version": 3
   },
   "file_extension": ".py",
   "mimetype": "text/x-python",
   "name": "python",
   "nbconvert_exporter": "python",
   "pygments_lexer": "ipython3",
   "version": "3.13.2"
  },
  "notebookname": "Embedding pythontutor illustrations in Jupyter  ",
  "version": "1.0"
 },
 "nbformat": 4,
 "nbformat_minor": 4
}
