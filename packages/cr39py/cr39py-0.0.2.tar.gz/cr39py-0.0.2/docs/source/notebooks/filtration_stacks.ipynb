{
 "cells": [
  {
   "cell_type": "markdown",
   "metadata": {},
   "source": [
    "# Calculating particle ranging in filtration stacks"
   ]
  },
  {
   "cell_type": "code",
   "execution_count": null,
   "metadata": {},
   "outputs": [],
   "source": [
    "import matplotlib.pyplot as plt\n",
    "\n",
    "from cr39py.core.units import u\n",
    "from cr39py.filtration.srim import SRIMData\n",
    "from cr39py import Layer, Stack"
   ]
  },
  {
   "cell_type": "markdown",
   "metadata": {},
   "source": [
    "CR-39 is only sensitive to charged particles within a certain energy range (approximately 1-4 MeV). So, CR-39 detectors are often fielded with filter materials in front of the CR-39 to range the particles down to the appropriate energy range. Choosing the materials and thicknesses of these filters is a crucial part of designing a CR-39 detector pack. This notebook will show how the `Layer` and `Stack` objects in cr39py make use of data from [SRIM](http://www.srim.org/) to calculate charged particle ranging in materials.\n",
    "\n",
    "[SRIM](http://www.srim.org/) calculates stopping power curves for various incident particles and materials. A set of these output files commonly relevant to CR-39 experiments are bundeled with `cr39py` in the `cr39py/data/srim` folder, and new files can be added to that directory as needed. \n",
    "\n",
    "The `SRIMData`` class can be used to load these SRIM output files. The plot below shows the stopping power and projected range curves for protons in Aluminum."
   ]
  },
  {
   "cell_type": "code",
   "execution_count": null,
   "metadata": {
    "tags": [
     "nbsphinx-thumbnail"
    ]
   },
   "outputs": [],
   "source": [
    "particle, material = 'Proton', 'Al'\n",
    "srim = SRIMData.from_strings(\"Proton\", \"Al\")\n",
    "\n",
    "fig, axarr = plt.subplots(ncols=2, figsize=(8,3))\n",
    "fig.subplots_adjust(wspace=0.3)\n",
    "\n",
    "ax = axarr[0]\n",
    "ax.set_title(f\"{particle} stopping power in {material}\")\n",
    "ax.set_xlabel(\"Ion energy (MeV)\")\n",
    "ax.set_ylabel(\"Stopping power (keV/um)\")\n",
    "ax.set_xscale('log')\n",
    "ax.plot(srim.ion_energy*1e-6, srim.dEdx_total)\n",
    "\n",
    "ax = axarr[1]\n",
    "ax.set_title(f\"{particle} projected range in {material}\")\n",
    "ax.set_xlabel(\"Ion energy (MeV)\")\n",
    "ax.set_ylabel(\"Range (um)\")\n",
    "ax.set_xscale('log')\n",
    "ax.set_yscale('log')\n",
    "ax.plot(srim.ion_energy*1e-6, srim.projected_range*1e6);"
   ]
  },
  {
   "cell_type": "markdown",
   "metadata": {},
   "source": [
    "The rapid increase of stopping power near 100 keV is responsible for the [Bragg peak](https://en.wikipedia.org/wiki/Bragg_peak).\n",
    "\n",
    "Since the stopping power $dE/dx$ is a function of the particle energy, it will change as the particle travels through the material, loosing energy. To calculate the energy lost through the material, we therefore need to integrate\n",
    "\n",
    "$\\Delta E = \\int_0^t \\frac{dE(x)}{dx} dx$\n",
    "\n",
    "where $t$ is the thickness of the material. If the particle energy changes significantly while in the material and we want to perform this integral numerically, we must choose a small enough $dx$ that the change in energy across it is negligible. In practice, for the materials and MeV energies encountered in most CR-39 experiments, around 1 um steps generally works."
   ]
  },
  {
   "cell_type": "markdown",
   "metadata": {},
   "source": [
    "## Layers\n",
    "\n",
    "The `cr39py.filtration.stack.Layer` class internally uses this SRIM data to calculate the energy that a particle looses when scattering in a material. `Layer` objects are initialized using a string to describe the layer."
   ]
  },
  {
   "cell_type": "code",
   "execution_count": null,
   "metadata": {},
   "outputs": [],
   "source": [
    "l = Layer.from_string('300 um Ta')\n",
    "\n",
    "Eout = l.range_down(\"Proton\", 14.7*u.MeV)\n",
    "dE = l.ranging_energy_loss(\"Proton\", 14.7*u.MeV)\n",
    "print(f\"The energy of the proton after the layer will be {Eout.m_as(u.MeV):.2f} MeV, depositing {dE.m_as(u.MeV):.2f} MeV in the layer\")\n"
   ]
  },
  {
   "cell_type": "markdown",
   "metadata": {},
   "source": [
    "Sometimes we know the energy of a particle on our detector, and want to know what the energy was before the particle passed through the filtration in front of the detector. In this case, we want to reverse the ranging calculation."
   ]
  },
  {
   "cell_type": "code",
   "execution_count": null,
   "metadata": {},
   "outputs": [],
   "source": [
    "Ein = l.reverse_ranging(\"Proton\", Eout)\n",
    "print(f\"The initial energy of the particle was {Ein.m_as(u.MeV):.1f} MeV\")"
   ]
  },
  {
   "cell_type": "markdown",
   "metadata": {},
   "source": [
    "`Layer` performs the numerical integration in steps of `dx`, which is set to 1 um by default but which can be overridden with a keyword argument to any of the ranging methods.\n",
    "\n",
    "If we run the same code as above but manually set `dx` to be smaller, we should get a slightly more accurate result."
   ]
  },
  {
   "cell_type": "code",
   "execution_count": null,
   "metadata": {},
   "outputs": [],
   "source": [
    "l = Layer.from_string('300 um Ta')\n",
    "Eout = l.range_down(\"Proton\", 14.7*u.MeV, dx=0.1*u.um)\n",
    "print(f\"The energy of the proton after the layer will be {Eout.m_as(u.MeV):.2f} MeV.\")"
   ]
  },
  {
   "cell_type": "markdown",
   "metadata": {},
   "source": [
    "## Stacks\n",
    "\n",
    "Frequently, more than one layer of filter material is positioned in front of a CR-39 detector. For example, a common detector stack for proton radiography is \n",
    "\n",
    "- 15 um Ta\n",
    "- CR-39 for D-D protons (1500 um thick)\n",
    "- 150 um Al\n",
    "- CR-39 for D3He protons (1500 um thick)\n",
    "\n",
    "The `Stack` object in `cr39py` has similar functionality to the `Layer` object, but performs these calculations on the entire stack of filters at once. Stacks can be initialized with a list of Layers, or by a comma-separated list of strings that each define a valid Layer."
   ]
  },
  {
   "cell_type": "code",
   "execution_count": null,
   "metadata": {},
   "outputs": [],
   "source": [
    "s = Stack.from_string('15 um Ta, 1.5 mm CR-39, 150 um Al')\n",
    "\n",
    "Eout = s.range_down(\"Proton\", 14.7*u.MeV)\n",
    "print(f\"The energy on the front face of the second piece of CR-39 will be {Eout.m_as(u.MeV):.2} MeV\")"
   ]
  }
 ],
 "metadata": {
  "kernelspec": {
   "display_name": "dev312",
   "language": "python",
   "name": "python3"
  },
  "language_info": {
   "codemirror_mode": {
    "name": "ipython",
    "version": 3
   },
   "file_extension": ".py",
   "mimetype": "text/x-python",
   "name": "python",
   "nbconvert_exporter": "python",
   "pygments_lexer": "ipython3",
   "version": "3.12.9"
  }
 },
 "nbformat": 4,
 "nbformat_minor": 2
}
