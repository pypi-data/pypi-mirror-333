{
 "cells": [
  {
   "cell_type": "markdown",
   "metadata": {},
   "source": [
    "# Applying cuts to a CPSA file"
   ]
  },
  {
   "cell_type": "code",
   "execution_count": null,
   "metadata": {},
   "outputs": [],
   "source": [
    "from cr39py import Scan,Cut\n",
    "from pathlib import Path\n",
    "from cr39py.core.data import data_dir\n",
    "from cr39py.core.units import u"
   ]
  },
  {
   "cell_type": "markdown",
   "metadata": {},
   "source": [
    "## Loading track data from CPSA file"
   ]
  },
  {
   "cell_type": "code",
   "execution_count": null,
   "metadata": {},
   "outputs": [],
   "source": [
    "# Load a sample test CPSA file bundled with cr39py\n",
    "cpsa_path = data_dir / Path(\"test/test_wrf_G093_6hr.cpsa\")\n",
    "\n",
    "# Create a Scan object\n",
    "scan = Scan.from_cpsa(cpsa_path)"
   ]
  },
  {
   "cell_type": "markdown",
   "metadata": {},
   "source": [
    "The `cutplot()` method makes a standard figure that shows the CR39 tracks in several views."
   ]
  },
  {
   "cell_type": "code",
   "execution_count": null,
   "metadata": {},
   "outputs": [],
   "source": [
    "scan.cutplot();"
   ]
  },
  {
   "cell_type": "markdown",
   "metadata": {},
   "source": [
    "## Applying cuts"
   ]
  },
  {
   "cell_type": "markdown",
   "metadata": {},
   "source": [
    "Apply a cut to remove high contrast tracks, which are often noise"
   ]
  },
  {
   "cell_type": "code",
   "execution_count": null,
   "metadata": {},
   "outputs": [],
   "source": [
    "scan.add_cut(cmin=30)\n",
    "scan.cutplot()"
   ]
  },
  {
   "cell_type": "markdown",
   "metadata": {},
   "source": [
    "Add a second cut eliminating some lower diameter tracks. This time, to demonstrate another possible interface, we will create the cut first, then pass it to the scan object."
   ]
  },
  {
   "cell_type": "code",
   "execution_count": null,
   "metadata": {},
   "outputs": [],
   "source": [
    "c = Cut(dmin=8)\n",
    "scan.add_cut(c)\n",
    "scan.cutplot();"
   ]
  },
  {
   "cell_type": "markdown",
   "metadata": {},
   "source": [
    "Let's break the data into bins by diameter, which approximately corresponds to different energies. Dslicse are created such that each dslice has an equal number of tracks.\n",
    "\n",
    " The method `set_ndslices` will set the number of dslices for the current subset, and `select_dslice` will then allow us to select different slices. `select_dslicse(None)` will re-select all dslices."
   ]
  },
  {
   "cell_type": "code",
   "execution_count": null,
   "metadata": {},
   "outputs": [],
   "source": [
    "scan.set_ndslices(5)\n",
    "scan.select_dslice(3)\n",
    "scan.cutplot();\n"
   ]
  },
  {
   "cell_type": "markdown",
   "metadata": {},
   "source": [
    "## Creating new subsets\n",
    "\n",
    "Now let's create a new subset on which we can make a separate series of cuts without affecting those on the first subset. `add_subset()` with no argument will create a new, empty subset. Subsets are zero-indexed, so the new subset will be stored at index 1."
   ]
  },
  {
   "cell_type": "code",
   "execution_count": null,
   "metadata": {},
   "outputs": [],
   "source": [
    "scan.add_subset()\n",
    "scan.select_subset(1)\n",
    "scan.cutplot();"
   ]
  },
  {
   "cell_type": "code",
   "execution_count": null,
   "metadata": {},
   "outputs": [],
   "source": [
    "scan.add_cut(dmin=5)\n",
    "scan.cutplot();"
   ]
  },
  {
   "cell_type": "markdown",
   "metadata": {},
   "source": [
    "## Changing the frame size\n",
    "\n",
    "The ``framesize`` is the histogram bin size along each axis. Each axis (X,Y,D,C,E,Z) has a framesize, although the X and Y framesizes are restricted to be equal. \n",
    "\n",
    "The framesize for an axis can be accesed using the ``framesize`` method"
   ]
  },
  {
   "cell_type": "code",
   "execution_count": null,
   "metadata": {},
   "outputs": [],
   "source": [
    "print(scan.framesize('XY'))\n",
    "print(scan.framesize('D'))"
   ]
  },
  {
   "cell_type": "markdown",
   "metadata": {},
   "source": [
    "Now let's make a new subset to include all tracks, then increase the spatial framesize to create a higher resolution histogram"
   ]
  },
  {
   "cell_type": "code",
   "execution_count": null,
   "metadata": {},
   "outputs": [],
   "source": [
    "scan.add_subset()\n",
    "scan.select_subset(-1)\n",
    "scan.plot(axes=('XY'));"
   ]
  },
  {
   "cell_type": "code",
   "execution_count": null,
   "metadata": {},
   "outputs": [],
   "source": [
    "scan.set_framesize('XY', 0.01*u.cm)\n",
    "scan.plot(axes=('XY'));"
   ]
  }
 ],
 "metadata": {
  "kernelspec": {
   "display_name": "dev312",
   "language": "python",
   "name": "python3"
  },
  "language_info": {
   "codemirror_mode": {
    "name": "ipython",
    "version": 3
   },
   "file_extension": ".py",
   "mimetype": "text/x-python",
   "name": "python",
   "nbconvert_exporter": "python",
   "pygments_lexer": "ipython3",
   "version": "3.12.9"
  }
 },
 "nbformat": 4,
 "nbformat_minor": 2
}
