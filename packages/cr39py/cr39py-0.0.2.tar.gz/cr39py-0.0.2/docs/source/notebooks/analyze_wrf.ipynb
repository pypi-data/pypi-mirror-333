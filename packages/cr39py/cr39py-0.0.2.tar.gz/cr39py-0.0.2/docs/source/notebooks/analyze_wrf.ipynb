{
 "cells": [
  {
   "cell_type": "markdown",
   "metadata": {},
   "source": [
    "# Analyzing Wedge Range Filter Modules (WRFs)"
   ]
  },
  {
   "cell_type": "code",
   "execution_count": null,
   "metadata": {},
   "outputs": [],
   "source": [
    "from pathlib import Path\n",
    "import numpy as np\n",
    "import matplotlib.pyplot as plt\n",
    "\n",
    "from cr39py.core.data import data_dir\n",
    "from cr39py.core.units import u\n",
    "from cr39py.scan.wrf import  WedgeRangeFilter, synthetic_wrf_data"
   ]
  },
  {
   "cell_type": "markdown",
   "metadata": {},
   "source": [
    "Wedge range filters, or WRFs, are a type of charged particle spectrometer. The WRF consists of a sloped wedge of material (usually aluminum) placed over a piece of CR-39. By including the expected ranging of the particles in the wedge, along with the diameter-energy response of the CR-39, the energy spectrum of the particles can be recovered.\n",
    "\n",
    "![wrf_diagram](images/wrf_diagram.png)\n",
    "\n",
    "The spatial coordinate system of WRF scans are absolutely aligned to the coordinate system of the filter using several fiducials which are imprinted on the CR-39 during the shot by holes in the filter which allow a high fluence of particles to pass through. The calibrated slope and offset of the WRF's linear profile are also stored in this coordiante system, making it easy to calculate the thickness of the WRF at a given x position on the scan.\n",
    "\n",
    "The `WedgeRangeFilter` class is a subclass of `Scan`, and can be initialized directly from a CPSA file. In this case, the WRF's calibration information must also be included, either as a keyword argument or as an ID code in the filename. Calibrations for new WRFs can be added to the yaml file `cr39py/data/calibration/wrf_calibrations.yml`\n",
    "\n",
    "WRF analysis is conducted in Diameter(X) space, and the signal is integrated over the y-axis. So, we will need to set the framesize to something smaller than the default to get a good fit."
   ]
  },
  {
   "cell_type": "code",
   "execution_count": null,
   "metadata": {},
   "outputs": [],
   "source": [
    "example_wrf_file = data_dir / Path('test/test_wrf_G093_6hr.cpsa')\n",
    "wrf = WedgeRangeFilter.from_cpsa(example_wrf_file)\n",
    "wrf.set_framesize('X', 100*u.um)\n",
    "wrf.set_framesize('D', 0.1*u.um)"
   ]
  },
  {
   "cell_type": "markdown",
   "metadata": {},
   "source": [
    "In D(x) space, we can now see the characteristic curve, sometimes called the \"WRF plot\". As the filter gets thicker to the right, and particles are ranged down more, the track sizes get larger. If the incoming particles were monoenergetic, the curve would be infinitely thin. The offset of the curve in the x direction corresponds to the mean energy of the incident particles."
   ]
  },
  {
   "cell_type": "code",
   "execution_count": null,
   "metadata": {
    "tags": [
     "nbsphinx-thumbnail"
    ]
   },
   "outputs": [],
   "source": [
    "xax, dax, arr = wrf.histogram(axes=\"XD\", ylim=(0,20))\n",
    "# Mark where the WRF actually begins and ends: ~400 to ~1800 um thick\n",
    "xa= np.argmin(np.abs(wrf.wrf_thickness - 400*u.um))\n",
    "xb = np.argmin(np.abs(wrf.wrf_thickness - 1800*u.um))\n",
    "\n",
    "fig, ax = plt.subplots()\n",
    "ax.set_xlabel(\"X (cm)\")\n",
    "ax.set_ylabel(\"D (um)\")\n",
    "ax.pcolormesh(xax.m_as(u.cm), dax.m_as(u.um), arr.T, shading='auto', cmap='binary_r')\n",
    "ax.pcolormesh(xax[xa:xb].m_as(u.cm), dax.m_as(u.um), arr[xa:xb, :].T, shading='auto', cmap='plasma')\n",
    "ax.text(-0.55, 18, \"WRF linear region\", color='white', fontsize=12)\n",
    "\n",
    "ax2 = ax.twinx()\n",
    "ax2.plot(wrf.xaxis.m_as(u.cm), wrf.wrf_thickness, color='red',label='WRF thickness (fit)')\n",
    "ax2.legend(loc='upper left')\n",
    "ax2.set_ylabel(\"WRF thickness (um)\");"
   ]
  },
  {
   "cell_type": "markdown",
   "metadata": {},
   "source": [
    "## Determining Dmax\n",
    "\n",
    "Dmax is one of the two parameters in the C-parameter model, and corresponds to the diamter of the largest data track on the scan. The importance of this parameter is that, at least in theory, we can determine its value based on the scan, fixing it and turning the C-parameter model into a one-parameter model.\n",
    "\n",
    "In the polot below, Dmax is identified by looking for the region where the data tracks (~exponential distribution) fall off. Once this is identified, we can set the dmax parameter of the WRF object to store this for further analysis."
   ]
  },
  {
   "cell_type": "code",
   "execution_count": null,
   "metadata": {},
   "outputs": [],
   "source": [
    "wrf.dmax=20.5\n",
    "\n",
    "fig, ax  = wrf.plot_diameter_histogram(dlim=(0,25))\n",
    "ax.axvline(wrf.dmax, color='red');"
   ]
  },
  {
   "cell_type": "markdown",
   "metadata": {},
   "source": [
    "## Selecting the tracks to analyze\n",
    "\n",
    "The cut plot below provides several looks at the distribution of the tracks on the WRF. "
   ]
  },
  {
   "cell_type": "code",
   "execution_count": null,
   "metadata": {},
   "outputs": [],
   "source": [
    "wrf.cutplot();"
   ]
  },
  {
   "cell_type": "code",
   "execution_count": null,
   "metadata": {},
   "outputs": [],
   "source": []
  },
  {
   "cell_type": "markdown",
   "metadata": {},
   "source": [
    "While the \"WRF plot\" above nicely illustrates the concept, there are several regions of tracks that should be excluded from the analysis. \n",
    "\n",
    "1) Only tracks in the region where the WRF is linear should be included. For the WRF in question, this is the region where the WRF thickness ranges from ~100 to ~1800 um. \n",
    "2) The C-parameter model is only valid in the region where track energy is purely a function of diameter, not contrast. This means that we should only include tracks in the flat region of the \"hockey stick\" curve. In this data, means something like 8 to >20 um.\n",
    "3) To aggressivly minimize noise, we will cut tracks with contrast > 10, or eccentricities >15.  \n",
    "\n",
    "The `set_limits` method of the `WedgeRangeFilter` class provides an easy interface for setting these bounds, including automatically setting the x boundary base on limits provided for the filter thickness."
   ]
  },
  {
   "cell_type": "code",
   "execution_count": null,
   "metadata": {},
   "outputs": [],
   "source": [
    "wrf.set_limits(trange=(100,1800), drange=(10,20), crange=(0,10), erange=(0,15))\n",
    "wrf.cutplot();"
   ]
  },
  {
   "cell_type": "markdown",
   "metadata": {},
   "source": [
    "Now we see that the analyzable portion of the WRF data is restricted to a single verticle line. \n",
    "\n",
    "Re-examining the \"WRF plot\", D(x), we see that we have seemingly thrown away a large part of the data. However, since it is imperative that the data be well described by the C-parameter model, fitting this subset of the data will still actually result in a better fit than including the full curve."
   ]
  },
  {
   "cell_type": "code",
   "execution_count": null,
   "metadata": {},
   "outputs": [],
   "source": [
    "wrf.plot(axes='XD');"
   ]
  },
  {
   "cell_type": "markdown",
   "metadata": {},
   "source": [
    "## The WRF forward model\n",
    "\n",
    "The WRF module also contains a synthetic model for forward-modeling WRF data, which we will use to fit the data. The forward model assumes that the incident particles have a Gaussian energy distribution, and that the response of the CR-39 follows the c-Parameter model. There are three parameters: \n",
    "\n",
    "- The mean and std of the incident particle energy distribution\n",
    "- The c parameter c-Parameter model\n",
    "\n",
    "The other parameter of the the c-parameter model, dmax, is fixed.\n",
    "\n",
    "Synthetic data is created by:\n",
    "\n",
    "1) Using the c-parameter model to translate the diameter axis into an axis of incident particle energy on the front of the CR-39.\n",
    "2) Using an interpolator constructed on SRIM ranging data, and the WRF thickness at each x value, translate each pixel in X,D space into an incident energy on the front of the WRF. \n",
    "3) Model the normalized fluence on that pixel as a Gaussian with the given parameters."
   ]
  },
  {
   "cell_type": "code",
   "execution_count": null,
   "metadata": {},
   "outputs": [],
   "source": [
    "params = (15, 0.3, 1.2) # Mean energy, energy standard deviation, c-parameter, dmax parameter\n",
    "xaxis = wrf.xaxis.m_as(u.cm)\n",
    "daxis = np.arange(0, 20, 0.05)\n",
    "\n",
    "img = synthetic_wrf_data(params, xaxis, daxis, wrf.dmax,  wrf_calibration=wrf.wrf_calibration)\n",
    "\n",
    "fig, ax = plt.subplots()\n",
    "ax.set_xlabel(\"X (cm)\")\n",
    "ax.set_ylabel(\"D (um)\")\n",
    "ax.set_title(\"Synthetic WRF data\")\n",
    "ax.pcolormesh(xaxis, daxis, img.T); \n"
   ]
  },
  {
   "cell_type": "markdown",
   "metadata": {},
   "source": [
    "## Fitting the data\n",
    "\n",
    "Once the appropriate limits have been found, the data can be fit with a simple call to the `fit` method. This method uses a differential evolution algorithm to perform a forward fit of the data to minimize the $\\chi^2$ between the synthetic image and the data.\n",
    "\n"
   ]
  },
  {
   "cell_type": "code",
   "execution_count": null,
   "metadata": {},
   "outputs": [],
   "source": [
    "guess = (15, 0.3, 1) # Mean energy, energy standard deviation, c-parameter, dmax parameter\n",
    "bounds = [(12, 17), (0.05, 1), (0.4, 2)]\n",
    "res = wrf.fit(guess, bounds=bounds, plot=True);\n",
    "\n",
    "for i,name in enumerate(['Emean', 'Estd', 'c-parameter']):\n",
    "    print(f\"{name}: {res.x[i]:.2f}\")\n",
    "    \n",
    "print(res)"
   ]
  }
 ],
 "metadata": {
  "kernelspec": {
   "display_name": "dev312",
   "language": "python",
   "name": "python3"
  },
  "language_info": {
   "codemirror_mode": {
    "name": "ipython",
    "version": 3
   },
   "file_extension": ".py",
   "mimetype": "text/x-python",
   "name": "python",
   "nbconvert_exporter": "python",
   "pygments_lexer": "ipython3",
   "version": "3.12.9"
  }
 },
 "nbformat": 4,
 "nbformat_minor": 2
}
