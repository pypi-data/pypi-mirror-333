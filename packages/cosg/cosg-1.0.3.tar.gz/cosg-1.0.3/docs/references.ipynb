{
 "cells": [
  {
   "cell_type": "markdown",
   "id": "2168e5cd-e7a1-4882-9a68-b7edcd9244fe",
   "metadata": {},
   "source": [
    "## References"
   ]
  },
  {
   "cell_type": "markdown",
   "id": "a3582647-1b49-4a8e-a656-3d79ce8d9331",
   "metadata": {},
   "source": [
    "<a id=\"cell1\"></a>\n",
    "1. Dai, M., Pei, X., & Wang, X.-J. (2022). Accurate and fast cell marker gene identification with COSG. Briefings in Bioinformatics, 23(2). https://doi.org/10.1093/bib/bbab579"
   ]
  }
 ],
 "metadata": {
  "kernelspec": {
   "display_name": "Python 3 (ipykernel)",
   "language": "python",
   "name": "python3"
  },
  "language_info": {
   "codemirror_mode": {
    "name": "ipython",
    "version": 3
   },
   "file_extension": ".py",
   "mimetype": "text/x-python",
   "name": "python",
   "nbconvert_exporter": "python",
   "pygments_lexer": "ipython3",
   "version": "3.12.6"
  }
 },
 "nbformat": 4,
 "nbformat_minor": 5
}
