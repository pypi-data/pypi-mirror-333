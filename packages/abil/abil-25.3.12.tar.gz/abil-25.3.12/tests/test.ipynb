{
 "cells": [
  {
   "cell_type": "code",
   "execution_count": 4,
   "metadata": {},
   "outputs": [
    {
     "name": "stdout",
     "output_type": "stream",
     "text": [
      "loading reg\n",
      "ZeroInflatedRegressor(classifier=Pipeline(steps=[('preprocessor',\n",
      "                                                  ColumnTransformer(transformers=[('num',\n",
      "                                                                                   Pipeline(steps=[('scaler',\n",
      "                                                                                                    StandardScaler())]),\n",
      "                                                                                   array([0, 1, 2]))])),\n",
      "                                                 ('estimator',\n",
      "                                                  RandomForestClassifier(max_depth=50,\n",
      "                                                                         max_samples=0.8,\n",
      "                                                                         oob_score=True,\n",
      "                                                                         random_state=1))]),\n",
      "                      regressor=TransformedTargetRegressor(regressor=Pipeline(steps=[('preprocessor',\n",
      "                                                                                      ColumnTransformer(transformers=[('num',\n",
      "                                                                                                                       Pipeline(steps=[('scaler',\n",
      "                                                                                                                                        StandardScaler())]),\n",
      "                                                                                                                       array([0, 1, 2]))])),\n",
      "                                                                                     ('estimator',\n",
      "                                                                                      RandomForestRegressor(max_depth=50,\n",
      "                                                                                                            max_features=4,\n",
      "                                                                                                            max_samples=0.5,\n",
      "                                                                                                            min_samples_leaf=0.5,\n",
      "                                                                                                            oob_score=True,\n",
      "                                                                                                            random_state=1))])))\n"
     ]
    }
   ],
   "source": [
    "import xarray as xr \n",
    "import pickle\n",
    "\n",
    "print(\"loading reg\")\n",
    "with open('../tests/ModelOutput/2-phase/model/rf/Emiliania_huxleyi_zir.sav', 'rb') as file:\n",
    "    m = pickle.load(file)\n",
    "    \n",
    "print(m)"
   ]
  }
 ],
 "metadata": {
  "kernelspec": {
   "display_name": "abil-env",
   "language": "python",
   "name": "python3"
  },
  "language_info": {
   "codemirror_mode": {
    "name": "ipython",
    "version": 3
   },
   "file_extension": ".py",
   "mimetype": "text/x-python",
   "name": "python",
   "nbconvert_exporter": "python",
   "pygments_lexer": "ipython3",
   "version": "3.12.3"
  }
 },
 "nbformat": 4,
 "nbformat_minor": 2
}
