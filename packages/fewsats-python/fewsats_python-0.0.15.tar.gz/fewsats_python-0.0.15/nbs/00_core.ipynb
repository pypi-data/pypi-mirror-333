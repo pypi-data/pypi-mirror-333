{
 "cells": [
  {
   "cell_type": "markdown",
   "metadata": {},
   "source": [
    "# client\n",
    "\n",
    "> Client for interacting with the Fewsats API"
   ]
  },
  {
   "cell_type": "code",
   "execution_count": 1,
   "metadata": {},
   "outputs": [],
   "source": [
    "#| default_exp core"
   ]
  },
  {
   "cell_type": "code",
   "execution_count": 2,
   "metadata": {},
   "outputs": [],
   "source": [
    "#| export\n",
    "from fastcore.utils import *\n",
    "import os\n",
    "import httpx\n",
    "from typing import Dict, Any, List\n",
    "import json\n",
    "from fastcore.basics import BasicRepr\n",
    "from fastcore.utils import store_attr\n",
    "from typing import List, Dict, Any"
   ]
  },
  {
   "cell_type": "code",
   "execution_count": 3,
   "metadata": {},
   "outputs": [],
   "source": [
    "#| hide \n",
    "from dotenv import load_dotenv\n",
    "from fastcore.test import *"
   ]
  },
  {
   "cell_type": "code",
   "execution_count": 4,
   "metadata": {},
   "outputs": [
    {
     "data": {
      "text/plain": [
       "True"
      ]
     },
     "execution_count": 4,
     "metadata": {},
     "output_type": "execute_result"
    }
   ],
   "source": [
    "#| hide\n",
    "load_dotenv()"
   ]
  },
  {
   "cell_type": "markdown",
   "metadata": {},
   "source": [
    "The `Fewsats` class handles authentication and provides the foundation for our API interactions."
   ]
  },
  {
   "cell_type": "code",
   "execution_count": 5,
   "metadata": {},
   "outputs": [],
   "source": [
    "#| export\n",
    "class Fewsats:\n",
    "    \"Client for interacting with the Fewsats API\"\n",
    "    def __init__(self,\n",
    "                 api_key: str = None, # The API key for the Fewsats account\n",
    "                 base_url: str = \"https://api.fewsats.com\"): # The Fewsats API base URL\n",
    "        self.api_key = api_key or os.environ.get(\"FEWSATS_API_KEY\")\n",
    "        if not self.api_key:\n",
    "            raise ValueError(\"The api_key client option must be set either by passing api_key to the client or by setting the FEWSATS_API_KEY environment variable\")\n",
    "        self.base_url = base_url\n",
    "        self._httpx_client = httpx.Client()\n",
    "        self._httpx_client.headers.update({\"Authorization\": f\"Token {self.api_key}\"})\n"
   ]
  },
  {
   "cell_type": "code",
   "execution_count": 6,
   "metadata": {},
   "outputs": [],
   "source": [
    "k = os.getenv(\"FEWSATS_API_KEY\")\n",
    "fs = Fewsats(api_key=k)\n",
    "# k = os.getenv(\"FEWSATS_LOCAL_API_KEY\")\n",
    "# fs = Fewsats(api_key=k, base_url=\"http://localhost:8000\")\n",
    "\n",
    "test_eq(fs.api_key, k)\n",
    "test_eq(fs._httpx_client.headers[\"Authorization\"], f\"Token {k}\")"
   ]
  },
  {
   "cell_type": "markdown",
   "metadata": {},
   "source": [
    "## Methods"
   ]
  },
  {
   "cell_type": "code",
   "execution_count": 7,
   "metadata": {},
   "outputs": [],
   "source": [
    "#| export\n",
    "@patch\n",
    "def _request(self: Fewsats, \n",
    "             method: str, # The HTTP method to use\n",
    "             path: str, # The path to request\n",
    "             timeout: int = 10, # Timeout for the request in s\n",
    "             **kwargs) -> Dict[str, Any]:\n",
    "    \"Makes an authenticated request to Fewsats API\"\n",
    "    url = f\"{self.base_url}/{path}\"\n",
    "    return  self._httpx_client.request(method, url, timeout=timeout, **kwargs)"
   ]
  },
  {
   "cell_type": "code",
   "execution_count": 8,
   "metadata": {},
   "outputs": [],
   "source": [
    "r  = fs._request(\"GET\", \"v0/users/me\")\n",
    "test_eq(r.status_code, 200)"
   ]
  },
  {
   "cell_type": "markdown",
   "metadata": {},
   "source": [
    "Let's use a helper function to process the response."
   ]
  },
  {
   "cell_type": "markdown",
   "metadata": {},
   "source": [
    "### User Info"
   ]
  },
  {
   "cell_type": "code",
   "execution_count": 9,
   "metadata": {},
   "outputs": [],
   "source": [
    "#| export\n",
    "\n",
    "@patch\n",
    "def me(self: Fewsats):\n",
    "    \"Retrieve the user's info.\"\n",
    "    return self._request(\"GET\", \"v0/users/me\")\n"
   ]
  },
  {
   "cell_type": "code",
   "execution_count": 10,
   "metadata": {},
   "outputs": [
    {
     "data": {
      "text/plain": [
       "(200,\n",
       " {'name': 'Fewsats',\n",
       "  'last_name': 'Tester',\n",
       "  'email': 'test@fewsats.com',\n",
       "  'billing_info': None,\n",
       "  'id': 15,\n",
       "  'created_at': '2024-12-18T18:19:00.531Z',\n",
       "  'webhook_url': 'https://example.com'})"
      ]
     },
     "execution_count": 10,
     "metadata": {},
     "output_type": "execute_result"
    }
   ],
   "source": [
    "r = fs.me()\n",
    "r.status_code, r.json()"
   ]
  },
  {
   "cell_type": "markdown",
   "metadata": {},
   "source": [
    "### Balance "
   ]
  },
  {
   "cell_type": "code",
   "execution_count": 11,
   "metadata": {},
   "outputs": [],
   "source": [
    "#| export \n",
    "\n",
    "@patch\n",
    "def balance(self: Fewsats):\n",
    "    \"Retrieve the balance of the user's wallet.\"\n",
    "    return self._request(\"GET\", \"v0/wallets\")\n"
   ]
  },
  {
   "cell_type": "code",
   "execution_count": 12,
   "metadata": {},
   "outputs": [
    {
     "data": {
      "text/plain": [
       "(200, [{'id': 15, 'balance': 359, 'currency': 'usd'}])"
      ]
     },
     "execution_count": 12,
     "metadata": {},
     "output_type": "execute_result"
    }
   ],
   "source": [
    "r = fs.balance()\n",
    "r.status_code, r.json()"
   ]
  },
  {
   "cell_type": "markdown",
   "metadata": {},
   "source": [
    "### Payment Methods\n",
    "\n",
    "Retrieve the user's payment methods. Useful for checking which card will be used for purchases."
   ]
  },
  {
   "cell_type": "code",
   "execution_count": 13,
   "metadata": {},
   "outputs": [],
   "source": [
    "#| export\n",
    "@patch\n",
    "def payment_methods(self: Fewsats) -> List[Dict[str, Any]]:\n",
    "    \"Retrieve the user's payment methods, raises an exception for error status codes.\"\n",
    "    return self._request(\"GET\", \"v0/stripe/payment-methods\")\n"
   ]
  },
  {
   "cell_type": "code",
   "execution_count": 14,
   "metadata": {},
   "outputs": [
    {
     "data": {
      "text/plain": [
       "(200,\n",
       " [{'id': 5,\n",
       "   'last4': '4242',\n",
       "   'brand': 'Visa',\n",
       "   'exp_month': 12,\n",
       "   'exp_year': 2034,\n",
       "   'is_default': True}])"
      ]
     },
     "execution_count": 14,
     "metadata": {},
     "output_type": "execute_result"
    }
   ],
   "source": [
    "r = fs.payment_methods()\n",
    "payment_methods = r.json()\n",
    "r.status_code, payment_methods"
   ]
  },
  {
   "cell_type": "code",
   "execution_count": 15,
   "metadata": {},
   "outputs": [],
   "source": [
    "assert isinstance(payment_methods, list)"
   ]
  },
  {
   "cell_type": "markdown",
   "metadata": {},
   "source": [
    "### Preview a Purchase\n",
    "\n",
    "Preview the resulting state of a purchase. Useful, for example, to check if a CC charge is needed or the purchase will use the balance."
   ]
  },
  {
   "cell_type": "code",
   "execution_count": 16,
   "metadata": {},
   "outputs": [],
   "source": [
    "#| export\n",
    "\n",
    "@patch\n",
    "def _preview_payment(self: Fewsats,\n",
    "                    amount: str): # The amount in USD cents\n",
    "    \"Simulates a purchase, raises an exception for error status codes.\"\n",
    "    assert amount.isdigit()\n",
    "    return self._request(\"POST\", \"v0/l402/preview/purchase/amount\", json={\"amount_usd\": amount})\n"
   ]
  },
  {
   "cell_type": "code",
   "execution_count": 17,
   "metadata": {},
   "outputs": [],
   "source": [
    "r = fs._preview_payment(amount=\"300\") # 3.00 USD\n",
    "preview = r.json()\n",
    "r.status_code = preview"
   ]
  },
  {
   "cell_type": "markdown",
   "metadata": {},
   "source": [
    "### Create offers\n",
    "\n",
    "How to use the client to generate L402 offers"
   ]
  },
  {
   "cell_type": "code",
   "execution_count": 18,
   "metadata": {},
   "outputs": [],
   "source": [
    "#| export\n",
    "@patch\n",
    "def create_offers(self:Fewsats,\n",
    "                 offers:List[Dict[str,Any]], # List of offer objects following OfferCreateV0 schema\n",
    ") -> dict:\n",
    "    \"Create offers for L402 payment server\"\n",
    "    return self._request(\"POST\", \"v0/l402/offers\", json={\"offers\": offers})"
   ]
  },
  {
   "cell_type": "code",
   "execution_count": 19,
   "metadata": {},
   "outputs": [
    {
     "data": {
      "text/plain": [
       "(200,\n",
       " {'offers': [{'offer_id': 'test_offer_2',\n",
       "    'amount': 1,\n",
       "    'currency': 'usd',\n",
       "    'description': 'Test offer',\n",
       "    'title': 'Test Package',\n",
       "    'payment_methods': ['lightning', 'credit_card'],\n",
       "    'type': 'one-off'}],\n",
       "  'payment_context_token': 'b40eb56c-5d3f-42ba-8cff-fc5d095299ee',\n",
       "  'payment_request_url': 'https://api.fewsats.com/v0/l402/payment-request',\n",
       "  'version': '0.2.2'})"
      ]
     },
     "execution_count": 19,
     "metadata": {},
     "output_type": "execute_result"
    }
   ],
   "source": [
    "test_offers = [{\n",
    "    \"offer_id\": \"test_offer_2\",\n",
    "    \"amount\": 1,\n",
    "    \"currency\": \"usd\" ,\n",
    "    \"description\": \"Test offer\",\n",
    "    \"title\": \"Test Package\",\n",
    "    \"payment_methods\": [\"lightning\", \"credit_card\"]\n",
    "}]\n",
    "\n",
    "r = fs.create_offers(test_offers)\n",
    "l402_offers = r.json()\n",
    "r.status_code, l402_offers"
   ]
  },
  {
   "cell_type": "markdown",
   "metadata": {},
   "source": [
    "### Get Payment Details"
   ]
  },
  {
   "cell_type": "code",
   "execution_count": 20,
   "metadata": {},
   "outputs": [],
   "source": [
    "#| export\n",
    "@patch\n",
    "def get_payment_details(self:Fewsats,\n",
    "                       payment_request_url:str,\n",
    "                       offer_id:str,\n",
    "                       payment_method:str,\n",
    "                       payment_context_token:str,\n",
    "                       ) -> dict:\n",
    "    data = {\"offer_id\": offer_id, \"payment_method\": payment_method, \"payment_context_token\": payment_context_token}\n",
    "    return httpx.post(payment_request_url, json=data)\n"
   ]
  },
  {
   "cell_type": "code",
   "execution_count": 21,
   "metadata": {},
   "outputs": [
    {
     "data": {
      "text/plain": [
       "(200,\n",
       " {'expires_at': '2025-03-11T06:11:06.060263+00:00',\n",
       "  'offer_id': 'test_offer_2',\n",
       "  'payment_request': {'lightning_invoice': 'lnbc120n1pnulj78pp5ezjj3xc0edx4zeegp6grv9a6v45x8d4fc8taqdskssnt05lquyrsdq523jhxapq2pskx6mpvajscqzpgxqrzpjrzjqwghf7zxvfkxq5a6sr65g0gdkv768p83mhsnt0msszapamzx2qvuxqqqqz99gpz55yqqqqqqqqqqqqqq9qrzjq25carzepgd4vqsyn44jrk85ezrpju92xyrk9apw4cdjh6yrwt5jgqqqqz99gpz55yqqqqqqqqqqqqqq9qsp5gvpty2zjk4hpcxdzqugfujsfu7gue76nzhgxhjk3kvuqacqaqf2q9qxpqysgqeu7n5sq6wcuy3xmeju2lnh3lkwgsd7c5me95kntdayg2v30g96l448d8uhge3w59w8fm3987xfl64p74qa8evhjhaz0h4gus79ruz8sp46ggg2'},\n",
       "  'version': '0.2.2'})"
      ]
     },
     "execution_count": 21,
     "metadata": {},
     "output_type": "execute_result"
    }
   ],
   "source": [
    "r = fs.get_payment_details(l402_offers[\"payment_request_url\"], l402_offers[\"offers\"][0][\"offer_id\"], \"lightning\", l402_offers[\"payment_context_token\"])\n",
    "payment_details = r.json()\n",
    "ln_invoice = payment_details[\"payment_request\"]['lightning_invoice']\n",
    "r.status_code, payment_details"
   ]
  },
  {
   "cell_type": "code",
   "execution_count": 22,
   "metadata": {},
   "outputs": [
    {
     "data": {
      "text/plain": [
       "True"
      ]
     },
     "execution_count": 22,
     "metadata": {},
     "output_type": "execute_result"
    }
   ],
   "source": [
    "r.is_success"
   ]
  },
  {
   "cell_type": "markdown",
   "metadata": {},
   "source": [
    "### Get Payment Status\n"
   ]
  },
  {
   "cell_type": "code",
   "execution_count": 23,
   "metadata": {},
   "outputs": [],
   "source": [
    "#| export\n",
    "@patch\n",
    "def get_payment_status(self:Fewsats,\n",
    "                       payment_context_token:str,\n",
    "                       ) -> dict:\n",
    "    return self._request(\"GET\", f\"v0/l402/payment-status?payment_context_token={payment_context_token}\")"
   ]
  },
  {
   "cell_type": "code",
   "execution_count": 24,
   "metadata": {},
   "outputs": [
    {
     "data": {
      "text/plain": [
       "(200,\n",
       " {'payment_context_token': 'b40eb56c-5d3f-42ba-8cff-fc5d095299ee',\n",
       "  'status': 'pending',\n",
       "  'offer_id': None,\n",
       "  'paid_at': None,\n",
       "  'amount': None,\n",
       "  'currency': None})"
      ]
     },
     "execution_count": 24,
     "metadata": {},
     "output_type": "execute_result"
    }
   ],
   "source": [
    "\n",
    "r = fs.get_payment_status(l402_offers[\"payment_context_token\"])\n",
    "r.status_code, r.json()"
   ]
  },
  {
   "cell_type": "code",
   "execution_count": 25,
   "metadata": {},
   "outputs": [],
   "source": [
    "#| export\n",
    "@patch\n",
    "def set_webhook(self:Fewsats,\n",
    "                       webhook_url:str,\n",
    "                       ) -> dict:\n",
    "    return self._request(\"POST\", f\"v0/users/webhook/set\", json={\"webhook_url\": webhook_url})"
   ]
  },
  {
   "cell_type": "code",
   "execution_count": 26,
   "metadata": {},
   "outputs": [
    {
     "data": {
      "text/plain": [
       "(<Response [200 OK]>,\n",
       " {'name': 'Fewsats',\n",
       "  'last_name': 'Tester',\n",
       "  'email': 'test@fewsats.com',\n",
       "  'billing_info': None,\n",
       "  'id': 15,\n",
       "  'created_at': '2024-12-18T18:19:00.531Z',\n",
       "  'webhook_url': 'https://example.com'})"
      ]
     },
     "execution_count": 26,
     "metadata": {},
     "output_type": "execute_result"
    }
   ],
   "source": [
    "\n",
    "r = fs.set_webhook(\"https://example.com\")\n",
    "r, r.json()"
   ]
  },
  {
   "cell_type": "markdown",
   "metadata": {},
   "source": [
    "### Pay Lightning Invoice"
   ]
  },
  {
   "cell_type": "code",
   "execution_count": 27,
   "metadata": {},
   "outputs": [],
   "source": [
    "#| export\n",
    "\n",
    "@patch\n",
    "def pay_lightning(self: Fewsats, \n",
    "                  invoice: str, # lightning invoice\n",
    "                  amount: int, # amount in cents\n",
    "                  currency: str = \"usd\", # currency\n",
    "                  description: str = \"\" ): # description of the payment \n",
    "    \"Pay for a lightning invoice\"\n",
    "    data = {\n",
    "        \"invoice\": invoice,\n",
    "        \"amount\": amount,\n",
    "        \"currency\": currency,\n",
    "        \"description\": description\n",
    "    }\n",
    "    return self._request(\"POST\", \"v0/l402/purchases/lightning\", json=data)"
   ]
  },
  {
   "cell_type": "code",
   "execution_count": 28,
   "metadata": {},
   "outputs": [
    {
     "data": {
      "text/plain": [
       "(200,\n",
       " {'id': 412,\n",
       "  'created_at': '2025-03-11T05:36:09.026Z',\n",
       "  'status': 'success',\n",
       "  'payment_request_url': '',\n",
       "  'payment_context_token': '',\n",
       "  'invoice': 'lnbc120n1pnulj78pp5ezjj3xc0edx4zeegp6grv9a6v45x8d4fc8taqdskssnt05lquyrsdq523jhxapq2pskx6mpvajscqzpgxqrzpjrzjqwghf7zxvfkxq5a6sr65g0gdkv768p83mhsnt0msszapamzx2qvuxqqqqz99gpz55yqqqqqqqqqqqqqq9qrzjq25carzepgd4vqsyn44jrk85ezrpju92xyrk9apw4cdjh6yrwt5jgqqqqz99gpz55yqqqqqqqqqqqqqq9qsp5gvpty2zjk4hpcxdzqugfujsfu7gue76nzhgxhjk3kvuqacqaqf2q9qxpqysgqeu7n5sq6wcuy3xmeju2lnh3lkwgsd7c5me95kntdayg2v30g96l448d8uhge3w59w8fm3987xfl64p74qa8evhjhaz0h4gus79ruz8sp46ggg2',\n",
       "  'preimage': 'a7d502c0fccc9c66116d80ca2ff760cbcedd1269eb64eca298b856aefe6783c6',\n",
       "  'amount': 1,\n",
       "  'currency': 'usd',\n",
       "  'payment_method': 'lightning',\n",
       "  'title': '',\n",
       "  'description': 'fewsats webhook trial',\n",
       "  'type': '',\n",
       "  'is_test': False})"
      ]
     },
     "execution_count": 28,
     "metadata": {},
     "output_type": "execute_result"
    }
   ],
   "source": [
    "r = fs.pay_lightning(invoice=ln_invoice,\n",
    "                     description=\"fewsats webhook trial\", amount=1)\n",
    "lightning_payment = r.json()\n",
    "r.status_code, lightning_payment"
   ]
  },
  {
   "cell_type": "code",
   "execution_count": 29,
   "metadata": {},
   "outputs": [
    {
     "data": {
      "text/plain": [
       "{'payment_context_token': 'b40eb56c-5d3f-42ba-8cff-fc5d095299ee',\n",
       " 'status': 'pending',\n",
       " 'offer_id': None,\n",
       " 'paid_at': None,\n",
       " 'amount': None,\n",
       " 'currency': None}"
      ]
     },
     "execution_count": 29,
     "metadata": {},
     "output_type": "execute_result"
    }
   ],
   "source": [
    "fs.get_payment_status(l402_offers[\"payment_context_token\"]).json()\n"
   ]
  },
  {
   "cell_type": "code",
   "execution_count": 30,
   "metadata": {},
   "outputs": [
    {
     "data": {
      "text/plain": [
       "{'payment_context_token': '8d87cec8-5d5d-4f1f-a82a-223fe81a5394',\n",
       " 'status': 'success',\n",
       " 'offer_id': 'simple-offer-1741619322607',\n",
       " 'paid_at': '2025-03-10T15:08:54.268250+00:00',\n",
       " 'amount': 1,\n",
       " 'currency': 'USD'}"
      ]
     },
     "execution_count": 30,
     "metadata": {},
     "output_type": "execute_result"
    }
   ],
   "source": [
    "fs.get_payment_status('8d87cec8-5d5d-4f1f-a82a-223fe81a5394').json()"
   ]
  },
  {
   "cell_type": "code",
   "execution_count": null,
   "metadata": {},
   "outputs": [],
   "source": []
  },
  {
   "cell_type": "markdown",
   "metadata": {},
   "source": [
    "### Pay Offer\n",
    "\n",
    "The pay method pays for a specific offer. The user is not required to fetch the payment details beforehand. It is asynchronous and returns the `payment_id` and `status`. Using the `payment_id` we can check the status of the payment.\n",
    "\n",
    "\n",
    "There are two versions of the pay offer. One accepts the L402 offers as a string, which is more convenient for text-based AI agents like LLMs. The other uses custom L402 offer classes, which are supported by some libraries like Claudette](https://claudette.answer.ai/core.html#tool)"
   ]
  },
  {
   "cell_type": "code",
   "execution_count": 31,
   "metadata": {},
   "outputs": [],
   "source": [
    "#| export\n",
    "\n",
    "class Offer(BasicRepr):\n",
    "    \"Represents a single L402 offer\"\n",
    "    def __init__(self, \n",
    "                 offer_id: str,\n",
    "                 amount: int,\n",
    "                 currency: str,\n",
    "                 description: str,\n",
    "                 title: str,\n",
    "                 payment_methods: List[str] = None,\n",
    "                 type: str = \"one-off\"): \n",
    "        store_attr()\n",
    "\n",
    "    def __repr__(self):\n",
    "        return f\"Offer: {self.title}\\nID: {self.offer_id}\\nAmount: {self.amount/100} {self.currency}\\nDescription: {self.description}\"\n",
    "    \n",
    "    @classmethod\n",
    "    def from_dict(cls, d: Dict[str, Any]) -> 'Offer':\n",
    "        \"Create an Offer from a dictionary\"\n",
    "        return cls(**d)\n",
    "\n",
    "class L402Offers(BasicRepr):\n",
    "    \"Represents the complete L402 offers schema\"\n",
    "    def __init__(self, \n",
    "                 offers: List[Offer],\n",
    "                 payment_context_token: str,\n",
    "                 payment_request_url: str,\n",
    "                 version: str): \n",
    "        store_attr()\n",
    "    \n",
    "    def __repr__(self):\n",
    "        offers_str = \"\\n\".join([f\"- {o.title} ({o.amount/100} {o.currency})\" for o in self.offers])\n",
    "        return f\"L402 Offers:\\n{offers_str}\\nPayment URL: {self.payment_request_url}\\nContext Token: {self.payment_context_token}\"\n",
    "    \n",
    "    def as_dict(self) -> Dict[str, Any]:\n",
    "        \"Convert to dictionary format for API usage\"\n",
    "        return {\n",
    "            'offers': [vars(o) for o in self.offers],\n",
    "            'payment_context_token': self.payment_context_token,\n",
    "            'payment_request_url': self.payment_request_url,\n",
    "            'version': self.version\n",
    "        }\n",
    "    \n",
    "    @classmethod\n",
    "    def from_dict(cls, d: Dict[str, Any]) -> 'L402Offers':\n",
    "        \"Create an L402Offers object from a dictionary\"\n",
    "        offers = [Offer.from_dict(o) for o in d['offers']]\n",
    "        return cls(\n",
    "            offers=offers,\n",
    "            payment_context_token=d['payment_context_token'],\n",
    "            payment_request_url=d['payment_request_url'],\n",
    "            version=d['version']\n",
    "        )\n"
   ]
  },
  {
   "cell_type": "code",
   "execution_count": 32,
   "metadata": {},
   "outputs": [
    {
     "data": {
      "text/plain": [
       "L402 Offers:\n",
       "- Test Package (0.01 usd)\n",
       "Payment URL: https://api.fewsats.com/v0/l402/payment-request\n",
       "Context Token: b40eb56c-5d3f-42ba-8cff-fc5d095299ee"
      ]
     },
     "execution_count": 32,
     "metadata": {},
     "output_type": "execute_result"
    }
   ],
   "source": [
    "l402 = L402Offers.from_dict(l402_offers)\n",
    "l402"
   ]
  },
  {
   "cell_type": "code",
   "execution_count": 33,
   "metadata": {},
   "outputs": [],
   "source": [
    "# we make sure that invalid offers fail\n",
    "invalid_json = {\n",
    "    'offers': [{'offer_id': 'test_offer_2', 'amount': 1}],  # Missing fields\n",
    "    'payment_context_token': '60a8e027-8b8b-4ccf-b2b9-380ed0930283'\n",
    "    # Missing payment_request_url\n",
    "}\n",
    "test_fail(lambda: Offer(offer_id=\"test\", amount=1), \n",
    "          contains=\"missing 3 required positional arguments: 'currency', 'description', and 'title'\")\n"
   ]
  },
  {
   "cell_type": "markdown",
   "metadata": {},
   "source": [
    "### Pay Offer with L402Offers object\n"
   ]
  },
  {
   "cell_type": "code",
   "execution_count": 34,
   "metadata": {},
   "outputs": [],
   "source": [
    "#| export \n",
    "\n",
    "@patch\n",
    "def pay_offer(self:Fewsats,\n",
    "        offer_id : str, # the offer id to pay for\n",
    "        l402_offer: L402Offers, # a dictionary containing L402 offers\n",
    ") -> dict: # payment status response\n",
    "    \"\"\"Pays an offer_id from the l402_offers. This tools requires the LLM caller to \n",
    "    support custom classes as parameters like Claudette does.\n",
    "\n",
    "    Returns payment status response\"\"\"\n",
    "    if isinstance(l402_offer, dict): l402_offer = L402Offers.from_dict(l402_offer)\n",
    "    offer_dict = l402_offer.as_dict()\n",
    "    data = {\"offer_id\": offer_id, **offer_dict}\n",
    "    return self._request(\"POST\", \"v0/l402/purchases/from-offer\", json=data)\n"
   ]
  },
  {
   "cell_type": "code",
   "execution_count": 35,
   "metadata": {},
   "outputs": [],
   "source": [
    "offer_id = l402.offers[0].offer_id\n",
    "result = fs.pay_offer(offer_id, l402)"
   ]
  },
  {
   "cell_type": "markdown",
   "metadata": {},
   "source": [
    "### Pay Offer with JSON string\n",
    "\n",
    "This alternative method accepts a JSON string containing L402 offers. It should be used by systems that do not support custom classes in tool calling."
   ]
  },
  {
   "cell_type": "code",
   "execution_count": 36,
   "metadata": {},
   "outputs": [],
   "source": [
    "#| export\n",
    "\n",
    "@patch\n",
    "def pay_offer_str(self:Fewsats,\n",
    "        offer_id : str, # the offer id to pay for\n",
    "        l402_offer: str, # JSON string containing L402 offers\n",
    ") -> dict: # payment status response\n",
    "    \"\"\"Pays an offer_id from the l402_offers.\n",
    "\n",
    "    The l402_offer parameter must be a JSON string with this structure:\n",
    "    {\n",
    "        'offers': [\n",
    "            {\n",
    "                'offer_id': 'test_offer_2',  # String identifier for the offer\n",
    "                'amount': 1,                 # Numeric cost value\n",
    "                'currency': 'usd',           # Currency code\n",
    "                'description': 'Test offer', # Text description\n",
    "                'title': 'Test Package'      # Title of the package\n",
    "            }\n",
    "        ],\n",
    "        'payment_context_token': '60a8e027-8b8b-4ccf-b2b9-380ed0930283',  # Payment context token\n",
    "        'payment_request_url': 'https://api.fewsats.com/v0/l402/payment-request',  # Payment URL\n",
    "        'version': '0.2.2'  # API version\n",
    "    }\n",
    "\n",
    "    Returns payment status response\"\"\"\n",
    "    # Parse JSON string to dictionary\n",
    "    try:\n",
    "        offer_data = json.loads(l402_offer)\n",
    "        L402Offers.from_dict(offer_data) # we don't care about the return value, just validating the json input\n",
    "    except json.JSONDecodeError:\n",
    "        raise ValueError(\"Invalid JSON string provided for l402_offer\")\n",
    "    \n",
    "    # Create payload with offer_id\n",
    "    data = {\"offer_id\": offer_id, **offer_data}\n",
    "    \n",
    "    return self._request(\"POST\", \"v0/l402/purchases/from-offer\", timeout=20, json=data)"
   ]
  },
  {
   "cell_type": "code",
   "execution_count": 37,
   "metadata": {},
   "outputs": [
    {
     "data": {
      "text/plain": [
       "(200,\n",
       " {'id': 414,\n",
       "  'created_at': '2025-03-11T05:36:19.100Z',\n",
       "  'status': 'success',\n",
       "  'payment_method': 'lightning'})"
      ]
     },
     "execution_count": 37,
     "metadata": {},
     "output_type": "execute_result"
    }
   ],
   "source": [
    "r = fs.pay_offer_str(l402_offers[\"offers\"][0][\"offer_id\"], json.dumps(l402_offers))\n",
    "payment_response = r.json() if r.is_success else r.text\n",
    "r.status_code, payment_response"
   ]
  },
  {
   "cell_type": "code",
   "execution_count": 39,
   "metadata": {},
   "outputs": [
    {
     "data": {
      "text/plain": [
       "'{\"offers\": [{\"offer_id\": \"test_offer_2\", \"amount\": 1, \"currency\": \"usd\", \"description\": \"Test offer\", \"title\": \"Test Package\", \"payment_methods\": [\"lightning\", \"credit_card\"], \"type\": \"one-off\"}], \"payment_context_token\": \"b40eb56c-5d3f-42ba-8cff-fc5d095299ee\", \"payment_request_url\": \"https://api.fewsats.com/v0/l402/payment-request\", \"version\": \"0.2.2\"}'"
      ]
     },
     "execution_count": 39,
     "metadata": {},
     "output_type": "execute_result"
    }
   ],
   "source": [
    "json.dumps(l402_offers)"
   ]
  },
  {
   "cell_type": "code",
   "execution_count": null,
   "metadata": {},
   "outputs": [
    {
     "data": {
      "text/plain": [
       "(400,\n",
       " '{\"detail\": \"Invalid payment request received. Could not get payment details. {\\\\\"detail\\\\\": \\\\\"Invalid payment request received. Payment context token \\'b40eb56c-5d3f-42ba-8cff-fc5d095299ee\\' already used\\\\\"}\"}')"
      ]
     },
     "execution_count": 38,
     "metadata": {},
     "output_type": "execute_result"
    }
   ],
   "source": [
    "{\n",
    "\"offers\": [\n",
    "    {\n",
    "    \"type\": \"one-off\",\n",
    "    \"title\": \"Test Purchase\",\n",
    "    \"amount\": 100,\n",
    "    \"currency\": \"USD\",\n",
    "    \"offer_id\": \"x\",\n",
    "    \"description\": \"Small test purchase for Agora\",\n",
    "    \"payment_methods\": [\n",
    "        \"lightning\",\n",
    "        \"credit_card\"\n",
    "    ]\n",
    "    }\n",
    "],\n",
    "\"version\": \"0.2.2\",\n",
    "\"payment_request_url\": \"https://api.fewsats.com/v0/l402/payment-request\",\n",
    "\"payment_context_token\": \"cf25f915-dd4d-4c42-81e5-74b2960edd03\"\n",
    "}"
   ]
  },
  {
   "cell_type": "code",
   "execution_count": null,
   "metadata": {},
   "outputs": [],
   "source": [
    "l402_offers_json = {\n",
    "  \"offer_id\": \"test_purchase_claude_2025\",\n",
    "  \"l402_offers\": {\n",
    "    \"offers\": [\n",
    "      {\n",
    "        \"type\": \"one-off\",\n",
    "        \"title\": \"Test Purchase\",\n",
    "        \"amount\": 100,\n",
    "        \"currency\": \"USD\",\n",
    "        \"offer_id\": \"test_purchase_claude_2025\",\n",
    "        \"description\": \"Small test purchase for Agora\",\n",
    "        \"payment_methods\": [\n",
    "          \"lightning\",\n",
    "          \"credit_card\"\n",
    "        ]\n",
    "      }\n",
    "    ],\n",
    "    \"version\": \"0.2.2\",\n",
    "    \"payment_request_url\": \"https://api.fewsats.com/v0/l402/payment-request\",\n",
    "    \"payment_context_token\": \"cf25f915-dd4d-4c42-81e5-74b2960edd03\"\n",
    "  }\n",
    "}\n",
    "\n",
    "r = fs.pay_offer_str(l402_offers[\"offers\"][0][\"offer_id\"], json.dumps(l402_offers))\n",
    "payment_response = r.json() if r.is_success else r.text\n",
    "r.status_code, payment_response"
   ]
  },
  {
   "cell_type": "markdown",
   "metadata": {},
   "source": [
    "After the stripe payment settles, the status will be updated to `success`."
   ]
  },
  {
   "cell_type": "markdown",
   "metadata": {},
   "source": [
    "### Payment Info\n",
    "\n",
    "We can check the status of a payment as follows:"
   ]
  },
  {
   "cell_type": "code",
   "execution_count": null,
   "metadata": {},
   "outputs": [],
   "source": [
    "#| export\n",
    "@patch\n",
    "def payment_info(self:Fewsats,\n",
    "                  pid:str): # purchase id\n",
    "    \"Retrieve the details of a payment.\"\n",
    "    return self._request(\"GET\", f\"v0/l402/outgoing-payments/{pid}\")"
   ]
  },
  {
   "cell_type": "code",
   "execution_count": null,
   "metadata": {},
   "outputs": [
    {
     "data": {
      "text/plain": [
       "(200,\n",
       " {'id': 161,\n",
       "  'created_at': '2025-03-10T14:17:37.830Z',\n",
       "  'status': 'success',\n",
       "  'payment_request_url': 'http://localhost:8000/v0/l402/payment-request',\n",
       "  'payment_context_token': '8a0060db-cb67-4dd3-9fe3-8ee9a2d37d9c',\n",
       "  'invoice': 'lnbc120n1pnuaayppp5xg8smav2tc4r6gg3tkavsxweq5zg7gqn0kh86xjedjg6zcttlmusdq523jhxapq2pskx6mpvajscqzpgxqrzpnrzjqwghf7zxvfkxq5a6sr65g0gdkv768p83mhsnt0msszapamzx2qvuxqqqqz99gpz55yqqqqqqqqqqqqqq9qrzjq25carzepgd4vqsyn44jrk85ezrpju92xyrk9apw4cdjh6yrwt5jgqqqqz99gpz55yqqqqqqqqqqqqqq9qsp5rs09430wvr6uhpw2yay33wur05nfs70vcsyf8uskc7cmksvvg8sq9qxpqysgqguwdpjc0tqlz2umcyjc07pjcg8ag4ads483mgzn0ahe5evulfrw4nc3kt0dwk7e46v286unkg0xm4qesxkjm6wk0392fl9hexs7mf3cpv4c6p2',\n",
       "  'preimage': 'b019dd7257a0301164d9cd5dccb0e9de8665fbec0be675948d41473d7509c187',\n",
       "  'amount': 1,\n",
       "  'currency': 'usd',\n",
       "  'payment_method': 'lightning',\n",
       "  'title': 'Test Package',\n",
       "  'description': 'Test offer',\n",
       "  'type': 'one-off',\n",
       "  'is_test': False})"
      ]
     },
     "execution_count": null,
     "metadata": {},
     "output_type": "execute_result"
    }
   ],
   "source": [
    "r = fs.payment_info(payment_response['id'])\n",
    "r.status_code, r.json()"
   ]
  },
  {
   "cell_type": "markdown",
   "metadata": {},
   "source": [
    "## As tools"
   ]
  },
  {
   "cell_type": "code",
   "execution_count": null,
   "metadata": {},
   "outputs": [],
   "source": [
    "#| export\n",
    "\n",
    "@patch\n",
    "def as_tools(self:Fewsats):\n",
    "    \"Return list of available tools for AI agents\"\n",
    "    return [\n",
    "        self.me,\n",
    "        self.balance,\n",
    "        self.payment_methods,\n",
    "        self.pay_offer_str,\n",
    "        self.payment_info,\n",
    "    ]"
   ]
  },
  {
   "cell_type": "code",
   "execution_count": null,
   "metadata": {},
   "outputs": [
    {
     "data": {
      "text/plain": [
       "[<bound method Fewsats.me of <__main__.Fewsats object>>,\n",
       " <bound method Fewsats.balance of <__main__.Fewsats object>>,\n",
       " <bound method Fewsats.payment_methods of <__main__.Fewsats object>>,\n",
       " <bound method Fewsats.pay_offer_str of <__main__.Fewsats object>>,\n",
       " <bound method Fewsats.payment_info of <__main__.Fewsats object>>]"
      ]
     },
     "execution_count": null,
     "metadata": {},
     "output_type": "execute_result"
    }
   ],
   "source": [
    "fs.as_tools()"
   ]
  },
  {
   "cell_type": "markdown",
   "metadata": {},
   "source": [
    "Both the preview and purchase methods automatically use the default payment method if a charge is needed. This client provides a straightforward way to interact with the Fewsats API, making it easy for developers to integrate Fewsats functionality into their applications."
   ]
  },
  {
   "cell_type": "markdown",
   "metadata": {},
   "source": [
    "## Agent Demo\n",
    "\n",
    "We will use [Claudette](https://claudette.answer.ai/) to demonstrate how to pay for content using the Fewsats API."
   ]
  },
  {
   "cell_type": "code",
   "execution_count": null,
   "metadata": {},
   "outputs": [],
   "source": [
    "from claudette import Chat, models"
   ]
  },
  {
   "cell_type": "code",
   "execution_count": null,
   "metadata": {},
   "outputs": [
    {
     "data": {
      "text/plain": [
       "'claude-3-5-sonnet-20240620'"
      ]
     },
     "execution_count": null,
     "metadata": {},
     "output_type": "execute_result"
    }
   ],
   "source": [
    "model = models[1]\n",
    "model"
   ]
  },
  {
   "cell_type": "code",
   "execution_count": null,
   "metadata": {},
   "outputs": [
    {
     "data": {
      "text/plain": [
       "<Response [200 OK]>"
      ]
     },
     "execution_count": null,
     "metadata": {},
     "output_type": "execute_result"
    }
   ],
   "source": [
    "fs.balance()"
   ]
  },
  {
   "cell_type": "code",
   "execution_count": null,
   "metadata": {},
   "outputs": [
    {
     "name": "stdout",
     "output_type": "stream",
     "text": [
      "Message(id='msg_01RWLkNPGHMsEaFQ6TqTm2dV', content=[TextBlock(text=\"Certainly! I'll analyze the offer information you provided and pay for the cheapest offer. In this case, there's only one offer available, so that will be the one we'll proceed with.\\n\\nLet's use the `pay_offer_str` function to make the payment. Here's what we'll do:\\n\\n1. Prepare the L402 offer string.\\n2. Identify the offer ID (which is 'test_offer_2' in this case).\\n3. Call the `pay_offer_str` function with the required parameters.\\n\\nHere's the function call:\", type='text'), ToolUseBlock(id='toolu_01SoFW381vm54dYBY8wx7Lye', input={'offer_id': 'test_offer_2', 'l402_offer': '{\"offers\": [{\"offer_id\": \"test_offer_2\", \"amount\": 1, \"currency\": \"usd\", \"description\": \"Test offer\", \"title\": \"Test Package\", \"payment_methods\": [\"lightning\", \"credit_card\"], \"type\": \"one-off\"}], \"payment_context_token\": \"8a0060db-cb67-4dd3-9fe3-8ee9a2d37d9c\", \"payment_request_url\": \"http://localhost:8000/v0/l402/payment-request\", \"version\": \"0.2.2\"}'}, name='pay_offer_str', type='tool_use')], model='claude-3-5-sonnet-20240620', role='assistant', stop_reason='tool_use', stop_sequence=None, type='message', usage=In: 1033; Out: 343; Cache create: 0; Cache read: 0; Total: 1376)\n",
      "Message(id='msg_01V2BitQuF4qmLho6cRBJCBi', content=[TextBlock(text='Great! The payment has been processed successfully. The response code 200 OK indicates that the transaction was completed without any issues.\\n\\nTo summarize:\\n- We paid for the offer with ID \\'test_offer_2\\'.\\n- The cost was 1 USD.\\n- The offer was titled \"Test Package\" with the description \"Test offer\".\\n- The payment was successful.\\n\\nIs there anything else you would like to know about this transaction or any other assistance you need?', type='text')], model='claude-3-5-sonnet-20240620', role='assistant', stop_reason='end_turn', stop_sequence=None, type='message', usage=In: 1393; Out: 106; Cache create: 0; Cache read: 0; Total: 1499)\n"
     ]
    },
    {
     "data": {
      "text/markdown": [
       "Great! The payment has been processed successfully. The response code 200 OK indicates that the transaction was completed without any issues.\n",
       "\n",
       "To summarize:\n",
       "- We paid for the offer with ID 'test_offer_2'.\n",
       "- The cost was 1 USD.\n",
       "- The offer was titled \"Test Package\" with the description \"Test offer\".\n",
       "- The payment was successful.\n",
       "\n",
       "Is there anything else you would like to know about this transaction or any other assistance you need?\n",
       "\n",
       "<details>\n",
       "\n",
       "- id: `msg_01V2BitQuF4qmLho6cRBJCBi`\n",
       "- content: `[{'text': 'Great! The payment has been processed successfully. The response code 200 OK indicates that the transaction was completed without any issues.\\n\\nTo summarize:\\n- We paid for the offer with ID \\'test_offer_2\\'.\\n- The cost was 1 USD.\\n- The offer was titled \"Test Package\" with the description \"Test offer\".\\n- The payment was successful.\\n\\nIs there anything else you would like to know about this transaction or any other assistance you need?', 'type': 'text'}]`\n",
       "- model: `claude-3-5-sonnet-20240620`\n",
       "- role: `assistant`\n",
       "- stop_reason: `end_turn`\n",
       "- stop_sequence: `None`\n",
       "- type: `message`\n",
       "- usage: `{'cache_creation_input_tokens': 0, 'cache_read_input_tokens': 0, 'input_tokens': 1393, 'output_tokens': 106}`\n",
       "\n",
       "</details>"
      ],
      "text/plain": [
       "Message(id='msg_01V2BitQuF4qmLho6cRBJCBi', content=[TextBlock(text='Great! The payment has been processed successfully. The response code 200 OK indicates that the transaction was completed without any issues.\\n\\nTo summarize:\\n- We paid for the offer with ID \\'test_offer_2\\'.\\n- The cost was 1 USD.\\n- The offer was titled \"Test Package\" with the description \"Test offer\".\\n- The payment was successful.\\n\\nIs there anything else you would like to know about this transaction or any other assistance you need?', type='text')], model='claude-3-5-sonnet-20240620', role='assistant', stop_reason='end_turn', stop_sequence=None, type='message', usage=In: 1393; Out: 106; Cache create: 0; Cache read: 0; Total: 1499)"
      ]
     },
     "execution_count": null,
     "metadata": {},
     "output_type": "execute_result"
    }
   ],
   "source": [
    "chat = Chat(model, sp='You are a helpful assistant that can pay offers.', tools=fs.as_tools())\n",
    "pr = f\"Could you pay the cheapest offer in {l402_offers}?\"\n",
    "r = chat.toolloop(pr, trace_func=print)\n",
    "r"
   ]
  },
  {
   "cell_type": "markdown",
   "metadata": {},
   "source": [
    "We can see in the chat history to see that the agent correctlye filled the required information for the payment.\n",
    "\n",
    "The payment balance has also decreased as expected."
   ]
  },
  {
   "cell_type": "code",
   "execution_count": null,
   "metadata": {},
   "outputs": [
    {
     "data": {
      "text/plain": [
       "(<Response [200 OK]>,\n",
       " [{'role': 'user',\n",
       "   'content': [{'type': 'text',\n",
       "     'text': \"Could you pay the cheapest offer in {'offers': [{'offer_id': 'test_offer_2', 'amount': 1, 'currency': 'usd', 'description': 'Test offer', 'title': 'Test Package', 'payment_methods': ['lightning', 'credit_card'], 'type': 'one-off'}], 'payment_context_token': '8a0060db-cb67-4dd3-9fe3-8ee9a2d37d9c', 'payment_request_url': 'http://localhost:8000/v0/l402/payment-request', 'version': '0.2.2'}?\"}]},\n",
       "  {'role': 'assistant',\n",
       "   'content': [TextBlock(text=\"Certainly! I'll analyze the offer information you provided and pay for the cheapest offer. In this case, there's only one offer available, so that will be the one we'll proceed with.\\n\\nLet's use the `pay_offer_str` function to make the payment. Here's what we'll do:\\n\\n1. Prepare the L402 offer string.\\n2. Identify the offer ID (which is 'test_offer_2' in this case).\\n3. Call the `pay_offer_str` function with the required parameters.\\n\\nHere's the function call:\", type='text'),\n",
       "    ToolUseBlock(id='toolu_01SoFW381vm54dYBY8wx7Lye', input={'offer_id': 'test_offer_2', 'l402_offer': '{\"offers\": [{\"offer_id\": \"test_offer_2\", \"amount\": 1, \"currency\": \"usd\", \"description\": \"Test offer\", \"title\": \"Test Package\", \"payment_methods\": [\"lightning\", \"credit_card\"], \"type\": \"one-off\"}], \"payment_context_token\": \"8a0060db-cb67-4dd3-9fe3-8ee9a2d37d9c\", \"payment_request_url\": \"http://localhost:8000/v0/l402/payment-request\", \"version\": \"0.2.2\"}'}, name='pay_offer_str', type='tool_use')]},\n",
       "  {'role': 'user',\n",
       "   'content': [{'type': 'tool_result',\n",
       "     'tool_use_id': 'toolu_01SoFW381vm54dYBY8wx7Lye',\n",
       "     'content': '<Response [200 OK]>'}]},\n",
       "  {'role': 'assistant',\n",
       "   'content': [TextBlock(text='Great! The payment has been processed successfully. The response code 200 OK indicates that the transaction was completed without any issues.\\n\\nTo summarize:\\n- We paid for the offer with ID \\'test_offer_2\\'.\\n- The cost was 1 USD.\\n- The offer was titled \"Test Package\" with the description \"Test offer\".\\n- The payment was successful.\\n\\nIs there anything else you would like to know about this transaction or any other assistance you need?', type='text')]}])"
      ]
     },
     "execution_count": null,
     "metadata": {},
     "output_type": "execute_result"
    }
   ],
   "source": [
    "fs.balance(), chat.h"
   ]
  },
  {
   "cell_type": "code",
   "execution_count": null,
   "metadata": {},
   "outputs": [],
   "source": [
    "#|hide\n",
    "from nbdev.doclinks import nbdev_export\n",
    "nbdev_export()"
   ]
  }
 ],
 "metadata": {
  "kernelspec": {
   "display_name": "venv",
   "language": "python",
   "name": "python3"
  },
  "language_info": {
   "codemirror_mode": {
    "name": "ipython",
    "version": 3
   },
   "file_extension": ".py",
   "mimetype": "text/x-python",
   "name": "python",
   "nbconvert_exporter": "python",
   "pygments_lexer": "ipython3",
   "version": "3.12.3"
  }
 },
 "nbformat": 4,
 "nbformat_minor": 2
}
