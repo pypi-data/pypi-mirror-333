{
 "cells": [
  {
   "cell_type": "code",
   "execution_count": null,
   "metadata": {},
   "outputs": [],
   "source": [
    "#| hide\n",
    "from fewsats.core import *"
   ]
  },
  {
   "cell_type": "markdown",
   "metadata": {},
   "source": [
    "# fewsats\n",
    "\n",
    "> Payments for AI agents - Python"
   ]
  },
  {
   "cell_type": "markdown",
   "metadata": {},
   "source": [
    "\n",
    "This library enables AI agents to handle real-world payments autonomously. It provides a simple interface for AI systems to manage payment methods, process transactions, and interact with L402 paywalls.\n",
    "\n",
    "The library provides two main interfaces:\n",
    "1. Direct payment handling through the Python SDK\n",
    "2. AI-native tools through `as_tools()` for autonomous agents\n"
   ]
  },
  {
   "cell_type": "markdown",
   "metadata": {},
   "source": [
    "## Install"
   ]
  },
  {
   "cell_type": "markdown",
   "metadata": {},
   "source": [
    "Install latest from [pypi](https://pypi.org/project/fewsats/)\n",
    "\n",
    "\n",
    "```sh\n",
    "$ pip install fewsats\n",
    "```\n",
    "\n",
    "\n",
    "[repo]: https://github.com/Fewsats/fewsats-python\n",
    "[docs]: https://Fewsats.github.io/fewsats-python/\n",
    "[pypi]: https://pypi.org/project/fewsats-python/\n",
    "[conda]: https://anaconda.org/Fewsats/fewsats-python"
   ]
  },
  {
   "cell_type": "markdown",
   "metadata": {},
   "source": [
    "## Getting Started\n",
    "\n",
    "The library provides a `Fewsats` class to handle payments. You can use handle them manually or use the `as_tools()` method to create tools for autonomous agents."
   ]
  },
  {
   "cell_type": "markdown",
   "metadata": {},
   "source": [
    "### Making Payments\n",
    "\n",
    "Obtain information about your account and perform payments:\n"
   ]
  },
  {
   "cell_type": "code",
   "execution_count": null,
   "metadata": {},
   "outputs": [],
   "source": [
    "from fewsats.core import * "
   ]
  },
  {
   "cell_type": "code",
   "execution_count": null,
   "metadata": {},
   "outputs": [
    {
     "data": {
      "text/plain": [
       "([{'id': 1,\n",
       "   'last4': '4242',\n",
       "   'brand': 'visa',\n",
       "   'exp_month': 12,\n",
       "   'exp_year': 2034,\n",
       "   'is_default': False},\n",
       "  {'id': 4,\n",
       "   'last4': '4242',\n",
       "   'brand': 'Visa',\n",
       "   'exp_month': 12,\n",
       "   'exp_year': 2034,\n",
       "   'is_default': True}],\n",
       " [{'id': 1, 'balance': 4421, 'currency': 'usd'}],\n",
       " {'name': 'Pol',\n",
       "  'last_name': 'Alvarez Vecino',\n",
       "  'email': 'pol@fewsats.com',\n",
       "  'billing_info': None,\n",
       "  'id': 1,\n",
       "  'created_at': '2024-08-20T16:13:01.255Z',\n",
       "  'webhook_url': 'https://example.com'})"
      ]
     },
     "execution_count": null,
     "metadata": {},
     "output_type": "execute_result"
    }
   ],
   "source": [
    "fs = Fewsats()\n",
    "import os\n",
    "fs = Fewsats(api_key=os.getenv(\"FEWSATS_LOCAL_API_KEY\"), base_url='http://localhost:8000')\n",
    "\n",
    "fs.payment_methods().json(), fs.balance().json(), fs.me().json()"
   ]
  },
  {
   "cell_type": "markdown",
   "metadata": {},
   "source": [
    "The `pay` method uses the information returned by a [L402 Protocol](https://github.com/l402-protocol/l402?tab=readme-ov-file#402-response-format) `402 Payment Required` response to submit a payment. The L402 flow is handled by the backend. By default it will also choose the most convenient payment method, and assume you want to pay the first offer if multiple are available."
   ]
  },
  {
   "cell_type": "code",
   "execution_count": null,
   "metadata": {},
   "outputs": [],
   "source": [
    "# Example offer from stock.l402.org\n",
    "l402_offer = {\n",
    "   \"offers\":[\n",
    "      {\n",
    "         \"amount\":1,\n",
    "         \"currency\":\"USD\",\n",
    "         \"description\":\"Purchase 1 credit for API access\",\n",
    "         \"offer_id\":\"offer_c668e0c0\",\n",
    "         \"payment_methods\":[\n",
    "            \"lightning\"\n",
    "         ],\n",
    "         \"title\":\"1 Credit Package\",\n",
    "      }\n",
    "   ],\n",
    "   \"payment_context_token\":\"edb53dec-28f5-4cbb-924a-20e9003c20e1\",\n",
    "   \"payment_request_url\":\"https://stock.l402.org/l402/payment-request\",\n",
    "   \"version\":\"0.2.2\"\n",
    "}"
   ]
  },
  {
   "cell_type": "code",
   "execution_count": null,
   "metadata": {},
   "outputs": [
    {
     "data": {
      "text/plain": [
       "{'id': 164,\n",
       " 'created_at': '2025-03-10T14:53:03.282Z',\n",
       " 'status': 'success',\n",
       " 'payment_method': 'lightning'}"
      ]
     },
     "execution_count": null,
     "metadata": {},
     "output_type": "execute_result"
    }
   ],
   "source": [
    "fs.pay_offer(l402_offer['offers'][0]['offer_id'], l402_offer).json()"
   ]
  },
  {
   "cell_type": "markdown",
   "metadata": {},
   "source": [
    "Fewsats also supports paying for resources like a lightning invoice directly. For example:"
   ]
  },
  {
   "cell_type": "markdown",
   "metadata": {},
   "source": [
    "```\n",
    "fs.pay_lightning(invoice='lnbc100n1pn6fsyspp5g2f6hdqxc76wxccq2cd4wekck0nxfucfyvzkvy9fmxezlf3hcl6qdqqcqzpgxqyz5vqrzjqwghf7zxvfkxq5a6sr65g0gdkv768p83mhsnt0msszapamzx2qvuxqqqqz99gpz55yqqqqqqqqqqqqqq9qrzjq25carzepgd4vqsyn44jrk85ezrpju92xyrk9apw4cdjh6yrwt5jgqqqqz99gpz55yqqqqqqqqqqqqqq9qsp5yzvs9czquyf8mjgwf465k0a7g4vh7jqv2cpza3lkygnllxnzk2wq9qxpqysgqnkmhmw05q6qc8urah004jtnkuztpazgg49m3g2wfamexr0m0ayrhla2ephnsm0xan3pweqc3hexeqx2mkfr8d3afwx6rds2r2znf4vgq7new3k',\n",
    "                  amount=1, currency='USD', description='Purchase 1 cent for API access')\n",
    "<Response [200 OK]>\n",
    "```"
   ]
  },
  {
   "cell_type": "markdown",
   "metadata": {},
   "source": [
    "The lightning invoice already contains a payment amount, but the method requires you to specify the amount you are expecting to pay in cents. This is done for accounting purposes and convenience, but the amount paid will be the sats in the invoice."
   ]
  },
  {
   "cell_type": "markdown",
   "metadata": {},
   "source": [
    "\n",
    "### Getting Paid\n",
    "\n",
    "Fewsats also provides methods for receiving payments. You can create offers for receiving payments as follows."
   ]
  },
  {
   "cell_type": "code",
   "execution_count": null,
   "metadata": {},
   "outputs": [
    {
     "data": {
      "text/plain": [
       "{'offers': [{'offer_id': 'offer_example',\n",
       "   'amount': 1,\n",
       "   'currency': 'USD',\n",
       "   'description': 'Receive payment for your service',\n",
       "   'title': '1 Credit Package',\n",
       "   'payment_methods': ['lightning', 'stripe'],\n",
       "   'type': 'one-off'}],\n",
       " 'payment_context_token': 'a175fd73-cb68-4a22-8685-b236eff2f1a0',\n",
       " 'payment_request_url': 'http://localhost:8000/v0/l402/payment-request',\n",
       " 'version': '0.2.2'}"
      ]
     },
     "execution_count": null,
     "metadata": {},
     "output_type": "execute_result"
    }
   ],
   "source": [
    "# Create offers for receiving payments\n",
    "offers_data = [{\n",
    "   \"offer_id\": \"offer_example\",\n",
    "   \"amount\": 1,\n",
    "   \"currency\": \"USD\",\n",
    "   \"description\": \"Receive payment for your service\",\n",
    "   \"title\": \"1 Credit Package\",\n",
    "   \"payment_methods\": [\"lightning\", \"stripe\"]\n",
    "}]\n",
    "r = fs.create_offers(offers_data)\n",
    "offers = r.json()\n",
    "offers"
   ]
  },
  {
   "cell_type": "markdown",
   "metadata": {},
   "source": [
    "You can check if an offer has been paid using the payment context token as follows."
   ]
  },
  {
   "cell_type": "code",
   "execution_count": null,
   "metadata": {},
   "outputs": [
    {
     "data": {
      "text/plain": [
       "{'payment_context_token': 'a175fd73-cb68-4a22-8685-b236eff2f1a0',\n",
       " 'status': 'pending',\n",
       " 'offer_id': None,\n",
       " 'paid_at': None,\n",
       " 'amount': None,\n",
       " 'currency': None}"
      ]
     },
     "execution_count": null,
     "metadata": {},
     "output_type": "execute_result"
    }
   ],
   "source": [
    "fs.get_payment_status(payment_context_token=offers[\"payment_context_token\"]).json()\n"
   ]
  },
  {
   "cell_type": "markdown",
   "metadata": {},
   "source": [
    "If you prefer to be notified whenever an offer is paid, you can set up a webhook as follows, and we will call it whenever a payment is made."
   ]
  },
  {
   "cell_type": "code",
   "execution_count": null,
   "metadata": {},
   "outputs": [
    {
     "data": {
      "text/plain": [
       "{'name': 'Pol',\n",
       " 'last_name': 'Alvarez Vecino',\n",
       " 'email': 'pol@fewsats.com',\n",
       " 'billing_info': None,\n",
       " 'id': 1,\n",
       " 'created_at': '2024-08-20T16:13:01.255Z',\n",
       " 'webhook_url': 'https://example.com/webhook'}"
      ]
     },
     "execution_count": null,
     "metadata": {},
     "output_type": "execute_result"
    }
   ],
   "source": [
    "r = fs.set_webhook(webhook_url=\"https://example.com/webhook\")\n",
    "r.json()"
   ]
  },
  {
   "cell_type": "markdown",
   "metadata": {},
   "source": [
    "### AI Agent Integration\n",
    "\n",
    "We will show how to enable your AI assistant to handle payments using [Claudette](https://claudette.answer.ai), Answer.ai convenient wrapper for Claude. You'll need to export your `ANTHROPIC_API_KEY` as env variable for this to work.\n"
   ]
  },
  {
   "cell_type": "code",
   "execution_count": null,
   "metadata": {},
   "outputs": [],
   "source": [
    "from claudette import Chat, models"
   ]
  },
  {
   "cell_type": "code",
   "execution_count": null,
   "metadata": {},
   "outputs": [
    {
     "data": {
      "text/plain": [
       "'claude-3-5-sonnet-20240620'"
      ]
     },
     "execution_count": null,
     "metadata": {},
     "output_type": "execute_result"
    }
   ],
   "source": [
    "import os\n",
    "# os.environ['ANTHROPIC_LOG'] = 'debug'\n",
    "model = models[1]; model\n"
   ]
  },
  {
   "cell_type": "markdown",
   "metadata": {},
   "source": [
    "To print every HTTP request and response in full, uncomment the above line."
   ]
  },
  {
   "cell_type": "code",
   "execution_count": null,
   "metadata": {},
   "outputs": [
    {
     "data": {
      "text/plain": [
       "<Response [200 OK]>"
      ]
     },
     "execution_count": null,
     "metadata": {},
     "output_type": "execute_result"
    }
   ],
   "source": [
    "fs.balance()"
   ]
  },
  {
   "cell_type": "code",
   "execution_count": null,
   "metadata": {},
   "outputs": [
    {
     "data": {
      "text/plain": [
       "[<bound method Fewsats.me of <fewsats.core.Fewsats object>>,\n",
       " <bound method Fewsats.balance of <fewsats.core.Fewsats object>>,\n",
       " <bound method Fewsats.payment_methods of <fewsats.core.Fewsats object>>,\n",
       " <bound method Fewsats.pay_lightning of <fewsats.core.Fewsats object>>,\n",
       " <bound method Fewsats.payment_info of <fewsats.core.Fewsats object>>]"
      ]
     },
     "execution_count": null,
     "metadata": {},
     "output_type": "execute_result"
    }
   ],
   "source": [
    "fs.as_tools()"
   ]
  },
  {
   "cell_type": "code",
   "execution_count": null,
   "metadata": {},
   "outputs": [
    {
     "data": {
      "text/plain": [
       "{'name': 'Pol',\n",
       " 'last_name': 'Alvarez Vecino',\n",
       " 'email': 'pol@fewsats.com',\n",
       " 'billing_info': None,\n",
       " 'id': 1,\n",
       " 'created_at': '2024-08-20T16:13:01.255Z',\n",
       " 'webhook_url': 'https://example.com/asdfagasdfaasdfa'}"
      ]
     },
     "execution_count": null,
     "metadata": {},
     "output_type": "execute_result"
    }
   ],
   "source": [
    "fs.me().json()"
   ]
  },
  {
   "cell_type": "code",
   "execution_count": null,
   "metadata": {},
   "outputs": [
    {
     "name": "stdout",
     "output_type": "stream",
     "text": [
      "Message(id='msg_01RhcqEB5U2gWTCFAjGJemnq', content=[TextBlock(text=\"Certainly! I'd be happy to check your details and balance for you. To do this, I'll need to use two separate functions: one to retrieve your user information and another to check your wallet balance. Let me do that for you right away.\", type='text'), ToolUseBlock(id='toolu_014fq5xHbzmtBVNpTBbNa1G3', input={}, name='me', type='tool_use'), ToolUseBlock(id='toolu_01BBGf2gQ1wNz3T9X4SsuX1G', input={}, name='balance', type='tool_use')], model='claude-3-5-sonnet-20240620', role='assistant', stop_reason='tool_use', stop_sequence=None, type='message', usage=In: 649; Out: 104; Cache create: 0; Cache read: 0; Total: 753)\n",
      "Message(id='msg_01P6Cf6xpjqDwD12Xo1GSJF6', content=[TextBlock(text=\"I've successfully retrieved your user information and balance. However, it seems that the specific details aren't directly visible in the function results. This is likely for security reasons. \\n\\nWhat I can tell you is that both requests were successful, as indicated by the [200 OK] responses. This means that your account is active and accessible.\\n\\nIf you need more specific information about your account details or balance, you might need to log into your account directly through the official platform or app. They may have additional security measures in place to protect your sensitive information.\\n\\nIs there anything else you'd like me to check or any other way I can assist you with your account?\", type='text')], model='claude-3-5-sonnet-20240620', role='assistant', stop_reason='end_turn', stop_sequence=None, type='message', usage=In: 823; Out: 140; Cache create: 0; Cache read: 0; Total: 963)\n"
     ]
    },
    {
     "data": {
      "text/markdown": [
       "I've successfully retrieved your user information and balance. However, it seems that the specific details aren't directly visible in the function results. This is likely for security reasons. \n",
       "\n",
       "What I can tell you is that both requests were successful, as indicated by the [200 OK] responses. This means that your account is active and accessible.\n",
       "\n",
       "If you need more specific information about your account details or balance, you might need to log into your account directly through the official platform or app. They may have additional security measures in place to protect your sensitive information.\n",
       "\n",
       "Is there anything else you'd like me to check or any other way I can assist you with your account?\n",
       "\n",
       "<details>\n",
       "\n",
       "- id: `msg_01P6Cf6xpjqDwD12Xo1GSJF6`\n",
       "- content: `[{'text': \"I've successfully retrieved your user information and balance. However, it seems that the specific details aren't directly visible in the function results. This is likely for security reasons. \\n\\nWhat I can tell you is that both requests were successful, as indicated by the [200 OK] responses. This means that your account is active and accessible.\\n\\nIf you need more specific information about your account details or balance, you might need to log into your account directly through the official platform or app. They may have additional security measures in place to protect your sensitive information.\\n\\nIs there anything else you'd like me to check or any other way I can assist you with your account?\", 'type': 'text'}]`\n",
       "- model: `claude-3-5-sonnet-20240620`\n",
       "- role: `assistant`\n",
       "- stop_reason: `end_turn`\n",
       "- stop_sequence: `None`\n",
       "- type: `message`\n",
       "- usage: `{'cache_creation_input_tokens': 0, 'cache_read_input_tokens': 0, 'input_tokens': 823, 'output_tokens': 140}`\n",
       "\n",
       "</details>"
      ],
      "text/plain": [
       "Message(id='msg_01P6Cf6xpjqDwD12Xo1GSJF6', content=[TextBlock(text=\"I've successfully retrieved your user information and balance. However, it seems that the specific details aren't directly visible in the function results. This is likely for security reasons. \\n\\nWhat I can tell you is that both requests were successful, as indicated by the [200 OK] responses. This means that your account is active and accessible.\\n\\nIf you need more specific information about your account details or balance, you might need to log into your account directly through the official platform or app. They may have additional security measures in place to protect your sensitive information.\\n\\nIs there anything else you'd like me to check or any other way I can assist you with your account?\", type='text')], model='claude-3-5-sonnet-20240620', role='assistant', stop_reason='end_turn', stop_sequence=None, type='message', usage=In: 823; Out: 140; Cache create: 0; Cache read: 0; Total: 963)"
      ]
     },
     "execution_count": null,
     "metadata": {},
     "output_type": "execute_result"
    }
   ],
   "source": [
    "chat = Chat(model, sp='You are a helpful assistant that can pay offers.', tools=fs.as_tools())\n",
    "pr = f\"Can you check my details and balance?\"\n",
    "r = chat.toolloop(pr, trace_func=print)\n",
    "r"
   ]
  },
  {
   "cell_type": "code",
   "execution_count": null,
   "metadata": {},
   "outputs": [],
   "source": [
    "\n",
    "chat = Chat(model, sp='You are a helpful assistant that can pay offers.', tools=fs.as_tools())\n",
    "pr = f\"Could you pay the cheapest offer using lightning {l402_offer}?\"\n",
    "r = chat.toolloop(pr, trace_func=print)\n",
    "r"
   ]
  },
  {
   "cell_type": "code",
   "execution_count": null,
   "metadata": {},
   "outputs": [
    {
     "data": {
      "text/plain": [
       "[{'id': 15, 'balance': 5962, 'currency': 'usd'}]"
      ]
     },
     "execution_count": null,
     "metadata": {},
     "output_type": "execute_result"
    }
   ],
   "source": [
    "fs.balance()"
   ]
  }
 ],
 "metadata": {
  "kernelspec": {
   "display_name": "python3",
   "language": "python",
   "name": "python3"
  }
 },
 "nbformat": 4,
 "nbformat_minor": 4
}
