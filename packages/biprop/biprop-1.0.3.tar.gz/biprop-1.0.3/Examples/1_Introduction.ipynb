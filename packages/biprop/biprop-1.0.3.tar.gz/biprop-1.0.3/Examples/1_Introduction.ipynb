{
 "cells": [
  {
   "cell_type": "markdown",
   "metadata": {},
   "source": [
    "# Biprop Tutorial\n",
    "\n",
    "## 1 - Introduction\n",
    "\n",
    "Welcome to the `biprop` tutorial. In this module, we will demonstrate the basic usage of the `biprop` library on the example from [this Wikipedia article](https://en.wikipedia.org/wiki/Biproportional_apportionment#Specific_example). If you have not yet heard about biproportional apportionment, it might be a good idea to have a quick look at that Wikipedia page first.\n",
    "\n",
    "This tutorial assumes that have the python libraries `biprop`, `numpy`, `pandas`, and `matplotlib` installed. If you are missing any of these, you can install all four by running\n",
    "\n",
    "    > pip install biprop\n",
    "    > pip install matplotlib\n",
    "\n",
    "Now we should be good to go. We start with importing the `biprop` library."
   ]
  },
  {
   "cell_type": "code",
   "execution_count": 1,
   "metadata": {},
   "outputs": [],
   "source": [
    "import biprop as bp"
   ]
  },
  {
   "cell_type": "markdown",
   "metadata": {},
   "source": [
    "Now we define the votes, party names and region names from the mentioned Wikipedia example."
   ]
  },
  {
   "cell_type": "code",
   "execution_count": 2,
   "metadata": {},
   "outputs": [],
   "source": [
    "votes = [[123,  45, 815],\n",
    "         [912, 714, 414],\n",
    "         [312, 255, 215],]\n",
    "party_names  = ['A', 'B' , 'C'  ]\n",
    "region_names = ['I', 'II', 'III']"
   ]
  },
  {
   "cell_type": "markdown",
   "metadata": {},
   "source": [
    "With this we can create an `Election` object. `Election` objects keep track of the votes, the parties and regions involved in the election, and other potentially relevant information."
   ]
  },
  {
   "cell_type": "code",
   "execution_count": 3,
   "metadata": {},
   "outputs": [],
   "source": [
    "e = bp.Election(votes, party_names=party_names, region_names=region_names)"
   ]
  },
  {
   "cell_type": "markdown",
   "metadata": {},
   "source": [
    "The newly created `Election` method has many methods that apply different apportionment methods and return a seat distibution. The first thing that the Wikipedia example does is calculating the upper apportionment. We can use the `upper_apportionment` method to do the same. In this method, we have to specify the total number of seats (20 in our case) and whether we want to calculate the upper apportionment for the parties or the regions (in our case we want both, so we will have to call the method twice)."
   ]
  },
  {
   "cell_type": "code",
   "execution_count": 4,
   "metadata": {},
   "outputs": [
    {
     "name": "stdout",
     "output_type": "stream",
     "text": [
      "Upper apportionment results:\n",
      "party seats : [ 5 11  4]\n",
      "region seats: [7 5 8]\n"
     ]
    }
   ],
   "source": [
    "party_seats  = e.upper_apportionment(total_seats=20, which='parties')\n",
    "region_seats = e.upper_apportionment(total_seats=20, which='regions')\n",
    "\n",
    "print('Upper apportionment results:')\n",
    "print('party seats :', party_seats)\n",
    "print('region seats:', region_seats)"
   ]
  },
  {
   "cell_type": "markdown",
   "metadata": {},
   "source": [
    "As a quick sanity check, we can compare these numbers with the ones from Wikipedia and see that we arrived at the same upper apportionment. As previously mentioned, the `Election` object keeps track of additional relevant information. It remembered the total seats and the calculated upper apportionments. We can access this information through the `total_seats`, `party_seats`, and `region_seats` attributes."
   ]
  },
  {
   "cell_type": "code",
   "execution_count": 5,
   "metadata": {},
   "outputs": [
    {
     "name": "stdout",
     "output_type": "stream",
     "text": [
      "e.total_seats  = 20\n",
      "e.party_seats  = [ 5 11  4]\n",
      "e.region_seats = [7 5 8]\n"
     ]
    }
   ],
   "source": [
    "print('e.total_seats  =', e.total_seats)\n",
    "print('e.party_seats  =', e.party_seats)\n",
    "print('e.region_seats =', e.region_seats)"
   ]
  },
  {
   "cell_type": "markdown",
   "metadata": {},
   "source": [
    "Now we can start with the lower apportionment. Luckily for us, there is a convenient `lower_apportionment` method. We do not even need to pass any arguments since the `Election` object already knows the total seat number and the upper apportionments."
   ]
  },
  {
   "cell_type": "code",
   "execution_count": 6,
   "metadata": {},
   "outputs": [
    {
     "name": "stdout",
     "output_type": "stream",
     "text": [
      "Lower apportionment converged after 2 iterations.\n"
     ]
    }
   ],
   "source": [
    "seats = e.lower_apportionment()"
   ]
  },
  {
   "cell_type": "markdown",
   "metadata": {},
   "source": [
    "The text above informs us that the lower apportionment successfully terminated after two iterations. In an election with $n$ parties and $m$ regions, the method may need up to $n \\times m$ iterations to converge. In rare occasions, it may never converge at all. But for now, you do not have to remember this. We will examine these rare cases in a later module. Instead, let us take a look at the calculated seat distribution and compare it to the one from the Wikipedia example."
   ]
  },
  {
   "cell_type": "code",
   "execution_count": 7,
   "metadata": {},
   "outputs": [
    {
     "name": "stdout",
     "output_type": "stream",
     "text": [
      "Final seat distribution:\n",
      "[[1 0 4]\n",
      " [4 4 3]\n",
      " [2 1 1]]\n"
     ]
    }
   ],
   "source": [
    "print('Final seat distribution:')\n",
    "print(seats)"
   ]
  },
  {
   "cell_type": "markdown",
   "metadata": {},
   "source": [
    "Congratulations, you just finished your first biproportional apportionment calculation! And as a bonus, we did indeed receive the same numbers as the Wikipedia article. So we can be reasonably certain that our result is correct.\n",
    "\n",
    "One more thing: We had to call several methods to perform the biproportional apportionment. But the `Election` object also has a `biproportional_apportionment` method that calculates the upper and lower apportionment in one go. Not only is this more compact, we will also see in a later module that this has additional advantages. Let us create a second `Election` object to demonstrate this more compact way. This time, we specify the total number of seats at the initialization."
   ]
  },
  {
   "cell_type": "code",
   "execution_count": 8,
   "metadata": {},
   "outputs": [
    {
     "ename": "ValueError",
     "evalue": "Cannot use `party_seats=None` while `self.party_seats==None`.",
     "output_type": "error",
     "traceback": [
      "\u001b[1;31m---------------------------------------------------------------------------\u001b[0m",
      "\u001b[1;31mValueError\u001b[0m                                Traceback (most recent call last)",
      "\u001b[1;32m~\\AppData\\Local\\Temp\\ipykernel_24548\\1391198558.py\u001b[0m in \u001b[0;36m<module>\u001b[1;34m\u001b[0m\n\u001b[0;32m      1\u001b[0m \u001b[0me2\u001b[0m \u001b[1;33m=\u001b[0m \u001b[0mbp\u001b[0m\u001b[1;33m.\u001b[0m\u001b[0mElection\u001b[0m\u001b[1;33m(\u001b[0m\u001b[0mvotes\u001b[0m\u001b[1;33m,\u001b[0m \u001b[0mparty_names\u001b[0m\u001b[1;33m=\u001b[0m\u001b[0mparty_names\u001b[0m\u001b[1;33m,\u001b[0m \u001b[0mregion_names\u001b[0m\u001b[1;33m=\u001b[0m\u001b[0mregion_names\u001b[0m\u001b[1;33m,\u001b[0m \u001b[0mtotal_seats\u001b[0m\u001b[1;33m=\u001b[0m\u001b[1;36m20\u001b[0m\u001b[1;33m)\u001b[0m\u001b[1;33m\u001b[0m\u001b[1;33m\u001b[0m\u001b[0m\n\u001b[1;32m----> 2\u001b[1;33m \u001b[0mseats2\u001b[0m \u001b[1;33m=\u001b[0m \u001b[0me2\u001b[0m\u001b[1;33m.\u001b[0m\u001b[0mbiproportional_apportionment\u001b[0m\u001b[1;33m(\u001b[0m\u001b[1;33m)\u001b[0m\u001b[1;33m\u001b[0m\u001b[1;33m\u001b[0m\u001b[0m\n\u001b[0m",
      "\u001b[1;32m~\\AppData\\Local\\Packages\\PythonSoftwareFoundation.Python.3.7_qbz5n2kfra8p0\\LocalCache\\local-packages\\Python37\\site-packages\\biprop\\biprop.py\u001b[0m in \u001b[0;36mbiproportional_apportionment\u001b[1;34m(self, party_seats, party_quorum, region_seats, region_quorum, total_seats, rounding_method, key, return_distribution, max_depth, scaling, eps, **kwargs)\u001b[0m\n\u001b[0;32m   1598\u001b[0m             \u001b[0mparty_seats\u001b[0m \u001b[1;33m=\u001b[0m \u001b[0mself\u001b[0m\u001b[1;33m.\u001b[0m\u001b[0mparty_seats\u001b[0m\u001b[1;33m\u001b[0m\u001b[1;33m\u001b[0m\u001b[0m\n\u001b[0;32m   1599\u001b[0m             \u001b[1;32mif\u001b[0m \u001b[0mtype\u001b[0m\u001b[1;33m(\u001b[0m\u001b[0mparty_seats\u001b[0m\u001b[1;33m)\u001b[0m \u001b[1;33m==\u001b[0m \u001b[0mtype\u001b[0m\u001b[1;33m(\u001b[0m\u001b[1;32mNone\u001b[0m\u001b[1;33m)\u001b[0m\u001b[1;33m:\u001b[0m\u001b[1;33m\u001b[0m\u001b[1;33m\u001b[0m\u001b[0m\n\u001b[1;32m-> 1600\u001b[1;33m                 \u001b[1;32mraise\u001b[0m \u001b[0mValueError\u001b[0m\u001b[1;33m(\u001b[0m\u001b[1;34m'Cannot use `party_seats=None` while `self.party_seats==None`.'\u001b[0m\u001b[1;33m)\u001b[0m\u001b[1;33m\u001b[0m\u001b[1;33m\u001b[0m\u001b[0m\n\u001b[0m\u001b[0;32m   1601\u001b[0m         \u001b[1;32mif\u001b[0m \u001b[0mtype\u001b[0m\u001b[1;33m(\u001b[0m\u001b[0mregion_seats\u001b[0m\u001b[1;33m)\u001b[0m \u001b[1;33m==\u001b[0m \u001b[0mtype\u001b[0m\u001b[1;33m(\u001b[0m\u001b[1;32mNone\u001b[0m\u001b[1;33m)\u001b[0m\u001b[1;33m:\u001b[0m\u001b[1;33m\u001b[0m\u001b[1;33m\u001b[0m\u001b[0m\n\u001b[0;32m   1602\u001b[0m             \u001b[0mregion_seats\u001b[0m \u001b[1;33m=\u001b[0m \u001b[0mself\u001b[0m\u001b[1;33m.\u001b[0m\u001b[0mregion_seats\u001b[0m\u001b[1;33m\u001b[0m\u001b[1;33m\u001b[0m\u001b[0m\n",
      "\u001b[1;31mValueError\u001b[0m: Cannot use `party_seats=None` while `self.party_seats==None`."
     ]
    }
   ],
   "source": [
    "e2 = bp.Election(votes, party_names=party_names, region_names=region_names, total_seats=20)\n",
    "seats2 = e2.biproportional_apportionment()"
   ]
  },
  {
   "cell_type": "markdown",
   "metadata": {},
   "source": [
    "This did not work. Apparently we cannot use the keyword argument `party_seats=None` while `e2.party_seats` is `None`. Let us examine why this is.\n",
    "\n",
    "There are different ways to calculate the upper apportionment. Often, the upper apportionment is not even calculated based on the votes, but rather is some predefined distribution that was calculated based on something else (e.g. the population of the regions). Whenever we call the `biproportional_apportionment` or the `lower_apportionment` methods, we need to specify how we want the upper apportionment to be calculated or whether we want to use a predefined distribution. The last time, we specified this implicitly through calling the `upper_apportionment` method. This time, we need to mention it explicilty through the `party_seats` and `region_seats` arguments. The Wikipedia example uses the Sainte-Laguë method for the upper apportionment. This method corresponds to arithmetic rounding (for an overview, which method corresponds to which rounding method, see [this Wikipedia page](https://en.wikipedia.org/wiki/Highest_averages_method#Specific_methods)). We therefore specify that we want to use the Sainte-Laguë method by passing `np.round` to the method (we have to use `np.round` instead of the standard `round` since the rounding function needs to be able to handle `numpy`-arrays). We can therefore use the following code:"
   ]
  },
  {
   "cell_type": "code",
   "execution_count": 9,
   "metadata": {},
   "outputs": [
    {
     "name": "stdout",
     "output_type": "stream",
     "text": [
      "Lower apportionment converged after 2 iterations.\n",
      "\n",
      "Final seat distribution with the second method:\n",
      "[[1 0 4]\n",
      " [4 4 3]\n",
      " [2 1 1]]\n",
      "\n",
      "seats and seats2 are equal: True\n"
     ]
    }
   ],
   "source": [
    "import numpy as np\n",
    "seats2 = e2.biproportional_apportionment(party_seats=np.round, region_seats=np.round)\n",
    "print('\\nFinal seat distribution with the second method:')\n",
    "print(seats2)\n",
    "print('\\nseats and seats2 are equal:', np.all(seats==seats2))"
   ]
  },
  {
   "cell_type": "markdown",
   "metadata": {},
   "source": [
    "Now it worked. We also verified that both ways really produce the same result. I hope you learned something and to see you again in module 2."
   ]
  }
 ],
 "metadata": {
  "kernelspec": {
   "display_name": "Python 3",
   "language": "python",
   "name": "python3"
  },
  "language_info": {
   "codemirror_mode": {
    "name": "ipython",
    "version": 3
   },
   "file_extension": ".py",
   "mimetype": "text/x-python",
   "name": "python",
   "nbconvert_exporter": "python",
   "pygments_lexer": "ipython3",
   "version": "3.7.9"
  }
 },
 "nbformat": 4,
 "nbformat_minor": 2
}
