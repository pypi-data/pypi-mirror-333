{
 "cells": [
  {
   "cell_type": "code",
   "execution_count": 1,
   "metadata": {},
   "outputs": [],
   "source": [
    "from pipe import pipe, pipe_out"
   ]
  },
  {
   "cell_type": "code",
   "execution_count": 2,
   "metadata": {},
   "outputs": [],
   "source": [
    "res = pipe(1) >> (lambda x: x + 1) >> (lambda x: x * 2) >> pipe_out"
   ]
  },
  {
   "cell_type": "code",
   "execution_count": 3,
   "metadata": {},
   "outputs": [
    {
     "data": {
      "text/plain": [
       "int"
      ]
     },
     "execution_count": 3,
     "metadata": {},
     "output_type": "execute_result"
    }
   ],
   "source": [
    "res.__class__"
   ]
  },
  {
   "cell_type": "code",
   "execution_count": 4,
   "metadata": {},
   "outputs": [],
   "source": [
    "res = (pipe(3)\n",
    "       >> (lambda x: x + 1)\n",
    "       >> (lambda x: x * 2)\n",
    "       >> pipe_out\n",
    "    )\n"
   ]
  },
  {
   "cell_type": "code",
   "execution_count": 5,
   "metadata": {},
   "outputs": [
    {
     "data": {
      "text/plain": [
       "int"
      ]
     },
     "execution_count": 5,
     "metadata": {},
     "output_type": "execute_result"
    }
   ],
   "source": [
    "res.__class__"
   ]
  },
  {
   "cell_type": "code",
   "execution_count": 6,
   "metadata": {},
   "outputs": [],
   "source": [
    "from aletk.ResultMonad import try_except_wrapper, funwrap\n",
    "from aletk.utils import get_logger\n",
    "\n",
    "lgr = get_logger(\"pipe test\")"
   ]
  },
  {
   "cell_type": "code",
   "execution_count": 7,
   "metadata": {},
   "outputs": [],
   "source": [
    "g_error_msg = \"g error\"\n",
    "h_error_msg = \"h error\"\n",
    "\n",
    "@try_except_wrapper(lgr)\n",
    "def f(x):\n",
    "    return x + 1\n",
    "\n",
    "@try_except_wrapper(lgr)\n",
    "def g(x):\n",
    "    raise ValueError(g_error_msg)\n",
    "\n",
    "@try_except_wrapper(lgr)\n",
    "def h(x):\n",
    "    raise ValueError(h_error_msg)"
   ]
  },
  {
   "cell_type": "code",
   "execution_count": 8,
   "metadata": {},
   "outputs": [
    {
     "data": {
      "text/plain": [
       "3"
      ]
     },
     "execution_count": 8,
     "metadata": {},
     "output_type": "execute_result"
    }
   ],
   "source": [
    "pipe(1) >> funwrap(f) >> funwrap(f) >> pipe_out"
   ]
  },
  {
   "cell_type": "code",
   "execution_count": 9,
   "metadata": {},
   "outputs": [
    {
     "name": "stderr",
     "output_type": "stream",
     "text": [
      "2024-12-29 01:34:35 - pipe test - ERROR - An error occurred in function 'g'. Detail:\n",
      "g error\n",
      "2024-12-29 01:34:35 - pipe test - ERROR - An error occurred in function 'f'. Detail:\n",
      "unsupported operand type(s) for +: 'Err' and 'int'\n"
     ]
    }
   ],
   "source": [
    "res = pipe(1) >> f >> g >> f >> pipe_out"
   ]
  },
  {
   "cell_type": "code",
   "execution_count": 10,
   "metadata": {},
   "outputs": [
    {
     "data": {
      "text/plain": [
       "Err(message=\"An error occurred in function 'f'. Detail: unsupported operand type(s) for +: 'Err' and 'int'\", code=-1)"
      ]
     },
     "execution_count": 10,
     "metadata": {},
     "output_type": "execute_result"
    }
   ],
   "source": [
    "res"
   ]
  },
  {
   "cell_type": "code",
   "execution_count": 12,
   "metadata": {},
   "outputs": [
    {
     "ename": "AssertionError",
     "evalue": "TODO: should return the error thrown by 'g' ('g error'), as it is the first error in the chain and errors should propagate. Failed with:\n\t \"g error\" != \"An error occurred in function 'f'. Detail: unsupported operand type(s) for +: 'Err' and 'int'\"",
     "output_type": "error",
     "traceback": [
      "\u001b[0;31m---------------------------------------------------------------------------\u001b[0m",
      "\u001b[0;31mAssertionError\u001b[0m                            Traceback (most recent call last)",
      "Cell \u001b[0;32mIn[12], line 1\u001b[0m\n\u001b[0;32m----> 1\u001b[0m \u001b[38;5;28;01massert\u001b[39;00m res\u001b[38;5;241m.\u001b[39mmessage \u001b[38;5;241m==\u001b[39m g_error_msg, \u001b[38;5;124mf\u001b[39m\u001b[38;5;124m\"\u001b[39m\u001b[38;5;124mTODO: should return the error thrown by \u001b[39m\u001b[38;5;124m'\u001b[39m\u001b[38;5;124mg\u001b[39m\u001b[38;5;124m'\u001b[39m\u001b[38;5;124m (\u001b[39m\u001b[38;5;124m'\u001b[39m\u001b[38;5;132;01m{\u001b[39;00mg_error_msg\u001b[38;5;132;01m}\u001b[39;00m\u001b[38;5;124m'\u001b[39m\u001b[38;5;124m), as it is the first error in the chain and errors should propagate. Failed with:\u001b[39m\u001b[38;5;130;01m\\n\u001b[39;00m\u001b[38;5;130;01m\\t\u001b[39;00m\u001b[38;5;124m \u001b[39m\u001b[38;5;130;01m\\\"\u001b[39;00m\u001b[38;5;132;01m{\u001b[39;00mg_error_msg\u001b[38;5;132;01m}\u001b[39;00m\u001b[38;5;130;01m\\\"\u001b[39;00m\u001b[38;5;124m != \u001b[39m\u001b[38;5;130;01m\\\"\u001b[39;00m\u001b[38;5;132;01m{\u001b[39;00mres\u001b[38;5;241m.\u001b[39mmessage\u001b[38;5;132;01m}\u001b[39;00m\u001b[38;5;130;01m\\\"\u001b[39;00m\u001b[38;5;124m\"\u001b[39m\n",
      "\u001b[0;31mAssertionError\u001b[0m: TODO: should return the error thrown by 'g' ('g error'), as it is the first error in the chain and errors should propagate. Failed with:\n\t \"g error\" != \"An error occurred in function 'f'. Detail: unsupported operand type(s) for +: 'Err' and 'int'\""
     ]
    }
   ],
   "source": [
    "assert res.message == g_error_msg, f\"TODO: should return the error thrown by 'g' ('{g_error_msg}'), as it is the first error in the chain and errors should propagate. Failed with:\\n\\t \\\"{g_error_msg}\\\" != \\\"{res.message}\\\"\"\n"
   ]
  }
 ],
 "metadata": {
  "kernelspec": {
   "display_name": ".venv",
   "language": "python",
   "name": "python3"
  },
  "language_info": {
   "codemirror_mode": {
    "name": "ipython",
    "version": 3
   },
   "file_extension": ".py",
   "mimetype": "text/x-python",
   "name": "python",
   "nbconvert_exporter": "python",
   "pygments_lexer": "ipython3",
   "version": "3.13.0"
  }
 },
 "nbformat": 4,
 "nbformat_minor": 2
}
