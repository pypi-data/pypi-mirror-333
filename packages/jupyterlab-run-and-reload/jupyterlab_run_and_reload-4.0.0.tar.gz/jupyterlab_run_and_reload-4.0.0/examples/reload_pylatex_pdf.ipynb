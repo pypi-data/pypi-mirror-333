{
 "cells": [
  {
   "cell_type": "code",
   "execution_count": null,
   "id": "518ba2de-bcf8-498f-9dbd-7e60eb099708",
   "metadata": {},
   "outputs": [],
   "source": [
    "from pylatex import Document, Section, Subsection, Command\n",
    "from pylatex.utils import italic, NoEscape\n",
    "from random import randint\n",
    "\n",
    "# Basic document\n",
    "doc = Document('my_document')\n",
    "\n",
    "random_number = randint(-42, 42)\n",
    "\n",
    "for _ in range(200):\n",
    "    doc.append(f\"Random number: {random_number}\\n\")\n",
    "\n",
    "doc.generate_pdf()\n",
    "doc.generate_tex()\n",
    "\n",
    "display(random_number)"
   ]
  }
 ],
 "metadata": {
  "kernelspec": {
   "display_name": "Python 3 (ipykernel)",
   "language": "python",
   "name": "python3"
  },
  "language_info": {
   "codemirror_mode": {
    "name": "ipython",
    "version": 3
   },
   "file_extension": ".py",
   "mimetype": "text/x-python",
   "name": "python",
   "nbconvert_exporter": "python",
   "pygments_lexer": "ipython3",
   "version": "3.9.5"
  }
 },
 "nbformat": 4,
 "nbformat_minor": 5
}
