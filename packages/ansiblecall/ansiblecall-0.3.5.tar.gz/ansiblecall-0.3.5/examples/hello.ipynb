{
 "cells": [
  {
   "cell_type": "code",
   "execution_count": 1,
   "metadata": {},
   "outputs": [],
   "source": [
    "import ansiblecall.utils.typefactory"
   ]
  },
  {
   "cell_type": "code",
   "execution_count": 2,
   "metadata": {},
   "outputs": [
    {
     "name": "stderr",
     "output_type": "stream",
     "text": [
      "2024-09-20 15:52:27,691 [ansiblecall.utils.typefactory][INFO    :274 ][MainProcess:6662] Initializing dirs.\n",
      "2024-09-20 15:52:27,694 [ansiblecall.utils.typefactory][INFO    :251 ][MainProcess:6662] Created dir /workspaces/ansible-call/src/ansiblecall/typed.\n",
      "2024-09-20 15:52:27,698 [ansiblecall.utils.typefactory][INFO    :276 ][MainProcess:6662] Generating types for 1 module(s).\n",
      "2024-09-20 15:52:27,735 [ansiblecall.utils.typefactory][INFO    :284 ][MainProcess:6662] Done!\n"
     ]
    }
   ],
   "source": [
    "ansiblecall.utils.typefactory.TypeFactory.run(modules=['ansible.builtin.ping'])"
   ]
  },
  {
   "cell_type": "code",
   "execution_count": 2,
   "metadata": {},
   "outputs": [
    {
     "name": "stderr",
     "output_type": "stream",
     "text": [
      "2024-09-20 16:18:17,590 [ansiblecall      ][DEBUG   :17  ][MainProcess:1361] Running module [ansible.builtin.ping] with params [data]\n",
      "2024-09-20 16:18:17,777 [ansiblecall      ][DEBUG   :19  ][MainProcess:1361] Loaded 8960 ansible modules. Elapsed: 0.187s\n",
      "2024-09-20 16:18:17,780 [ansiblecall      ][DEBUG   :34  ][MainProcess:1361] Returning data to caller. Total elapsed: 0.190s\n"
     ]
    },
    {
     "data": {
      "text/plain": [
       "'foo'"
      ]
     },
     "execution_count": 2,
     "metadata": {},
     "output_type": "execute_result"
    }
   ],
   "source": [
    "import ansiblecall.typed.ansible_builtin_ping as ping\n",
    "ret = ping.Ping(data=\"foo\").run()\n",
    "ret.ping"
   ]
  }
 ],
 "metadata": {
  "kernelspec": {
   "display_name": "test.py3.12",
   "language": "python",
   "name": "python3"
  },
  "language_info": {
   "codemirror_mode": {
    "name": "ipython",
    "version": 3
   },
   "file_extension": ".py",
   "mimetype": "text/x-python",
   "name": "python",
   "nbconvert_exporter": "python",
   "pygments_lexer": "ipython3",
   "version": "3.10.12"
  }
 },
 "nbformat": 4,
 "nbformat_minor": 2
}
