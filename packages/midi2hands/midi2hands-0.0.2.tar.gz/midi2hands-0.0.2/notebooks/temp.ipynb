{
 "cells": [
  {
   "cell_type": "code",
   "execution_count": 15,
   "metadata": {},
   "outputs": [
    {
     "name": "stdout",
     "output_type": "stream",
     "text": [
      "0.940 ± 0.041\n"
     ]
    }
   ],
   "source": [
    "import numpy as np\n",
    "lst =[\n",
    "            0.9709750029617344,\n",
    "            0.9665690580771108,\n",
    "            0.862561847168774,\n",
    "            0.9635093167701864,\n",
    "            0.9594428512904547,\n",
    "            0.9090909090909091,\n",
    "            0.9753340184994861,\n",
    "            0.9149453219927096,\n",
    "            1.0,\n",
    "            0.8785496957403651,\n",
    "            0.9354268022998673\n",
    "        ]\n",
    "print(f'{np.mean(lst):.3f} ± {np.std(lst):.3f}')"
   ]
  },
  {
   "cell_type": "code",
   "execution_count": null,
   "metadata": {},
   "outputs": [],
   "source": [
    "\"\"\"\n",
    "generativ\n",
    "8: 0.922 ± 0.063\n",
    "16: 0.937 ± 0.049\n",
    "32: 0.937 ± 0.043\n",
    "64: 0.907 ± 0.108\n",
    "128: 0.924 ± 0.055\n",
    "256: 0.915 ± 0.048\n",
    "\n",
    "discriminativ\n",
    "8: 0.920 ± 0.050\n",
    "16: 0.937 ± 0.045\n",
    "32: 0.938 ± 0.042\n",
    "64: 0.942 ± 0.038\n",
    "128: 0.939 ± 0.040\n",
    "256: 0.940 ± 0.041\n",
    "\"\"\""
   ]
  }
 ],
 "metadata": {
  "kernelspec": {
   "display_name": "venv",
   "language": "python",
   "name": "python3"
  },
  "language_info": {
   "codemirror_mode": {
    "name": "ipython",
    "version": 3
   },
   "file_extension": ".py",
   "mimetype": "text/x-python",
   "name": "python",
   "nbconvert_exporter": "python",
   "pygments_lexer": "ipython3",
   "version": "3.10.12"
  }
 },
 "nbformat": 4,
 "nbformat_minor": 2
}
