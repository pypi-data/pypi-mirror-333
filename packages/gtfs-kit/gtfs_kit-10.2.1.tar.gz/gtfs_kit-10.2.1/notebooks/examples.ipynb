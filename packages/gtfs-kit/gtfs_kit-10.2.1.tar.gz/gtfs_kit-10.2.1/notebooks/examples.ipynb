{
 "cells": [
  {
   "cell_type": "code",
   "execution_count": null,
   "metadata": {},
   "outputs": [],
   "source": [
    "import sys\n",
    "from pathlib import Path\n",
    "import json\n",
    "\n",
    "import pandas as pd\n",
    "import numpy as np\n",
    "import geopandas as gp\n",
    "import matplotlib\n",
    "import folium as fl\n",
    "\n",
    "DIR = Path('..')\n",
    "sys.path.append(str(DIR))\n",
    "\n",
    "import gtfs_kit as gk\n",
    "\n",
    "DATA = DIR / 'data'\n",
    "\n",
    "%load_ext autoreload\n",
    "%autoreload 2\n",
    "%matplotlib inline"
   ]
  },
  {
   "cell_type": "code",
   "execution_count": null,
   "metadata": {},
   "outputs": [],
   "source": [
    "# List feed\n",
    "\n",
    "path = DATA / 'cairns_gtfs.zip'\n",
    "gk.list_feed(path)"
   ]
  },
  {
   "cell_type": "code",
   "execution_count": null,
   "metadata": {},
   "outputs": [],
   "source": [
    "# Read feed and describe\n",
    "\n",
    "feed = gk.read_feed(path, dist_units='m')\n",
    "feed.describe()\n"
   ]
  },
  {
   "cell_type": "code",
   "execution_count": null,
   "metadata": {},
   "outputs": [],
   "source": [
    "# Add distances to stop times\n",
    "\n",
    "display(feed.stop_times)\n",
    "feed = feed.append_dist_to_stop_times()\n",
    "display(feed.stop_times)"
   ]
  },
  {
   "cell_type": "code",
   "execution_count": null,
   "metadata": {},
   "outputs": [],
   "source": [
    "# Choose study dates\n",
    "\n",
    "week = feed.get_first_week()\n",
    "dates = [week[4], week[6]]  # First Friday and Sunday\n",
    "dates"
   ]
  },
  {
   "cell_type": "code",
   "execution_count": null,
   "metadata": {},
   "outputs": [],
   "source": [
    "# Compute feed time series\n",
    "\n",
    "trip_stats = feed.compute_trip_stats()\n",
    "trip_stats.head().T\n",
    "fts = feed.compute_feed_time_series(trip_stats, dates, freq='6h')\n",
    "fts"
   ]
  },
  {
   "cell_type": "code",
   "execution_count": null,
   "metadata": {},
   "outputs": [],
   "source": [
    "gk.downsample(fts, freq='12h')\n"
   ]
  },
  {
   "cell_type": "code",
   "execution_count": null,
   "metadata": {},
   "outputs": [],
   "source": [
    "# Compute feed stats for first week\n",
    "\n",
    "feed_stats = feed.compute_feed_stats(trip_stats, week)\n",
    "feed_stats"
   ]
  },
  {
   "cell_type": "code",
   "execution_count": null,
   "metadata": {},
   "outputs": [],
   "source": [
    "# Compute route time series\n",
    "\n",
    "rts = feed.compute_route_time_series(trip_stats, dates, freq='12h')\n",
    "rts"
   ]
  },
  {
   "cell_type": "code",
   "execution_count": null,
   "metadata": {},
   "outputs": [],
   "source": [
    "# Slice time series\n",
    "\n",
    "inds = ['service_distance', 'service_duration', 'service_speed']\n",
    "rids = ['110-423', '111-423']\n",
    "\n",
    "rts.loc[:, (inds, rids)]"
   ]
  },
  {
   "cell_type": "code",
   "execution_count": null,
   "metadata": {},
   "outputs": [],
   "source": [
    "# Slice again by cross-section\n",
    "\n",
    "rts.xs(rids[0], axis=\"columns\", level=1)"
   ]
  },
  {
   "cell_type": "code",
   "execution_count": null,
   "metadata": {},
   "outputs": [],
   "source": [
    "# Compute trip locations for every hour\n",
    "\n",
    "rng = pd.date_range('1/1/2000', periods=24, freq='h')\n",
    "times = [t.strftime('%H:%M:%S') for t in rng]\n",
    "loc = feed.locate_trips(dates[0], times)\n",
    "loc.head()"
   ]
  },
  {
   "cell_type": "code",
   "execution_count": null,
   "metadata": {},
   "outputs": [],
   "source": [
    "# Build a route timetable\n",
    "\n",
    "route_id = feed.routes['route_id'].iat[0]\n",
    "feed.build_route_timetable(route_id, dates).T"
   ]
  },
  {
   "cell_type": "code",
   "execution_count": null,
   "metadata": {},
   "outputs": [],
   "source": [
    "# Compute screen line counts\n",
    "\n",
    "trip_id = \"CNS2014-CNS_MUL-Weekday-00-4166247\"  # A non-simple looping trip\n",
    "m = feed.map_trips([trip_id], show_stops=True, show_direction=True)\n",
    "screen_line = gp.read_file(DATA / 'cairns_screen_line.geojson')\n",
    "\n",
    "# Add screen line to map. Folium, why isn't this easier?!\n",
    "# Remove existing layer control and fit bounds\n",
    "keys_to_remove = [\n",
    "    key for key in m._children.keys() \n",
    "    if key.startswith('layer_control_') or key.startswith('fit_bounds_')\n",
    "]\n",
    "for key in keys_to_remove:\n",
    "    m._children.pop(key)\n",
    "\n",
    "# Create and add the new feature group of screen line\n",
    "fg = fl.FeatureGroup(name=\"Screen lines\")\n",
    "fl.GeoJson(\n",
    "    screen_line,     \n",
    "    style_function=lambda feature: {\n",
    "        'color': 'red',\n",
    "        'weight': 2,\n",
    "    },\n",
    ").add_to(fg)\n",
    "fg.add_to(m)\n",
    "\n",
    "# Add a new layer control and fit bounds\n",
    "fl.LayerControl().add_to(m)\n",
    "m.fit_bounds(fg.get_bounds())\n",
    "\n",
    "display(m)\n",
    "\n",
    "# Show screen line counts restricted to trip\n",
    "slc = feed.compute_screen_line_counts(screen_line, dates=dates)\n",
    "slc.loc[lambda x: x[\"trip_id\"] == trip_id]\n"
   ]
  },
  {
   "cell_type": "code",
   "execution_count": null,
   "metadata": {},
   "outputs": [],
   "source": [
    "# Map routes\n",
    "\n",
    "rsns = feed.routes[\"route_short_name\"].iloc[2:4]\n",
    "feed.map_routes(route_short_names=rsns, show_stops=True)\n"
   ]
  }
 ],
 "metadata": {
  "kernelspec": {
   "display_name": "Python 3 (ipykernel)",
   "language": "python",
   "name": "python3"
  },
  "language_info": {
   "codemirror_mode": {
    "name": "ipython",
    "version": 3
   },
   "file_extension": ".py",
   "mimetype": "text/x-python",
   "name": "python",
   "nbconvert_exporter": "python",
   "pygments_lexer": "ipython3",
   "version": "3.12.3"
  }
 },
 "nbformat": 4,
 "nbformat_minor": 4
}
