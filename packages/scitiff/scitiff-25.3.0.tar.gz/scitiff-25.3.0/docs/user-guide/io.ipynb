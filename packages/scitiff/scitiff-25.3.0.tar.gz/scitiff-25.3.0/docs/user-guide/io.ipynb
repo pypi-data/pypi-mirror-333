{
 "cells": [
  {
   "cell_type": "markdown",
   "metadata": {},
   "source": [
    "# IO\n",
    "\n",
    "\n",
    "## Export Tiff Image with Meta Data"
   ]
  },
  {
   "cell_type": "code",
   "execution_count": null,
   "metadata": {},
   "outputs": [],
   "source": [
    "from scitiff.data import hyperstack_example\n",
    "import scipp as sc\n",
    "\n",
    "sample_img = hyperstack_example()\n",
    "sample_img"
   ]
  },
  {
   "cell_type": "code",
   "execution_count": null,
   "metadata": {},
   "outputs": [],
   "source": [
    "config = {\"grid\": True, \"aspect\": True}\n",
    "img = sample_img.mean('c').mean('z')\n",
    "(img['t', 0].plot(title='T=0', **config) + img['t', 1].plot(title='T=1', **config)) / (\n",
    "    img['t', 2].plot(title='T=2', **config) + img['t', 3].plot(title='T=3', **config)\n",
    ")"
   ]
  },
  {
   "cell_type": "code",
   "execution_count": null,
   "metadata": {},
   "outputs": [],
   "source": [
    "from scitiff.io import save_scitiff\n",
    "\n",
    "save_scitiff(sample_img, 'sample_img.tiff')"
   ]
  },
  {
   "cell_type": "markdown",
   "metadata": {},
   "source": [
    "## Load TIFF Image with Meta Data"
   ]
  },
  {
   "cell_type": "code",
   "execution_count": null,
   "metadata": {},
   "outputs": [],
   "source": [
    "from scitiff.io import load_scitiff\n",
    "\n",
    "loaded_scitiff: sc.DataGroup[sc.DataArray] = load_scitiff('sample_img.tiff')\n",
    "loaded_scitiff"
   ]
  },
  {
   "cell_type": "code",
   "execution_count": null,
   "metadata": {},
   "outputs": [],
   "source": [
    "loaded_scitiff['image']"
   ]
  },
  {
   "cell_type": "code",
   "execution_count": null,
   "metadata": {},
   "outputs": [],
   "source": [
    "config = {\"grid\": True, \"aspect\": True}\n",
    "loaded_img = loaded_scitiff['image'].mean('c').mean('z')\n",
    "(\n",
    "    loaded_img['t', 0].plot(title='T=0', **config)\n",
    "    + loaded_img['t', 1].plot(title='T=1', **config)\n",
    ") / (\n",
    "    loaded_img['t', 2].plot(title='T=2', **config)\n",
    "    + loaded_img['t', 3].plot(title='T=3', **config)\n",
    ")"
   ]
  }
 ],
 "metadata": {
  "kernelspec": {
   "display_name": "scitiff-dev-310",
   "language": "python",
   "name": "python3"
  },
  "language_info": {
   "codemirror_mode": {
    "name": "ipython",
    "version": 3
   },
   "file_extension": ".py",
   "mimetype": "text/x-python",
   "name": "python",
   "nbconvert_exporter": "python",
   "pygments_lexer": "ipython3",
   "version": "3.10.16"
  }
 },
 "nbformat": 4,
 "nbformat_minor": 2
}
