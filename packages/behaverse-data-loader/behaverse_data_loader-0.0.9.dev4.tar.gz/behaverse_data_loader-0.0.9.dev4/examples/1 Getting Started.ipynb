{
 "cells": [
  {
   "cell_type": "markdown",
   "metadata": {},
   "source": [
    "# Example: Getting Started with Behaverse Data\n",
    "\n",
    "You need `behaverse` package to run this notebook. To install the latest version of the `behaverse` package:\n",
    "\n",
    "```bash\n",
    "pip install -U behaverse\n",
    "```\n"
   ]
  },
  {
   "cell_type": "code",
   "execution_count": 1,
   "metadata": {},
   "outputs": [],
   "source": [
    "%reload_ext autoreload\n",
    "%autoreload 2\n",
    "\n",
    "from behaverse.data import open_dataset"
   ]
  },
  {
   "cell_type": "markdown",
   "metadata": {},
   "source": [
    "Now, we open the dataset, select a subset of the data, and then load the data into memory.\n",
    "\n",
    "For the two selected subjects, it may take a few minutes to download the dataset and then a few seconds to load the subset of data. Downloading the dataset is a one-time process."
   ]
  },
  {
   "cell_type": "code",
   "execution_count": 2,
   "metadata": {
    "notebookRunGroups": {
     "groupValue": "3"
    }
   },
   "outputs": [
    {
     "data": {
      "application/vnd.jupyter.widget-view+json": {
       "model_id": "38b5a1e0fe0541c5a8b179a5f8266615",
       "version_major": 2,
       "version_minor": 0
      },
      "text/plain": [
       "Loading responses:   0%|          | 0/282 [00:00<?, ?it/s]"
      ]
     },
     "metadata": {},
     "output_type": "display_data"
    },
    {
     "data": {
      "application/vnd.jupyter.widget-view+json": {
       "model_id": "bb3f2cb0470b45a7a6628aaf7201ba32",
       "version_major": 2,
       "version_minor": 0
      },
      "text/plain": [
       "Loading stimuli:   0%|          | 0/282 [00:00<?, ?it/s]"
      ]
     },
     "metadata": {},
     "output_type": "display_data"
    },
    {
     "data": {
      "application/vnd.jupyter.widget-view+json": {
       "model_id": "768f0dd911274d9b9f6ed11af7938e35",
       "version_major": 2,
       "version_minor": 0
      },
      "text/plain": [
       "Loading options:   0%|          | 0/282 [00:00<?, ?it/s]"
      ]
     },
     "metadata": {},
     "output_type": "display_data"
    },
    {
     "data": {
      "text/html": [
       "<div>\n",
       "<style scoped>\n",
       "    .dataframe tbody tr th:only-of-type {\n",
       "        vertical-align: middle;\n",
       "    }\n",
       "\n",
       "    .dataframe tbody tr th {\n",
       "        vertical-align: top;\n",
       "    }\n",
       "\n",
       "    .dataframe thead th {\n",
       "        text-align: right;\n",
       "    }\n",
       "</style>\n",
       "<table border=\"1\" class=\"dataframe\">\n",
       "  <thead>\n",
       "    <tr style=\"text-align: right;\">\n",
       "      <th></th>\n",
       "      <th>response_id</th>\n",
       "      <th>study_name</th>\n",
       "      <th>group_name</th>\n",
       "      <th>subject_index</th>\n",
       "      <th>session_index</th>\n",
       "      <th>activity_index</th>\n",
       "      <th>instrument_name</th>\n",
       "      <th>language_code</th>\n",
       "      <th>timeline_name</th>\n",
       "      <th>timeline_repetition</th>\n",
       "      <th>...</th>\n",
       "      <th>evaluation_label</th>\n",
       "      <th>feedback_description</th>\n",
       "      <th>outcome_description</th>\n",
       "      <th>outcome_numeric</th>\n",
       "      <th>job_repetition</th>\n",
       "      <th>additional_measures</th>\n",
       "      <th>issue</th>\n",
       "      <th>id</th>\n",
       "      <th>block_index</th>\n",
       "      <th>trial_index</th>\n",
       "    </tr>\n",
       "  </thead>\n",
       "  <tbody>\n",
       "    <tr>\n",
       "      <th>0</th>\n",
       "      <td>1.0</td>\n",
       "      <td>prolific500</td>\n",
       "      <td>NaN</td>\n",
       "      <td>1</td>\n",
       "      <td>1</td>\n",
       "      <td>0</td>\n",
       "      <td>xcit-background</td>\n",
       "      <td>en</td>\n",
       "      <td>xcit-background_v2021.03</td>\n",
       "      <td>0</td>\n",
       "      <td>...</td>\n",
       "      <td>NaN</td>\n",
       "      <td>NaN</td>\n",
       "      <td>12/1982</td>\n",
       "      <td>NaN</td>\n",
       "      <td>NaN</td>\n",
       "      <td>NaN</td>\n",
       "      <td>NaN</td>\n",
       "      <td>NaN</td>\n",
       "      <td>NaN</td>\n",
       "      <td>NaN</td>\n",
       "    </tr>\n",
       "    <tr>\n",
       "      <th>1</th>\n",
       "      <td>2.0</td>\n",
       "      <td>prolific500</td>\n",
       "      <td>NaN</td>\n",
       "      <td>1</td>\n",
       "      <td>1</td>\n",
       "      <td>0</td>\n",
       "      <td>xcit-background</td>\n",
       "      <td>en</td>\n",
       "      <td>xcit-background_v2021.03</td>\n",
       "      <td>0</td>\n",
       "      <td>...</td>\n",
       "      <td>NaN</td>\n",
       "      <td>NaN</td>\n",
       "      <td>male</td>\n",
       "      <td>NaN</td>\n",
       "      <td>NaN</td>\n",
       "      <td>NaN</td>\n",
       "      <td>NaN</td>\n",
       "      <td>NaN</td>\n",
       "      <td>NaN</td>\n",
       "      <td>NaN</td>\n",
       "    </tr>\n",
       "    <tr>\n",
       "      <th>2</th>\n",
       "      <td>3.0</td>\n",
       "      <td>prolific500</td>\n",
       "      <td>NaN</td>\n",
       "      <td>1</td>\n",
       "      <td>1</td>\n",
       "      <td>0</td>\n",
       "      <td>xcit-background</td>\n",
       "      <td>en</td>\n",
       "      <td>xcit-background_v2021.03</td>\n",
       "      <td>0</td>\n",
       "      <td>...</td>\n",
       "      <td>NaN</td>\n",
       "      <td>NaN</td>\n",
       "      <td>6'3\"</td>\n",
       "      <td>NaN</td>\n",
       "      <td>NaN</td>\n",
       "      <td>NaN</td>\n",
       "      <td>NaN</td>\n",
       "      <td>NaN</td>\n",
       "      <td>NaN</td>\n",
       "      <td>NaN</td>\n",
       "    </tr>\n",
       "    <tr>\n",
       "      <th>3</th>\n",
       "      <td>4.0</td>\n",
       "      <td>prolific500</td>\n",
       "      <td>NaN</td>\n",
       "      <td>1</td>\n",
       "      <td>1</td>\n",
       "      <td>0</td>\n",
       "      <td>xcit-background</td>\n",
       "      <td>en</td>\n",
       "      <td>xcit-background_v2021.03</td>\n",
       "      <td>0</td>\n",
       "      <td>...</td>\n",
       "      <td>NaN</td>\n",
       "      <td>NaN</td>\n",
       "      <td>192</td>\n",
       "      <td>NaN</td>\n",
       "      <td>NaN</td>\n",
       "      <td>NaN</td>\n",
       "      <td>NaN</td>\n",
       "      <td>NaN</td>\n",
       "      <td>NaN</td>\n",
       "      <td>NaN</td>\n",
       "    </tr>\n",
       "    <tr>\n",
       "      <th>4</th>\n",
       "      <td>5.0</td>\n",
       "      <td>prolific500</td>\n",
       "      <td>NaN</td>\n",
       "      <td>1</td>\n",
       "      <td>1</td>\n",
       "      <td>0</td>\n",
       "      <td>xcit-background</td>\n",
       "      <td>en</td>\n",
       "      <td>xcit-background_v2021.03</td>\n",
       "      <td>0</td>\n",
       "      <td>...</td>\n",
       "      <td>NaN</td>\n",
       "      <td>NaN</td>\n",
       "      <td>normal</td>\n",
       "      <td>NaN</td>\n",
       "      <td>NaN</td>\n",
       "      <td>NaN</td>\n",
       "      <td>NaN</td>\n",
       "      <td>NaN</td>\n",
       "      <td>NaN</td>\n",
       "      <td>NaN</td>\n",
       "    </tr>\n",
       "  </tbody>\n",
       "</table>\n",
       "<p>5 rows × 67 columns</p>\n",
       "</div>"
      ],
      "text/plain": [
       "   response_id   study_name  group_name  subject_index  session_index  \\\n",
       "0          1.0  prolific500         NaN              1              1   \n",
       "1          2.0  prolific500         NaN              1              1   \n",
       "2          3.0  prolific500         NaN              1              1   \n",
       "3          4.0  prolific500         NaN              1              1   \n",
       "4          5.0  prolific500         NaN              1              1   \n",
       "\n",
       "   activity_index  instrument_name language_code             timeline_name  \\\n",
       "0               0  xcit-background            en  xcit-background_v2021.03   \n",
       "1               0  xcit-background            en  xcit-background_v2021.03   \n",
       "2               0  xcit-background            en  xcit-background_v2021.03   \n",
       "3               0  xcit-background            en  xcit-background_v2021.03   \n",
       "4               0  xcit-background            en  xcit-background_v2021.03   \n",
       "\n",
       "   timeline_repetition  ... evaluation_label feedback_description  \\\n",
       "0                    0  ...              NaN                  NaN   \n",
       "1                    0  ...              NaN                  NaN   \n",
       "2                    0  ...              NaN                  NaN   \n",
       "3                    0  ...              NaN                  NaN   \n",
       "4                    0  ...              NaN                  NaN   \n",
       "\n",
       "  outcome_description outcome_numeric job_repetition additional_measures  \\\n",
       "0             12/1982             NaN            NaN                 NaN   \n",
       "1                male             NaN            NaN                 NaN   \n",
       "2                6'3\"             NaN            NaN                 NaN   \n",
       "3                 192             NaN            NaN                 NaN   \n",
       "4              normal             NaN            NaN                 NaN   \n",
       "\n",
       "  issue  id block_index trial_index  \n",
       "0   NaN NaN         NaN         NaN  \n",
       "1   NaN NaN         NaN         NaN  \n",
       "2   NaN NaN         NaN         NaN  \n",
       "3   NaN NaN         NaN         NaN  \n",
       "4   NaN NaN         NaN         NaN  \n",
       "\n",
       "[5 rows x 67 columns]"
      ]
     },
     "execution_count": 2,
     "metadata": {},
     "output_type": "execute_result"
    }
   ],
   "source": [
    "dataset = (open_dataset('P500_9subjects/L1m')\n",
    "           .where(subject_id=['001', '002'])\n",
    "           .load()\n",
    ")\n",
    "\n",
    "dataset.response_table.head()\n",
    "# dataset.stimulus_table\n",
    "# dataset.option_table"
   ]
  }
 ],
 "metadata": {
  "kernelspec": {
   "display_name": "behaverse",
   "language": "python",
   "name": "python3"
  },
  "language_info": {
   "codemirror_mode": {
    "name": "ipython",
    "version": 3
   },
   "file_extension": ".py",
   "mimetype": "text/x-python",
   "name": "python",
   "nbconvert_exporter": "python",
   "pygments_lexer": "ipython3",
   "version": "3.12.3"
  }
 },
 "nbformat": 4,
 "nbformat_minor": 2
}
