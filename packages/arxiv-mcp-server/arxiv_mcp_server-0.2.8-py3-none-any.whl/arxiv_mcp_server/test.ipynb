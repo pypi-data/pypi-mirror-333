{
 "cells": [
  {
   "cell_type": "code",
   "execution_count": 7,
   "metadata": {},
   "outputs": [],
   "source": [
    "import pymupdf4llm\n",
    "from .config import Settings\n",
    "from pathlib import Path\n",
    "\n",
    "settings = Settings()\n",
    "paper_path = Path(settings.STORAGE_PATH) / \"2412.04468v1\"\n",
    "text_content = pymupdf4llm.to_markdown(paper_path, show_progress=False)\n",
    "\n"
   ]
  },
  {
   "cell_type": "code",
   "execution_count": 3,
   "metadata": {},
   "outputs": [],
   "source": [
    "with open(paper_path.with_suffix(\".md\"), \"w\") as f:\n",
    "    f.write(text_content)\n"
   ]
  },
  {
   "cell_type": "code",
   "execution_count": null,
   "metadata": {},
   "outputs": [],
   "source": []
  }
 ],
 "metadata": {
  "kernelspec": {
   "display_name": ".venv",
   "language": "python",
   "name": "python3"
  },
  "language_info": {
   "codemirror_mode": {
    "name": "ipython",
    "version": 3
   },
   "file_extension": ".py",
   "mimetype": "text/x-python",
   "name": "python",
   "nbconvert_exporter": "python",
   "pygments_lexer": "ipython3",
   "version": "3.11.8"
  }
 },
 "nbformat": 4,
 "nbformat_minor": 2
}
