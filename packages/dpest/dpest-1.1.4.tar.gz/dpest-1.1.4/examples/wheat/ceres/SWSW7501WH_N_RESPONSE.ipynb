{
 "cells": [
  {
   "cell_type": "markdown",
   "id": "07444e61-2064-4a30-9da9-402a897903af",
   "metadata": {},
   "source": [
    "### Prerequisites for running creating the instruction, the template, and the PST control files using the DSSAT SWSW7501WH experiment:\n",
    "1. Launch the DSSAT software on your computer.\r",
    "2. \n",
    "In the main DSSAT window, click on \"Selector\" in the top menu bar\n",
    "3. Expand the \"Crops\" dropdown menu in the Selector windown\n",
    "4. .\r\n",
    "Scroll down and click on \"Wheat\" to select \n",
    "5. t.\r\n",
    "In the list of available wheat experiments, locate and select \"SWSW7501WH N RESPONSE,SWIFT CURRENT 7FE(N)*2IR (DSSAT\n",
    "6. )\".\r\n",
    "With the experiment selected, click the \"Run\" button in the too\n",
    "7. bar.\r\n",
    "In the \"Run\" dialogselect \" CERES \"lected as the crop \n",
    "8. odel.\r\n",
    "Click \"OK\" to start the simu\n",
    "9. ation.\r\n",
    "Wait for the simulation to complete. DSSAT will generate output files with the results."
   ]
  },
  {
   "cell_type": "markdown",
   "id": "7b46e25d-4ed6-42b2-ace2-d747b4a8b6b9",
   "metadata": {},
   "source": [
    "### Load the dpestool library or import each module"
   ]
  },
  {
   "cell_type": "code",
   "execution_count": null,
   "id": "dda8c82f-9600-4519-9577-b683085ec15c",
   "metadata": {},
   "outputs": [],
   "source": [
    "# from dpestool.wheat.ceres import cul, eco\n",
    "# from dpestool.wheat import overview, plantgro\n",
    "# from dpestool import pst\n",
    "# from dpestool.wheat.utils import uplantgro\n",
    "\n",
    "import dpest"
   ]
  },
  {
   "cell_type": "markdown",
   "id": "e7639def-6777-4cc2-b3e2-77d9e5b356a6",
   "metadata": {},
   "source": [
    "### 1. Create CULTIVAR parameters TPL file "
   ]
  },
  {
   "cell_type": "code",
   "execution_count": null,
   "id": "e262ed90-0483-4383-8a8e-db8660addf63",
   "metadata": {},
   "outputs": [],
   "source": [
    "# Call the function\n",
    "cultivar_parameters, cultivar_tpl_path = dpest.wheat.ceres.cul(\n",
    "    P = 'P1V, P1D, P5', # Why the user should enter the parameters\n",
    "    G = 'G1, G2, G3', \n",
    "    PHINT = 'PHINT',\n",
    "    cultivar = 'MANITOU',\n",
    "    cul_file_path = 'C:/DSSAT48/Genotype/WHCER048.CUL'\n",
    ")"
   ]
  },
  {
   "cell_type": "markdown",
   "id": "9f17f423-13c2-4049-b380-509075658337",
   "metadata": {},
   "source": [
    "### 2. Create ECOTYPE parameters TPL file "
   ]
  },
  {
   "cell_type": "code",
   "execution_count": null,
   "id": "8a7f48e9-de95-4388-906d-67933fa89394",
   "metadata": {},
   "outputs": [],
   "source": [
    "ecotype_parameters, ecotype_tpl_path = dpest.wheat.ceres.eco(\n",
    "    PHEN = 'P1, P2FR1, P2, P3, P4FR1, P4FR2, P4',\n",
    "    VERN = 'VEFF',\n",
    "    ecotype = 'CAWH01',\n",
    "    eco_file_path = 'C:/DSSAT48/Genotype/WHCER048.ECO'\n",
    ")"
   ]
  },
  {
   "cell_type": "markdown",
   "id": "a15e8eab-9d7d-42f0-9a1e-8db2c5374dcc",
   "metadata": {},
   "source": [
    "### 3. Create OVERVIEW observations INS file"
   ]
  },
  {
   "cell_type": "code",
   "execution_count": null,
   "id": "2ef0ad46-6d12-4b15-b657-46df88a4899a",
   "metadata": {},
   "outputs": [],
   "source": [
    "overview_observations,  overview_ins_path = dpest.wheat.overview(\n",
    "    treatment = '164.0 KG N/HA IRRIG',\n",
    "    overview_file_path = 'C:/DSSAT48/Wheat/OVERVIEW.OUT'\n",
    ")"
   ]
  },
  {
   "cell_type": "markdown",
   "id": "e9756cf9-9845-412f-92c5-791ded105257",
   "metadata": {},
   "source": [
    "### 4. Create PlantGro observations INS file"
   ]
  },
  {
   "cell_type": "code",
   "execution_count": null,
   "id": "9e4e2d1c-ec50-47b4-94c4-e1f6ecae0d9f",
   "metadata": {},
   "outputs": [],
   "source": [
    "plantgro_observations, plantgro_ins_path = dpest.wheat.plantgro(\n",
    "    plantgro_file_path = 'C:/DSSAT48/Wheat/PlantGro.OUT',\n",
    "    treatment = '164.0 KG N/HA IRRIG',\n",
    "    variables = ['LAID', 'CWAD', 'T#AD']\n",
    "    #variables = 'CWAD'\n",
    ")\n"
   ]
  },
  {
   "cell_type": "markdown",
   "id": "096c8871-09e0-4be6-93fd-acba97337af4",
   "metadata": {},
   "source": [
    "### 5. Create the PST file"
   ]
  },
  {
   "cell_type": "code",
   "execution_count": null,
   "id": "11c936ba-bdba-4d0f-baac-e9a14ff93772",
   "metadata": {},
   "outputs": [],
   "source": [
    "dpest.pst(\n",
    "    cultivar_parameters = cultivar_parameters,\n",
    "    ecotype_parameters = ecotype_parameters,\n",
    "    dataframe_observations = [overview_observations, plantgro_observations],\n",
    "    model_comand_line = r'py \"C:\\pest18\\run_dssat.py\"',\n",
    "    input_output_file_pairs = [\n",
    "        (cultivar_tpl_path, 'C://DSSAT48/Genotype/WHCER048.CUL'),\n",
    "        (ecotype_tpl_path, 'C://DSSAT48/Genotype/WHCER048.ECO'),\n",
    "        (overview_ins_path , 'C://DSSAT48/Wheat/OVERVIEW.OUT'),\n",
    "        (plantgro_ins_path , 'C://DSSAT48/Wheat/PlantGro.OUT')\n",
    "    ]\n",
    ")"
   ]
  },
  {
   "cell_type": "markdown",
   "id": "895bb558-07f3-4541-8d00-bd0ac0dada73",
   "metadata": {},
   "source": [
    "### 6. Function to add rows to the PlantGro file"
   ]
  },
  {
   "cell_type": "code",
   "execution_count": null,
   "id": "55043ea5-987d-4ba1-b91b-c9d1fb88a434",
   "metadata": {},
   "outputs": [],
   "source": [
    "import dpestool\n",
    "\n",
    "dpest.wheat.utils.uplantgro(\n",
    "    'C:/DSSAT48/Wheat/PlantGro.OUT', \n",
    "    '164.0 KG N/HA IRRIG', \n",
    "    ['LAID', 'CWAD', 'T#AD'])"
   ]
  }
 ],
 "metadata": {
  "kernelspec": {
   "display_name": "Python 3 (ipykernel)",
   "language": "python",
   "name": "python3"
  },
  "language_info": {
   "codemirror_mode": {
    "name": "ipython",
    "version": 3
   },
   "file_extension": ".py",
   "mimetype": "text/x-python",
   "name": "python",
   "nbconvert_exporter": "python",
   "pygments_lexer": "ipython3",
   "version": "3.11.5"
  }
 },
 "nbformat": 4,
 "nbformat_minor": 5
}
