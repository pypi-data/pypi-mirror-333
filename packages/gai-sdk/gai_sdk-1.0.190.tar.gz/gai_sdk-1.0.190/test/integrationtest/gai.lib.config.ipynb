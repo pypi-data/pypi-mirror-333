{
 "cells": [
  {
   "cell_type": "markdown",
   "metadata": {},
   "source": [
    "## 1. Getting Gai Config"
   ]
  },
  {
   "cell_type": "code",
   "execution_count": 1,
   "metadata": {},
   "outputs": [
    {
     "name": "stdout",
     "output_type": "stream",
     "text": [
      "Version:  1.0\n",
      "TTT Client: type='ttt' engine='llamacpp' model='dolphin' name='ttt-llamacpp-dolphin' client_type='gai' url='http://gai-ttt-svr:12031/gen/v1/chat/completions' env=None extra=None hyperparameters={}\n"
     ]
    }
   ],
   "source": [
    "from gai.lib.config import GaiConfig\n",
    "import os\n",
    "\n",
    "here = os.path.dirname(__name__)\n",
    "file_path =  os.path.abspath(os.path.join(here,\"..\",\"..\",\"..\",\"..\",\"..\",\"gai-data\",\"src\",\"gai\",\"data\",\"gai.yml\"))\n",
    "config = GaiConfig.from_path(file_path)\n",
    "print(\"Version: \", config.version)\n",
    "print(\"TTT Client:\", config.clients[\"ttt\"])"
   ]
  },
  {
   "cell_type": "markdown",
   "metadata": {},
   "source": [
    "## 2. Getting Client Config\n",
    "\n"
   ]
  },
  {
   "cell_type": "markdown",
   "metadata": {},
   "source": [
    "### Get from Name\n"
   ]
  },
  {
   "cell_type": "code",
   "execution_count": 2,
   "metadata": {},
   "outputs": [
    {
     "name": "stdout",
     "output_type": "stream",
     "text": [
      "type='ttt' engine='exllamav2' model='dolphin' name='ttt-exllamav2-dolphin' client_type='gai' url='http://gai-ttt-svr:12031/gen/v1/chat/completions' env=None extra=None hyperparameters={}\n"
     ]
    }
   ],
   "source": [
    "import os\n",
    "from gai.lib.config import GaiClientConfig\n",
    "here = os.path.dirname(__name__)\n",
    "file_path =  os.path.abspath(os.path.join(here,\"..\",\"..\",\"..\",\"..\",\"..\",\"gai-data\",\"src\",\"gai\",\"data\",\"gai.yml\"))\n",
    "\n",
    "client_config = GaiClientConfig.from_name(name=\"ttt-exllamav2-dolphin\",file_path=file_path)\n",
    "print(client_config)"
   ]
  },
  {
   "cell_type": "code",
   "execution_count": 3,
   "metadata": {},
   "outputs": [
    {
     "name": "stdout",
     "output_type": "stream",
     "text": [
      "type='ttt' engine='openai' model='gpt-4o' name='ttt-openai-gpt4' client_type='openai' url=None env={'OPENAI_API_KEY': '${OPENAI_API_KEY}'} extra=None hyperparameters={}\n"
     ]
    }
   ],
   "source": [
    "import os\n",
    "from gai.lib.config import GaiClientConfig\n",
    "here = os.path.dirname(__name__)\n",
    "file_path =  os.path.abspath(os.path.join(here,\"..\",\"..\",\"..\",\"..\",\"..\",\"gai-data\",\"src\",\"gai\",\"data\",\"gai.yml\"))\n",
    "\n",
    "client_config = GaiClientConfig.from_name(name=\"gpt-4o\",file_path=file_path)\n",
    "print(client_config)"
   ]
  },
  {
   "cell_type": "code",
   "execution_count": 4,
   "metadata": {},
   "outputs": [
    {
     "name": "stdout",
     "output_type": "stream",
     "text": [
      "type='ttt' engine='llamacpp' model='dolphin' name='ttt-llamacpp-dolphin' client_type='gai' url='http://gai-ttt-svr:12031/gen/v1/chat/completions' env=None extra=None hyperparameters={}\n"
     ]
    }
   ],
   "source": [
    "import os\n",
    "from gai.lib.config import GaiClientConfig\n",
    "here = os.path.dirname(__name__)\n",
    "file_path =  os.path.abspath(os.path.join(here,\"..\",\"..\",\"..\",\"..\",\"..\",\"gai-data\",\"src\",\"gai\",\"data\",\"gai.yml\"))\n",
    "\n",
    "client_config = GaiClientConfig.from_name(name=\"ttt\",file_path=file_path)\n",
    "print(client_config)"
   ]
  },
  {
   "cell_type": "markdown",
   "metadata": {},
   "source": [
    "### Get from Dict\n"
   ]
  },
  {
   "cell_type": "code",
   "execution_count": 5,
   "metadata": {},
   "outputs": [
    {
     "name": "stdout",
     "output_type": "stream",
     "text": [
      "type='ttt' engine='exllamav2' model='dolphin' name='ttt-exllamav2-dolphin' client_type='gai' url='http://gai-ttt-svr:12031/gen/v1/chat/completions' env=None extra=None hyperparameters={}\n"
     ]
    }
   ],
   "source": [
    "import os\n",
    "from gai.lib.config import GaiClientConfig\n",
    "here = os.path.dirname(__name__)\n",
    "file_path =  os.path.abspath(os.path.join(here,\"..\",\"..\",\"..\",\"..\",\"..\",\"gai-data\",\"src\",\"gai\",\"data\",\"gai.yml\"))\n",
    "\n",
    "client_config = GaiClientConfig.from_dict(config={\n",
    "    \"type\":\"ttt\",\n",
    "    \"engine\":\"exllamav2\",\n",
    "    \"model\":\"dolphin\",\n",
    "    \"name\":\"ttt-exllamav2-dolphin\",\n",
    "    \"client_type\":\"gai\",\n",
    "    \"url\":\"http://gai-ttt-svr:12031/gen/v1/chat/completions\"\n",
    "})\n",
    "\n",
    "print(client_config)"
   ]
  },
  {
   "cell_type": "markdown",
   "metadata": {},
   "source": [
    "## 3. Getting Generator Config\n",
    "\n",
    "### Get from Dict"
   ]
  },
  {
   "cell_type": "code",
   "execution_count": 8,
   "metadata": {},
   "outputs": [
    {
     "name": "stdout",
     "output_type": "stream",
     "text": [
      "type='ttt' engine='exllamav2' model='dolphin' name='ttt-exllamav2-dolphin' client_type='gai' url='http://gai-ttt-svr:12031/gen/v1/chat/completions' env=None extra=None hyperparameters={}\n"
     ]
    }
   ],
   "source": [
    "import os\n",
    "from gai.lib.config import GaiGeneratorConfig\n",
    "here = os.path.dirname(__name__)\n",
    "file_path =  os.path.abspath(os.path.join(here,\"..\",\"..\",\"..\",\"..\",\"..\",\"gai-data\",\"src\",\"gai\",\"data\",\"gai.yml\"))\n",
    "\n",
    "generator_config = GaiGeneratorConfig.from_dict(config={\n",
    "    \"type\":\"ttt\",\n",
    "    \"engine\":\"exllamav2\",\n",
    "    \"model\":\"dolphin\",\n",
    "    \"name\":\"ttt-exllamav2-dolphin\",\n",
    "    \"module\": {\n",
    "        \"name\":\"gai.ttt.exllamav2.gai_exllamav2\",\n",
    "        \"class\":\"GaiExllamav2\"\n",
    "    }\n",
    "})\n",
    "\n",
    "print(client_config)"
   ]
  },
  {
   "cell_type": "markdown",
   "metadata": {},
   "source": [
    "### Get from Name"
   ]
  },
  {
   "cell_type": "code",
   "execution_count": 9,
   "metadata": {},
   "outputs": [
    {
     "name": "stdout",
     "output_type": "stream",
     "text": [
      "type='ttt' engine='exllamav2' model='dolphin' name='ttt-exllamav2-dolphin' hyperparameters={'temperature': 0.85, 'top_p': 0.8, 'top_k': 50, 'max_tokens': 1000, 'tool_choice': 'auto', 'max_retries': 5, 'stop': ['<|im_end|>', '</s>', '[/INST]']} extra={'no_flash_attn': True, 'seed': None, 'decode_special_tokens': False} module=ModuleConfig(name='gai.ttt.server.gai_exllamav2', class_='GaiExLlamav2') model_path='models/exllamav2-dolphin' max_seq_len=8192 prompt_format='mistral'\n"
     ]
    }
   ],
   "source": [
    "import os\n",
    "from gai.lib.config import GaiGeneratorConfig\n",
    "here = os.path.dirname(__name__)\n",
    "file_path =  os.path.abspath(os.path.join(here,\"..\",\"..\",\"..\",\"..\",\"..\",\"gai-data\",\"src\",\"gai\",\"data\",\"gai.yml\"))\n",
    "\n",
    "generator_config = GaiGeneratorConfig.from_name(name=\"ttt-exllamav2-dolphin\",file_path=file_path)\n",
    "print(generator_config)"
   ]
  }
 ],
 "metadata": {
  "kernelspec": {
   "display_name": ".venv",
   "language": "python",
   "name": "python3"
  },
  "language_info": {
   "codemirror_mode": {
    "name": "ipython",
    "version": 3
   },
   "file_extension": ".py",
   "mimetype": "text/x-python",
   "name": "python",
   "nbconvert_exporter": "python",
   "pygments_lexer": "ipython3",
   "version": "3.10.12"
  }
 },
 "nbformat": 4,
 "nbformat_minor": 2
}
